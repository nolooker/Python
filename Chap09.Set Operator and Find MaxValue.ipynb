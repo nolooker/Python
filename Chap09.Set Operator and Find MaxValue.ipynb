{
 "cells": [
  {
   "cell_type": "markdown",
   "id": "545033ec",
   "metadata": {},
   "source": [
    "<h1>집합 연산과 최대값 찾기</h1>"
   ]
  },
  {
   "cell_type": "markdown",
   "id": "2499b994",
   "metadata": {},
   "source": [
    "<h3><font color='orange'>색인의 집합 연산</h3>"
   ]
  },
  {
   "cell_type": "markdown",
   "id": "d3c43fb0",
   "metadata": {},
   "source": [
    "<h3><font color='pink'>가전 제품 데이터</h3>"
   ]
  },
  {
   "cell_type": "code",
   "execution_count": 1,
   "id": "4bc8bbf6",
   "metadata": {},
   "outputs": [],
   "source": [
    "import pandas as pd\n",
    "import numpy as np"
   ]
  },
  {
   "cell_type": "markdown",
   "id": "4847ae53",
   "metadata": {},
   "source": [
    "<h5>1번 파일 살펴 보기</h5>"
   ]
  },
  {
   "cell_type": "code",
   "execution_count": 2,
   "id": "9f929ca1",
   "metadata": {},
   "outputs": [
    {
     "data": {
      "text/html": [
       "<div>\n",
       "<style scoped>\n",
       "    .dataframe tbody tr th:only-of-type {\n",
       "        vertical-align: middle;\n",
       "    }\n",
       "\n",
       "    .dataframe tbody tr th {\n",
       "        vertical-align: top;\n",
       "    }\n",
       "\n",
       "    .dataframe thead th {\n",
       "        text-align: right;\n",
       "    }\n",
       "</style>\n",
       "<table border=\"1\" class=\"dataframe\">\n",
       "  <thead>\n",
       "    <tr style=\"text-align: right;\">\n",
       "      <th></th>\n",
       "      <th>분기</th>\n",
       "      <th>일생산량</th>\n",
       "      <th>불량품</th>\n",
       "    </tr>\n",
       "    <tr>\n",
       "      <th>제품명</th>\n",
       "      <th></th>\n",
       "      <th></th>\n",
       "      <th></th>\n",
       "    </tr>\n",
       "  </thead>\n",
       "  <tbody>\n",
       "    <tr>\n",
       "      <th>미니오븐</th>\n",
       "      <td>1</td>\n",
       "      <td>85</td>\n",
       "      <td>24</td>\n",
       "    </tr>\n",
       "    <tr>\n",
       "      <th>전기밥솥</th>\n",
       "      <td>1</td>\n",
       "      <td>85</td>\n",
       "      <td>36</td>\n",
       "    </tr>\n",
       "    <tr>\n",
       "      <th>후라이팬</th>\n",
       "      <td>1</td>\n",
       "      <td>90</td>\n",
       "      <td>48</td>\n",
       "    </tr>\n",
       "    <tr>\n",
       "      <th>전자레인지</th>\n",
       "      <td>1</td>\n",
       "      <td>85</td>\n",
       "      <td>29</td>\n",
       "    </tr>\n",
       "    <tr>\n",
       "      <th>미니냉장고</th>\n",
       "      <td>1</td>\n",
       "      <td>65</td>\n",
       "      <td>19</td>\n",
       "    </tr>\n",
       "    <tr>\n",
       "      <th>선풍기</th>\n",
       "      <td>1</td>\n",
       "      <td>70</td>\n",
       "      <td>43</td>\n",
       "    </tr>\n",
       "  </tbody>\n",
       "</table>\n",
       "</div>"
      ],
      "text/plain": [
       "       분기  일생산량  불량품\n",
       "제품명                 \n",
       "미니오븐    1    85   24\n",
       "전기밥솥    1    85   36\n",
       "후라이팬    1    90   48\n",
       "전자레인지   1    85   29\n",
       "미니냉장고   1    65   19\n",
       "선풍기     1    70   43"
      ]
     },
     "execution_count": 2,
     "metadata": {},
     "output_type": "execute_result"
    }
   ],
   "source": [
    "homeapp01 = pd.read_csv('./../data/가전제품01.csv', index_col='제품명', encoding='CP949')\n",
    "homeapp01"
   ]
  },
  {
   "cell_type": "code",
   "execution_count": 3,
   "id": "52383f49",
   "metadata": {},
   "outputs": [
    {
     "data": {
      "text/plain": [
       "Index(['미니오븐', '전기밥솥', '후라이팬', '전자레인지', '미니냉장고', '선풍기'], dtype='object', name='제품명')"
      ]
     },
     "execution_count": 3,
     "metadata": {},
     "output_type": "execute_result"
    }
   ],
   "source": [
    "home01idx = homeapp01.index\n",
    "home01idx"
   ]
  },
  {
   "cell_type": "code",
   "execution_count": 4,
   "id": "eff5fb15",
   "metadata": {},
   "outputs": [
    {
     "name": "stdout",
     "output_type": "stream",
     "text": [
      "미니냉장고\n",
      "후라이팬\n",
      "6\n"
     ]
    }
   ],
   "source": [
    "print(home01idx.min())\n",
    "print(home01idx.max())\n",
    "print(home01idx.size)"
   ]
  },
  {
   "cell_type": "code",
   "execution_count": 5,
   "id": "ebfaa32c",
   "metadata": {},
   "outputs": [
    {
     "data": {
      "text/html": [
       "<div>\n",
       "<style scoped>\n",
       "    .dataframe tbody tr th:only-of-type {\n",
       "        vertical-align: middle;\n",
       "    }\n",
       "\n",
       "    .dataframe tbody tr th {\n",
       "        vertical-align: top;\n",
       "    }\n",
       "\n",
       "    .dataframe thead th {\n",
       "        text-align: right;\n",
       "    }\n",
       "</style>\n",
       "<table border=\"1\" class=\"dataframe\">\n",
       "  <thead>\n",
       "    <tr style=\"text-align: right;\">\n",
       "      <th></th>\n",
       "      <th>분기</th>\n",
       "      <th>일생산량</th>\n",
       "      <th>불량품</th>\n",
       "    </tr>\n",
       "    <tr>\n",
       "      <th>제품명</th>\n",
       "      <th></th>\n",
       "      <th></th>\n",
       "      <th></th>\n",
       "    </tr>\n",
       "  </thead>\n",
       "  <tbody>\n",
       "    <tr>\n",
       "      <th>미니오븐제품</th>\n",
       "      <td>1</td>\n",
       "      <td>85</td>\n",
       "      <td>24</td>\n",
       "    </tr>\n",
       "    <tr>\n",
       "      <th>전기밥솥제품</th>\n",
       "      <td>1</td>\n",
       "      <td>85</td>\n",
       "      <td>36</td>\n",
       "    </tr>\n",
       "    <tr>\n",
       "      <th>후라이팬제품</th>\n",
       "      <td>1</td>\n",
       "      <td>90</td>\n",
       "      <td>48</td>\n",
       "    </tr>\n",
       "    <tr>\n",
       "      <th>전자레인지제품</th>\n",
       "      <td>1</td>\n",
       "      <td>85</td>\n",
       "      <td>29</td>\n",
       "    </tr>\n",
       "    <tr>\n",
       "      <th>미니냉장고제품</th>\n",
       "      <td>1</td>\n",
       "      <td>65</td>\n",
       "      <td>19</td>\n",
       "    </tr>\n",
       "    <tr>\n",
       "      <th>선풍기제품</th>\n",
       "      <td>1</td>\n",
       "      <td>70</td>\n",
       "      <td>43</td>\n",
       "    </tr>\n",
       "  </tbody>\n",
       "</table>\n",
       "</div>"
      ],
      "text/plain": [
       "         분기  일생산량  불량품\n",
       "제품명                   \n",
       "미니오븐제품    1    85   24\n",
       "전기밥솥제품    1    85   36\n",
       "후라이팬제품    1    90   48\n",
       "전자레인지제품   1    85   29\n",
       "미니냉장고제품   1    65   19\n",
       "선풍기제품     1    70   43"
      ]
     },
     "execution_count": 5,
     "metadata": {},
     "output_type": "execute_result"
    }
   ],
   "source": [
    "newindex = home01idx + '제품'\n",
    "homeapp01.index = newindex\n",
    "homeapp01"
   ]
  },
  {
   "cell_type": "code",
   "execution_count": 6,
   "id": "82f93ba4",
   "metadata": {},
   "outputs": [
    {
     "data": {
      "text/plain": [
       "array([False,  True,  True,  True, False, False])"
      ]
     },
     "execution_count": 6,
     "metadata": {},
     "output_type": "execute_result"
    }
   ],
   "source": [
    "result = home01idx > '자'\n",
    "result"
   ]
  },
  {
   "cell_type": "code",
   "execution_count": 7,
   "id": "e08c8f15",
   "metadata": {},
   "outputs": [
    {
     "data": {
      "text/html": [
       "<div>\n",
       "<style scoped>\n",
       "    .dataframe tbody tr th:only-of-type {\n",
       "        vertical-align: middle;\n",
       "    }\n",
       "\n",
       "    .dataframe tbody tr th {\n",
       "        vertical-align: top;\n",
       "    }\n",
       "\n",
       "    .dataframe thead th {\n",
       "        text-align: right;\n",
       "    }\n",
       "</style>\n",
       "<table border=\"1\" class=\"dataframe\">\n",
       "  <thead>\n",
       "    <tr style=\"text-align: right;\">\n",
       "      <th></th>\n",
       "      <th>분기</th>\n",
       "      <th>일생산량</th>\n",
       "      <th>불량품</th>\n",
       "    </tr>\n",
       "    <tr>\n",
       "      <th>제품명</th>\n",
       "      <th></th>\n",
       "      <th></th>\n",
       "      <th></th>\n",
       "    </tr>\n",
       "  </thead>\n",
       "  <tbody>\n",
       "    <tr>\n",
       "      <th>전기밥솥제품</th>\n",
       "      <td>1</td>\n",
       "      <td>85</td>\n",
       "      <td>36</td>\n",
       "    </tr>\n",
       "    <tr>\n",
       "      <th>후라이팬제품</th>\n",
       "      <td>1</td>\n",
       "      <td>90</td>\n",
       "      <td>48</td>\n",
       "    </tr>\n",
       "    <tr>\n",
       "      <th>전자레인지제품</th>\n",
       "      <td>1</td>\n",
       "      <td>85</td>\n",
       "      <td>29</td>\n",
       "    </tr>\n",
       "  </tbody>\n",
       "</table>\n",
       "</div>"
      ],
      "text/plain": [
       "         분기  일생산량  불량품\n",
       "제품명                   \n",
       "전기밥솥제품    1    85   36\n",
       "후라이팬제품    1    90   48\n",
       "전자레인지제품   1    85   29"
      ]
     },
     "execution_count": 7,
     "metadata": {},
     "output_type": "execute_result"
    }
   ],
   "source": [
    "homeapp01[result]"
   ]
  },
  {
   "cell_type": "markdown",
   "id": "b6847d55",
   "metadata": {},
   "source": [
    "<h5>2번 파일 살펴 보기</h5>"
   ]
  },
  {
   "cell_type": "code",
   "execution_count": 8,
   "id": "0f8fb9ed",
   "metadata": {},
   "outputs": [],
   "source": [
    "import pandas as pd\n",
    "import numpy as np"
   ]
  },
  {
   "cell_type": "code",
   "execution_count": 9,
   "id": "ad93d5ce",
   "metadata": {},
   "outputs": [
    {
     "data": {
      "text/html": [
       "<div>\n",
       "<style scoped>\n",
       "    .dataframe tbody tr th:only-of-type {\n",
       "        vertical-align: middle;\n",
       "    }\n",
       "\n",
       "    .dataframe tbody tr th {\n",
       "        vertical-align: top;\n",
       "    }\n",
       "\n",
       "    .dataframe thead th {\n",
       "        text-align: right;\n",
       "    }\n",
       "</style>\n",
       "<table border=\"1\" class=\"dataframe\">\n",
       "  <thead>\n",
       "    <tr style=\"text-align: right;\">\n",
       "      <th></th>\n",
       "      <th>분기</th>\n",
       "      <th>일생산량</th>\n",
       "      <th>불량품</th>\n",
       "    </tr>\n",
       "    <tr>\n",
       "      <th>제품명</th>\n",
       "      <th></th>\n",
       "      <th></th>\n",
       "      <th></th>\n",
       "    </tr>\n",
       "  </thead>\n",
       "  <tbody>\n",
       "    <tr>\n",
       "      <th>미니오븐</th>\n",
       "      <td>2</td>\n",
       "      <td>85</td>\n",
       "      <td>26</td>\n",
       "    </tr>\n",
       "    <tr>\n",
       "      <th>전기밥솥</th>\n",
       "      <td>2</td>\n",
       "      <td>70</td>\n",
       "      <td>39</td>\n",
       "    </tr>\n",
       "    <tr>\n",
       "      <th>믹서기</th>\n",
       "      <td>2</td>\n",
       "      <td>85</td>\n",
       "      <td>39</td>\n",
       "    </tr>\n",
       "    <tr>\n",
       "      <th>전자레인지</th>\n",
       "      <td>2</td>\n",
       "      <td>90</td>\n",
       "      <td>22</td>\n",
       "    </tr>\n",
       "    <tr>\n",
       "      <th>미니냉장고</th>\n",
       "      <td>2</td>\n",
       "      <td>90</td>\n",
       "      <td>22</td>\n",
       "    </tr>\n",
       "    <tr>\n",
       "      <th>선풍기</th>\n",
       "      <td>2</td>\n",
       "      <td>65</td>\n",
       "      <td>33</td>\n",
       "    </tr>\n",
       "  </tbody>\n",
       "</table>\n",
       "</div>"
      ],
      "text/plain": [
       "       분기  일생산량  불량품\n",
       "제품명                 \n",
       "미니오븐    2    85   26\n",
       "전기밥솥    2    70   39\n",
       "믹서기     2    85   39\n",
       "전자레인지   2    90   22\n",
       "미니냉장고   2    90   22\n",
       "선풍기     2    65   33"
      ]
     },
     "execution_count": 9,
     "metadata": {},
     "output_type": "execute_result"
    }
   ],
   "source": [
    "homeapp02 = pd.read_csv('./../data/가전제품02.csv', index_col='제품명', encoding='CP949')\n",
    "homeapp02"
   ]
  },
  {
   "cell_type": "code",
   "execution_count": 10,
   "id": "7af0cf63",
   "metadata": {},
   "outputs": [
    {
     "name": "stdout",
     "output_type": "stream",
     "text": [
      "Index(['미니오븐', '전기밥솥', '후라이팬', '전자레인지', '미니냉장고', '선풍기'], dtype='object', name='제품명')\n"
     ]
    }
   ],
   "source": [
    "print(home01idx)"
   ]
  },
  {
   "cell_type": "code",
   "execution_count": 11,
   "id": "e9c336e5",
   "metadata": {},
   "outputs": [
    {
     "name": "stdout",
     "output_type": "stream",
     "text": [
      "Index(['미니오븐', '전기밥솥', '믹서기', '전자레인지', '미니냉장고', '선풍기'], dtype='object', name='제품명')\n"
     ]
    }
   ],
   "source": [
    "home02idx = homeapp02.index\n",
    "print(home02idx)"
   ]
  },
  {
   "cell_type": "markdown",
   "id": "0fa663c9",
   "metadata": {},
   "source": [
    "<h3><font color='pink'>색인의 집합 연산</h3>"
   ]
  },
  {
   "cell_type": "code",
   "execution_count": 12,
   "id": "6bd0db60",
   "metadata": {},
   "outputs": [
    {
     "name": "stdout",
     "output_type": "stream",
     "text": [
      "union operation\n",
      "Index(['미니냉장고', '미니오븐', '믹서기', '선풍기', '전기밥솥', '전자레인지', '후라이팬'], dtype='object', name='제품명')\n"
     ]
    }
   ],
   "source": [
    "print('union operation')\n",
    "print(home01idx.union(home02idx))"
   ]
  },
  {
   "cell_type": "code",
   "execution_count": 13,
   "id": "72d9f1bd",
   "metadata": {},
   "outputs": [
    {
     "name": "stdout",
     "output_type": "stream",
     "text": [
      "intersection operation(sort=True option)\n",
      "Index(['미니오븐', '전기밥솥', '전자레인지', '미니냉장고', '선풍기'], dtype='object', name='제품명')\n"
     ]
    }
   ],
   "source": [
    "print('intersection operation(sort=True option)')\n",
    "print(home01idx.intersection(home02idx))"
   ]
  },
  {
   "cell_type": "code",
   "execution_count": 14,
   "id": "6cfdd6a4",
   "metadata": {},
   "outputs": [
    {
     "name": "stdout",
     "output_type": "stream",
     "text": [
      "intersection operation(sort=True option)\n",
      "Index(['미니냉장고', '미니오븐', '선풍기', '전기밥솥', '전자레인지'], dtype='object', name='제품명')\n"
     ]
    }
   ],
   "source": [
    "print('intersection operation(sort=True option)')\n",
    "print(home01idx.intersection(home02idx, sort=None))"
   ]
  },
  {
   "cell_type": "code",
   "execution_count": 15,
   "id": "0b8c74dc",
   "metadata": {},
   "outputs": [
    {
     "name": "stdout",
     "output_type": "stream",
     "text": [
      "difference operation(home01idx - home02idx)\n",
      "Index(['후라이팬'], dtype='object', name='제품명')\n"
     ]
    }
   ],
   "source": [
    "print('difference operation(home01idx - home02idx)')\n",
    "print(home01idx.difference(home02idx))"
   ]
  },
  {
   "cell_type": "code",
   "execution_count": 16,
   "id": "6d0e6539",
   "metadata": {},
   "outputs": [
    {
     "name": "stdout",
     "output_type": "stream",
     "text": [
      "symmetric_difference operation\n",
      "Index(['믹서기', '후라이팬'], dtype='object', name='제품명')\n"
     ]
    }
   ],
   "source": [
    "print('symmetric_difference operation')\n",
    "print(home01idx.symmetric_difference(home02idx))"
   ]
  },
  {
   "cell_type": "markdown",
   "id": "dd76333e",
   "metadata": {},
   "source": [
    "<h1>색인의 참조 복사와 값 복사</h1>"
   ]
  },
  {
   "cell_type": "markdown",
   "id": "d9a38c59",
   "metadata": {},
   "source": [
    "<h3><font color='orange'>출장 내역 데이터</h3>"
   ]
  },
  {
   "cell_type": "markdown",
   "id": "0bb1f310",
   "metadata": {},
   "source": [
    "<h3><font color='pink'>참조 복사와 값 복사</h3>"
   ]
  },
  {
   "cell_type": "code",
   "execution_count": 17,
   "id": "df0c3f8f",
   "metadata": {},
   "outputs": [
    {
     "data": {
      "text/html": [
       "<div>\n",
       "<style scoped>\n",
       "    .dataframe tbody tr th:only-of-type {\n",
       "        vertical-align: middle;\n",
       "    }\n",
       "\n",
       "    .dataframe tbody tr th {\n",
       "        vertical-align: top;\n",
       "    }\n",
       "\n",
       "    .dataframe thead th {\n",
       "        text-align: right;\n",
       "    }\n",
       "</style>\n",
       "<table border=\"1\" class=\"dataframe\">\n",
       "  <thead>\n",
       "    <tr style=\"text-align: right;\">\n",
       "      <th></th>\n",
       "      <th>출장지역</th>\n",
       "      <th>교통비</th>\n",
       "    </tr>\n",
       "    <tr>\n",
       "      <th>사원명</th>\n",
       "      <th></th>\n",
       "      <th></th>\n",
       "    </tr>\n",
       "  </thead>\n",
       "  <tbody>\n",
       "    <tr>\n",
       "      <th>윤장혁</th>\n",
       "      <td>서울</td>\n",
       "      <td>4000</td>\n",
       "    </tr>\n",
       "    <tr>\n",
       "      <th>서문덕</th>\n",
       "      <td>서울</td>\n",
       "      <td>2000</td>\n",
       "    </tr>\n",
       "    <tr>\n",
       "      <th>이성진</th>\n",
       "      <td>부산</td>\n",
       "      <td>3000</td>\n",
       "    </tr>\n",
       "    <tr>\n",
       "      <th>강찬혁</th>\n",
       "      <td>부산</td>\n",
       "      <td>1000</td>\n",
       "    </tr>\n",
       "  </tbody>\n",
       "</table>\n",
       "</div>"
      ],
      "text/plain": [
       "    출장지역   교통비\n",
       "사원명           \n",
       "윤장혁   서울  4000\n",
       "서문덕   서울  2000\n",
       "이성진   부산  3000\n",
       "강찬혁   부산  1000"
      ]
     },
     "execution_count": 17,
     "metadata": {},
     "output_type": "execute_result"
    }
   ],
   "source": [
    "payment = pd.read_csv('./../data/payment06.csv', encoding='cp949', index_col='사원명')\n",
    "payment"
   ]
  },
  {
   "cell_type": "code",
   "execution_count": 18,
   "id": "864443bd",
   "metadata": {},
   "outputs": [
    {
     "data": {
      "text/html": [
       "<div>\n",
       "<style scoped>\n",
       "    .dataframe tbody tr th:only-of-type {\n",
       "        vertical-align: middle;\n",
       "    }\n",
       "\n",
       "    .dataframe tbody tr th {\n",
       "        vertical-align: top;\n",
       "    }\n",
       "\n",
       "    .dataframe thead th {\n",
       "        text-align: right;\n",
       "    }\n",
       "</style>\n",
       "<table border=\"1\" class=\"dataframe\">\n",
       "  <thead>\n",
       "    <tr style=\"text-align: right;\">\n",
       "      <th></th>\n",
       "      <th>교통비</th>\n",
       "    </tr>\n",
       "    <tr>\n",
       "      <th>사원명</th>\n",
       "      <th></th>\n",
       "    </tr>\n",
       "  </thead>\n",
       "  <tbody>\n",
       "    <tr>\n",
       "      <th>윤장혁</th>\n",
       "      <td>4000</td>\n",
       "    </tr>\n",
       "    <tr>\n",
       "      <th>서문덕</th>\n",
       "      <td>2000</td>\n",
       "    </tr>\n",
       "    <tr>\n",
       "      <th>이성진</th>\n",
       "      <td>3000</td>\n",
       "    </tr>\n",
       "    <tr>\n",
       "      <th>강찬혁</th>\n",
       "      <td>1000</td>\n",
       "    </tr>\n",
       "  </tbody>\n",
       "</table>\n",
       "</div>"
      ],
      "text/plain": [
       "      교통비\n",
       "사원명      \n",
       "윤장혁  4000\n",
       "서문덕  2000\n",
       "이성진  3000\n",
       "강찬혁  1000"
      ]
     },
     "execution_count": 18,
     "metadata": {},
     "output_type": "execute_result"
    }
   ],
   "source": [
    "traffic01 = payment['교통비']\n",
    "traffic01.to_frame()"
   ]
  },
  {
   "cell_type": "code",
   "execution_count": 19,
   "id": "e980a67e",
   "metadata": {},
   "outputs": [
    {
     "data": {
      "text/html": [
       "<div>\n",
       "<style scoped>\n",
       "    .dataframe tbody tr th:only-of-type {\n",
       "        vertical-align: middle;\n",
       "    }\n",
       "\n",
       "    .dataframe tbody tr th {\n",
       "        vertical-align: top;\n",
       "    }\n",
       "\n",
       "    .dataframe thead th {\n",
       "        text-align: right;\n",
       "    }\n",
       "</style>\n",
       "<table border=\"1\" class=\"dataframe\">\n",
       "  <thead>\n",
       "    <tr style=\"text-align: right;\">\n",
       "      <th></th>\n",
       "      <th>교통비</th>\n",
       "    </tr>\n",
       "    <tr>\n",
       "      <th>사원명</th>\n",
       "      <th></th>\n",
       "    </tr>\n",
       "  </thead>\n",
       "  <tbody>\n",
       "    <tr>\n",
       "      <th>윤장혁</th>\n",
       "      <td>4000</td>\n",
       "    </tr>\n",
       "    <tr>\n",
       "      <th>서문덕</th>\n",
       "      <td>2000</td>\n",
       "    </tr>\n",
       "    <tr>\n",
       "      <th>이성진</th>\n",
       "      <td>3000</td>\n",
       "    </tr>\n",
       "    <tr>\n",
       "      <th>강찬혁</th>\n",
       "      <td>1000</td>\n",
       "    </tr>\n",
       "  </tbody>\n",
       "</table>\n",
       "</div>"
      ],
      "text/plain": [
       "      교통비\n",
       "사원명      \n",
       "윤장혁  4000\n",
       "서문덕  2000\n",
       "이성진  3000\n",
       "강찬혁  1000"
      ]
     },
     "execution_count": 19,
     "metadata": {},
     "output_type": "execute_result"
    }
   ],
   "source": [
    "traffic02 = payment['교통비']\n",
    "traffic02.to_frame()"
   ]
  },
  {
   "cell_type": "code",
   "execution_count": 20,
   "id": "85ac4d2e",
   "metadata": {},
   "outputs": [
    {
     "data": {
      "text/plain": [
       "'True'"
      ]
     },
     "execution_count": 20,
     "metadata": {},
     "output_type": "execute_result"
    }
   ],
   "source": [
    "str(traffic01 is traffic02)"
   ]
  },
  {
   "cell_type": "code",
   "execution_count": 21,
   "id": "69f4c852",
   "metadata": {},
   "outputs": [
    {
     "data": {
      "text/plain": [
       "사원명\n",
       "윤장혁    4000\n",
       "서문덕    2000\n",
       "이성진    3000\n",
       "강찬혁    1000\n",
       "Name: 교통비, dtype: int64"
      ]
     },
     "execution_count": 21,
     "metadata": {},
     "output_type": "execute_result"
    }
   ],
   "source": [
    "traffic01 = payment['교통비'].copy()\n",
    "traffic01"
   ]
  },
  {
   "cell_type": "code",
   "execution_count": 22,
   "id": "9c44095f",
   "metadata": {},
   "outputs": [
    {
     "data": {
      "text/plain": [
       "사원명\n",
       "윤장혁    4000\n",
       "서문덕    2000\n",
       "이성진    3000\n",
       "강찬혁    1000\n",
       "Name: 교통비, dtype: int64"
      ]
     },
     "execution_count": 22,
     "metadata": {},
     "output_type": "execute_result"
    }
   ],
   "source": [
    "traffic02 = payment['교통비'].copy()\n",
    "traffic02"
   ]
  },
  {
   "cell_type": "code",
   "execution_count": 23,
   "id": "10242ab2",
   "metadata": {},
   "outputs": [
    {
     "name": "stdout",
     "output_type": "stream",
     "text": [
      "copy() 메소드 : False\n"
     ]
    }
   ],
   "source": [
    "print('copy() 메소드 :', traffic01 is traffic02)"
   ]
  },
  {
   "cell_type": "code",
   "execution_count": 24,
   "id": "6b95eefb",
   "metadata": {},
   "outputs": [
    {
     "data": {
      "text/plain": [
       "<bound method Series.to_frame of 사원명\n",
       "강찬혁    1000\n",
       "서문덕    2000\n",
       "윤장혁    4000\n",
       "이성진    3000\n",
       "Name: 교통비, dtype: int64>"
      ]
     },
     "metadata": {},
     "output_type": "display_data"
    }
   ],
   "source": [
    "traffic01 = traffic01.sort_index()\n",
    "display(traffic01.to_frame)"
   ]
  },
  {
   "cell_type": "code",
   "execution_count": 25,
   "id": "3c4c7d31",
   "metadata": {},
   "outputs": [
    {
     "data": {
      "text/plain": [
       "<bound method Series.to_frame of 사원명\n",
       "윤장혁    4000\n",
       "서문덕    2000\n",
       "이성진    3000\n",
       "강찬혁    1000\n",
       "Name: 교통비, dtype: int64>"
      ]
     },
     "metadata": {},
     "output_type": "display_data"
    }
   ],
   "source": [
    "display(traffic02.to_frame)"
   ]
  },
  {
   "cell_type": "markdown",
   "id": "e3eb17dd",
   "metadata": {},
   "source": [
    "<h1>특정 그룹 별 최대 값 찾기</h1>"
   ]
  },
  {
   "cell_type": "markdown",
   "id": "c87ade5a",
   "metadata": {},
   "source": [
    "<h3><font color='orange'>가전 제품 데이터</h3>"
   ]
  },
  {
   "cell_type": "code",
   "execution_count": 26,
   "id": "f9d89591",
   "metadata": {},
   "outputs": [],
   "source": [
    "import pandas as pd\n",
    "import numpy as np"
   ]
  },
  {
   "cell_type": "code",
   "execution_count": 27,
   "id": "09ac5f29",
   "metadata": {},
   "outputs": [
    {
     "data": {
      "text/html": [
       "<div>\n",
       "<style scoped>\n",
       "    .dataframe tbody tr th:only-of-type {\n",
       "        vertical-align: middle;\n",
       "    }\n",
       "\n",
       "    .dataframe tbody tr th {\n",
       "        vertical-align: top;\n",
       "    }\n",
       "\n",
       "    .dataframe thead th {\n",
       "        text-align: right;\n",
       "    }\n",
       "</style>\n",
       "<table border=\"1\" class=\"dataframe\">\n",
       "  <thead>\n",
       "    <tr style=\"text-align: right;\">\n",
       "      <th></th>\n",
       "      <th>제품명</th>\n",
       "      <th>분기</th>\n",
       "      <th>일생산량</th>\n",
       "      <th>생산일수</th>\n",
       "      <th>총생산량</th>\n",
       "      <th>불량품</th>\n",
       "      <th>출고량</th>\n",
       "    </tr>\n",
       "  </thead>\n",
       "  <tbody>\n",
       "    <tr>\n",
       "      <th>0</th>\n",
       "      <td>미니오븐</td>\n",
       "      <td>1</td>\n",
       "      <td>85</td>\n",
       "      <td>20</td>\n",
       "      <td>6000</td>\n",
       "      <td>24</td>\n",
       "      <td>50</td>\n",
       "    </tr>\n",
       "    <tr>\n",
       "      <th>1</th>\n",
       "      <td>전기밥솥</td>\n",
       "      <td>1</td>\n",
       "      <td>85</td>\n",
       "      <td>25</td>\n",
       "      <td>9000</td>\n",
       "      <td>36</td>\n",
       "      <td>80</td>\n",
       "    </tr>\n",
       "    <tr>\n",
       "      <th>2</th>\n",
       "      <td>믹서기</td>\n",
       "      <td>1</td>\n",
       "      <td>90</td>\n",
       "      <td>25</td>\n",
       "      <td>12000</td>\n",
       "      <td>48</td>\n",
       "      <td>80</td>\n",
       "    </tr>\n",
       "    <tr>\n",
       "      <th>3</th>\n",
       "      <td>전자레인지</td>\n",
       "      <td>1</td>\n",
       "      <td>85</td>\n",
       "      <td>25</td>\n",
       "      <td>7200</td>\n",
       "      <td>29</td>\n",
       "      <td>50</td>\n",
       "    </tr>\n",
       "    <tr>\n",
       "      <th>4</th>\n",
       "      <td>미니냉장고</td>\n",
       "      <td>1</td>\n",
       "      <td>65</td>\n",
       "      <td>25</td>\n",
       "      <td>4800</td>\n",
       "      <td>19</td>\n",
       "      <td>65</td>\n",
       "    </tr>\n",
       "  </tbody>\n",
       "</table>\n",
       "</div>"
      ],
      "text/plain": [
       "     제품명  분기  일생산량  생산일수   총생산량  불량품  출고량\n",
       "0   미니오븐   1    85    20   6000   24   50\n",
       "1   전기밥솥   1    85    25   9000   36   80\n",
       "2    믹서기   1    90    25  12000   48   80\n",
       "3  전자레인지   1    85    25   7200   29   50\n",
       "4  미니냉장고   1    65    25   4800   19   65"
      ]
     },
     "execution_count": 27,
     "metadata": {},
     "output_type": "execute_result"
    }
   ],
   "source": [
    "homeapp = pd.read_csv('./../data/가전제품.csv', encoding='cp949')\n",
    "homeapp.head()"
   ]
  },
  {
   "cell_type": "code",
   "execution_count": 28,
   "id": "2a663a63",
   "metadata": {},
   "outputs": [
    {
     "data": {
      "text/html": [
       "<div>\n",
       "<style scoped>\n",
       "    .dataframe tbody tr th:only-of-type {\n",
       "        vertical-align: middle;\n",
       "    }\n",
       "\n",
       "    .dataframe tbody tr th {\n",
       "        vertical-align: top;\n",
       "    }\n",
       "\n",
       "    .dataframe thead th {\n",
       "        text-align: right;\n",
       "    }\n",
       "</style>\n",
       "<table border=\"1\" class=\"dataframe\">\n",
       "  <thead>\n",
       "    <tr style=\"text-align: right;\">\n",
       "      <th></th>\n",
       "      <th>제품명</th>\n",
       "      <th>총생산량</th>\n",
       "    </tr>\n",
       "  </thead>\n",
       "  <tbody>\n",
       "    <tr>\n",
       "      <th>0</th>\n",
       "      <td>미니오븐</td>\n",
       "      <td>6000</td>\n",
       "    </tr>\n",
       "    <tr>\n",
       "      <th>1</th>\n",
       "      <td>전기밥솥</td>\n",
       "      <td>9000</td>\n",
       "    </tr>\n",
       "    <tr>\n",
       "      <th>2</th>\n",
       "      <td>믹서기</td>\n",
       "      <td>12000</td>\n",
       "    </tr>\n",
       "    <tr>\n",
       "      <th>3</th>\n",
       "      <td>전자레인지</td>\n",
       "      <td>7200</td>\n",
       "    </tr>\n",
       "    <tr>\n",
       "      <th>4</th>\n",
       "      <td>미니냉장고</td>\n",
       "      <td>4800</td>\n",
       "    </tr>\n",
       "    <tr>\n",
       "      <th>5</th>\n",
       "      <td>선풍기</td>\n",
       "      <td>10800</td>\n",
       "    </tr>\n",
       "    <tr>\n",
       "      <th>6</th>\n",
       "      <td>미니오븐</td>\n",
       "      <td>4960</td>\n",
       "    </tr>\n",
       "    <tr>\n",
       "      <th>7</th>\n",
       "      <td>전기밥솥</td>\n",
       "      <td>11160</td>\n",
       "    </tr>\n",
       "    <tr>\n",
       "      <th>8</th>\n",
       "      <td>믹서기</td>\n",
       "      <td>12800</td>\n",
       "    </tr>\n",
       "    <tr>\n",
       "      <th>9</th>\n",
       "      <td>전자레인지</td>\n",
       "      <td>7680</td>\n",
       "    </tr>\n",
       "  </tbody>\n",
       "</table>\n",
       "</div>"
      ],
      "text/plain": [
       "     제품명   총생산량\n",
       "0   미니오븐   6000\n",
       "1   전기밥솥   9000\n",
       "2    믹서기  12000\n",
       "3  전자레인지   7200\n",
       "4  미니냉장고   4800\n",
       "5    선풍기  10800\n",
       "6   미니오븐   4960\n",
       "7   전기밥솥  11160\n",
       "8    믹서기  12800\n",
       "9  전자레인지   7680"
      ]
     },
     "execution_count": 28,
     "metadata": {},
     "output_type": "execute_result"
    }
   ],
   "source": [
    "name_qty = homeapp[['제품명', '총생산량']]\n",
    "name_qty.head(10)"
   ]
  },
  {
   "cell_type": "markdown",
   "id": "7cf7eb43",
   "metadata": {},
   "source": [
    "<h3><font color='pink'>가전 제품별 최대값 구하기</h3>"
   ]
  },
  {
   "cell_type": "code",
   "execution_count": 29,
   "id": "12e52478",
   "metadata": {},
   "outputs": [
    {
     "data": {
      "text/html": [
       "<div>\n",
       "<style scoped>\n",
       "    .dataframe tbody tr th:only-of-type {\n",
       "        vertical-align: middle;\n",
       "    }\n",
       "\n",
       "    .dataframe tbody tr th {\n",
       "        vertical-align: top;\n",
       "    }\n",
       "\n",
       "    .dataframe thead th {\n",
       "        text-align: right;\n",
       "    }\n",
       "</style>\n",
       "<table border=\"1\" class=\"dataframe\">\n",
       "  <thead>\n",
       "    <tr style=\"text-align: right;\">\n",
       "      <th></th>\n",
       "      <th>제품명</th>\n",
       "      <th>총생산량</th>\n",
       "    </tr>\n",
       "  </thead>\n",
       "  <tbody>\n",
       "    <tr>\n",
       "      <th>16</th>\n",
       "      <td>미니냉장고</td>\n",
       "      <td>12400</td>\n",
       "    </tr>\n",
       "    <tr>\n",
       "      <th>10</th>\n",
       "      <td>미니냉장고</td>\n",
       "      <td>5120</td>\n",
       "    </tr>\n",
       "    <tr>\n",
       "      <th>22</th>\n",
       "      <td>미니냉장고</td>\n",
       "      <td>4960</td>\n",
       "    </tr>\n",
       "    <tr>\n",
       "      <th>4</th>\n",
       "      <td>미니냉장고</td>\n",
       "      <td>4800</td>\n",
       "    </tr>\n",
       "    <tr>\n",
       "      <th>12</th>\n",
       "      <td>미니오븐</td>\n",
       "      <td>6200</td>\n",
       "    </tr>\n",
       "    <tr>\n",
       "      <th>18</th>\n",
       "      <td>미니오븐</td>\n",
       "      <td>6200</td>\n",
       "    </tr>\n",
       "    <tr>\n",
       "      <th>0</th>\n",
       "      <td>미니오븐</td>\n",
       "      <td>6000</td>\n",
       "    </tr>\n",
       "    <tr>\n",
       "      <th>6</th>\n",
       "      <td>미니오븐</td>\n",
       "      <td>4960</td>\n",
       "    </tr>\n",
       "    <tr>\n",
       "      <th>8</th>\n",
       "      <td>믹서기</td>\n",
       "      <td>12800</td>\n",
       "    </tr>\n",
       "    <tr>\n",
       "      <th>14</th>\n",
       "      <td>믹서기</td>\n",
       "      <td>12400</td>\n",
       "    </tr>\n",
       "    <tr>\n",
       "      <th>2</th>\n",
       "      <td>믹서기</td>\n",
       "      <td>12000</td>\n",
       "    </tr>\n",
       "    <tr>\n",
       "      <th>20</th>\n",
       "      <td>믹서기</td>\n",
       "      <td>6400</td>\n",
       "    </tr>\n",
       "    <tr>\n",
       "      <th>11</th>\n",
       "      <td>선풍기</td>\n",
       "      <td>11520</td>\n",
       "    </tr>\n",
       "    <tr>\n",
       "      <th>23</th>\n",
       "      <td>선풍기</td>\n",
       "      <td>11160</td>\n",
       "    </tr>\n",
       "    <tr>\n",
       "      <th>5</th>\n",
       "      <td>선풍기</td>\n",
       "      <td>10800</td>\n",
       "    </tr>\n",
       "    <tr>\n",
       "      <th>17</th>\n",
       "      <td>선풍기</td>\n",
       "      <td>7440</td>\n",
       "    </tr>\n",
       "    <tr>\n",
       "      <th>7</th>\n",
       "      <td>전기밥솥</td>\n",
       "      <td>11160</td>\n",
       "    </tr>\n",
       "    <tr>\n",
       "      <th>13</th>\n",
       "      <td>전기밥솥</td>\n",
       "      <td>9300</td>\n",
       "    </tr>\n",
       "    <tr>\n",
       "      <th>19</th>\n",
       "      <td>전기밥솥</td>\n",
       "      <td>9300</td>\n",
       "    </tr>\n",
       "    <tr>\n",
       "      <th>1</th>\n",
       "      <td>전기밥솥</td>\n",
       "      <td>9000</td>\n",
       "    </tr>\n",
       "    <tr>\n",
       "      <th>21</th>\n",
       "      <td>전자레인지</td>\n",
       "      <td>9600</td>\n",
       "    </tr>\n",
       "    <tr>\n",
       "      <th>9</th>\n",
       "      <td>전자레인지</td>\n",
       "      <td>7680</td>\n",
       "    </tr>\n",
       "    <tr>\n",
       "      <th>15</th>\n",
       "      <td>전자레인지</td>\n",
       "      <td>7440</td>\n",
       "    </tr>\n",
       "    <tr>\n",
       "      <th>3</th>\n",
       "      <td>전자레인지</td>\n",
       "      <td>7200</td>\n",
       "    </tr>\n",
       "  </tbody>\n",
       "</table>\n",
       "</div>"
      ],
      "text/plain": [
       "      제품명   총생산량\n",
       "16  미니냉장고  12400\n",
       "10  미니냉장고   5120\n",
       "22  미니냉장고   4960\n",
       "4   미니냉장고   4800\n",
       "12   미니오븐   6200\n",
       "18   미니오븐   6200\n",
       "0    미니오븐   6000\n",
       "6    미니오븐   4960\n",
       "8     믹서기  12800\n",
       "14    믹서기  12400\n",
       "2     믹서기  12000\n",
       "20    믹서기   6400\n",
       "11    선풍기  11520\n",
       "23    선풍기  11160\n",
       "5     선풍기  10800\n",
       "17    선풍기   7440\n",
       "7    전기밥솥  11160\n",
       "13   전기밥솥   9300\n",
       "19   전기밥솥   9300\n",
       "1    전기밥솥   9000\n",
       "21  전자레인지   9600\n",
       "9   전자레인지   7680\n",
       "15  전자레인지   7440\n",
       "3   전자레인지   7200"
      ]
     },
     "execution_count": 29,
     "metadata": {},
     "output_type": "execute_result"
    }
   ],
   "source": [
    "name_qty = name_qty.sort_values(['제품명','총생산량'], ascending=[True, False])\n",
    "name_qty"
   ]
  },
  {
   "cell_type": "code",
   "execution_count": 43,
   "id": "67492bdc",
   "metadata": {},
   "outputs": [
    {
     "data": {
      "text/html": [
       "<div>\n",
       "<style scoped>\n",
       "    .dataframe tbody tr th:only-of-type {\n",
       "        vertical-align: middle;\n",
       "    }\n",
       "\n",
       "    .dataframe tbody tr th {\n",
       "        vertical-align: top;\n",
       "    }\n",
       "\n",
       "    .dataframe thead th {\n",
       "        text-align: right;\n",
       "    }\n",
       "</style>\n",
       "<table border=\"1\" class=\"dataframe\">\n",
       "  <thead>\n",
       "    <tr style=\"text-align: right;\">\n",
       "      <th></th>\n",
       "      <th>제품명</th>\n",
       "      <th>총생산량</th>\n",
       "    </tr>\n",
       "  </thead>\n",
       "  <tbody>\n",
       "    <tr>\n",
       "      <th>16</th>\n",
       "      <td>미니냉장고</td>\n",
       "      <td>12400</td>\n",
       "    </tr>\n",
       "    <tr>\n",
       "      <th>12</th>\n",
       "      <td>미니오븐</td>\n",
       "      <td>6200</td>\n",
       "    </tr>\n",
       "    <tr>\n",
       "      <th>8</th>\n",
       "      <td>믹서기</td>\n",
       "      <td>12800</td>\n",
       "    </tr>\n",
       "    <tr>\n",
       "      <th>11</th>\n",
       "      <td>선풍기</td>\n",
       "      <td>11520</td>\n",
       "    </tr>\n",
       "    <tr>\n",
       "      <th>7</th>\n",
       "      <td>전기밥솥</td>\n",
       "      <td>11160</td>\n",
       "    </tr>\n",
       "    <tr>\n",
       "      <th>21</th>\n",
       "      <td>전자레인지</td>\n",
       "      <td>9600</td>\n",
       "    </tr>\n",
       "  </tbody>\n",
       "</table>\n",
       "</div>"
      ],
      "text/plain": [
       "      제품명   총생산량\n",
       "16  미니냉장고  12400\n",
       "12   미니오븐   6200\n",
       "8     믹서기  12800\n",
       "11    선풍기  11520\n",
       "7    전기밥솥  11160\n",
       "21  전자레인지   9600"
      ]
     },
     "execution_count": 43,
     "metadata": {},
     "output_type": "execute_result"
    }
   ],
   "source": [
    "max_value = name_qty.drop_duplicates(subset='제품명')\n",
    "max_value"
   ]
  },
  {
   "cell_type": "code",
   "execution_count": 44,
   "id": "88dfd9c9",
   "metadata": {},
   "outputs": [
    {
     "data": {
      "text/html": [
       "<div>\n",
       "<style scoped>\n",
       "    .dataframe tbody tr th:only-of-type {\n",
       "        vertical-align: middle;\n",
       "    }\n",
       "\n",
       "    .dataframe tbody tr th {\n",
       "        vertical-align: top;\n",
       "    }\n",
       "\n",
       "    .dataframe thead th {\n",
       "        text-align: right;\n",
       "    }\n",
       "</style>\n",
       "<table border=\"1\" class=\"dataframe\">\n",
       "  <thead>\n",
       "    <tr style=\"text-align: right;\">\n",
       "      <th></th>\n",
       "      <th>총생산량</th>\n",
       "    </tr>\n",
       "    <tr>\n",
       "      <th>제품명</th>\n",
       "      <th></th>\n",
       "    </tr>\n",
       "  </thead>\n",
       "  <tbody>\n",
       "    <tr>\n",
       "      <th>미니냉장고</th>\n",
       "      <td>12400</td>\n",
       "    </tr>\n",
       "    <tr>\n",
       "      <th>미니오븐</th>\n",
       "      <td>6200</td>\n",
       "    </tr>\n",
       "    <tr>\n",
       "      <th>믹서기</th>\n",
       "      <td>12800</td>\n",
       "    </tr>\n",
       "    <tr>\n",
       "      <th>선풍기</th>\n",
       "      <td>11520</td>\n",
       "    </tr>\n",
       "    <tr>\n",
       "      <th>전기밥솥</th>\n",
       "      <td>11160</td>\n",
       "    </tr>\n",
       "    <tr>\n",
       "      <th>전자레인지</th>\n",
       "      <td>9600</td>\n",
       "    </tr>\n",
       "  </tbody>\n",
       "</table>\n",
       "</div>"
      ],
      "text/plain": [
       "        총생산량\n",
       "제품명         \n",
       "미니냉장고  12400\n",
       "미니오븐    6200\n",
       "믹서기    12800\n",
       "선풍기    11520\n",
       "전기밥솥   11160\n",
       "전자레인지   9600"
      ]
     },
     "execution_count": 44,
     "metadata": {},
     "output_type": "execute_result"
    }
   ],
   "source": [
    "max_value = max_value.set_index('제품명')\n",
    "max_value"
   ]
  },
  {
   "cell_type": "markdown",
   "id": "51da74d1",
   "metadata": {},
   "source": [
    "<h3><font color='pink'>제품별 총생산량 최대 값 그래프</h3>"
   ]
  },
  {
   "cell_type": "code",
   "execution_count": 31,
   "id": "a4d90d5d",
   "metadata": {},
   "outputs": [
    {
     "data": {
      "text/html": [
       "<div>\n",
       "<style scoped>\n",
       "    .dataframe tbody tr th:only-of-type {\n",
       "        vertical-align: middle;\n",
       "    }\n",
       "\n",
       "    .dataframe tbody tr th {\n",
       "        vertical-align: top;\n",
       "    }\n",
       "\n",
       "    .dataframe thead th {\n",
       "        text-align: right;\n",
       "    }\n",
       "</style>\n",
       "<table border=\"1\" class=\"dataframe\">\n",
       "  <thead>\n",
       "    <tr style=\"text-align: right;\">\n",
       "      <th></th>\n",
       "      <th>제품명</th>\n",
       "      <th>총생산량</th>\n",
       "    </tr>\n",
       "  </thead>\n",
       "  <tbody>\n",
       "    <tr>\n",
       "      <th>8</th>\n",
       "      <td>믹서기</td>\n",
       "      <td>12800</td>\n",
       "    </tr>\n",
       "    <tr>\n",
       "      <th>16</th>\n",
       "      <td>미니냉장고</td>\n",
       "      <td>12400</td>\n",
       "    </tr>\n",
       "    <tr>\n",
       "      <th>11</th>\n",
       "      <td>선풍기</td>\n",
       "      <td>11520</td>\n",
       "    </tr>\n",
       "    <tr>\n",
       "      <th>7</th>\n",
       "      <td>전기밥솥</td>\n",
       "      <td>11160</td>\n",
       "    </tr>\n",
       "    <tr>\n",
       "      <th>21</th>\n",
       "      <td>전자레인지</td>\n",
       "      <td>9600</td>\n",
       "    </tr>\n",
       "    <tr>\n",
       "      <th>12</th>\n",
       "      <td>미니오븐</td>\n",
       "      <td>6200</td>\n",
       "    </tr>\n",
       "  </tbody>\n",
       "</table>\n",
       "</div>"
      ],
      "text/plain": [
       "      제품명   총생산량\n",
       "8     믹서기  12800\n",
       "16  미니냉장고  12400\n",
       "11    선풍기  11520\n",
       "7    전기밥솥  11160\n",
       "21  전자레인지   9600\n",
       "12   미니오븐   6200"
      ]
     },
     "execution_count": 31,
     "metadata": {},
     "output_type": "execute_result"
    }
   ],
   "source": [
    "chartdata01 = max_value.copy().sort_values(by='총생산량', ascending=False)\n",
    "chartdata01"
   ]
  },
  {
   "cell_type": "code",
   "execution_count": 32,
   "id": "843efdec",
   "metadata": {},
   "outputs": [],
   "source": [
    "import matplotlib.pyplot as plt\n",
    "plt.rc('font', family='Malgun Gothic')"
   ]
  },
  {
   "cell_type": "code",
   "execution_count": 33,
   "id": "7d5666ab",
   "metadata": {},
   "outputs": [
    {
     "data": {
      "text/plain": [
       "Text(0.5, 1.0, '제품별 총 생산량 최대 값')"
      ]
     },
     "execution_count": 33,
     "metadata": {},
     "output_type": "execute_result"
    },
    {
     "data": {
      "image/png": "[encoded data removed]",
      "text/plain": [
       "<Figure size 640x480 with 1 Axes>"
      ]
     },
     "metadata": {},
     "output_type": "display_data"
    }
   ],
   "source": [
    "chartdata01.plot(kind='bar', rot=0, use_index=True, grid=True, legend=False, ylim=[0, 15000], table=False)\n",
    "plt.xlabel('제품명')\n",
    "plt.ylabel('총생산량')\n",
    "plt.title('제품별 총 생산량 최대 값')"
   ]
  },
  {
   "cell_type": "markdown",
   "id": "9c6ea83f",
   "metadata": {},
   "source": [
    "<h3><font color='pink'>원본 DataFrame에 최대 값 열 생성</h3>"
   ]
  },
  {
   "cell_type": "code",
   "execution_count": 34,
   "id": "d97ccea6",
   "metadata": {},
   "outputs": [
    {
     "data": {
      "text/html": [
       "<div>\n",
       "<style scoped>\n",
       "    .dataframe tbody tr th:only-of-type {\n",
       "        vertical-align: middle;\n",
       "    }\n",
       "\n",
       "    .dataframe tbody tr th {\n",
       "        vertical-align: top;\n",
       "    }\n",
       "\n",
       "    .dataframe thead th {\n",
       "        text-align: right;\n",
       "    }\n",
       "</style>\n",
       "<table border=\"1\" class=\"dataframe\">\n",
       "  <thead>\n",
       "    <tr style=\"text-align: right;\">\n",
       "      <th></th>\n",
       "      <th>분기</th>\n",
       "      <th>일생산량</th>\n",
       "      <th>생산일수</th>\n",
       "      <th>총생산량</th>\n",
       "      <th>불량품</th>\n",
       "      <th>출고량</th>\n",
       "    </tr>\n",
       "    <tr>\n",
       "      <th>제품명</th>\n",
       "      <th></th>\n",
       "      <th></th>\n",
       "      <th></th>\n",
       "      <th></th>\n",
       "      <th></th>\n",
       "      <th></th>\n",
       "    </tr>\n",
       "  </thead>\n",
       "  <tbody>\n",
       "    <tr>\n",
       "      <th>미니오븐</th>\n",
       "      <td>1</td>\n",
       "      <td>85</td>\n",
       "      <td>20</td>\n",
       "      <td>6000</td>\n",
       "      <td>24</td>\n",
       "      <td>50</td>\n",
       "    </tr>\n",
       "    <tr>\n",
       "      <th>전기밥솥</th>\n",
       "      <td>1</td>\n",
       "      <td>85</td>\n",
       "      <td>25</td>\n",
       "      <td>9000</td>\n",
       "      <td>36</td>\n",
       "      <td>80</td>\n",
       "    </tr>\n",
       "    <tr>\n",
       "      <th>믹서기</th>\n",
       "      <td>1</td>\n",
       "      <td>90</td>\n",
       "      <td>25</td>\n",
       "      <td>12000</td>\n",
       "      <td>48</td>\n",
       "      <td>80</td>\n",
       "    </tr>\n",
       "    <tr>\n",
       "      <th>전자레인지</th>\n",
       "      <td>1</td>\n",
       "      <td>85</td>\n",
       "      <td>25</td>\n",
       "      <td>7200</td>\n",
       "      <td>29</td>\n",
       "      <td>50</td>\n",
       "    </tr>\n",
       "    <tr>\n",
       "      <th>미니냉장고</th>\n",
       "      <td>1</td>\n",
       "      <td>65</td>\n",
       "      <td>25</td>\n",
       "      <td>4800</td>\n",
       "      <td>19</td>\n",
       "      <td>65</td>\n",
       "    </tr>\n",
       "    <tr>\n",
       "      <th>선풍기</th>\n",
       "      <td>1</td>\n",
       "      <td>70</td>\n",
       "      <td>25</td>\n",
       "      <td>10800</td>\n",
       "      <td>43</td>\n",
       "      <td>55</td>\n",
       "    </tr>\n",
       "    <tr>\n",
       "      <th>미니오븐</th>\n",
       "      <td>2</td>\n",
       "      <td>85</td>\n",
       "      <td>20</td>\n",
       "      <td>4960</td>\n",
       "      <td>26</td>\n",
       "      <td>55</td>\n",
       "    </tr>\n",
       "    <tr>\n",
       "      <th>전기밥솥</th>\n",
       "      <td>2</td>\n",
       "      <td>70</td>\n",
       "      <td>20</td>\n",
       "      <td>11160</td>\n",
       "      <td>39</td>\n",
       "      <td>65</td>\n",
       "    </tr>\n",
       "    <tr>\n",
       "      <th>믹서기</th>\n",
       "      <td>2</td>\n",
       "      <td>85</td>\n",
       "      <td>25</td>\n",
       "      <td>12800</td>\n",
       "      <td>39</td>\n",
       "      <td>80</td>\n",
       "    </tr>\n",
       "    <tr>\n",
       "      <th>전자레인지</th>\n",
       "      <td>2</td>\n",
       "      <td>90</td>\n",
       "      <td>20</td>\n",
       "      <td>7680</td>\n",
       "      <td>22</td>\n",
       "      <td>60</td>\n",
       "    </tr>\n",
       "  </tbody>\n",
       "</table>\n",
       "</div>"
      ],
      "text/plain": [
       "       분기  일생산량  생산일수   총생산량  불량품  출고량\n",
       "제품명                                   \n",
       "미니오븐    1    85    20   6000   24   50\n",
       "전기밥솥    1    85    25   9000   36   80\n",
       "믹서기     1    90    25  12000   48   80\n",
       "전자레인지   1    85    25   7200   29   50\n",
       "미니냉장고   1    65    25   4800   19   65\n",
       "선풍기     1    70    25  10800   43   55\n",
       "미니오븐    2    85    20   4960   26   55\n",
       "전기밥솥    2    70    20  11160   39   65\n",
       "믹서기     2    85    25  12800   39   80\n",
       "전자레인지   2    90    20   7680   22   60"
      ]
     },
     "execution_count": 34,
     "metadata": {},
     "output_type": "execute_result"
    }
   ],
   "source": [
    "homeapp = homeapp.set_index('제품명')\n",
    "homeapp.head(10)"
   ]
  },
  {
   "cell_type": "code",
   "execution_count": 45,
   "id": "d6f6ca1e",
   "metadata": {},
   "outputs": [
    {
     "data": {
      "text/html": [
       "<div>\n",
       "<style scoped>\n",
       "    .dataframe tbody tr th:only-of-type {\n",
       "        vertical-align: middle;\n",
       "    }\n",
       "\n",
       "    .dataframe tbody tr th {\n",
       "        vertical-align: top;\n",
       "    }\n",
       "\n",
       "    .dataframe thead th {\n",
       "        text-align: right;\n",
       "    }\n",
       "</style>\n",
       "<table border=\"1\" class=\"dataframe\">\n",
       "  <thead>\n",
       "    <tr style=\"text-align: right;\">\n",
       "      <th></th>\n",
       "      <th>분기</th>\n",
       "      <th>일생산량</th>\n",
       "      <th>생산일수</th>\n",
       "      <th>총생산량</th>\n",
       "      <th>불량품</th>\n",
       "      <th>출고량</th>\n",
       "      <th>총생산량_최대값</th>\n",
       "    </tr>\n",
       "    <tr>\n",
       "      <th>제품명</th>\n",
       "      <th></th>\n",
       "      <th></th>\n",
       "      <th></th>\n",
       "      <th></th>\n",
       "      <th></th>\n",
       "      <th></th>\n",
       "      <th></th>\n",
       "    </tr>\n",
       "  </thead>\n",
       "  <tbody>\n",
       "    <tr>\n",
       "      <th>미니오븐</th>\n",
       "      <td>1</td>\n",
       "      <td>85</td>\n",
       "      <td>20</td>\n",
       "      <td>6000</td>\n",
       "      <td>24</td>\n",
       "      <td>50</td>\n",
       "      <td>6200</td>\n",
       "    </tr>\n",
       "    <tr>\n",
       "      <th>전기밥솥</th>\n",
       "      <td>1</td>\n",
       "      <td>85</td>\n",
       "      <td>25</td>\n",
       "      <td>9000</td>\n",
       "      <td>36</td>\n",
       "      <td>80</td>\n",
       "      <td>11160</td>\n",
       "    </tr>\n",
       "    <tr>\n",
       "      <th>믹서기</th>\n",
       "      <td>1</td>\n",
       "      <td>90</td>\n",
       "      <td>25</td>\n",
       "      <td>12000</td>\n",
       "      <td>48</td>\n",
       "      <td>80</td>\n",
       "      <td>12800</td>\n",
       "    </tr>\n",
       "    <tr>\n",
       "      <th>전자레인지</th>\n",
       "      <td>1</td>\n",
       "      <td>85</td>\n",
       "      <td>25</td>\n",
       "      <td>7200</td>\n",
       "      <td>29</td>\n",
       "      <td>50</td>\n",
       "      <td>9600</td>\n",
       "    </tr>\n",
       "    <tr>\n",
       "      <th>미니냉장고</th>\n",
       "      <td>1</td>\n",
       "      <td>65</td>\n",
       "      <td>25</td>\n",
       "      <td>4800</td>\n",
       "      <td>19</td>\n",
       "      <td>65</td>\n",
       "      <td>12400</td>\n",
       "    </tr>\n",
       "    <tr>\n",
       "      <th>선풍기</th>\n",
       "      <td>1</td>\n",
       "      <td>70</td>\n",
       "      <td>25</td>\n",
       "      <td>10800</td>\n",
       "      <td>43</td>\n",
       "      <td>55</td>\n",
       "      <td>11520</td>\n",
       "    </tr>\n",
       "    <tr>\n",
       "      <th>미니오븐</th>\n",
       "      <td>2</td>\n",
       "      <td>85</td>\n",
       "      <td>20</td>\n",
       "      <td>4960</td>\n",
       "      <td>26</td>\n",
       "      <td>55</td>\n",
       "      <td>6200</td>\n",
       "    </tr>\n",
       "    <tr>\n",
       "      <th>전기밥솥</th>\n",
       "      <td>2</td>\n",
       "      <td>70</td>\n",
       "      <td>20</td>\n",
       "      <td>11160</td>\n",
       "      <td>39</td>\n",
       "      <td>65</td>\n",
       "      <td>11160</td>\n",
       "    </tr>\n",
       "    <tr>\n",
       "      <th>믹서기</th>\n",
       "      <td>2</td>\n",
       "      <td>85</td>\n",
       "      <td>25</td>\n",
       "      <td>12800</td>\n",
       "      <td>39</td>\n",
       "      <td>80</td>\n",
       "      <td>12800</td>\n",
       "    </tr>\n",
       "    <tr>\n",
       "      <th>전자레인지</th>\n",
       "      <td>2</td>\n",
       "      <td>90</td>\n",
       "      <td>20</td>\n",
       "      <td>7680</td>\n",
       "      <td>22</td>\n",
       "      <td>60</td>\n",
       "      <td>9600</td>\n",
       "    </tr>\n",
       "  </tbody>\n",
       "</table>\n",
       "</div>"
      ],
      "text/plain": [
       "       분기  일생산량  생산일수   총생산량  불량품  출고량  총생산량_최대값\n",
       "제품명                                             \n",
       "미니오븐    1    85    20   6000   24   50      6200\n",
       "전기밥솥    1    85    25   9000   36   80     11160\n",
       "믹서기     1    90    25  12000   48   80     12800\n",
       "전자레인지   1    85    25   7200   29   50      9600\n",
       "미니냉장고   1    65    25   4800   19   65     12400\n",
       "선풍기     1    70    25  10800   43   55     11520\n",
       "미니오븐    2    85    20   4960   26   55      6200\n",
       "전기밥솥    2    70    20  11160   39   65     11160\n",
       "믹서기     2    85    25  12800   39   80     12800\n",
       "전자레인지   2    90    20   7680   22   60      9600"
      ]
     },
     "metadata": {},
     "output_type": "display_data"
    }
   ],
   "source": [
    "pd.options.display.max_columns = 10\n",
    "homeapp['총생산량_최대값'] = max_value['총생산량']\n",
    "display(homeapp.head(10))"
   ]
  },
  {
   "cell_type": "code",
   "execution_count": 46,
   "id": "7e04119f",
   "metadata": {},
   "outputs": [
    {
     "data": {
      "text/html": [
       "<div>\n",
       "<style scoped>\n",
       "    .dataframe tbody tr th:only-of-type {\n",
       "        vertical-align: middle;\n",
       "    }\n",
       "\n",
       "    .dataframe tbody tr th {\n",
       "        vertical-align: top;\n",
       "    }\n",
       "\n",
       "    .dataframe thead th {\n",
       "        text-align: right;\n",
       "    }\n",
       "</style>\n",
       "<table border=\"1\" class=\"dataframe\">\n",
       "  <thead>\n",
       "    <tr style=\"text-align: right;\">\n",
       "      <th></th>\n",
       "      <th>분기</th>\n",
       "      <th>일생산량</th>\n",
       "      <th>생산일수</th>\n",
       "      <th>총생산량</th>\n",
       "      <th>불량품</th>\n",
       "      <th>출고량</th>\n",
       "      <th>총생산량_최대값</th>\n",
       "      <th>rate</th>\n",
       "    </tr>\n",
       "    <tr>\n",
       "      <th>제품명</th>\n",
       "      <th></th>\n",
       "      <th></th>\n",
       "      <th></th>\n",
       "      <th></th>\n",
       "      <th></th>\n",
       "      <th></th>\n",
       "      <th></th>\n",
       "      <th></th>\n",
       "    </tr>\n",
       "  </thead>\n",
       "  <tbody>\n",
       "    <tr>\n",
       "      <th>미니오븐</th>\n",
       "      <td>1</td>\n",
       "      <td>85</td>\n",
       "      <td>20</td>\n",
       "      <td>6000</td>\n",
       "      <td>24</td>\n",
       "      <td>50</td>\n",
       "      <td>6200</td>\n",
       "      <td>96.774194</td>\n",
       "    </tr>\n",
       "    <tr>\n",
       "      <th>전기밥솥</th>\n",
       "      <td>1</td>\n",
       "      <td>85</td>\n",
       "      <td>25</td>\n",
       "      <td>9000</td>\n",
       "      <td>36</td>\n",
       "      <td>80</td>\n",
       "      <td>11160</td>\n",
       "      <td>80.645161</td>\n",
       "    </tr>\n",
       "    <tr>\n",
       "      <th>믹서기</th>\n",
       "      <td>1</td>\n",
       "      <td>90</td>\n",
       "      <td>25</td>\n",
       "      <td>12000</td>\n",
       "      <td>48</td>\n",
       "      <td>80</td>\n",
       "      <td>12800</td>\n",
       "      <td>93.750000</td>\n",
       "    </tr>\n",
       "    <tr>\n",
       "      <th>전자레인지</th>\n",
       "      <td>1</td>\n",
       "      <td>85</td>\n",
       "      <td>25</td>\n",
       "      <td>7200</td>\n",
       "      <td>29</td>\n",
       "      <td>50</td>\n",
       "      <td>9600</td>\n",
       "      <td>75.000000</td>\n",
       "    </tr>\n",
       "    <tr>\n",
       "      <th>미니냉장고</th>\n",
       "      <td>1</td>\n",
       "      <td>65</td>\n",
       "      <td>25</td>\n",
       "      <td>4800</td>\n",
       "      <td>19</td>\n",
       "      <td>65</td>\n",
       "      <td>12400</td>\n",
       "      <td>38.709677</td>\n",
       "    </tr>\n",
       "    <tr>\n",
       "      <th>선풍기</th>\n",
       "      <td>1</td>\n",
       "      <td>70</td>\n",
       "      <td>25</td>\n",
       "      <td>10800</td>\n",
       "      <td>43</td>\n",
       "      <td>55</td>\n",
       "      <td>11520</td>\n",
       "      <td>93.750000</td>\n",
       "    </tr>\n",
       "    <tr>\n",
       "      <th>미니오븐</th>\n",
       "      <td>2</td>\n",
       "      <td>85</td>\n",
       "      <td>20</td>\n",
       "      <td>4960</td>\n",
       "      <td>26</td>\n",
       "      <td>55</td>\n",
       "      <td>6200</td>\n",
       "      <td>80.000000</td>\n",
       "    </tr>\n",
       "    <tr>\n",
       "      <th>전기밥솥</th>\n",
       "      <td>2</td>\n",
       "      <td>70</td>\n",
       "      <td>20</td>\n",
       "      <td>11160</td>\n",
       "      <td>39</td>\n",
       "      <td>65</td>\n",
       "      <td>11160</td>\n",
       "      <td>100.000000</td>\n",
       "    </tr>\n",
       "    <tr>\n",
       "      <th>믹서기</th>\n",
       "      <td>2</td>\n",
       "      <td>85</td>\n",
       "      <td>25</td>\n",
       "      <td>12800</td>\n",
       "      <td>39</td>\n",
       "      <td>80</td>\n",
       "      <td>12800</td>\n",
       "      <td>100.000000</td>\n",
       "    </tr>\n",
       "    <tr>\n",
       "      <th>전자레인지</th>\n",
       "      <td>2</td>\n",
       "      <td>90</td>\n",
       "      <td>20</td>\n",
       "      <td>7680</td>\n",
       "      <td>22</td>\n",
       "      <td>60</td>\n",
       "      <td>9600</td>\n",
       "      <td>80.000000</td>\n",
       "    </tr>\n",
       "  </tbody>\n",
       "</table>\n",
       "</div>"
      ],
      "text/plain": [
       "       분기  일생산량  생산일수   총생산량  불량품  출고량  총생산량_최대값        rate\n",
       "제품명                                                         \n",
       "미니오븐    1    85    20   6000   24   50      6200   96.774194\n",
       "전기밥솥    1    85    25   9000   36   80     11160   80.645161\n",
       "믹서기     1    90    25  12000   48   80     12800   93.750000\n",
       "전자레인지   1    85    25   7200   29   50      9600   75.000000\n",
       "미니냉장고   1    65    25   4800   19   65     12400   38.709677\n",
       "선풍기     1    70    25  10800   43   55     11520   93.750000\n",
       "미니오븐    2    85    20   4960   26   55      6200   80.000000\n",
       "전기밥솥    2    70    20  11160   39   65     11160  100.000000\n",
       "믹서기     2    85    25  12800   39   80     12800  100.000000\n",
       "전자레인지   2    90    20   7680   22   60      9600   80.000000"
      ]
     },
     "execution_count": 46,
     "metadata": {},
     "output_type": "execute_result"
    }
   ],
   "source": [
    "homeapp['rate'] = 100 * homeapp['총생산량']/homeapp['총생산량_최대값']\n",
    "homeapp.head(10)"
   ]
  },
  {
   "cell_type": "code",
   "execution_count": 47,
   "id": "46a2159b",
   "metadata": {},
   "outputs": [
    {
     "data": {
      "text/html": [
       "<div>\n",
       "<style scoped>\n",
       "    .dataframe tbody tr th:only-of-type {\n",
       "        vertical-align: middle;\n",
       "    }\n",
       "\n",
       "    .dataframe tbody tr th {\n",
       "        vertical-align: top;\n",
       "    }\n",
       "\n",
       "    .dataframe thead th {\n",
       "        text-align: right;\n",
       "    }\n",
       "</style>\n",
       "<table border=\"1\" class=\"dataframe\">\n",
       "  <thead>\n",
       "    <tr style=\"text-align: right;\">\n",
       "      <th></th>\n",
       "      <th>분기</th>\n",
       "      <th>일생산량</th>\n",
       "      <th>생산일수</th>\n",
       "      <th>총생산량</th>\n",
       "      <th>불량품</th>\n",
       "      <th>출고량</th>\n",
       "      <th>총생산량_최대값</th>\n",
       "      <th>rate</th>\n",
       "    </tr>\n",
       "    <tr>\n",
       "      <th>제품명</th>\n",
       "      <th></th>\n",
       "      <th></th>\n",
       "      <th></th>\n",
       "      <th></th>\n",
       "      <th></th>\n",
       "      <th></th>\n",
       "      <th></th>\n",
       "      <th></th>\n",
       "    </tr>\n",
       "  </thead>\n",
       "  <tbody>\n",
       "    <tr>\n",
       "      <th>미니냉장고</th>\n",
       "      <td>1</td>\n",
       "      <td>65</td>\n",
       "      <td>25</td>\n",
       "      <td>4800</td>\n",
       "      <td>19</td>\n",
       "      <td>65</td>\n",
       "      <td>12400</td>\n",
       "      <td>38.709677</td>\n",
       "    </tr>\n",
       "    <tr>\n",
       "      <th>미니냉장고</th>\n",
       "      <td>3</td>\n",
       "      <td>90</td>\n",
       "      <td>25</td>\n",
       "      <td>12400</td>\n",
       "      <td>17</td>\n",
       "      <td>75</td>\n",
       "      <td>12400</td>\n",
       "      <td>100.000000</td>\n",
       "    </tr>\n",
       "    <tr>\n",
       "      <th>미니냉장고</th>\n",
       "      <td>2</td>\n",
       "      <td>90</td>\n",
       "      <td>25</td>\n",
       "      <td>5120</td>\n",
       "      <td>22</td>\n",
       "      <td>60</td>\n",
       "      <td>12400</td>\n",
       "      <td>41.290323</td>\n",
       "    </tr>\n",
       "    <tr>\n",
       "      <th>미니냉장고</th>\n",
       "      <td>4</td>\n",
       "      <td>85</td>\n",
       "      <td>20</td>\n",
       "      <td>4960</td>\n",
       "      <td>17</td>\n",
       "      <td>50</td>\n",
       "      <td>12400</td>\n",
       "      <td>40.000000</td>\n",
       "    </tr>\n",
       "    <tr>\n",
       "      <th>미니오븐</th>\n",
       "      <td>1</td>\n",
       "      <td>85</td>\n",
       "      <td>20</td>\n",
       "      <td>6000</td>\n",
       "      <td>24</td>\n",
       "      <td>50</td>\n",
       "      <td>6200</td>\n",
       "      <td>96.774194</td>\n",
       "    </tr>\n",
       "    <tr>\n",
       "      <th>미니오븐</th>\n",
       "      <td>4</td>\n",
       "      <td>80</td>\n",
       "      <td>25</td>\n",
       "      <td>6200</td>\n",
       "      <td>47</td>\n",
       "      <td>80</td>\n",
       "      <td>6200</td>\n",
       "      <td>100.000000</td>\n",
       "    </tr>\n",
       "    <tr>\n",
       "      <th>미니오븐</th>\n",
       "      <td>2</td>\n",
       "      <td>85</td>\n",
       "      <td>20</td>\n",
       "      <td>4960</td>\n",
       "      <td>26</td>\n",
       "      <td>55</td>\n",
       "      <td>6200</td>\n",
       "      <td>80.000000</td>\n",
       "    </tr>\n",
       "    <tr>\n",
       "      <th>미니오븐</th>\n",
       "      <td>3</td>\n",
       "      <td>95</td>\n",
       "      <td>20</td>\n",
       "      <td>6200</td>\n",
       "      <td>31</td>\n",
       "      <td>65</td>\n",
       "      <td>6200</td>\n",
       "      <td>100.000000</td>\n",
       "    </tr>\n",
       "    <tr>\n",
       "      <th>믹서기</th>\n",
       "      <td>4</td>\n",
       "      <td>80</td>\n",
       "      <td>25</td>\n",
       "      <td>6400</td>\n",
       "      <td>43</td>\n",
       "      <td>95</td>\n",
       "      <td>12800</td>\n",
       "      <td>50.000000</td>\n",
       "    </tr>\n",
       "    <tr>\n",
       "      <th>믹서기</th>\n",
       "      <td>1</td>\n",
       "      <td>90</td>\n",
       "      <td>25</td>\n",
       "      <td>12000</td>\n",
       "      <td>48</td>\n",
       "      <td>80</td>\n",
       "      <td>12800</td>\n",
       "      <td>93.750000</td>\n",
       "    </tr>\n",
       "  </tbody>\n",
       "</table>\n",
       "</div>"
      ],
      "text/plain": [
       "       분기  일생산량  생산일수   총생산량  불량품  출고량  총생산량_최대값        rate\n",
       "제품명                                                         \n",
       "미니냉장고   1    65    25   4800   19   65     12400   38.709677\n",
       "미니냉장고   3    90    25  12400   17   75     12400  100.000000\n",
       "미니냉장고   2    90    25   5120   22   60     12400   41.290323\n",
       "미니냉장고   4    85    20   4960   17   50     12400   40.000000\n",
       "미니오븐    1    85    20   6000   24   50      6200   96.774194\n",
       "미니오븐    4    80    25   6200   47   80      6200  100.000000\n",
       "미니오븐    2    85    20   4960   26   55      6200   80.000000\n",
       "미니오븐    3    95    20   6200   31   65      6200  100.000000\n",
       "믹서기     4    80    25   6400   43   95     12800   50.000000\n",
       "믹서기     1    90    25  12000   48   80     12800   93.750000"
      ]
     },
     "metadata": {},
     "output_type": "display_data"
    }
   ],
   "source": [
    "display(homeapp.sort_index().head(10))"
   ]
  },
  {
   "cell_type": "code",
   "execution_count": 48,
   "id": "aa5fe829",
   "metadata": {},
   "outputs": [
    {
     "data": {
      "text/html": [
       "<div>\n",
       "<style scoped>\n",
       "    .dataframe tbody tr th:only-of-type {\n",
       "        vertical-align: middle;\n",
       "    }\n",
       "\n",
       "    .dataframe tbody tr th {\n",
       "        vertical-align: top;\n",
       "    }\n",
       "\n",
       "    .dataframe thead th {\n",
       "        text-align: right;\n",
       "    }\n",
       "</style>\n",
       "<table border=\"1\" class=\"dataframe\">\n",
       "  <thead>\n",
       "    <tr style=\"text-align: right;\">\n",
       "      <th></th>\n",
       "      <th>분기</th>\n",
       "      <th>일생산량</th>\n",
       "      <th>생산일수</th>\n",
       "      <th>총생산량</th>\n",
       "      <th>불량품</th>\n",
       "      <th>출고량</th>\n",
       "      <th>총생산량_최대값</th>\n",
       "      <th>rate</th>\n",
       "    </tr>\n",
       "    <tr>\n",
       "      <th>제품명</th>\n",
       "      <th></th>\n",
       "      <th></th>\n",
       "      <th></th>\n",
       "      <th></th>\n",
       "      <th></th>\n",
       "      <th></th>\n",
       "      <th></th>\n",
       "      <th></th>\n",
       "    </tr>\n",
       "  </thead>\n",
       "  <tbody>\n",
       "  </tbody>\n",
       "</table>\n",
       "</div>"
      ],
      "text/plain": [
       "Empty DataFrame\n",
       "Columns: [분기, 일생산량, 생산일수, 총생산량, 불량품, 출고량, 총생산량_최대값, rate]\n",
       "Index: []"
      ]
     },
     "execution_count": 48,
     "metadata": {},
     "output_type": "execute_result"
    }
   ],
   "source": [
    "homeapp.query('총생산량 > 총생산량_최대값')"
   ]
  },
  {
   "cell_type": "markdown",
   "id": "860db7b3",
   "metadata": {},
   "source": [
    "<h1>열마다 최대 값을 가지는 행 정보 찾기</h1>"
   ]
  },
  {
   "cell_type": "markdown",
   "id": "dfb22c91",
   "metadata": {},
   "source": [
    "<h3><font color='orange'>개인 신상 데이터</h3>"
   ]
  },
  {
   "cell_type": "code",
   "execution_count": 50,
   "id": "3ba72713",
   "metadata": {},
   "outputs": [],
   "source": [
    "import pandas as pd\n",
    "import numpy as np"
   ]
  },
  {
   "cell_type": "code",
   "execution_count": 51,
   "id": "471f8b59",
   "metadata": {},
   "outputs": [
    {
     "data": {
      "text/html": [
       "<div>\n",
       "<style scoped>\n",
       "    .dataframe tbody tr th:only-of-type {\n",
       "        vertical-align: middle;\n",
       "    }\n",
       "\n",
       "    .dataframe tbody tr th {\n",
       "        vertical-align: top;\n",
       "    }\n",
       "\n",
       "    .dataframe thead th {\n",
       "        text-align: right;\n",
       "    }\n",
       "</style>\n",
       "<table border=\"1\" class=\"dataframe\">\n",
       "  <thead>\n",
       "    <tr style=\"text-align: right;\">\n",
       "      <th></th>\n",
       "      <th>muscle</th>\n",
       "      <th>height</th>\n",
       "      <th>grade</th>\n",
       "      <th>gender</th>\n",
       "      <th>marriage</th>\n",
       "    </tr>\n",
       "    <tr>\n",
       "      <th>name</th>\n",
       "      <th></th>\n",
       "      <th></th>\n",
       "      <th></th>\n",
       "      <th></th>\n",
       "      <th></th>\n",
       "    </tr>\n",
       "  </thead>\n",
       "  <tbody>\n",
       "    <tr>\n",
       "      <th>김구</th>\n",
       "      <td>70</td>\n",
       "      <td>50</td>\n",
       "      <td>40</td>\n",
       "      <td>M</td>\n",
       "      <td>1</td>\n",
       "    </tr>\n",
       "    <tr>\n",
       "      <th>이순신</th>\n",
       "      <td>60</td>\n",
       "      <td>70</td>\n",
       "      <td>90</td>\n",
       "      <td>M</td>\n",
       "      <td>1</td>\n",
       "    </tr>\n",
       "    <tr>\n",
       "      <th>신사임당</th>\n",
       "      <td>갑을</td>\n",
       "      <td>80</td>\n",
       "      <td>60</td>\n",
       "      <td>F</td>\n",
       "      <td>1</td>\n",
       "    </tr>\n",
       "    <tr>\n",
       "      <th>강감찬</th>\n",
       "      <td>90</td>\n",
       "      <td>병정</td>\n",
       "      <td>50</td>\n",
       "      <td>M</td>\n",
       "      <td>0</td>\n",
       "    </tr>\n",
       "    <tr>\n",
       "      <th>유관순</th>\n",
       "      <td>60</td>\n",
       "      <td>60</td>\n",
       "      <td>60</td>\n",
       "      <td>F</td>\n",
       "      <td>0</td>\n",
       "    </tr>\n",
       "  </tbody>\n",
       "</table>\n",
       "</div>"
      ],
      "text/plain": [
       "     muscle height  grade gender  marriage\n",
       "name                                      \n",
       "김구       70     50     40      M         1\n",
       "이순신      60     70     90      M         1\n",
       "신사임당     갑을     80     60      F         1\n",
       "강감찬      90     병정     50      M         0\n",
       "유관순      60     60     60      F         0"
      ]
     },
     "execution_count": 51,
     "metadata": {},
     "output_type": "execute_result"
    }
   ],
   "source": [
    "likelyhood = pd.read_csv('./../data/likelyhood03.csv', index_col='name', encoding='cp949')\n",
    "likelyhood"
   ]
  },
  {
   "cell_type": "code",
   "execution_count": 52,
   "id": "10ee7e70",
   "metadata": {},
   "outputs": [
    {
     "data": {
      "text/plain": [
       "muscle      object\n",
       "height      object\n",
       "grade        int64\n",
       "gender      object\n",
       "marriage     int64\n",
       "dtype: object"
      ]
     },
     "execution_count": 52,
     "metadata": {},
     "output_type": "execute_result"
    }
   ],
   "source": [
    "likelyhood.dtypes"
   ]
  },
  {
   "cell_type": "code",
   "execution_count": 54,
   "id": "0af01dc8",
   "metadata": {},
   "outputs": [
    {
     "data": {
      "text/plain": [
       "60    2\n",
       "70    1\n",
       "갑을    1\n",
       "90    1\n",
       "Name: muscle, dtype: int64"
      ]
     },
     "execution_count": 54,
     "metadata": {},
     "output_type": "execute_result"
    }
   ],
   "source": [
    "likelyhood.muscle.value_counts()"
   ]
  },
  {
   "cell_type": "code",
   "execution_count": 55,
   "id": "c16a9aca",
   "metadata": {},
   "outputs": [],
   "source": [
    "likelyhood['muscle'] = pd.to_numeric(likelyhood.muscle, errors='coerce')\n",
    "likelyhood['height'] = pd.to_numeric(likelyhood.height, errors='coerce')"
   ]
  },
  {
   "cell_type": "code",
   "execution_count": 56,
   "id": "c2493bd6",
   "metadata": {},
   "outputs": [
    {
     "data": {
      "text/html": [
       "<div>\n",
       "<style scoped>\n",
       "    .dataframe tbody tr th:only-of-type {\n",
       "        vertical-align: middle;\n",
       "    }\n",
       "\n",
       "    .dataframe tbody tr th {\n",
       "        vertical-align: top;\n",
       "    }\n",
       "\n",
       "    .dataframe thead th {\n",
       "        text-align: right;\n",
       "    }\n",
       "</style>\n",
       "<table border=\"1\" class=\"dataframe\">\n",
       "  <thead>\n",
       "    <tr style=\"text-align: right;\">\n",
       "      <th></th>\n",
       "      <th>muscle</th>\n",
       "      <th>height</th>\n",
       "      <th>grade</th>\n",
       "      <th>gender</th>\n",
       "      <th>marriage</th>\n",
       "    </tr>\n",
       "    <tr>\n",
       "      <th>name</th>\n",
       "      <th></th>\n",
       "      <th></th>\n",
       "      <th></th>\n",
       "      <th></th>\n",
       "      <th></th>\n",
       "    </tr>\n",
       "  </thead>\n",
       "  <tbody>\n",
       "    <tr>\n",
       "      <th>김구</th>\n",
       "      <td>70.0</td>\n",
       "      <td>50.0</td>\n",
       "      <td>40</td>\n",
       "      <td>M</td>\n",
       "      <td>1</td>\n",
       "    </tr>\n",
       "    <tr>\n",
       "      <th>이순신</th>\n",
       "      <td>60.0</td>\n",
       "      <td>70.0</td>\n",
       "      <td>90</td>\n",
       "      <td>M</td>\n",
       "      <td>1</td>\n",
       "    </tr>\n",
       "    <tr>\n",
       "      <th>신사임당</th>\n",
       "      <td>NaN</td>\n",
       "      <td>80.0</td>\n",
       "      <td>60</td>\n",
       "      <td>F</td>\n",
       "      <td>1</td>\n",
       "    </tr>\n",
       "    <tr>\n",
       "      <th>강감찬</th>\n",
       "      <td>90.0</td>\n",
       "      <td>NaN</td>\n",
       "      <td>50</td>\n",
       "      <td>M</td>\n",
       "      <td>0</td>\n",
       "    </tr>\n",
       "    <tr>\n",
       "      <th>유관순</th>\n",
       "      <td>60.0</td>\n",
       "      <td>60.0</td>\n",
       "      <td>60</td>\n",
       "      <td>F</td>\n",
       "      <td>0</td>\n",
       "    </tr>\n",
       "  </tbody>\n",
       "</table>\n",
       "</div>"
      ],
      "text/plain": [
       "      muscle  height  grade gender  marriage\n",
       "name                                        \n",
       "김구      70.0    50.0     40      M         1\n",
       "이순신     60.0    70.0     90      M         1\n",
       "신사임당     NaN    80.0     60      F         1\n",
       "강감찬     90.0     NaN     50      M         0\n",
       "유관순     60.0    60.0     60      F         0"
      ]
     },
     "execution_count": 56,
     "metadata": {},
     "output_type": "execute_result"
    }
   ],
   "source": [
    "likelyhood"
   ]
  },
  {
   "cell_type": "code",
   "execution_count": 57,
   "id": "a8d3fab7",
   "metadata": {},
   "outputs": [
    {
     "data": {
      "text/plain": [
       "muscle      float64\n",
       "height      float64\n",
       "grade         int64\n",
       "gender       object\n",
       "marriage      int64\n",
       "dtype: object"
      ]
     },
     "execution_count": 57,
     "metadata": {},
     "output_type": "execute_result"
    }
   ],
   "source": [
    "likelyhood.dtypes"
   ]
  },
  {
   "cell_type": "code",
   "execution_count": 58,
   "id": "f5a52b2c",
   "metadata": {},
   "outputs": [
    {
     "name": "stdout",
     "output_type": "stream",
     "text": [
      "<class 'pandas.core.frame.DataFrame'>\n",
      "Index: 5 entries, 김구 to 유관순\n",
      "Data columns (total 5 columns):\n",
      " #   Column    Non-Null Count  Dtype  \n",
      "---  ------    --------------  -----  \n",
      " 0   muscle    4 non-null      float64\n",
      " 1   height    4 non-null      float64\n",
      " 2   grade     5 non-null      int64  \n",
      " 3   gender    5 non-null      object \n",
      " 4   marriage  5 non-null      int64  \n",
      "dtypes: float64(2), int64(2), object(1)\n",
      "memory usage: 412.0+ bytes\n"
     ]
    }
   ],
   "source": [
    "likelyhood.info()"
   ]
  },
  {
   "cell_type": "code",
   "execution_count": 59,
   "id": "b3d2cb08",
   "metadata": {},
   "outputs": [
    {
     "data": {
      "text/html": [
       "<div>\n",
       "<style scoped>\n",
       "    .dataframe tbody tr th:only-of-type {\n",
       "        vertical-align: middle;\n",
       "    }\n",
       "\n",
       "    .dataframe tbody tr th {\n",
       "        vertical-align: top;\n",
       "    }\n",
       "\n",
       "    .dataframe thead th {\n",
       "        text-align: right;\n",
       "    }\n",
       "</style>\n",
       "<table border=\"1\" class=\"dataframe\">\n",
       "  <thead>\n",
       "    <tr style=\"text-align: right;\">\n",
       "      <th></th>\n",
       "      <th>muscle</th>\n",
       "      <th>height</th>\n",
       "      <th>grade</th>\n",
       "      <th>marriage</th>\n",
       "    </tr>\n",
       "    <tr>\n",
       "      <th>name</th>\n",
       "      <th></th>\n",
       "      <th></th>\n",
       "      <th></th>\n",
       "      <th></th>\n",
       "    </tr>\n",
       "  </thead>\n",
       "  <tbody>\n",
       "    <tr>\n",
       "      <th>김구</th>\n",
       "      <td>70.0</td>\n",
       "      <td>50.0</td>\n",
       "      <td>40</td>\n",
       "      <td>1</td>\n",
       "    </tr>\n",
       "    <tr>\n",
       "      <th>이순신</th>\n",
       "      <td>60.0</td>\n",
       "      <td>70.0</td>\n",
       "      <td>90</td>\n",
       "      <td>1</td>\n",
       "    </tr>\n",
       "    <tr>\n",
       "      <th>신사임당</th>\n",
       "      <td>NaN</td>\n",
       "      <td>80.0</td>\n",
       "      <td>60</td>\n",
       "      <td>1</td>\n",
       "    </tr>\n",
       "    <tr>\n",
       "      <th>강감찬</th>\n",
       "      <td>90.0</td>\n",
       "      <td>NaN</td>\n",
       "      <td>50</td>\n",
       "      <td>0</td>\n",
       "    </tr>\n",
       "    <tr>\n",
       "      <th>유관순</th>\n",
       "      <td>60.0</td>\n",
       "      <td>60.0</td>\n",
       "      <td>60</td>\n",
       "      <td>0</td>\n",
       "    </tr>\n",
       "  </tbody>\n",
       "</table>\n",
       "</div>"
      ],
      "text/plain": [
       "      muscle  height  grade  marriage\n",
       "name                                 \n",
       "김구      70.0    50.0     40         1\n",
       "이순신     60.0    70.0     90         1\n",
       "신사임당     NaN    80.0     60         1\n",
       "강감찬     90.0     NaN     50         0\n",
       "유관순     60.0    60.0     60         0"
      ]
     },
     "execution_count": 59,
     "metadata": {},
     "output_type": "execute_result"
    }
   ],
   "source": [
    "likelyhood_numeric = likelyhood.select_dtypes(include=[np.number])\n",
    "result = likelyhood_numeric.head()\n",
    "result"
   ]
  },
  {
   "cell_type": "code",
   "execution_count": 60,
   "id": "8407575f",
   "metadata": {},
   "outputs": [
    {
     "data": {
      "text/plain": [
       "muscle      False\n",
       "height      False\n",
       "grade       False\n",
       "marriage     True\n",
       "dtype: bool"
      ]
     },
     "execution_count": 60,
     "metadata": {},
     "output_type": "execute_result"
    }
   ],
   "source": [
    "criteria = likelyhood_numeric.nunique() == 2\n",
    "criteria"
   ]
  },
  {
   "cell_type": "code",
   "execution_count": 62,
   "id": "71811b47",
   "metadata": {},
   "outputs": [
    {
     "name": "stdout",
     "output_type": "stream",
     "text": [
      "제거할 열 리스트 :['marriage']\n"
     ]
    }
   ],
   "source": [
    "concern_columns = likelyhood_numeric.columns[criteria].tolist()\n",
    "print('제거할 열 리스트 :' +str(concern_columns))"
   ]
  },
  {
   "cell_type": "code",
   "execution_count": 63,
   "id": "75e25b4b",
   "metadata": {},
   "outputs": [
    {
     "data": {
      "text/html": [
       "<div>\n",
       "<style scoped>\n",
       "    .dataframe tbody tr th:only-of-type {\n",
       "        vertical-align: middle;\n",
       "    }\n",
       "\n",
       "    .dataframe tbody tr th {\n",
       "        vertical-align: top;\n",
       "    }\n",
       "\n",
       "    .dataframe thead th {\n",
       "        text-align: right;\n",
       "    }\n",
       "</style>\n",
       "<table border=\"1\" class=\"dataframe\">\n",
       "  <thead>\n",
       "    <tr style=\"text-align: right;\">\n",
       "      <th></th>\n",
       "      <th>muscle</th>\n",
       "      <th>height</th>\n",
       "      <th>grade</th>\n",
       "    </tr>\n",
       "    <tr>\n",
       "      <th>name</th>\n",
       "      <th></th>\n",
       "      <th></th>\n",
       "      <th></th>\n",
       "    </tr>\n",
       "  </thead>\n",
       "  <tbody>\n",
       "    <tr>\n",
       "      <th>김구</th>\n",
       "      <td>70.0</td>\n",
       "      <td>50.0</td>\n",
       "      <td>40</td>\n",
       "    </tr>\n",
       "    <tr>\n",
       "      <th>이순신</th>\n",
       "      <td>60.0</td>\n",
       "      <td>70.0</td>\n",
       "      <td>90</td>\n",
       "    </tr>\n",
       "    <tr>\n",
       "      <th>신사임당</th>\n",
       "      <td>NaN</td>\n",
       "      <td>80.0</td>\n",
       "      <td>60</td>\n",
       "    </tr>\n",
       "    <tr>\n",
       "      <th>강감찬</th>\n",
       "      <td>90.0</td>\n",
       "      <td>NaN</td>\n",
       "      <td>50</td>\n",
       "    </tr>\n",
       "    <tr>\n",
       "      <th>유관순</th>\n",
       "      <td>60.0</td>\n",
       "      <td>60.0</td>\n",
       "      <td>60</td>\n",
       "    </tr>\n",
       "  </tbody>\n",
       "</table>\n",
       "</div>"
      ],
      "text/plain": [
       "      muscle  height  grade\n",
       "name                       \n",
       "김구      70.0    50.0     40\n",
       "이순신     60.0    70.0     90\n",
       "신사임당     NaN    80.0     60\n",
       "강감찬     90.0     NaN     50\n",
       "유관순     60.0    60.0     60"
      ]
     },
     "execution_count": 63,
     "metadata": {},
     "output_type": "execute_result"
    }
   ],
   "source": [
    "numeric_cols = likelyhood_numeric.drop(labels=concern_columns, axis='columns')\n",
    "numeric_cols"
   ]
  },
  {
   "cell_type": "code",
   "execution_count": 64,
   "id": "77ab0470",
   "metadata": {},
   "outputs": [
    {
     "data": {
      "text/plain": [
       "muscle     강감찬\n",
       "height    신사임당\n",
       "grade      이순신\n",
       "dtype: object"
      ]
     },
     "execution_count": 64,
     "metadata": {},
     "output_type": "execute_result"
    }
   ],
   "source": [
    "max_columns = numeric_cols.idxmax()\n",
    "max_columns"
   ]
  },
  {
   "cell_type": "code",
   "execution_count": 65,
   "id": "e649b8df",
   "metadata": {},
   "outputs": [
    {
     "data": {
      "text/plain": [
       "array(['강감찬', '신사임당', '이순신'], dtype=object)"
      ]
     },
     "execution_count": 65,
     "metadata": {},
     "output_type": "execute_result"
    }
   ],
   "source": [
    "unique_max = max_columns.unique()\n",
    "unique_max"
   ]
  },
  {
   "cell_type": "code",
   "execution_count": 68,
   "id": "4e337477",
   "metadata": {},
   "outputs": [
    {
     "data": {
      "text/html": [
       "<div>\n",
       "<style scoped>\n",
       "    .dataframe tbody tr th:only-of-type {\n",
       "        vertical-align: middle;\n",
       "    }\n",
       "\n",
       "    .dataframe tbody tr th {\n",
       "        vertical-align: top;\n",
       "    }\n",
       "\n",
       "    .dataframe thead th {\n",
       "        text-align: right;\n",
       "    }\n",
       "</style>\n",
       "<table border=\"1\" class=\"dataframe\">\n",
       "  <thead>\n",
       "    <tr style=\"text-align: right;\">\n",
       "      <th></th>\n",
       "      <th>muscle</th>\n",
       "      <th>height</th>\n",
       "      <th>grade</th>\n",
       "    </tr>\n",
       "    <tr>\n",
       "      <th>name</th>\n",
       "      <th></th>\n",
       "      <th></th>\n",
       "      <th></th>\n",
       "    </tr>\n",
       "  </thead>\n",
       "  <tbody>\n",
       "    <tr>\n",
       "      <th>강감찬</th>\n",
       "      <td>90.0</td>\n",
       "      <td>NaN</td>\n",
       "      <td>50</td>\n",
       "    </tr>\n",
       "    <tr>\n",
       "      <th>신사임당</th>\n",
       "      <td>NaN</td>\n",
       "      <td>80.0</td>\n",
       "      <td>60</td>\n",
       "    </tr>\n",
       "    <tr>\n",
       "      <th>이순신</th>\n",
       "      <td>60.0</td>\n",
       "      <td>70.0</td>\n",
       "      <td>90</td>\n",
       "    </tr>\n",
       "  </tbody>\n",
       "</table>\n",
       "</div>"
      ],
      "text/plain": [
       "      muscle  height  grade\n",
       "name                       \n",
       "강감찬     90.0     NaN     50\n",
       "신사임당     NaN    80.0     60\n",
       "이순신     60.0    70.0     90"
      ]
     },
     "execution_count": 68,
     "metadata": {},
     "output_type": "execute_result"
    }
   ],
   "source": [
    "numeric_cols.loc[unique_max]"
   ]
  },
  {
   "cell_type": "code",
   "execution_count": 67,
   "id": "eec7af19",
   "metadata": {},
   "outputs": [
    {
     "data": {
      "text/html": [
       "<div>\n",
       "<style scoped>\n",
       "    .dataframe tbody tr th:only-of-type {\n",
       "        vertical-align: middle;\n",
       "    }\n",
       "\n",
       "    .dataframe tbody tr th {\n",
       "        vertical-align: top;\n",
       "    }\n",
       "\n",
       "    .dataframe thead th {\n",
       "        text-align: right;\n",
       "    }\n",
       "</style>\n",
       "<table border=\"1\" class=\"dataframe\">\n",
       "  <thead>\n",
       "    <tr style=\"text-align: right;\">\n",
       "      <th></th>\n",
       "      <th>muscle</th>\n",
       "      <th>height</th>\n",
       "      <th>grade</th>\n",
       "    </tr>\n",
       "    <tr>\n",
       "      <th>name</th>\n",
       "      <th></th>\n",
       "      <th></th>\n",
       "      <th></th>\n",
       "    </tr>\n",
       "  </thead>\n",
       "  <tbody>\n",
       "    <tr>\n",
       "      <th>강감찬</th>\n",
       "      <td>90.0</td>\n",
       "      <td>NaN</td>\n",
       "      <td>50</td>\n",
       "    </tr>\n",
       "    <tr>\n",
       "      <th>신사임당</th>\n",
       "      <td>NaN</td>\n",
       "      <td>80.0</td>\n",
       "      <td>60</td>\n",
       "    </tr>\n",
       "    <tr>\n",
       "      <th>이순신</th>\n",
       "      <td>60.0</td>\n",
       "      <td>70.0</td>\n",
       "      <td>90</td>\n",
       "    </tr>\n",
       "  </tbody>\n",
       "</table>\n",
       "</div>"
      ],
      "text/plain": [
       "      muscle  height  grade\n",
       "name                       \n",
       "강감찬     90.0     NaN     50\n",
       "신사임당     NaN    80.0     60\n",
       "이순신     60.0    70.0     90"
      ]
     },
     "execution_count": 67,
     "metadata": {},
     "output_type": "execute_result"
    }
   ],
   "source": [
    "numeric_cols.loc[max_columns.values]"
   ]
  },
  {
   "cell_type": "code",
   "execution_count": null,
   "id": "49c00d70",
   "metadata": {},
   "outputs": [],
   "source": []
  },
  {
   "cell_type": "code",
   "execution_count": null,
   "id": "9862f95f",
   "metadata": {},
   "outputs": [],
   "source": []
  },
  {
   "cell_type": "code",
   "execution_count": null,
   "id": "ae10e26b",
   "metadata": {},
   "outputs": [],
   "source": []
  },
  {
   "cell_type": "code",
   "execution_count": null,
   "id": "3174ea24",
   "metadata": {},
   "outputs": [],
   "source": []
  },
  {
   "cell_type": "code",
   "execution_count": null,
   "id": "8ac64edf",
   "metadata": {},
   "outputs": [],
   "source": []
  },
  {
   "cell_type": "code",
   "execution_count": null,
   "id": "74e2bd7f",
   "metadata": {},
   "outputs": [],
   "source": []
  },
  {
   "cell_type": "code",
   "execution_count": null,
   "id": "1c78d8c6",
   "metadata": {},
   "outputs": [],
   "source": []
  },
  {
   "cell_type": "code",
   "execution_count": null,
   "id": "c72baffe",
   "metadata": {},
   "outputs": [],
   "source": []
  }
 ],
 "metadata": {
  "kernelspec": {
   "display_name": "Python 3 (ipykernel)",
   "language": "python",
   "name": "python3"
  },
  "language_info": {
   "codemirror_mode": {
    "name": "ipython",
    "version": 3
   },
   "file_extension": ".py",
   "mimetype": "text/x-python",
   "name": "python",
   "nbconvert_exporter": "python",
   "pygments_lexer": "ipython3",
   "version": "3.11.2"
  }
 },
 "nbformat": 4,
 "nbformat_minor": 5
}
