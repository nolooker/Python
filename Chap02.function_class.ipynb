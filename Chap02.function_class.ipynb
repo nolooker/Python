{
 "cells": [
  {
   "cell_type": "markdown",
   "id": "db9fa0e3",
   "metadata": {},
   "source": [
    "<h1>내장 함수와 클래스</h1>"
   ]
  },
  {
   "cell_type": "markdown",
   "id": "56a2a0c6",
   "metadata": {},
   "source": [
    "<h4><font color=\"orange\">abs, sum 함수</font></h4>"
   ]
  },
  {
   "cell_type": "code",
   "execution_count": 18,
   "id": "ae47eef4",
   "metadata": {},
   "outputs": [
    {
     "data": {
      "text/plain": [
       "14.035668847618199"
      ]
     },
     "execution_count": 18,
     "metadata": {},
     "output_type": "execute_result"
    }
   ],
   "source": [
    "# 요소들의 절댓값의 3의 총합에 루트 씌우기\n",
    "mylist = [2,-5,4] # 루트(8 + 125 + 64) = 14.0356\n",
    "newlist01 = [abs(su) for su in mylist]\n",
    "newlist02 = [su**3 for su in newlist01]\n",
    "newlist03 = sum(newlist02)**0.5\n",
    "newlist03"
   ]
  },
  {
   "cell_type": "markdown",
   "id": "0c2f2319",
   "metadata": {},
   "source": [
    "<h4><font color=\"orange\">sorted() 함수</font></h4>"
   ]
  },
  {
   "cell_type": "code",
   "execution_count": 10,
   "id": "2633aa20",
   "metadata": {},
   "outputs": [
    {
     "data": {
      "text/plain": [
       "['김훈식', '박진영', '심수철', '이은규']"
      ]
     },
     "execution_count": 10,
     "metadata": {},
     "output_type": "execute_result"
    }
   ],
   "source": [
    "humans = ['김훈식','이은규','박진영','심수철']\n",
    "result = sorted(humans)\n",
    "result # order by asc in database"
   ]
  },
  {
   "cell_type": "code",
   "execution_count": 11,
   "id": "9faf06d8",
   "metadata": {},
   "outputs": [
    {
     "data": {
      "text/plain": [
       "['이은규', '심수철', '박진영', '김훈식']"
      ]
     },
     "execution_count": 11,
     "metadata": {},
     "output_type": "execute_result"
    }
   ],
   "source": [
    "result = sorted(humans, reverse = True)\n",
    "result # order by desc in database"
   ]
  },
  {
   "cell_type": "code",
   "execution_count": 2,
   "id": "21a9eee9",
   "metadata": {},
   "outputs": [
    {
     "data": {
      "text/plain": [
       "{'이현식': 75, '김현도': 80, '유지강': 60, '최윤희': 90}"
      ]
     },
     "execution_count": 2,
     "metadata": {},
     "output_type": "execute_result"
    }
   ],
   "source": [
    "students = {'이현식':75,'김현도':80,'유지강':60,'최윤희':90}\n",
    "students"
   ]
  },
  {
   "cell_type": "code",
   "execution_count": 3,
   "id": "cbcef1b4",
   "metadata": {},
   "outputs": [
    {
     "data": {
      "text/plain": [
       "['김현도', '유지강', '이현식', '최윤희']"
      ]
     },
     "execution_count": 3,
     "metadata": {},
     "output_type": "execute_result"
    }
   ],
   "source": [
    "chartdata = sorted(students)\n",
    "chartdata # 사전의 key를 기반으로 오름차순 정렬"
   ]
  },
  {
   "cell_type": "code",
   "execution_count": 4,
   "id": "163ff2b6",
   "metadata": {},
   "outputs": [
    {
     "data": {
      "text/plain": [
       "['유지강', '이현식', '김현도', '최윤희']"
      ]
     },
     "execution_count": 4,
     "metadata": {},
     "output_type": "execute_result"
    }
   ],
   "source": [
    "chartdata = sorted(students, key = students.get)\n",
    "chartdata # key 매개 변수에 근거하되, 보여주는 것은 사전의 key를 보여줌"
   ]
  },
  {
   "cell_type": "code",
   "execution_count": 5,
   "id": "4a546a02",
   "metadata": {},
   "outputs": [
    {
     "data": {
      "text/plain": [
       "['유지강', '이현식', '김현도', '최윤희']"
      ]
     },
     "execution_count": 5,
     "metadata": {},
     "output_type": "execute_result"
    }
   ],
   "source": [
    "chartdata = sorted(students.keys(), key = students.get)\n",
    "chartdata "
   ]
  },
  {
   "cell_type": "code",
   "execution_count": 7,
   "id": "a728a242",
   "metadata": {},
   "outputs": [
    {
     "data": {
      "text/plain": [
       "['최윤희', '김현도', '이현식', '유지강']"
      ]
     },
     "execution_count": 7,
     "metadata": {},
     "output_type": "execute_result"
    }
   ],
   "source": [
    "chartdata = sorted(students, key = students.get, reverse = True)\n",
    "chartdata # reserve = True에 의하여 내림차순 정렬"
   ]
  },
  {
   "cell_type": "code",
   "execution_count": 8,
   "id": "33b64970",
   "metadata": {
    "scrolled": true
   },
   "outputs": [
    {
     "data": {
      "text/plain": [
       "[90, 80, 75, 60]"
      ]
     },
     "execution_count": 8,
     "metadata": {},
     "output_type": "execute_result"
    }
   ],
   "source": [
    "chartdata = sorted(students.values(), reverse = True)\n",
    "chartdata # 값을 가지고 역순으로 정렬"
   ]
  },
  {
   "cell_type": "markdown",
   "id": "b8642d6f",
   "metadata": {},
   "source": [
    "<h4><font color=\"orange\">zip() 함수</font></h4>"
   ]
  },
  {
   "cell_type": "code",
   "execution_count": 3,
   "id": "2bb0cd38",
   "metadata": {},
   "outputs": [],
   "source": [
    "names = ['김현도','유지강','최윤희']\n",
    "ages = ['10','30','20']\n",
    "address = ['마포', '금천', '용산']"
   ]
  },
  {
   "cell_type": "code",
   "execution_count": 4,
   "id": "3a0dcceb",
   "metadata": {},
   "outputs": [
    {
     "name": "stdout",
     "output_type": "stream",
     "text": [
      "tuple의 인덱싱 이용하기\n",
      "이름 : 김현도, 나이 : 10, 주소 : 마포\n",
      "이름 : 유지강, 나이 : 30, 주소 : 금천\n",
      "이름 : 최윤희, 나이 : 20, 주소 : 용산\n"
     ]
    }
   ],
   "source": [
    "print('tuple의 인덱싱 이용하기')\n",
    "for item in zip(names, ages, address):\n",
    "    message = '이름 : {}, 나이 : {}, 주소 : {}'\n",
    "    print(message.format(item[0],item[1],item[2]))"
   ]
  },
  {
   "cell_type": "code",
   "execution_count": 5,
   "id": "f83e8127",
   "metadata": {},
   "outputs": [
    {
     "name": "stdout",
     "output_type": "stream",
     "text": [
      "for 구문에 변수 이름 직접 작성\n",
      "이름 : 김현도, 나이 : 10, 주소 : 마포\n",
      "이름 : 유지강, 나이 : 30, 주소 : 금천\n",
      "이름 : 최윤희, 나이 : 20, 주소 : 용산\n"
     ]
    }
   ],
   "source": [
    "print('for 구문에 변수 이름 직접 작성')\n",
    "for name, age, address in zip(names, ages, address):\n",
    "    message = '이름 : {}, 나이 : {}, 주소 : {}'\n",
    "    print(message.format(name, age, address))"
   ]
  },
  {
   "cell_type": "markdown",
   "id": "82142734",
   "metadata": {},
   "source": [
    "<h4><font color=\"orange\">lambda 함수</font></h4>"
   ]
  },
  {
   "cell_type": "code",
   "execution_count": 6,
   "id": "d9a7f68c",
   "metadata": {},
   "outputs": [],
   "source": [
    "# 두 수의 덧셈을 해주는 함수 hap을 구현해 보겠습니다."
   ]
  },
  {
   "cell_type": "code",
   "execution_count": 7,
   "id": "1629e9df",
   "metadata": {},
   "outputs": [],
   "source": [
    "def hap(x, y): # def는 함수 정의시 사용하는 키워드 \n",
    "    return x + y "
   ]
  },
  {
   "cell_type": "code",
   "execution_count": 9,
   "id": "7d3145d0",
   "metadata": {},
   "outputs": [
    {
     "data": {
      "text/plain": [
       "8"
      ]
     },
     "execution_count": 9,
     "metadata": {},
     "output_type": "execute_result"
    }
   ],
   "source": [
    "x,y = 3, 5\n",
    "result = hap(x,y) # 함수 호출\n",
    "result"
   ]
  },
  {
   "cell_type": "code",
   "execution_count": 13,
   "id": "dfa0b796",
   "metadata": {},
   "outputs": [],
   "source": [
    "# 람다함수이름 = lambda 매개변수리스트 : 함수가 할 동작 명시 \n",
    "lambda_hap = lambda x,y : x + y"
   ]
  },
  {
   "cell_type": "code",
   "execution_count": 14,
   "id": "796abbb7",
   "metadata": {},
   "outputs": [
    {
     "data": {
      "text/plain": [
       "30"
      ]
     },
     "execution_count": 14,
     "metadata": {},
     "output_type": "execute_result"
    }
   ],
   "source": [
    "x , y = 10, 20\n",
    "result = lambda_hap(x, y)\n",
    "result"
   ]
  },
  {
   "cell_type": "markdown",
   "id": "65b5f8a4",
   "metadata": {},
   "source": [
    "<h1>클래스</h1>"
   ]
  },
  {
   "cell_type": "markdown",
   "id": "870b08a3",
   "metadata": {},
   "source": [
    "<h4><font color=\"orange\">개인정보 클래스</font></h4>"
   ]
  },
  {
   "cell_type": "code",
   "execution_count": 16,
   "id": "f8407fe7",
   "metadata": {},
   "outputs": [
    {
     "data": {
      "text/plain": [
       "'\\n아이디 : yusin\\n이름 : 김유신\\n혈액형 : AB\\n'"
      ]
     },
     "execution_count": 16,
     "metadata": {},
     "output_type": "execute_result"
    }
   ],
   "source": [
    "'''\n",
    "아이디 : yusin\n",
    "이름 : 김유신\n",
    "혈액형 : AB\n",
    "'''"
   ]
  },
  {
   "cell_type": "code",
   "execution_count": 17,
   "id": "14b1cd04",
   "metadata": {},
   "outputs": [],
   "source": [
    "class Human : # 클래스 정의\n",
    "    # self는 자바의 this와 유사한 개념으로 사용되는 참조 변수 역할\n",
    "    def __init__(self, id,name,blood): # 생성자 함수\n",
    "        self.id = id\n",
    "        self.name = name\n",
    "        self.blood = blood\n",
    "    \n",
    "    def showInfo(self) :\n",
    "        message = '아이디 : %s, 이름 : %s, 혈액형 : %s'\n",
    "        return message % (self.id, self.name, self.blood)"
   ]
  },
  {
   "cell_type": "code",
   "execution_count": 18,
   "id": "b01c35d1",
   "metadata": {},
   "outputs": [
    {
     "name": "stdout",
     "output_type": "stream",
     "text": [
      "<__main__.Human object at 0x000002432EF1F790>\n",
      "<class '__main__.Human'>\n"
     ]
    }
   ],
   "source": [
    "yusin = Human('yusin','김유신','AB')\n",
    "print(yusin)\n",
    "print(type(yusin))"
   ]
  },
  {
   "cell_type": "code",
   "execution_count": 24,
   "id": "a8a2c68a",
   "metadata": {},
   "outputs": [
    {
     "data": {
      "text/plain": [
       "'아이디 : yusin, 이름 : 김유신, 혈액형 : AB'"
      ]
     },
     "execution_count": 24,
     "metadata": {},
     "output_type": "execute_result"
    }
   ],
   "source": [
    "yusin.showInfo()"
   ]
  },
  {
   "cell_type": "code",
   "execution_count": 26,
   "id": "f777f2d2",
   "metadata": {},
   "outputs": [
    {
     "name": "stdout",
     "output_type": "stream",
     "text": [
      "아이디 : choi, 이름 : 최민경, 혈액형 : O\n",
      "아이디 : kang, 이름 : 강호철, 혈액형 : B\n"
     ]
    }
   ],
   "source": [
    "members = [Human('choi','최민경','O'), Human('kang','강호철','B')]\n",
    "for saram in members :\n",
    "    print(saram.showInfo())"
   ]
  },
  {
   "cell_type": "code",
   "execution_count": 20,
   "id": "edb9fd6a",
   "metadata": {},
   "outputs": [
    {
     "data": {
      "text/plain": [
       "['__class__',\n",
       " '__delattr__',\n",
       " '__dict__',\n",
       " '__dir__',\n",
       " '__doc__',\n",
       " '__eq__',\n",
       " '__format__',\n",
       " '__ge__',\n",
       " '__getattribute__',\n",
       " '__getstate__',\n",
       " '__gt__',\n",
       " '__hash__',\n",
       " '__init__',\n",
       " '__init_subclass__',\n",
       " '__le__',\n",
       " '__lt__',\n",
       " '__module__',\n",
       " '__ne__',\n",
       " '__new__',\n",
       " '__reduce__',\n",
       " '__reduce_ex__',\n",
       " '__repr__',\n",
       " '__setattr__',\n",
       " '__sizeof__',\n",
       " '__str__',\n",
       " '__subclasshook__',\n",
       " '__weakref__',\n",
       " 'blood',\n",
       " 'id',\n",
       " 'name',\n",
       " 'showInfo']"
      ]
     },
     "execution_count": 20,
     "metadata": {},
     "output_type": "execute_result"
    }
   ],
   "source": [
    "# dif 함수 : 해당 모듈(파이썬에서는 파일을 모듈이라고 함)에 들어 있는 모든 변수,\n",
    "#            함수 목록들을 list 형식으로 보여 주는 함수\n",
    "dir(yusin)"
   ]
  },
  {
   "cell_type": "code",
   "execution_count": 21,
   "id": "a97e43f4",
   "metadata": {},
   "outputs": [
    {
     "data": {
      "text/plain": [
       "['blood', 'id', 'name', 'showInfo']"
      ]
     },
     "execution_count": 21,
     "metadata": {},
     "output_type": "execute_result"
    }
   ],
   "source": [
    "myinfo = [item for item in dir(yusin) if not item.startswith('_')]\n",
    "myinfo"
   ]
  },
  {
   "cell_type": "code",
   "execution_count": null,
   "id": "30e4312a",
   "metadata": {},
   "outputs": [],
   "source": []
  },
  {
   "cell_type": "code",
   "execution_count": null,
   "id": "1ee68a9b",
   "metadata": {},
   "outputs": [],
   "source": []
  }
 ],
 "metadata": {
  "kernelspec": {
   "display_name": "Python 3 (ipykernel)",
   "language": "python",
   "name": "python3"
  },
  "language_info": {
   "codemirror_mode": {
    "name": "ipython",
    "version": 3
   },
   "file_extension": ".py",
   "mimetype": "text/x-python",
   "name": "python",
   "nbconvert_exporter": "python",
   "pygments_lexer": "ipython3",
   "version": "3.11.2"
  }
 },
 "nbformat": 4,
 "nbformat_minor": 5
}
