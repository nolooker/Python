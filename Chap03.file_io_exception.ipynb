{
 "cells": [
  {
   "cell_type": "markdown",
   "id": "f83faaa1",
   "metadata": {},
   "source": [
    "<h1>파일 입출력</h1>"
   ]
  },
  {
   "cell_type": "markdown",
   "id": "46cc6ac3",
   "metadata": {},
   "source": [
    "<h3><font color='orange'>파일 입출력</font></h3>"
   ]
  },
  {
   "cell_type": "code",
   "execution_count": null,
   "id": "fd8029cf",
   "metadata": {},
   "outputs": [],
   "source": [
    "'''\n",
    "list 안에 들어 있는 점수들을 파일로 만들기\n",
    "\n",
    "'''"
   ]
  },
  {
   "cell_type": "code",
   "execution_count": 10,
   "id": "72c34413",
   "metadata": {},
   "outputs": [
    {
     "name": "stdout",
     "output_type": "stream",
     "text": [
      "<class '_io.TextIOWrapper'>\n",
      "file01.txt파일이 저장됨\n"
     ]
    }
   ],
   "source": [
    "filename = 'file01.txt'\n",
    "myfile = open(filename, mode = 'wt', encoding = 'UTF-8')\n",
    "print(type(myfile))\n",
    "\n",
    "mylist = [50,65,70,85]\n",
    "for item in mylist :\n",
    "    myfile.write(str(item) + '\\n')\n",
    "    \n",
    "# end for\n",
    "\n",
    "myfile.close()\n",
    "\n",
    "print(filename + '파일이 저장됨')"
   ]
  },
  {
   "cell_type": "code",
   "execution_count": 11,
   "id": "9717fa03",
   "metadata": {},
   "outputs": [],
   "source": [
    "# file01.txt 파일을 읽어 와서 평균 점수 구하기"
   ]
  },
  {
   "cell_type": "code",
   "execution_count": 19,
   "id": "418dab3d",
   "metadata": {},
   "outputs": [
    {
     "data": {
      "text/plain": [
       "[50, 65, 70, 85]"
      ]
     },
     "execution_count": 19,
     "metadata": {},
     "output_type": "execute_result"
    }
   ],
   "source": [
    "myfile02 = open(filename, mode = 'rt', encoding = 'UTF-8')\n",
    "jumsulist = myfile02.readlines()\n",
    "jumsulist = [int(item.strip()) for item in jumsulist]\n",
    "jumsulist"
   ]
  },
  {
   "cell_type": "code",
   "execution_count": 20,
   "id": "aeb52036",
   "metadata": {},
   "outputs": [
    {
     "name": "stdout",
     "output_type": "stream",
     "text": [
      "평균 : 67.50\n"
     ]
    }
   ],
   "source": [
    "average = sum(jumsulist) / len(jumsulist)\n",
    "print('평균 : %.2f' % (average))"
   ]
  },
  {
   "cell_type": "code",
   "execution_count": 30,
   "id": "8691f751",
   "metadata": {},
   "outputs": [
    {
     "name": "stdout",
     "output_type": "stream",
     "text": [
      "file02.txt파일이 저장됨\n"
     ]
    }
   ],
   "source": [
    "filename02 = 'file02.txt'\n",
    "myfile02 = open(filename02, mode = 'wt', encoding = 'UTF-8')\n",
    "sungjuk = [('김인식','50','60'),('이순자','70','80')]\n",
    "for saram in sungjuk:\n",
    "    data = (',' .join(saram))\n",
    "    myfile02.write(data + '\\n')\n",
    "\n",
    "# end for\n",
    "\n",
    "myfile02.close()\n",
    "\n",
    "print(filename02 + '파일이 저장됨')"
   ]
  },
  {
   "cell_type": "code",
   "execution_count": 31,
   "id": "af7e2d43",
   "metadata": {},
   "outputs": [],
   "source": [
    "# file02.txt 파일 읽어서 학생별 총점, 과목별 총점 구해보기"
   ]
  },
  {
   "cell_type": "code",
   "execution_count": 57,
   "id": "4a3896c8",
   "metadata": {},
   "outputs": [],
   "source": [
    "myfile02 = open(filename02, mode = 'rt', encoding = 'UTF-8')\n",
    "datalist = myfile02.readlines()\n",
    "datalist = [saram.strip() for saram in datalist]\n",
    "datalist\n",
    "myfile02.close()"
   ]
  },
  {
   "cell_type": "code",
   "execution_count": 48,
   "id": "40a7d8b3",
   "metadata": {},
   "outputs": [
    {
     "name": "stdout",
     "output_type": "stream",
     "text": [
      "학생 김인식 의 총점 : 110점\n",
      "학생 이순자 의 총점 : 150점\n"
     ]
    }
   ],
   "source": [
    "for saram in datalist :\n",
    "    cutlist = saram.split(',')\n",
    "    name = cutlist[0]\n",
    "    kor = int(cutlist[1])\n",
    "    eng = int(cutlist[2])\n",
    "    total = kor + eng\n",
    "    message = '학생 %s 의 총점 : %d점'\n",
    "    print(message % (name, total))"
   ]
  },
  {
   "cell_type": "code",
   "execution_count": 49,
   "id": "2e88a5e1",
   "metadata": {},
   "outputs": [
    {
     "name": "stdout",
     "output_type": "stream",
     "text": [
      "학생 김인식 점수 : 110점\n",
      "학생 이순자 점수 : 150점\n",
      "국어 총점 : 120점, 영어 총점 : 140점\n"
     ]
    }
   ],
   "source": [
    "kor_total, eng_total = 0,0\n",
    "\n",
    "for saram in datalist :\n",
    "    cutlist = saram.split(',')\n",
    "    name = cutlist[0]\n",
    "    kor = int(cutlist[1])\n",
    "    eng = int(cutlist[2])\n",
    "    total = kor + eng\n",
    "    message = '학생 %s 점수 : %d점'\n",
    "    print(message % (name,total))\n",
    "    \n",
    "    kor_total += kor\n",
    "    eng_total += eng\n",
    "    \n",
    "# end for\n",
    "message = '국어 총점 : %d점, 영어 총점 : %d점'\n",
    "print(message % (kor_total, eng_total))"
   ]
  },
  {
   "cell_type": "code",
   "execution_count": 50,
   "id": "dee0fb4e",
   "metadata": {},
   "outputs": [],
   "source": [
    "# 사전에 저장하기"
   ]
  },
  {
   "cell_type": "code",
   "execution_count": 55,
   "id": "51c3231d",
   "metadata": {},
   "outputs": [
    {
     "name": "stdout",
     "output_type": "stream",
     "text": [
      "['김인식', '50', '60']\n",
      "['이순자', '70', '80']\n",
      "{'김인식': (50, 60), '이순자': (70, 80)}\n"
     ]
    }
   ],
   "source": [
    "saramdict = dict() # empty dictionary\n",
    "\n",
    "for saram in datalist:\n",
    "    cutlist = saram.split(',')\n",
    "    print(cutlist)\n",
    "# print(cutlist)\n",
    "    saramdict[cutlist[0]] = (int(cutlist[1]),int(cutlist[2]))\n",
    "# end for\n",
    "\n",
    "print(saramdict)"
   ]
  },
  {
   "cell_type": "markdown",
   "id": "e7fa3e8c",
   "metadata": {},
   "source": [
    "<h3><font color='orange'>python 모듈</font></h3>"
   ]
  },
  {
   "cell_type": "code",
   "execution_count": null,
   "id": "fbb0f9d2",
   "metadata": {},
   "outputs": [],
   "source": [
    "'''\n",
    "module(모듈) :\n",
    "서로 연관성이 있는 코드들의 묶음\n",
    "파일 1개를 모듈이라고 보는 경향이 있습니다.\n",
    "\n",
    "모듈의 종류\n",
    "    사용자 정의 모듈, 표준 모듈, Third party 모듈\n",
    "    \n",
    "모듈 사용하려면\n",
    "    import 또는 from 키워드를 사용\n",
    "'''"
   ]
  },
  {
   "cell_type": "markdown",
   "id": "7fd4e7e5",
   "metadata": {},
   "source": [
    "<h3><font color='orange'>사용자 정의 모듈</font></h3>"
   ]
  },
  {
   "cell_type": "code",
   "execution_count": null,
   "id": "2c35cadf",
   "metadata": {},
   "outputs": [],
   "source": [
    "# mymodule.py 파일"
   ]
  },
  {
   "cell_type": "code",
   "execution_count": 58,
   "id": "facaa629",
   "metadata": {},
   "outputs": [],
   "source": [
    "import mymodule # mymodule.py 파일을 사용합니다."
   ]
  },
  {
   "cell_type": "code",
   "execution_count": 63,
   "id": "792b993b",
   "metadata": {},
   "outputs": [
    {
     "name": "stdout",
     "output_type": "stream",
     "text": [
      "안녕하세요~김이나님\n",
      "None은 자바의 void 또는 null과 유사한 개념입니다.\n"
     ]
    }
   ],
   "source": [
    "result = mymodule.hello('김이나')\n",
    "if result == None :\n",
    "    print('None은 자바의 void 또는 null과 유사한 개념입니다.')"
   ]
  },
  {
   "cell_type": "code",
   "execution_count": 64,
   "id": "b6a4c7cd",
   "metadata": {},
   "outputs": [
    {
     "name": "stdout",
     "output_type": "stream",
     "text": [
      "8\n"
     ]
    }
   ],
   "source": [
    "x,y = 3,5\n",
    "result = mymodule.add(x,y)\n",
    "print(result)"
   ]
  },
  {
   "cell_type": "code",
   "execution_count": 65,
   "id": "ec30d1ae",
   "metadata": {},
   "outputs": [],
   "source": [
    "import mymodule as mx # mx를 alias 라고 합니다."
   ]
  },
  {
   "cell_type": "code",
   "execution_count": 66,
   "id": "ec077aff",
   "metadata": {},
   "outputs": [
    {
     "name": "stdout",
     "output_type": "stream",
     "text": [
      "안녕하세요~이철수님\n"
     ]
    }
   ],
   "source": [
    "mx.hello('이철수')"
   ]
  },
  {
   "cell_type": "markdown",
   "id": "417b4c9e",
   "metadata": {},
   "source": [
    "<h3><font color='orange'>표준 모듈</font></h3>"
   ]
  },
  {
   "cell_type": "code",
   "execution_count": 68,
   "id": "01548c31",
   "metadata": {},
   "outputs": [
    {
     "data": {
      "text/plain": [
       "'\\nmath(수학), random(랜덤), os(운영체제), time(시간), calendar(달력), sys\\n'"
      ]
     },
     "execution_count": 68,
     "metadata": {},
     "output_type": "execute_result"
    }
   ],
   "source": [
    "'''\n",
    "math(수학), random(랜덤), os(운영체제), time(시간), calendar(달력), sys\n",
    "'''"
   ]
  },
  {
   "cell_type": "code",
   "execution_count": 69,
   "id": "a472b3e3",
   "metadata": {},
   "outputs": [],
   "source": [
    "import math   # math를 적용후 진행"
   ]
  },
  {
   "cell_type": "code",
   "execution_count": 70,
   "id": "d1bf02ee",
   "metadata": {},
   "outputs": [
    {
     "name": "stdout",
     "output_type": "stream",
     "text": [
      "1024.0\n",
      "123\n",
      "124\n",
      "2.0\n"
     ]
    }
   ],
   "source": [
    "su = 123.456789\n",
    "print(math.pow(2,10))\n",
    "print(math.floor(su))\n",
    "print(math.ceil(su))\n",
    "print(math.sqrt(4))"
   ]
  },
  {
   "cell_type": "code",
   "execution_count": 72,
   "id": "0d7b2d7c",
   "metadata": {},
   "outputs": [],
   "source": [
    "import random"
   ]
  },
  {
   "cell_type": "code",
   "execution_count": 185,
   "id": "ce1f0514",
   "metadata": {},
   "outputs": [
    {
     "name": "stdout",
     "output_type": "stream",
     "text": [
      "0.4523795535098186\n"
     ]
    }
   ],
   "source": [
    "seed = 10 # 0 <= seed <= 최대정수\n",
    "random.seed(seed)\n",
    "print(random.random())"
   ]
  },
  {
   "cell_type": "code",
   "execution_count": 161,
   "id": "ba1896e3",
   "metadata": {},
   "outputs": [
    {
     "data": {
      "text/plain": [
       "[0.4288890546751146,\n",
       " 0.5780913011344704,\n",
       " 0.20609823213950174,\n",
       " 0.81332125135732,\n",
       " 0.8235888725334455,\n",
       " 0.6534725339011758,\n",
       " 0.16022955651881965,\n",
       " 0.5206693596399246,\n",
       " 0.32777281162209315,\n",
       " 0.24999667668640035]"
      ]
     },
     "execution_count": 161,
     "metadata": {},
     "output_type": "execute_result"
    }
   ],
   "source": [
    "randlist = list()\n",
    "for su in range(10) :\n",
    "    randlist.append(random.random())\n",
    "#end for\n",
    "\n",
    "randlist"
   ]
  },
  {
   "cell_type": "markdown",
   "id": "29f21223",
   "metadata": {},
   "source": [
    "<h3><font color='orange'>os 모듈과 예외 처리</font></h3>"
   ]
  },
  {
   "cell_type": "code",
   "execution_count": 2,
   "id": "fe5183ed",
   "metadata": {},
   "outputs": [],
   "source": [
    "import os"
   ]
  },
  {
   "cell_type": "code",
   "execution_count": 3,
   "id": "93c047e6",
   "metadata": {},
   "outputs": [
    {
     "name": "stdout",
     "output_type": "stream",
     "text": [
      "<class 'str'>\n",
      "파일이나 디렉토리 이미 존재합니다\n",
      "[WinError 183] 파일이 이미 있으므로 만들 수 없습니다: 'd:\\\\template'\n",
      "finished\n"
     ]
    }
   ],
   "source": [
    "myfolder = 'd:\\\\' # 경로 작성시 \\는 2개, /는 1개로 작성해야 한다.\n",
    "newpath = os.path.join(myfolder, 'template')\n",
    "print(type(newpath))\n",
    "\n",
    "try:\n",
    "    os.mkdir(path = newpath)\n",
    "except FileExistsError as err :\n",
    "    print('파일이나 디렉토리 이미 존재합니다')\n",
    "    print(err)\n",
    "# end try\n",
    "\n",
    "print('finished')"
   ]
  },
  {
   "cell_type": "code",
   "execution_count": 4,
   "id": "f5162a18",
   "metadata": {},
   "outputs": [
    {
     "ename": "FileExistsError",
     "evalue": "[WinError 183] 파일이 이미 있으므로 만들 수 없습니다: 'd:\\\\template'",
     "output_type": "error",
     "traceback": [
      "\u001b[1;31m---------------------------------------------------------------------------\u001b[0m",
      "\u001b[1;31mFileExistsError\u001b[0m                           Traceback (most recent call last)",
      "Cell \u001b[1;32mIn[4], line 6\u001b[0m\n\u001b[0;32m      3\u001b[0m newfolder \u001b[38;5;241m=\u001b[39m os\u001b[38;5;241m.\u001b[39mpath\u001b[38;5;241m.\u001b[39mjoin(newpath, \u001b[38;5;124m'\u001b[39m\u001b[38;5;124mtest\u001b[39m\u001b[38;5;124m'\u001b[39m \u001b[38;5;241m+\u001b[39m \u001b[38;5;28mstr\u001b[39m(idx)\u001b[38;5;241m.\u001b[39mzfill(\u001b[38;5;241m2\u001b[39m))\n\u001b[0;32m      5\u001b[0m \u001b[38;5;28;01mif\u001b[39;00m \u001b[38;5;129;01mnot\u001b[39;00m os\u001b[38;5;241m.\u001b[39mpath\u001b[38;5;241m.\u001b[39mexists(newfolder):\n\u001b[1;32m----> 6\u001b[0m     \u001b[43mos\u001b[49m\u001b[38;5;241;43m.\u001b[39;49m\u001b[43mmkdir\u001b[49m\u001b[43m(\u001b[49m\u001b[43mpath\u001b[49m\u001b[43m \u001b[49m\u001b[38;5;241;43m=\u001b[39;49m\u001b[43m \u001b[49m\u001b[43mnewpath\u001b[49m\u001b[43m)\u001b[49m\n\u001b[0;32m      7\u001b[0m \u001b[38;5;28;01melse\u001b[39;00m :\n\u001b[0;32m      8\u001b[0m     \u001b[38;5;28mprint\u001b[39m(\u001b[38;5;124m'\u001b[39m\u001b[38;5;124m파일이나 디렉토리이 이미 존재합니다.\u001b[39m\u001b[38;5;124m'\u001b[39m)\n",
      "\u001b[1;31mFileExistsError\u001b[0m: [WinError 183] 파일이 이미 있으므로 만들 수 없습니다: 'd:\\\\template'"
     ]
    }
   ],
   "source": [
    "# 하위 폴더 10개 만들기\n",
    "for idx in range(1, 11) :\n",
    "    newfolder = os.path.join(newpath, 'test' + str(idx).zfill(2))\n",
    "    \n",
    "    if not os.path.exists(newfolder):\n",
    "        os.mkdir(path = newpath)\n",
    "    else :\n",
    "        print('파일이나 디렉토리이 이미 존재합니다.')\n",
    "    \n",
    "# end for\n",
    "\n",
    "print('finished')"
   ]
  },
  {
   "cell_type": "code",
   "execution_count": 10,
   "id": "b55eb9c0",
   "metadata": {},
   "outputs": [
    {
     "data": {
      "text/plain": [
       "[23, 14, 3, 19, 44, 27]"
      ]
     },
     "execution_count": 10,
     "metadata": {},
     "output_type": "execute_result"
    }
   ],
   "source": [
    "import random\n",
    "lotto = [1,2,3,4,5,6,7,8,9,10,11,12,13,14,15,16,17,18,19,20,21,22,23,24,25,26,27,28,29,30,31,32,33,34,35,36,37,38,39,40,41,42,43,44,45]\n",
    "result = random.sample(lotto, 6) #비복원 추출\n",
    "result"
   ]
  },
  {
   "cell_type": "code",
   "execution_count": 11,
   "id": "86ec4646",
   "metadata": {},
   "outputs": [
    {
     "data": {
      "text/plain": [
       "[43, 38, 5, 18, 3, 11]"
      ]
     },
     "execution_count": 11,
     "metadata": {},
     "output_type": "execute_result"
    }
   ],
   "source": [
    "[43, 38, 5, 18, 3, 11]"
   ]
  },
  {
   "cell_type": "code",
   "execution_count": 12,
   "id": "385e282d",
   "metadata": {},
   "outputs": [
    {
     "data": {
      "text/plain": [
       "[22, 34, 29, 43, 4, 31]"
      ]
     },
     "execution_count": 12,
     "metadata": {},
     "output_type": "execute_result"
    }
   ],
   "source": [
    "[22, 34, 29, 43, 4, 31]"
   ]
  },
  {
   "cell_type": "code",
   "execution_count": 13,
   "id": "9fa1683f",
   "metadata": {},
   "outputs": [
    {
     "data": {
      "text/plain": [
       "[1, 42, 8, 14, 4, 18]"
      ]
     },
     "execution_count": 13,
     "metadata": {},
     "output_type": "execute_result"
    }
   ],
   "source": [
    "[1, 42, 8, 14, 4, 18]"
   ]
  },
  {
   "cell_type": "code",
   "execution_count": 14,
   "id": "fd91b3de",
   "metadata": {},
   "outputs": [
    {
     "data": {
      "text/plain": [
       "[38, 41, 4, 14, 12, 11]"
      ]
     },
     "execution_count": 14,
     "metadata": {},
     "output_type": "execute_result"
    }
   ],
   "source": [
    "[38, 41, 4, 14, 12, 11]"
   ]
  },
  {
   "cell_type": "code",
   "execution_count": 15,
   "id": "86ed0ff0",
   "metadata": {},
   "outputs": [
    {
     "data": {
      "text/plain": [
       "[23, 14, 3, 19, 44, 27]"
      ]
     },
     "execution_count": 15,
     "metadata": {},
     "output_type": "execute_result"
    }
   ],
   "source": [
    "[23, 14, 3, 19, 44, 27]"
   ]
  },
  {
   "cell_type": "code",
   "execution_count": 20,
   "id": "c3b2b682",
   "metadata": {},
   "outputs": [
    {
     "data": {
      "text/plain": [
       "[11, 13, 25, 5, 8, 43]"
      ]
     },
     "execution_count": 20,
     "metadata": {},
     "output_type": "execute_result"
    }
   ],
   "source": [
    "import random\n",
    "lotto = range(1,46)\n",
    "result = random.sample(lotto, 6)\n",
    "result"
   ]
  },
  {
   "cell_type": "code",
   "execution_count": null,
   "id": "38fa227f",
   "metadata": {},
   "outputs": [],
   "source": [
    "[42, 38, 21, 27, 8, 10]\n",
    "[2, 15, 8, 38, 24, 25]\n",
    "[36, 11, 15, 38, 45, 7]\n",
    "[3, 31, 28, 9, 39, 42]\n",
    "[11, 13, 25, 5, 8, 43]"
   ]
  }
 ],
 "metadata": {
  "kernelspec": {
   "display_name": "Python 3 (ipykernel)",
   "language": "python",
   "name": "python3"
  },
  "language_info": {
   "codemirror_mode": {
    "name": "ipython",
    "version": 3
   },
   "file_extension": ".py",
   "mimetype": "text/x-python",
   "name": "python",
   "nbconvert_exporter": "python",
   "pygments_lexer": "ipython3",
   "version": "3.11.2"
  }
 },
 "nbformat": 4,
 "nbformat_minor": 5
}
