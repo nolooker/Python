{
 "cells": [
  {
   "cell_type": "markdown",
   "id": "e8d0958f",
   "metadata": {},
   "source": [
    "<h1>간단한 산술 연산</h1>"
   ]
  },
  {
   "cell_type": "markdown",
   "id": "f713dd02",
   "metadata": {},
   "source": [
    "<h4><font color=\"green\">변수 a를 정의합니다.</font></h4>"
   ]
  },
  {
   "cell_type": "code",
   "execution_count": 1,
   "id": "d1200064",
   "metadata": {
    "scrolled": true
   },
   "outputs": [
    {
     "data": {
      "text/plain": [
       "14"
      ]
     },
     "execution_count": 1,
     "metadata": {},
     "output_type": "execute_result"
    }
   ],
   "source": [
    "a=14\n",
    "a"
   ]
  },
  {
   "cell_type": "markdown",
   "id": "5b5944ab",
   "metadata": {},
   "source": [
    "<h4><font color=\"green\">변수 b를 정의합니다.</font></h4>"
   ]
  },
  {
   "cell_type": "code",
   "execution_count": 2,
   "id": "76aa74b3",
   "metadata": {
    "scrolled": false
   },
   "outputs": [
    {
     "data": {
      "text/plain": [
       "5"
      ]
     },
     "execution_count": 2,
     "metadata": {},
     "output_type": "execute_result"
    }
   ],
   "source": [
    "b=5\n",
    "b"
   ]
  },
  {
   "cell_type": "markdown",
   "id": "cffa39fb",
   "metadata": {},
   "source": [
    "<h4><font color=\"green\">변수 c를 정의하고, 합을 구합니다</font></h4>"
   ]
  },
  {
   "cell_type": "code",
   "execution_count": 3,
   "id": "787b43d0",
   "metadata": {},
   "outputs": [
    {
     "name": "stdout",
     "output_type": "stream",
     "text": [
      "19\n"
     ]
    }
   ],
   "source": [
    "c=a+b\n",
    "print(c)"
   ]
  },
  {
   "cell_type": "markdown",
   "id": "d561b3ba",
   "metadata": {},
   "source": [
    "<h1>데이터 타입과 입출력</h1>"
   ]
  },
  {
   "cell_type": "markdown",
   "id": "883fbf1b",
   "metadata": {},
   "source": [
    "<h3>입출력 함수 사용하기</h3>"
   ]
  },
  {
   "cell_type": "code",
   "execution_count": 4,
   "id": "136e6c78",
   "metadata": {},
   "outputs": [
    {
     "ename": "KeyboardInterrupt",
     "evalue": "Interrupted by user",
     "output_type": "error",
     "traceback": [
      "\u001b[1;31m---------------------------------------------------------------------------\u001b[0m",
      "\u001b[1;31mKeyboardInterrupt\u001b[0m                         Traceback (most recent call last)",
      "Cell \u001b[1;32mIn[4], line 1\u001b[0m\n\u001b[1;32m----> 1\u001b[0m name \u001b[38;5;241m=\u001b[39m \u001b[38;5;28;43minput\u001b[39;49m\u001b[43m(\u001b[49m\u001b[38;5;124;43m'\u001b[39;49m\u001b[38;5;124;43m이름 입력 : \u001b[39;49m\u001b[38;5;124;43m'\u001b[39;49m\u001b[43m)\u001b[49m\n\u001b[0;32m      2\u001b[0m address \u001b[38;5;241m=\u001b[39m \u001b[38;5;28minput\u001b[39m(\u001b[38;5;124m'\u001b[39m\u001b[38;5;124m주소 입력 : \u001b[39m\u001b[38;5;124m'\u001b[39m)\n",
      "File \u001b[1;32mC:\\Python311\\Lib\\site-packages\\ipykernel\\kernelbase.py:1191\u001b[0m, in \u001b[0;36mKernel.raw_input\u001b[1;34m(self, prompt)\u001b[0m\n\u001b[0;32m   1189\u001b[0m     msg \u001b[38;5;241m=\u001b[39m \u001b[38;5;124m\"\u001b[39m\u001b[38;5;124mraw_input was called, but this frontend does not support input requests.\u001b[39m\u001b[38;5;124m\"\u001b[39m\n\u001b[0;32m   1190\u001b[0m     \u001b[38;5;28;01mraise\u001b[39;00m StdinNotImplementedError(msg)\n\u001b[1;32m-> 1191\u001b[0m \u001b[38;5;28;01mreturn\u001b[39;00m \u001b[38;5;28;43mself\u001b[39;49m\u001b[38;5;241;43m.\u001b[39;49m\u001b[43m_input_request\u001b[49m\u001b[43m(\u001b[49m\n\u001b[0;32m   1192\u001b[0m \u001b[43m    \u001b[49m\u001b[38;5;28;43mstr\u001b[39;49m\u001b[43m(\u001b[49m\u001b[43mprompt\u001b[49m\u001b[43m)\u001b[49m\u001b[43m,\u001b[49m\n\u001b[0;32m   1193\u001b[0m \u001b[43m    \u001b[49m\u001b[38;5;28;43mself\u001b[39;49m\u001b[38;5;241;43m.\u001b[39;49m\u001b[43m_parent_ident\u001b[49m\u001b[43m[\u001b[49m\u001b[38;5;124;43m\"\u001b[39;49m\u001b[38;5;124;43mshell\u001b[39;49m\u001b[38;5;124;43m\"\u001b[39;49m\u001b[43m]\u001b[49m\u001b[43m,\u001b[49m\n\u001b[0;32m   1194\u001b[0m \u001b[43m    \u001b[49m\u001b[38;5;28;43mself\u001b[39;49m\u001b[38;5;241;43m.\u001b[39;49m\u001b[43mget_parent\u001b[49m\u001b[43m(\u001b[49m\u001b[38;5;124;43m\"\u001b[39;49m\u001b[38;5;124;43mshell\u001b[39;49m\u001b[38;5;124;43m\"\u001b[39;49m\u001b[43m)\u001b[49m\u001b[43m,\u001b[49m\n\u001b[0;32m   1195\u001b[0m \u001b[43m    \u001b[49m\u001b[43mpassword\u001b[49m\u001b[38;5;241;43m=\u001b[39;49m\u001b[38;5;28;43;01mFalse\u001b[39;49;00m\u001b[43m,\u001b[49m\n\u001b[0;32m   1196\u001b[0m \u001b[43m\u001b[49m\u001b[43m)\u001b[49m\n",
      "File \u001b[1;32mC:\\Python311\\Lib\\site-packages\\ipykernel\\kernelbase.py:1234\u001b[0m, in \u001b[0;36mKernel._input_request\u001b[1;34m(self, prompt, ident, parent, password)\u001b[0m\n\u001b[0;32m   1231\u001b[0m \u001b[38;5;28;01mexcept\u001b[39;00m \u001b[38;5;167;01mKeyboardInterrupt\u001b[39;00m:\n\u001b[0;32m   1232\u001b[0m     \u001b[38;5;66;03m# re-raise KeyboardInterrupt, to truncate traceback\u001b[39;00m\n\u001b[0;32m   1233\u001b[0m     msg \u001b[38;5;241m=\u001b[39m \u001b[38;5;124m\"\u001b[39m\u001b[38;5;124mInterrupted by user\u001b[39m\u001b[38;5;124m\"\u001b[39m\n\u001b[1;32m-> 1234\u001b[0m     \u001b[38;5;28;01mraise\u001b[39;00m \u001b[38;5;167;01mKeyboardInterrupt\u001b[39;00m(msg) \u001b[38;5;28;01mfrom\u001b[39;00m \u001b[38;5;28mNone\u001b[39m\n\u001b[0;32m   1235\u001b[0m \u001b[38;5;28;01mexcept\u001b[39;00m \u001b[38;5;167;01mException\u001b[39;00m:\n\u001b[0;32m   1236\u001b[0m     \u001b[38;5;28mself\u001b[39m\u001b[38;5;241m.\u001b[39mlog\u001b[38;5;241m.\u001b[39mwarning(\u001b[38;5;124m\"\u001b[39m\u001b[38;5;124mInvalid Message:\u001b[39m\u001b[38;5;124m\"\u001b[39m, exc_info\u001b[38;5;241m=\u001b[39m\u001b[38;5;28;01mTrue\u001b[39;00m)\n",
      "\u001b[1;31mKeyboardInterrupt\u001b[0m: Interrupted by user"
     ]
    }
   ],
   "source": [
    "name = input('이름 입력 : ')\n",
    "address = input('주소 입력 : ')"
   ]
  },
  {
   "cell_type": "code",
   "execution_count": null,
   "id": "0f061b9c",
   "metadata": {},
   "outputs": [],
   "source": [
    "print('이름 : %s' % (name))\n",
    "print('주소 : %s' % (address))"
   ]
  },
  {
   "cell_type": "markdown",
   "id": "f1acb183",
   "metadata": {},
   "source": [
    "<h3>데이터의 형변환</h3>"
   ]
  },
  {
   "cell_type": "code",
   "execution_count": null,
   "id": "9dddbd45",
   "metadata": {},
   "outputs": [],
   "source": [
    "data01='11.11'\n",
    "data02='22.22'\n",
    "data03=50"
   ]
  },
  {
   "cell_type": "code",
   "execution_count": null,
   "id": "654f5cfa",
   "metadata": {},
   "outputs": [],
   "source": [
    "sum=data01+data02 # 문자열 결합\n",
    "sum"
   ]
  },
  {
   "cell_type": "code",
   "execution_count": null,
   "id": "c9ab78a5",
   "metadata": {},
   "outputs": [],
   "source": [
    "float01=float(data01)\n",
    "float02=float(data02)\n",
    "sum=float01+float02\n",
    "sum"
   ]
  },
  {
   "cell_type": "code",
   "execution_count": null,
   "id": "6fd52cd6",
   "metadata": {},
   "outputs": [],
   "source": [
    "float03=float(data03)\n",
    "sum=float02+float03\n",
    "sum"
   ]
  },
  {
   "cell_type": "code",
   "execution_count": null,
   "id": "e6625588",
   "metadata": {},
   "outputs": [],
   "source": [
    "int01=int(float01)\n",
    "int02=int(float02)\n",
    "int03=int(float03)\n",
    "sum=int01+int02+int03\n",
    "sum"
   ]
  },
  {
   "cell_type": "code",
   "execution_count": null,
   "id": "4668c61b",
   "metadata": {},
   "outputs": [],
   "source": [
    "print('변수 float01의 타입 : ' + str(type(float01)))"
   ]
  },
  {
   "cell_type": "code",
   "execution_count": null,
   "id": "a9dd45a6",
   "metadata": {},
   "outputs": [],
   "source": [
    "print(type(int02))\n",
    "print(type(data01))"
   ]
  },
  {
   "cell_type": "markdown",
   "id": "0d1c05c3",
   "metadata": {},
   "source": [
    "<h3>format 함수 사용하기</h3>"
   ]
  },
  {
   "cell_type": "code",
   "execution_count": null,
   "id": "805f2efa",
   "metadata": {},
   "outputs": [],
   "source": [
    "product = '우유'\n",
    "bottle = 5\n",
    "message = '우리 매장의 {} 재고는 총 {}잔 입니다.'\n",
    "print(message.format(product, bottle))"
   ]
  },
  {
   "cell_type": "code",
   "execution_count": null,
   "id": "289c5b4b",
   "metadata": {},
   "outputs": [],
   "source": [
    "price = 1000\n",
    "cup = int(input('몇 잔 마실래?'))"
   ]
  },
  {
   "cell_type": "code",
   "execution_count": null,
   "id": "2f742f74",
   "metadata": {},
   "outputs": [],
   "source": [
    "# format() 함수를 이용하여 다음과 같이 출력해 보세요.\n",
    "# 2잔의 우유는 2000원에 판매됩니다.\n",
    "message = '{}잔의 {}는 {}원에 판매됩니다.'\n",
    "print(message.format(cup, product, cup*price))"
   ]
  },
  {
   "cell_type": "markdown",
   "id": "430da3e2",
   "metadata": {},
   "source": [
    "<h1>조건 판단문</h1>"
   ]
  },
  {
   "cell_type": "markdown",
   "id": "dad65038",
   "metadata": {},
   "source": [
    "<h3>미성년자 체크하기</h3>"
   ]
  },
  {
   "cell_type": "code",
   "execution_count": null,
   "id": "20f875b3",
   "metadata": {},
   "outputs": [],
   "source": [
    "# input() 함수는 반환 타입이 문자열(str) 입니다.\n",
    "name = input('이름 입력 : ')\n",
    "age = int(input('나이 입력 : '))"
   ]
  },
  {
   "cell_type": "code",
   "execution_count": null,
   "id": "7fc7b6f3",
   "metadata": {},
   "outputs": [],
   "source": [
    "if age >= 19:\n",
    "        result = '성인'\n",
    "else : \n",
    "        result = '미성년자'"
   ]
  },
  {
   "cell_type": "code",
   "execution_count": null,
   "id": "22141fde",
   "metadata": {},
   "outputs": [],
   "source": [
    "message = '{}님은 \\'{}\\'입니다.'\n",
    "print(message.format(name, result))"
   ]
  },
  {
   "cell_type": "markdown",
   "id": "c4479edb",
   "metadata": {},
   "source": [
    "<h3>확정 체크하기</h3>"
   ]
  },
  {
   "cell_type": "code",
   "execution_count": null,
   "id": "6e511dfe",
   "metadata": {},
   "outputs": [],
   "source": [
    "name = input('이름 입력 : ')\n",
    "jumsu = int(input('점수 입력 : '))"
   ]
  },
  {
   "cell_type": "code",
   "execution_count": null,
   "id": "87af219d",
   "metadata": {},
   "outputs": [],
   "source": [
    "if jumsu >= 60:\n",
    "    grade = 'A'\n",
    "elif jumsu >= 80 :\n",
    "    grade = 'B'\n",
    "elif jumsu >= 70 :\n",
    "    grade = 'C'\n",
    "elif jumsu >= 60 :\n",
    "    grade = 'D'\n",
    "else : \n",
    "    grade = 'F'"
   ]
  },
  {
   "cell_type": "code",
   "execution_count": null,
   "id": "aa34143b",
   "metadata": {
    "scrolled": true
   },
   "outputs": [],
   "source": [
    "message = '\\'{}\\'님의 점수는 \\'{}\\'점이며, 학점은 \\'{}\\'입니다.'\n",
    "print(message.format(name, jumsu, grade))"
   ]
  },
  {
   "cell_type": "markdown",
   "id": "556adc03",
   "metadata": {},
   "source": [
    "<h1>집합(iterable) 자료형</h1>"
   ]
  },
  {
   "cell_type": "markdown",
   "id": "bb675425",
   "metadata": {},
   "source": [
    "<h3>리스트(list) 다루기</h3>"
   ]
  },
  {
   "cell_type": "code",
   "execution_count": null,
   "id": "185d5466",
   "metadata": {},
   "outputs": [],
   "source": [
    "humans = ['김유식','이준수','홍기영','박진희','류지은','노유정','박지만',]\n",
    "humans"
   ]
  },
  {
   "cell_type": "code",
   "execution_count": null,
   "id": "217b1cc0",
   "metadata": {},
   "outputs": [],
   "source": [
    "print(type(humans))"
   ]
  },
  {
   "cell_type": "code",
   "execution_count": null,
   "id": "5faea842",
   "metadata": {},
   "outputs": [],
   "source": [
    "# 인덱싱(indexing) : 인덱스를 이용하여 특정 요소를 추출하는 동작\n",
    "# 0 부터 카운팅 됨 (0 base)\n",
    "humans[3]"
   ]
  },
  {
   "cell_type": "code",
   "execution_count": null,
   "id": "2bb5a83c",
   "metadata": {},
   "outputs": [],
   "source": [
    "# -는 -1 부터 카운팅 됨 음수는 뒤에서 카운팅 시작(1 base)\n",
    "humans[-3]"
   ]
  },
  {
   "cell_type": "code",
   "execution_count": null,
   "id": "e6f46b5a",
   "metadata": {},
   "outputs": [],
   "source": [
    "# 중요! 슬라이싱(slicing) : 전체 요소에서 데이터의 일부분을 얻어 내는 동작\n",
    "humans[1:4] #start <= 범위 < stop"
   ]
  },
  {
   "cell_type": "code",
   "execution_count": null,
   "id": "4f2f4c9a",
   "metadata": {},
   "outputs": [],
   "source": [
    "length = len(humans)\n",
    "print('요소개수 : {}'.format(str(length)))"
   ]
  },
  {
   "cell_type": "code",
   "execution_count": null,
   "id": "1c674d4f",
   "metadata": {},
   "outputs": [],
   "source": [
    "# humans[::] -> start : stop : step 을 의미함\n",
    "# 변수(기본 값) : start(1), stop(요소 길이), step(1)\n",
    "humans[0:length:2]"
   ]
  },
  {
   "cell_type": "code",
   "execution_count": null,
   "id": "140b3cf6",
   "metadata": {},
   "outputs": [],
   "source": [
    "print('3의 배수만 출력하기')\n",
    "humans[0:length:3]"
   ]
  },
  {
   "cell_type": "markdown",
   "id": "273314c1",
   "metadata": {},
   "source": [
    "<h3>사전(dictionary) 다루기</h3>"
   ]
  },
  {
   "cell_type": "code",
   "execution_count": null,
   "id": "be9a369d",
   "metadata": {},
   "outputs": [],
   "source": [
    "dictionary = {'kor':85,'eng':70,'math':50}"
   ]
  },
  {
   "cell_type": "code",
   "execution_count": null,
   "id": "6f60ba3f",
   "metadata": {},
   "outputs": [],
   "source": [
    "print('사전의 key 목록 보기')\n",
    "for key in dictionary.keys():\n",
    "    print(key)"
   ]
  },
  {
   "cell_type": "code",
   "execution_count": null,
   "id": "a49ae4ec",
   "metadata": {},
   "outputs": [],
   "source": [
    "print('사전의 value 목록 보기')\n",
    "for value in dictionary.values():\n",
    "    print(value)"
   ]
  },
  {
   "cell_type": "code",
   "execution_count": null,
   "id": "e927ce8b",
   "metadata": {},
   "outputs": [],
   "source": [
    "print('items() 메소드는 key와 values를 한번에 보여 줍니다.')\n",
    "message = '과목 {}의 점수 : {}'\n",
    "\n",
    "for (key, value) in dictionary.items():\n",
    "    print(message.format(key,value))"
   ]
  },
  {
   "cell_type": "code",
   "execution_count": null,
   "id": "c1cdfbd4",
   "metadata": {},
   "outputs": [],
   "source": [
    "subject = 'eng' #찾을 과목\n",
    "print(subject in dictionary) # 사전에 존재 하나요?\n",
    "dictionary['eng'] # 사전에서 읽기"
   ]
  },
  {
   "cell_type": "code",
   "execution_count": null,
   "id": "47c36441",
   "metadata": {},
   "outputs": [],
   "source": [
    "dictionary['sci'] = 90 # 과학 점수 추가\n",
    "print(dictionary)"
   ]
  },
  {
   "cell_type": "code",
   "execution_count": null,
   "id": "36aa5d2f",
   "metadata": {},
   "outputs": [],
   "source": [
    "if subject in dictionary :\n",
    "    print('eng 과목은' + str(dictionary[subject]) + '점 입니다.')\n",
    "else :\n",
    "    print(subject + '과목은 미응시하였습니다.')"
   ]
  },
  {
   "cell_type": "code",
   "execution_count": null,
   "id": "6d5999f6",
   "metadata": {},
   "outputs": [],
   "source": [
    "print('pop 메소드 사용하기')\n",
    "result = dictionary.pop('eng')\n",
    "\n",
    "print('pop 이후의 사전 내용 : ', dictionary)\n",
    "print('pop 결과 : ' , result)"
   ]
  },
  {
   "cell_type": "code",
   "execution_count": null,
   "id": "4c110149",
   "metadata": {},
   "outputs": [],
   "source": [
    "print('\\nclear() 메소드는 사전의 내용을 모두 비웁니다.')\n",
    "dictionary.clear()"
   ]
  },
  {
   "cell_type": "markdown",
   "id": "7d8f9d7d",
   "metadata": {},
   "source": [
    "<h3>튜플(tuple) 다루기</h3>"
   ]
  },
  {
   "cell_type": "code",
   "execution_count": null,
   "id": "193b189e",
   "metadata": {},
   "outputs": [],
   "source": [
    "print(type(('사과')))\n",
    "print(type(('사과',)))"
   ]
  },
  {
   "cell_type": "code",
   "execution_count": null,
   "id": "b3cb0393",
   "metadata": {},
   "outputs": [],
   "source": [
    "tuple01 = ('사과', '바나나', '체리')\n",
    "tuple01 += ('감',)\n",
    "tuple01"
   ]
  },
  {
   "cell_type": "code",
   "execution_count": null,
   "id": "c56fee5b",
   "metadata": {},
   "outputs": [],
   "source": [
    "tuple02 = ('사과', '바나나', '체리', '감')\n",
    "tuple02"
   ]
  },
  {
   "cell_type": "code",
   "execution_count": null,
   "id": "a2129d92",
   "metadata": {},
   "outputs": [],
   "source": [
    "if tuple01 == tuple02 :\n",
    "    print('component equal')\n",
    "else :\n",
    "    print('component not equal')"
   ]
  },
  {
   "cell_type": "code",
   "execution_count": null,
   "id": "dfb0ad56",
   "metadata": {
    "scrolled": true
   },
   "outputs": [],
   "source": [
    "# 단순한 콤마 연결로, tuple을 만들 수 있습니다.\n",
    "tuple03 = '사과', '오렌지', '귤'\n",
    "tuple03"
   ]
  },
  {
   "cell_type": "code",
   "execution_count": null,
   "id": "116ccb5b",
   "metadata": {},
   "outputs": [],
   "source": [
    "tuple04 = ('사과', '바나나', '체리')\n",
    "tuple05 = ('감', '귤', '밤')"
   ]
  },
  {
   "cell_type": "code",
   "execution_count": null,
   "id": "952690fc",
   "metadata": {},
   "outputs": [],
   "source": [
    "print('+ 기호는 튜플을 합치는 역할을 합니다.')\n",
    "mytuple = tuple04 + tuple05\n",
    "mytuple"
   ]
  },
  {
   "cell_type": "code",
   "execution_count": null,
   "id": "39a517f4",
   "metadata": {},
   "outputs": [],
   "source": [
    "print('* 기호는 튜플을 지정수 만큼 반복하는 역할을 합니다.')\n",
    "mytuple = tuple04 * 4\n",
    "mytuple"
   ]
  },
  {
   "cell_type": "code",
   "execution_count": null,
   "id": "bc7386c0",
   "metadata": {},
   "outputs": [],
   "source": [
    "# swap 기법 : 서로 다른 두 변수의 값을 바꾸는 알고리즘\n",
    "a,b = 11,22\n",
    "a, b = b, a\n",
    "\n",
    "print('a={},b={}'.format(a,b))"
   ]
  },
  {
   "cell_type": "code",
   "execution_count": null,
   "id": "b8a93473",
   "metadata": {},
   "outputs": [],
   "source": [
    "# 인덱싱과 슬라이싱 역시 사용 가능합니다.\n",
    "mytuple = tuple04 + tuple05\n",
    "mytuple"
   ]
  },
  {
   "cell_type": "code",
   "execution_count": null,
   "id": "f20fef79",
   "metadata": {},
   "outputs": [],
   "source": [
    "mytuple[2]"
   ]
  },
  {
   "cell_type": "code",
   "execution_count": null,
   "id": "caf06160",
   "metadata": {},
   "outputs": [],
   "source": [
    "mytuple[1:4]"
   ]
  },
  {
   "cell_type": "code",
   "execution_count": null,
   "id": "9d806d9c",
   "metadata": {},
   "outputs": [],
   "source": [
    "# tuple은 요소의 값 변경을 허용하지 않습니다.\n",
    "mytuple[0] = '배'"
   ]
  },
  {
   "cell_type": "code",
   "execution_count": null,
   "id": "d9d34cb9",
   "metadata": {
    "scrolled": true
   },
   "outputs": [],
   "source": [
    "# tuple의 요소를 변경하는 절차\n",
    "# 1. list로 타입 변경\n",
    "# 2. 필요한 요소의 값을 수정하기\n",
    "# 3. 다시 tuple 타입 변경\n",
    "\n",
    "mylist = list(mytuple)\n",
    "mylist[0] = '배'\n",
    "mylist[1] = '딸기'\n",
    "mytuple = tuple(mylist)\n",
    "mytuple"
   ]
  },
  {
   "cell_type": "code",
   "execution_count": null,
   "id": "a5f5b0d0",
   "metadata": {},
   "outputs": [],
   "source": [
    "for item in mytuple:\n",
    "    print(item)"
   ]
  },
  {
   "cell_type": "code",
   "execution_count": null,
   "id": "720e75e2",
   "metadata": {},
   "outputs": [],
   "source": [
    "mytuple += ('바나나', '바나나')\n",
    "mytuple"
   ]
  },
  {
   "cell_type": "code",
   "execution_count": null,
   "id": "f9978d63",
   "metadata": {},
   "outputs": [],
   "source": [
    "finditem = '바나나'\n",
    "print('바나나 요소 개수 : ' + str(mytuple.count(finditem)))"
   ]
  },
  {
   "cell_type": "code",
   "execution_count": null,
   "id": "12541a68",
   "metadata": {},
   "outputs": [],
   "source": [
    "finditem = '체리'\n",
    "print('체리는 몇 번째 있나요?' + str(mytuple.index(finditem)) + '번재')"
   ]
  },
  {
   "cell_type": "markdown",
   "id": "a2ee6d3b",
   "metadata": {},
   "source": [
    "<h1>'테마 바꾸는 방법'<h1>"
   ]
  },
  {
   "cell_type": "code",
   "execution_count": null,
   "id": "5d64c8f9",
   "metadata": {},
   "outputs": [],
   "source": [
    "!pip install jupyterthemes"
   ]
  },
  {
   "cell_type": "code",
   "execution_count": null,
   "id": "4a04c1b3",
   "metadata": {},
   "outputs": [],
   "source": [
    "!jt -l"
   ]
  },
  {
   "cell_type": "code",
   "execution_count": null,
   "id": "3e64320e",
   "metadata": {},
   "outputs": [],
   "source": [
    "!jt -h"
   ]
  },
  {
   "cell_type": "code",
   "execution_count": null,
   "id": "3161e687",
   "metadata": {},
   "outputs": [],
   "source": [
    "!jt -t chesterish"
   ]
  },
  {
   "cell_type": "code",
   "execution_count": null,
   "id": "a6a3d96a",
   "metadata": {},
   "outputs": [],
   "source": [
    "!jt -t monokai -f bitstream -fs 13 -tf roboto -tfs 13 -nf opensans -nfs 13 -ofs 13 -cellw 100% -lineh 180 -T -N "
   ]
  },
  {
   "cell_type": "markdown",
   "id": "e4524e55",
   "metadata": {},
   "source": [
    "<h3>집합(set) 다루기</h3>"
   ]
  },
  {
   "cell_type": "code",
   "execution_count": null,
   "id": "c354d6c8",
   "metadata": {},
   "outputs": [],
   "source": [
    "fruits = {'사과','키위','복숭아','사과'}\n",
    "fruits # unordered, duplicates not allowed"
   ]
  },
  {
   "cell_type": "code",
   "execution_count": null,
   "id": "d476bc19",
   "metadata": {},
   "outputs": [],
   "source": [
    "fruits.add('오렌지')\n",
    "fruits"
   ]
  },
  {
   "cell_type": "code",
   "execution_count": null,
   "id": "4c52091c",
   "metadata": {},
   "outputs": [],
   "source": [
    "another = {'파인애플', '망고', '귤'}\n",
    "fruits.update(another)\n",
    "fruits"
   ]
  },
  {
   "cell_type": "code",
   "execution_count": null,
   "id": "c5662d98",
   "metadata": {},
   "outputs": [],
   "source": [
    "fruits.remove('망고')\n",
    "fruits"
   ]
  },
  {
   "cell_type": "code",
   "execution_count": null,
   "id": "50f05056",
   "metadata": {},
   "outputs": [],
   "source": [
    "print('과일 총 개수 : %d' % (len(fruits)))"
   ]
  },
  {
   "cell_type": "code",
   "execution_count": null,
   "id": "7250ab51",
   "metadata": {},
   "outputs": [],
   "source": [
    "finditem = '망고'\n",
    "if finditem in fruits :\n",
    "    print(finditem + '은(는) 목록에 들어 있습니다.')\n",
    "else :\n",
    "    print(finditem + '은(는) 목록에 들어 있지 않습니다.')"
   ]
  },
  {
   "cell_type": "code",
   "execution_count": null,
   "id": "ac0b7f95",
   "metadata": {},
   "outputs": [],
   "source": [
    "for item in fruits :\n",
    "    print(item)"
   ]
  },
  {
   "cell_type": "code",
   "execution_count": null,
   "id": "32ca34f6",
   "metadata": {},
   "outputs": [],
   "source": [
    "fruits.clear()"
   ]
  },
  {
   "cell_type": "code",
   "execution_count": null,
   "id": "da5d24be",
   "metadata": {},
   "outputs": [],
   "source": [
    "fruit01 = set(('사과','복숭아'))\n",
    "fruit02 = set(('키위','복숭아'))"
   ]
  },
  {
   "cell_type": "code",
   "execution_count": null,
   "id": "341a8428",
   "metadata": {},
   "outputs": [],
   "source": [
    "newset01 = fruit01.union(fruit02)\n",
    "newset01 # 합집합"
   ]
  },
  {
   "cell_type": "code",
   "execution_count": null,
   "id": "4691c0ed",
   "metadata": {},
   "outputs": [],
   "source": [
    "newset02 = fruit01.intersection(fruit02)\n",
    "newset02 # 교집합"
   ]
  },
  {
   "cell_type": "code",
   "execution_count": null,
   "id": "ddb59158",
   "metadata": {},
   "outputs": [],
   "source": [
    "newset031 = fruit01.difference(fruit02)\n",
    "newset031"
   ]
  },
  {
   "cell_type": "code",
   "execution_count": null,
   "id": "dd947da5",
   "metadata": {},
   "outputs": [],
   "source": [
    "newset032 = fruit02.difference(fruit01)\n",
    "newset032"
   ]
  },
  {
   "cell_type": "code",
   "execution_count": null,
   "id": "83b0b9cf",
   "metadata": {},
   "outputs": [],
   "source": [
    "if newset031 == newset032 :\n",
    "    print('교환 법칙 성립함')\n",
    "else :\n",
    "    print('교환 법칙 성립 안 함')"
   ]
  },
  {
   "cell_type": "code",
   "execution_count": null,
   "id": "a037a968",
   "metadata": {},
   "outputs": [],
   "source": [
    "newset04 = fruit01.symmetric_difference(fruit02)\n",
    "newset04"
   ]
  },
  {
   "cell_type": "code",
   "execution_count": null,
   "id": "6d2d5b21",
   "metadata": {},
   "outputs": [],
   "source": [
    "fruit01 = set(('사과','복숭아','키위','귤'))\n",
    "fruit02 = set(('키위','감'))\n",
    "fruit03 = set(('키위','귤'))"
   ]
  },
  {
   "cell_type": "code",
   "execution_count": null,
   "id": "b011d842",
   "metadata": {},
   "outputs": [],
   "source": [
    "result = fruit02.issubset(fruit01)\n",
    "result # fruit02의 과일들은 fruit01 에 모두 포함되어 있나요?"
   ]
  },
  {
   "cell_type": "code",
   "execution_count": null,
   "id": "6bb8b712",
   "metadata": {},
   "outputs": [],
   "source": [
    "result = fruit03.issubset(fruit01)\n",
    "result"
   ]
  },
  {
   "cell_type": "code",
   "execution_count": null,
   "id": "b4d10b27",
   "metadata": {
    "scrolled": true
   },
   "outputs": [],
   "source": [
    "result = fruit01.issubset(fruit03)\n",
    "result"
   ]
  },
  {
   "cell_type": "markdown",
   "id": "dfe61128",
   "metadata": {},
   "source": [
    "<h1>반복문<h1>"
   ]
  },
  {
   "cell_type": "markdown",
   "id": "f9ebb342",
   "metadata": {},
   "source": [
    "<h3>range() 함수</h3>"
   ]
  },
  {
   "cell_type": "code",
   "execution_count": null,
   "id": "27444722",
   "metadata": {},
   "outputs": [],
   "source": [
    "# range([start, ]stop[, step])"
   ]
  },
  {
   "cell_type": "code",
   "execution_count": null,
   "id": "b741be10",
   "metadata": {},
   "outputs": [],
   "source": [
    "for idx in range(3):\n",
    "    print(idx)"
   ]
  },
  {
   "cell_type": "code",
   "execution_count": null,
   "id": "cb6c4b7e",
   "metadata": {},
   "outputs": [],
   "source": [
    "for idx in range(1,3):\n",
    "    print(idx)"
   ]
  },
  {
   "cell_type": "code",
   "execution_count": null,
   "id": "30201e6b",
   "metadata": {},
   "outputs": [],
   "source": [
    "for idx in range(1,11,3):\n",
    "    print(idx)"
   ]
  },
  {
   "cell_type": "markdown",
   "id": "d814a4d6",
   "metadata": {},
   "source": [
    "<h3>for 반복문과 문자열 함수</h3>"
   ]
  },
  {
   "cell_type": "code",
   "execution_count": null,
   "id": "7936ae66",
   "metadata": {},
   "outputs": [],
   "source": [
    "mystring = 'What A Wonderful World'\n",
    "mystring"
   ]
  },
  {
   "cell_type": "code",
   "execution_count": null,
   "id": "6fb1928f",
   "metadata": {},
   "outputs": [],
   "source": [
    "mylist = mystring.split()\n",
    "mylist"
   ]
  },
  {
   "cell_type": "code",
   "execution_count": null,
   "id": "beaa7a8d",
   "metadata": {},
   "outputs": [],
   "source": [
    "print(type(mylist))"
   ]
  },
  {
   "cell_type": "code",
   "execution_count": null,
   "id": "911763f9",
   "metadata": {},
   "outputs": [],
   "source": [
    "for idx in range(len(mylist)):\n",
    "    if idx % 2 == 0 :\n",
    "        mylist[idx] = mylist[idx].upper()\n",
    "    else :\n",
    "        mylist[idx] = mylist[idx].lower()\n",
    "# end for\n",
    "\n",
    "mylist"
   ]
  },
  {
   "cell_type": "code",
   "execution_count": null,
   "id": "4f69e70b",
   "metadata": {},
   "outputs": [],
   "source": [
    "result = '#'.join(mylist)\n",
    "result"
   ]
  },
  {
   "cell_type": "code",
   "execution_count": null,
   "id": "3fd125b6",
   "metadata": {},
   "outputs": [],
   "source": [
    "mystring01 = 'To live or die that is the question'\n",
    "mystring01"
   ]
  },
  {
   "cell_type": "code",
   "execution_count": null,
   "id": "359b7e00",
   "metadata": {},
   "outputs": [],
   "source": [
    "mylist01 = mystring01.split()\n",
    "mylist01"
   ]
  },
  {
   "cell_type": "code",
   "execution_count": null,
   "id": "8f683e7f",
   "metadata": {},
   "outputs": [],
   "source": [
    "for idx in range(len(mylist01)):\n",
    "    if idx % 3 == 0 :\n",
    "        mylist01[idx] = mylist01[idx].upper()\n",
    "    elif idx % 3 == 1 :\n",
    "        mylist01[idx] = mylist01[idx].capitalize()\n",
    "    else :\n",
    "        mylist01[idx] = mylist01[idx].lower()\n",
    "#end for\n",
    "\n",
    "mylist01"
   ]
  },
  {
   "cell_type": "code",
   "execution_count": null,
   "id": "297044fd",
   "metadata": {},
   "outputs": [],
   "source": [
    "result = '@'.join(mylist01)\n",
    "result"
   ]
  },
  {
   "cell_type": "markdown",
   "id": "5d9524c1",
   "metadata": {},
   "source": [
    "<h3>while 반복문</h3>"
   ]
  },
  {
   "cell_type": "code",
   "execution_count": 1,
   "id": "7265e434",
   "metadata": {},
   "outputs": [
    {
     "name": "stdout",
     "output_type": "stream",
     "text": [
      "우유 판매 가능 수량 : 3\n",
      "단가 : 1000\n"
     ]
    }
   ],
   "source": [
    "# 재고 소진시 까지 판매하기\n",
    "# 개인 컵 가져 오면 100원 할인하기\n",
    "product = '우유'\n",
    "bottle = 3 # 판매 가능 수량\n",
    "price = 1000 # 단가\n",
    "discount = 100 # 개인 컵 있으면 할인 금액\n",
    "\n",
    "print('%s 판매 가능 수량 : %d' % (product, bottle))\n",
    "print('단가 : %d' % (price))"
   ]
  },
  {
   "cell_type": "code",
   "execution_count": null,
   "id": "a0722873",
   "metadata": {},
   "outputs": [],
   "source": [
    "while True :\n",
    "    money = int(input('돈을 넣어 주세요 :'))\n",
    "    if money == price :\n",
    "        print('%s 1병을 판매합니다.' % (product))\n",
    "        bottle -= 1\n",
    "        \n",
    "    elif money > price :\n",
    "        print('%s 1병을 판매합니다.' % (product))\n",
    "        bottle -= 1\n",
    "        change = money - price\n",
    "        print('거스름 돈 %d원을 돌려 줍니다.' % (change))\n",
    "    else :\n",
    "        print('금액이 부족하여 %s를 판매할 수 없습니다.' % (product))\n",
    "    \n",
    "# end if\n",
    "    \n",
    "    if bottle == 0 :\n",
    "        print('%s가(이) 소진되어서 판매를 중지합니다.' % (product))\n",
    "        break\n",
    "# while True"
   ]
  },
  {
   "cell_type": "code",
   "execution_count": null,
   "id": "a9fcebe4",
   "metadata": {
    "scrolled": true
   },
   "outputs": [],
   "source": [
    "while True :\n",
    "    money = int(input('돈을 넣어 주세요 :'))\n",
    "    \n",
    "    # 프로그래밍에서 0은 거짓, 0이 아니면 True 입니다.\n",
    "    hasMyCup = bool(int(input('개인 컵이 있나요? (있음(1),없음(0))')))\n",
    "    \n",
    "    if money == price :\n",
    "        print('%s 1병을 판매합니다.' % (product))\n",
    "        bottle -= 1\n",
    "        if hasMyCup :\n",
    "                change = discount\n",
    "        print('거스름 돈 %d원을 돌려 줍니다.' % (change))\n",
    "        \n",
    "    elif money > price :\n",
    "        print('%s 1병을 판매합니다.' % (product))\n",
    "        bottle -= 1\n",
    "        change = money - price\n",
    "        if hasMyCup :\n",
    "            change += discount\n",
    "        print('거스름 돈 %d원을 돌려 줍니다.' % (change))\n",
    "        \n",
    "    else :\n",
    "        print('금액이 부족하여 %s를 판매할 수 없습니다.' % (product))\n",
    "    \n",
    "# end if\n",
    "    \n",
    "    if bottle == 0 :\n",
    "        print('%s가(이) 소진되어서 판매를 중지합니다.' % (product))\n",
    "        break\n",
    "    else : \n",
    "        print('bottle = ' + str(bottle))\n",
    "# while True"
   ]
  },
  {
   "cell_type": "markdown",
   "id": "9eefbb3a",
   "metadata": {},
   "source": [
    "<h3>List comprehension</h3>"
   ]
  },
  {
   "cell_type": "code",
   "execution_count": null,
   "id": "15e1fc39",
   "metadata": {},
   "outputs": [],
   "source": [
    "# Comprehension은 반복문 등을 사용하여 iterable(반복이 가능한) 객체를 생성해주는 문법"
   ]
  },
  {
   "cell_type": "code",
   "execution_count": 3,
   "id": "bbe4ce95",
   "metadata": {},
   "outputs": [
    {
     "data": {
      "text/plain": [
       "[1, 2, 3, 4, 5]"
      ]
     },
     "execution_count": 3,
     "metadata": {},
     "output_type": "execute_result"
    }
   ],
   "source": [
    "mylist01 = [item for item in range(1,6)]\n",
    "mylist01"
   ]
  },
  {
   "cell_type": "code",
   "execution_count": 6,
   "id": "86d3355a",
   "metadata": {},
   "outputs": [
    {
     "data": {
      "text/plain": [
       "[1, 4, 9, 16, 25]"
      ]
     },
     "execution_count": 6,
     "metadata": {},
     "output_type": "execute_result"
    }
   ],
   "source": [
    "mylist02 = [item**2 for item in range(1,6)]\n",
    "mylist02"
   ]
  },
  {
   "cell_type": "code",
   "execution_count": 8,
   "id": "6a0fd519",
   "metadata": {},
   "outputs": [
    {
     "data": {
      "text/plain": [
       "[2, 4]"
      ]
     },
     "execution_count": 8,
     "metadata": {},
     "output_type": "execute_result"
    }
   ],
   "source": [
    "mylist03 = [idx for idx in range(1,6) if idx%2 == 0]\n",
    "mylist03"
   ]
  },
  {
   "cell_type": "code",
   "execution_count": 10,
   "id": "e5b72e91",
   "metadata": {},
   "outputs": [
    {
     "data": {
      "text/plain": [
       "['김유식님', '이준수님', '홍기영님', '박진희님', '류지은님', '노유정님', '박지만님']"
      ]
     },
     "execution_count": 10,
     "metadata": {},
     "output_type": "execute_result"
    }
   ],
   "source": [
    "humans = ['김유식','이준수','홍기영','박진희','류지은','노유정','박지만']\n",
    "mylist04 = [saram + '님' for saram in humans]\n",
    "mylist04"
   ]
  },
  {
   "cell_type": "code",
   "execution_count": 14,
   "id": "5025f725",
   "metadata": {},
   "outputs": [
    {
     "data": {
      "text/plain": [
       "['이준수', '류지은']"
      ]
     },
     "execution_count": 14,
     "metadata": {},
     "output_type": "execute_result"
    }
   ],
   "source": [
    "mylist05 = [humans[idx]for idx in range(len(humans)) if idx % 3 == 1]\n",
    "mylist05"
   ]
  },
  {
   "cell_type": "markdown",
   "id": "74512b01",
   "metadata": {},
   "source": [
    "<h3>Dict comprehension</h3>"
   ]
  },
  {
   "cell_type": "code",
   "execution_count": 16,
   "id": "3bfa0c6a",
   "metadata": {},
   "outputs": [
    {
     "data": {
      "text/plain": [
       "{'키위': 30, '사과': 20, '복숭아': 50}"
      ]
     },
     "execution_count": 16,
     "metadata": {},
     "output_type": "execute_result"
    }
   ],
   "source": [
    "fruits = ['키위', '사과', '복숭아']\n",
    "stock = [30,20,50]\n",
    "\n",
    "mydict01 = {key:value for key, value in zip(fruits, stock)}\n",
    "mydict01"
   ]
  },
  {
   "cell_type": "code",
   "execution_count": 17,
   "id": "b4216d08",
   "metadata": {},
   "outputs": [
    {
     "data": {
      "text/plain": [
       "[('오렌지', 10), ('귤', 20), ('망고', 30)]"
      ]
     },
     "execution_count": 17,
     "metadata": {},
     "output_type": "execute_result"
    }
   ],
   "source": [
    "fruit_tuples = [('오렌지',10),('귤',20),('망고',30)]\n",
    "fruit_tuples"
   ]
  },
  {
   "cell_type": "code",
   "execution_count": 20,
   "id": "03038ab0",
   "metadata": {},
   "outputs": [
    {
     "data": {
      "text/plain": [
       "{'귤': 20, '망고': 30}"
      ]
     },
     "execution_count": 20,
     "metadata": {},
     "output_type": "execute_result"
    }
   ],
   "source": [
    "mydict02 = {item[0]:item[1] for item in fruit_tuples if item[1] >= 20}\n",
    "mydict02"
   ]
  },
  {
   "cell_type": "markdown",
   "id": "f3258d96",
   "metadata": {},
   "source": [
    "<h3>Set comprehension</h3>"
   ]
  },
  {
   "cell_type": "code",
   "execution_count": 28,
   "id": "0d563e52",
   "metadata": {},
   "outputs": [
    {
     "data": {
      "text/plain": [
       "[1, 2, 3, 4]"
      ]
     },
     "execution_count": 28,
     "metadata": {},
     "output_type": "execute_result"
    }
   ],
   "source": [
    "mylist = [4,1,3,2,3,1]\n",
    "mydict = {item for item in mylist}\n",
    "newlist = [item for item in mydict]\n",
    "newlist"
   ]
  },
  {
   "cell_type": "code",
   "execution_count": 31,
   "id": "f69a8a1d",
   "metadata": {},
   "outputs": [
    {
     "name": "stdout",
     "output_type": "stream",
     "text": [
      "The existing list is:\n",
      "[1, 2, 3, 4, 5, 6, 7, 8, 9, 10]\n",
      "The Newly Created set is:\n",
      "{<class 'list'>}\n"
     ]
    }
   ],
   "source": [
    "mylist = [item for item in range(1,11)]\n",
    "newSet = {list for item in mylist if item % 2 == 0}\n",
    "\n",
    "print('The existing list is:')\n",
    "print(mylist)\n",
    "print('The Newly Created set is:')\n",
    "print(newSet)"
   ]
  },
  {
   "cell_type": "code",
   "execution_count": null,
   "id": "c17a317b",
   "metadata": {},
   "outputs": [],
   "source": []
  },
  {
   "cell_type": "code",
   "execution_count": null,
   "id": "cd8b5316",
   "metadata": {},
   "outputs": [],
   "source": []
  }
 ],
 "metadata": {
  "kernelspec": {
   "display_name": "Python 3 (ipykernel)",
   "language": "python",
   "name": "python3"
  },
  "language_info": {
   "codemirror_mode": {
    "name": "ipython",
    "version": 3
   },
   "file_extension": ".py",
   "mimetype": "text/x-python",
   "name": "python",
   "nbconvert_exporter": "python",
   "pygments_lexer": "ipython3",
   "version": "3.11.2"
  }
 },
 "nbformat": 4,
 "nbformat_minor": 5
}
