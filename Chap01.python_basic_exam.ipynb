{
 "cells": [
  {
   "cell_type": "markdown",
   "id": "ddb51b5d",
   "metadata": {},
   "source": [
    "<h1>데이터 타입과 입출력</h1>"
   ]
  },
  {
   "cell_type": "markdown",
   "id": "b20f81e5",
   "metadata": {},
   "source": [
    "<h3><font color=\"green\">입출력 함수 사용하기</font></h3>"
   ]
  },
  {
   "cell_type": "code",
   "execution_count": null,
   "id": "c581f247",
   "metadata": {},
   "outputs": [],
   "source": [
    "# 이름과 나이를 입력 받아서, 5년 뒤의 나이를 출력하는 프로그램을 작성하세요"
   ]
  },
  {
   "cell_type": "code",
   "execution_count": 1,
   "id": "2d97974b",
   "metadata": {},
   "outputs": [
    {
     "name": "stdout",
     "output_type": "stream",
     "text": [
      "이름 입력 : 김철수\n",
      "현재 나이 입력 : 23\n"
     ]
    }
   ],
   "source": [
    "name = input('이름 입력 : ')\n",
    "age = int(input('현재 나이 입력 : '))"
   ]
  },
  {
   "cell_type": "code",
   "execution_count": 2,
   "id": "4c949da7",
   "metadata": {},
   "outputs": [
    {
     "name": "stdout",
     "output_type": "stream",
     "text": [
      "이름 : 김철수\n",
      "5년 후 나이 : 28\n"
     ]
    }
   ],
   "source": [
    "print('이름 : %s' % (name))\n",
    "print('5년 후 나이 : %s' % (age + 5))"
   ]
  },
  {
   "cell_type": "code",
   "execution_count": 3,
   "id": "13cd180b",
   "metadata": {},
   "outputs": [],
   "source": [
    "# 상품의 이름과 가격 및 할인율을 입력 받으세요.\n",
    "# 이름 및 원가 및 할인 된 금액을 출력해보세요."
   ]
  },
  {
   "cell_type": "code",
   "execution_count": 5,
   "id": "356baa34",
   "metadata": {},
   "outputs": [
    {
     "name": "stdout",
     "output_type": "stream",
     "text": [
      "상품 이름 : 안경\n",
      "가격 : 5000\n",
      "할인율 : 10\n",
      "안경의 원가는 5000이고, 할인 된 금액은4500.0 입니다.\n"
     ]
    }
   ],
   "source": [
    "product = input('상품 이름 : ')\n",
    "price = int(input('가격 : '))\n",
    "discount = int(input('할인율 : '))\n",
    "message = '{}의 원가는 {}이고, 할인 된 금액은{} 입니다.'\n",
    "print(message.format(product, price,price-price/discount))"
   ]
  },
  {
   "cell_type": "code",
   "execution_count": null,
   "id": "f7d67c77",
   "metadata": {},
   "outputs": [],
   "source": [
    "# 정수 1개를 입력 받아서, 3의 배수인지 아닌지를 판단해 보세요."
   ]
  },
  {
   "cell_type": "code",
   "execution_count": 6,
   "id": "d403a087",
   "metadata": {},
   "outputs": [
    {
     "name": "stdout",
     "output_type": "stream",
     "text": [
      "점수 입력 : 90\n"
     ]
    }
   ],
   "source": [
    "jumsu = int(input('점수 입력 : '))"
   ]
  },
  {
   "cell_type": "code",
   "execution_count": 13,
   "id": "91c4a059",
   "metadata": {},
   "outputs": [],
   "source": [
    "if jumsu %3 == 0 :\n",
    "    result = '3의 배수'\n",
    "else :\n",
    "    result = '3의 배수가 아니다.'"
   ]
  },
  {
   "cell_type": "code",
   "execution_count": 14,
   "id": "65b8be63",
   "metadata": {},
   "outputs": [
    {
     "name": "stdout",
     "output_type": "stream",
     "text": [
      "90는 3의 배수\n"
     ]
    }
   ],
   "source": [
    "message = '{}는 {}'\n",
    "print(message.format(jumsu, result))"
   ]
  },
  {
   "cell_type": "code",
   "execution_count": null,
   "id": "b48b2de9",
   "metadata": {},
   "outputs": [],
   "source": [
    "# 이름과 급여를 입력 받아서, 연봉이 어느 등급인지 판단해 보세요.\n",
    "# 연봉 = 급여 * 12\n",
    "# 연봉이 5000 이상이면 'A', 3000 이상이면 'B', 3000 미만이면 'C'로 분류해 보세요"
   ]
  },
  {
   "cell_type": "code",
   "execution_count": 25,
   "id": "b6165ba8",
   "metadata": {},
   "outputs": [
    {
     "name": "stdout",
     "output_type": "stream",
     "text": [
      "이름 입력 : 홍\n",
      "급여 입력 : 500\n"
     ]
    }
   ],
   "source": [
    "name = input('이름 입력 : ')\n",
    "pay = int(input('급여 입력 : '))\n",
    "salary = pay * 12"
   ]
  },
  {
   "cell_type": "code",
   "execution_count": 26,
   "id": "33ab4b4d",
   "metadata": {},
   "outputs": [],
   "source": [
    "if salary >= 5000 :\n",
    "    grade = 'A'\n",
    "elif salary >= 3000 :\n",
    "    grade = 'B'\n",
    "else : \n",
    "    grade = 'C'"
   ]
  },
  {
   "cell_type": "code",
   "execution_count": null,
   "id": "01586aea",
   "metadata": {},
   "outputs": [],
   "source": [
    "# 콤마 넣기 : print(format(숫자, ',''))"
   ]
  },
  {
   "cell_type": "code",
   "execution_count": 33,
   "id": "5b2bef10",
   "metadata": {
    "scrolled": false
   },
   "outputs": [
    {
     "name": "stdout",
     "output_type": "stream",
     "text": [
      "홍의 연봉은 6,000 이며, 등급은 A 입니다.\n"
     ]
    }
   ],
   "source": [
    "message = '{}의 연봉은 {} 이며, 등급은 {} 입니다.'\n",
    "print(message.format(name, format(salary,','), grade))"
   ]
  },
  {
   "cell_type": "markdown",
   "id": "81a54400",
   "metadata": {},
   "source": [
    "<h1>집합 자료형</h1>"
   ]
  },
  {
   "cell_type": "markdown",
   "id": "56b9b82a",
   "metadata": {},
   "source": [
    "<h3><font color=\"green\">리스트 실습</font></h3>"
   ]
  },
  {
   "cell_type": "code",
   "execution_count": 34,
   "id": "c2408177",
   "metadata": {},
   "outputs": [],
   "source": [
    "# + 기호를 사용하면 list를 합칠 수 있습니다.\n",
    "# 인덱스 값을 3으로 나누었을 때 나머지가 1인 요소들만 출력해 보세요.\n",
    "list_a = ['최용대', '신성헌', '이원조']\n",
    "list_b = ['윤미래', '강나리', '황진숙']"
   ]
  },
  {
   "cell_type": "code",
   "execution_count": 36,
   "id": "bde20ec4",
   "metadata": {},
   "outputs": [
    {
     "data": {
      "text/plain": [
       "(['최용대', '신성헌', '이원조'], ['윤미래', '강나리', '황진숙'])"
      ]
     },
     "execution_count": 36,
     "metadata": {},
     "output_type": "execute_result"
    }
   ],
   "source": [
    "list_a, list_b"
   ]
  },
  {
   "cell_type": "code",
   "execution_count": 48,
   "id": "9083bb45",
   "metadata": {
    "scrolled": true
   },
   "outputs": [
    {
     "name": "stdout",
     "output_type": "stream",
     "text": [
      "<class 'list'>\n",
      "<class 'list'>\n",
      "요소개수 : 6\n",
      "['신성헌', '강나리']\n"
     ]
    }
   ],
   "source": [
    "print(type(list_a))\n",
    "print(type(list_b))\n",
    "length = len(list_a + list_b)\n",
    "print('요소개수 : {}'.format(str(length)))\n",
    "\n",
    "\n",
    "newlist = list_a + list_b\n",
    "print(newlist[1::3])"
   ]
  },
  {
   "cell_type": "markdown",
   "id": "9f9cf60f",
   "metadata": {},
   "source": [
    "<h3><font color=\"green\">사전 실습</font></h3>"
   ]
  },
  {
   "cell_type": "code",
   "execution_count": 52,
   "id": "204b291e",
   "metadata": {},
   "outputs": [],
   "source": [
    "# 다음 사전에서 '영어'를 제외한 시험 점수들의 총합을 구해 보세요.\n",
    "dictionary = {'kor':85,'eng':70,'math':50}"
   ]
  },
  {
   "cell_type": "code",
   "execution_count": 53,
   "id": "62a9b309",
   "metadata": {},
   "outputs": [
    {
     "name": "stdout",
     "output_type": "stream",
     "text": [
      "총합 : 135\n"
     ]
    }
   ],
   "source": [
    "total = 0\n",
    "for key in dictionary.keys():\n",
    "    if key != 'eng':\n",
    "        total += dictionary[key]\n",
    "        \n",
    "print('총합 : %d' % (total))"
   ]
  },
  {
   "cell_type": "markdown",
   "id": "36e0fe40",
   "metadata": {},
   "source": [
    "<h3><font color=\"green\">튜폴 실습</font></h3>"
   ]
  },
  {
   "cell_type": "code",
   "execution_count": 2,
   "id": "41b63411",
   "metadata": {},
   "outputs": [
    {
     "data": {
      "text/plain": [
       "{'딸기': 10, '토마토': 20, '오렌지': 30}"
      ]
     },
     "execution_count": 2,
     "metadata": {},
     "output_type": "execute_result"
    }
   ],
   "source": [
    "# 다음 데이터를 사전으로 변경해 보세요\n",
    "fruits = [('딸기',10),('토마토',20),('오렌지',30)]\n",
    "\n",
    "dictionary = {'딸기':10, '토마토':20, '오렌지':30}\n",
    "\n",
    "dictionary\n",
    "\n",
    "# 최종 결과 : dictionary = {'딸기' : 10, '토마토' : 20, '오렌지' : 30}"
   ]
  },
  {
   "cell_type": "markdown",
   "id": "f4efd785",
   "metadata": {},
   "source": [
    "<h3><font color=\"green\">List comprehension</font></h3>"
   ]
  },
  {
   "cell_type": "code",
   "execution_count": 2,
   "id": "5f3407b8",
   "metadata": {},
   "outputs": [],
   "source": [
    "# 75점 이상만 추출해 보세요.\n",
    "jumsu = [75,80,60,55,90,70]"
   ]
  },
  {
   "cell_type": "code",
   "execution_count": 10,
   "id": "75b968b4",
   "metadata": {},
   "outputs": [
    {
     "data": {
      "text/plain": [
       "[75, 80, 90]"
      ]
     },
     "execution_count": 10,
     "metadata": {},
     "output_type": "execute_result"
    }
   ],
   "source": [
    "newjumsu = [val for val in jumsu if val >= 75]\n",
    "newjumsu"
   ]
  },
  {
   "cell_type": "markdown",
   "id": "72350895",
   "metadata": {},
   "source": [
    "<h3><font color=\"green\">Dict comprehension</font></h3>"
   ]
  },
  {
   "cell_type": "code",
   "execution_count": 11,
   "id": "07ed6cfd",
   "metadata": {},
   "outputs": [],
   "source": [
    "# 다음과 zip() 함수를 이용하여 사전을 만들어 보세요.\n",
    "students = ['이현철', '김소현', '유순실', '김기현']\n",
    "jumsu = [80, 60, 70, 90]"
   ]
  },
  {
   "cell_type": "code",
   "execution_count": 17,
   "id": "9f576e82",
   "metadata": {},
   "outputs": [
    {
     "data": {
      "text/plain": [
       "{'이현철': 80, '김기현': 90}"
      ]
     },
     "execution_count": 17,
     "metadata": {},
     "output_type": "execute_result"
    }
   ],
   "source": [
    "mydict01 = {key:value for key, value in zip(students, jumsu) if value >= 75}\n",
    "mydict01"
   ]
  },
  {
   "cell_type": "code",
   "execution_count": 15,
   "id": "ff35286d",
   "metadata": {},
   "outputs": [
    {
     "data": {
      "text/plain": [
       "[('손흥민', 80), ('이강인', 90), ('홀란드', 100)]"
      ]
     },
     "execution_count": 15,
     "metadata": {},
     "output_type": "execute_result"
    }
   ],
   "source": [
    "stu_tuple = [('손흥민',80),('이강인',90),('홀란드',100)]\n",
    "stu_tuple"
   ]
  },
  {
   "cell_type": "code",
   "execution_count": 16,
   "id": "00ce7cab",
   "metadata": {},
   "outputs": [
    {
     "data": {
      "text/plain": [
       "{'손흥민': 80, '이강인': 90, '홀란드': 100}"
      ]
     },
     "execution_count": 16,
     "metadata": {},
     "output_type": "execute_result"
    }
   ],
   "source": [
    "mydict02 = {item[0]:item[1] for item in stu_tuple if item[1] >= 80}\n",
    "mydict02"
   ]
  },
  {
   "cell_type": "code",
   "execution_count": 18,
   "id": "add6d8b3",
   "metadata": {},
   "outputs": [],
   "source": [
    "'''   <- 전체 주석처리\n",
    "문제01\n",
    "# bottle = 5로 변경하시고,\n",
    "# 입금한 금액 만큼 한번에 여러 잔을 판매 가능 하도록 변경해 보세요.\n",
    "\n",
    "# 문제02\n",
    "# range, if 등등\n",
    "# 1부터 50까지의 정수와 comprehension을 사용하여 다음을 구해 보세요.\n",
    "# A=408=3의 배수의 총합\n",
    "# B=867=3의 배수가 아닌 수의 총합\n",
    "\n",
    "# A-B = 459\n",
    "\n",
    "# 힌트 \n",
    "# mylist = [10, 20, 30]\n",
    "# 내장 함수 sum(mylist) 사용\n",
    "'''"
   ]
  },
  {
   "cell_type": "code",
   "execution_count": 1,
   "id": "7d25da5e",
   "metadata": {},
   "outputs": [
    {
     "name": "stdout",
     "output_type": "stream",
     "text": [
      "우유 판매 가능 수량 : 5\n",
      "단가 : 1000\n"
     ]
    }
   ],
   "source": [
    "# 재고 소진시 까지 판매하기\n",
    "# 개인 컵 가져 오면 100원 할인하기\n",
    "product = '우유'\n",
    "bottle = 5 # 판매 가능 수량\n",
    "price = 1000 # 단가\n",
    "discount = 100 # 개인 컵 있으면 할인 금액\n",
    "\n",
    "print('%s 판매 가능 수량 : %d' % (product, bottle))\n",
    "print('단가 : %d' % (price))"
   ]
  },
  {
   "cell_type": "code",
   "execution_count": 2,
   "id": "7e512a9a",
   "metadata": {},
   "outputs": [
    {
     "name": "stdout",
     "output_type": "stream",
     "text": [
      "돈을 넣어 주세요 :5000\n",
      "가진 돈 만큼 우유 5병을 판매합니다.\n",
      "거스름 돈 4000원을 돌려 줍니다.\n",
      "돈을 넣어 주세요 :3000\n",
      "가진 돈 만큼 우유 4병을 판매합니다.\n",
      "거스름 돈 2000원을 돌려 줍니다.\n",
      "돈을 넣어 주세요 :5000\n",
      "가진 돈 만큼 우유 3병을 판매합니다.\n",
      "거스름 돈 4000원을 돌려 줍니다.\n",
      "돈을 넣어 주세요 :6000\n",
      "가진 돈 만큼 우유 2병을 판매합니다.\n",
      "거스름 돈 5000원을 돌려 줍니다.\n",
      "돈을 넣어 주세요 :60000\n",
      "가진 돈 만큼 우유 1병을 판매합니다.\n",
      "거스름 돈 59000원을 돌려 줍니다.\n",
      "우유가(이) 소진되어서 판매를 중지합니다.\n"
     ]
    }
   ],
   "source": [
    "while True :\n",
    "    money = int(input('돈을 넣어 주세요 :'))\n",
    "    \n",
    "    if money == price :\n",
    "        print('%s 1병을 판매합니다.' % (product))\n",
    "        bottle -= 1\n",
    "            change = discount\n",
    "        print('거스름 돈 %d원을 돌려 줍니다.' % (change))\n",
    "        \n",
    "    elif money > price :\n",
    "        mybottle = int(money/price) # 내가 구매할 수 있는 병 개수\n",
    "        if mybottle > bottle :\n",
    "            mybottle = bottle\n",
    "        \n",
    "            change += discount\n",
    "        print('거스름 돈 %d원을 돌려 줍니다.' % (change))\n",
    "        \n",
    "    else :\n",
    "        print('금액이 부족하여 %s를 판매할 수 없습니다.' % (product))\n",
    "    \n",
    "# end if\n",
    "    \n",
    "    if bottle == 0 :\n",
    "        print('%s가(이) 소진되어서 판매를 중지합니다.' % (product))\n",
    "        break\n",
    "    else : \n",
    "        print('bottle = ' + str(bottle))\n",
    "# while True"
   ]
  },
  {
   "cell_type": "code",
   "execution_count": 26,
   "id": "71647431",
   "metadata": {},
   "outputs": [
    {
     "data": {
      "text/plain": [
       "459"
      ]
     },
     "execution_count": 26,
     "metadata": {},
     "output_type": "execute_result"
    }
   ],
   "source": [
    "# 문제 02 풀이\n",
    "mylist = [item for item in range(1,51)]\n",
    "A = [idx for idx in mylist if idx % 3 == 0]\n",
    "B = [idx for idx in mylist if idx % 3 != 0]\n",
    "result = sum(B) - sum(A)\n",
    "result"
   ]
  },
  {
   "cell_type": "code",
   "execution_count": null,
   "id": "a3371965",
   "metadata": {},
   "outputs": [],
   "source": []
  },
  {
   "cell_type": "code",
   "execution_count": null,
   "id": "b5fded74",
   "metadata": {},
   "outputs": [],
   "source": []
  },
  {
   "cell_type": "code",
   "execution_count": null,
   "id": "c33f4569",
   "metadata": {},
   "outputs": [],
   "source": []
  },
  {
   "cell_type": "code",
   "execution_count": null,
   "id": "f0a9c244",
   "metadata": {},
   "outputs": [],
   "source": []
  }
 ],
 "metadata": {
  "kernelspec": {
   "display_name": "Python 3 (ipykernel)",
   "language": "python",
   "name": "python3"
  },
  "language_info": {
   "codemirror_mode": {
    "name": "ipython",
    "version": 3
   },
   "file_extension": ".py",
   "mimetype": "text/x-python",
   "name": "python",
   "nbconvert_exporter": "python",
   "pygments_lexer": "ipython3",
   "version": "3.11.2"
  }
 },
 "nbformat": 4,
 "nbformat_minor": 5
}
