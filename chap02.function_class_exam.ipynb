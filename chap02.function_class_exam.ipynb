{
 "cells": [
  {
   "cell_type": "markdown",
   "id": "917ae961",
   "metadata": {},
   "source": [
    "<h1>내장 함수</font></h1>"
   ]
  },
  {
   "cell_type": "markdown",
   "id": "7eb37b7a",
   "metadata": {},
   "source": [
    "<h4><font color=\"orange\">max()와 min() 함수</font></h4>"
   ]
  },
  {
   "cell_type": "code",
   "execution_count": 1,
   "id": "b6623532",
   "metadata": {},
   "outputs": [],
   "source": [
    "# 다음 사전에서 가장 높은 점수와 가장 낮은 점수는 몇 점인가요?\n",
    "# 내장 함수 max()와 min() 함수를 적절히 사용하면 됩니다.\n",
    "students = {'이현식':75, '김현도':80, '유지강':60, '최윤희':90}"
   ]
  },
  {
   "cell_type": "code",
   "execution_count": 4,
   "id": "076f4e11",
   "metadata": {},
   "outputs": [
    {
     "data": {
      "text/plain": [
       "['김현도', '유지강', '이현식', '최윤희']"
      ]
     },
     "execution_count": 4,
     "metadata": {},
     "output_type": "execute_result"
    }
   ],
   "source": [
    "result = sorted(students)\n",
    "result"
   ]
  },
  {
   "cell_type": "code",
   "execution_count": 7,
   "id": "20f5f710",
   "metadata": {},
   "outputs": [
    {
     "data": {
      "text/plain": [
       "['최윤희', '이현식', '유지강', '김현도']"
      ]
     },
     "execution_count": 7,
     "metadata": {},
     "output_type": "execute_result"
    }
   ],
   "source": [
    "result = sorted(students, reverse = True)\n",
    "result"
   ]
  },
  {
   "cell_type": "code",
   "execution_count": 8,
   "id": "3e987d94",
   "metadata": {},
   "outputs": [
    {
     "data": {
      "text/plain": [
       "[90, 80, 75, 60]"
      ]
     },
     "execution_count": 8,
     "metadata": {},
     "output_type": "execute_result"
    }
   ],
   "source": [
    "data = sorted(students.values(), reverse = True)\n",
    "data"
   ]
  },
  {
   "cell_type": "code",
   "execution_count": 18,
   "id": "821df964",
   "metadata": {},
   "outputs": [
    {
     "data": {
      "text/plain": [
       "90"
      ]
     },
     "execution_count": 18,
     "metadata": {},
     "output_type": "execute_result"
    }
   ],
   "source": [
    "result = max(students.values())\n",
    "result"
   ]
  },
  {
   "cell_type": "code",
   "execution_count": 36,
   "id": "6706ac2d",
   "metadata": {},
   "outputs": [
    {
     "data": {
      "text/plain": [
       "60"
      ]
     },
     "execution_count": 36,
     "metadata": {},
     "output_type": "execute_result"
    }
   ],
   "source": [
    "result = min(students.values())\n",
    "result"
   ]
  },
  {
   "cell_type": "code",
   "execution_count": 43,
   "id": "b9221524",
   "metadata": {},
   "outputs": [
    {
     "name": "stdout",
     "output_type": "stream",
     "text": [
      "최댓값 : 90점, 최솟값 : 60점\n"
     ]
    }
   ],
   "source": [
    "maxval, minval = max(students.values()), min(students.values())\n",
    "message = '최댓값 : %d점, 최솟값 : %d점'\n",
    "print(message % (maxval,minval))"
   ]
  },
  {
   "cell_type": "markdown",
   "id": "7b7a46ec",
   "metadata": {},
   "source": [
    "<h4><font color=\"orange\">enumerate 함수</font></h4>"
   ]
  },
  {
   "cell_type": "code",
   "execution_count": 45,
   "id": "f0e093d1",
   "metadata": {},
   "outputs": [
    {
     "data": {
      "text/plain": [
       "[(0, 'apple'), (1, 'banana'), (2, 'cherry')]"
      ]
     },
     "execution_count": 45,
     "metadata": {},
     "output_type": "execute_result"
    }
   ],
   "source": [
    "# 다음 문장을 이용하여 출력 결과 처럼 만들어 보세요.\n",
    "fruits = ('apple', 'banana', 'cherry')\n",
    "enum = enumerate(fruits)\n",
    "mylist = (list(enum))\n",
    "mylist\n",
    "# 출력 결과 : {'apple':10, 'banana':20, cherry':30}"
   ]
  },
  {
   "cell_type": "code",
   "execution_count": 56,
   "id": "7eb2eb1a",
   "metadata": {},
   "outputs": [
    {
     "data": {
      "text/plain": [
       "{'apple': 10, 'banana': 20, 'cherry': 30}"
      ]
     },
     "execution_count": 56,
     "metadata": {},
     "output_type": "execute_result"
    }
   ],
   "source": [
    "newdict = {item[1] : 10 * (item[0] + 1) for item in mylist}\n",
    "newdict"
   ]
  },
  {
   "cell_type": "markdown",
   "id": "d3cf8042",
   "metadata": {},
   "source": [
    "<h4><font color=\"orange\">zip() 함수</font></h4>"
   ]
  },
  {
   "cell_type": "code",
   "execution_count": 24,
   "id": "bea939a7",
   "metadata": {},
   "outputs": [],
   "source": [
    "ids = [1001, 1002, 1003]\n",
    "names = ['김현도', '유지강', '최윤희']\n",
    "ages = [10, 30, 20]\n",
    "genders = ['남자', '남자', '여자']"
   ]
  },
  {
   "cell_type": "code",
   "execution_count": 2,
   "id": "799645a1",
   "metadata": {},
   "outputs": [],
   "source": [
    "# zip() 함수를 사용하되 다음과 같은 형식으로 출력해 보세요.\n",
    "# 아이디 : 1001, 이름 : 김현도, 나이 : 10, 성별 : 남자"
   ]
  },
  {
   "cell_type": "code",
   "execution_count": 21,
   "id": "3766ce62",
   "metadata": {},
   "outputs": [],
   "source": [
    "# zip() 함수를 사용하되 위의 문제에서 나이가 20세 이상인 사람만 출력해보세요."
   ]
  },
  {
   "cell_type": "code",
   "execution_count": 55,
   "id": "b7109b0d",
   "metadata": {},
   "outputs": [
    {
     "name": "stdout",
     "output_type": "stream",
     "text": [
      "아이디 : 1002, 이름 : 유지강, 나이 : 30, 성별 : 남자\n",
      "아이디 : 1003, 이름 : 최윤희, 나이 : 20, 성별 : 여자\n"
     ]
    }
   ],
   "source": [
    "for id, name, age, gender in zip(ids, names, ages, genders):\n",
    "    if age >= 20 :\n",
    "        message = '아이디 : {}, 이름 : {}, 나이 : {}, 성별 : {}'\n",
    "        print(message.format(id,name,age,gender))\n",
    "# end if"
   ]
  },
  {
   "cell_type": "markdown",
   "id": "14379383",
   "metadata": {},
   "source": [
    "<h4><font color=\"orange\">lambda 함수</font></h4>"
   ]
  },
  {
   "cell_type": "code",
   "execution_count": 1,
   "id": "f105be84",
   "metadata": {},
   "outputs": [],
   "source": [
    "# 함수 y = 2 * x + 1 기능을 구현하는 함수 calc 구현하기"
   ]
  },
  {
   "cell_type": "code",
   "execution_count": 14,
   "id": "d94a1010",
   "metadata": {},
   "outputs": [],
   "source": [
    "def calc(x):\n",
    "    return 2 * x + 1"
   ]
  },
  {
   "cell_type": "code",
   "execution_count": 15,
   "id": "d1f2c7b4",
   "metadata": {},
   "outputs": [],
   "source": [
    "lambda_calc = lambda x : 2 * x + 1"
   ]
  },
  {
   "cell_type": "code",
   "execution_count": 17,
   "id": "5dfc7d29",
   "metadata": {},
   "outputs": [
    {
     "data": {
      "text/plain": [
       "7"
      ]
     },
     "execution_count": 17,
     "metadata": {},
     "output_type": "execute_result"
    }
   ],
   "source": [
    "x = 3\n",
    "result = lambda_calc(x)\n",
    "result"
   ]
  },
  {
   "cell_type": "code",
   "execution_count": 20,
   "id": "e9a0de86",
   "metadata": {},
   "outputs": [
    {
     "name": "stdout",
     "output_type": "stream",
     "text": [
      "3\n",
      "5\n",
      "7\n"
     ]
    }
   ],
   "source": [
    "mylist = [1,2,3]\n",
    "for val in mylist :\n",
    "    result = lambda_calc(val)\n",
    "    print(result)\n",
    "# end for"
   ]
  },
  {
   "cell_type": "markdown",
   "id": "3e40fc2f",
   "metadata": {},
   "source": [
    "<h1>클래스</font></h1>"
   ]
  },
  {
   "cell_type": "markdown",
   "id": "644a6ba9",
   "metadata": {},
   "source": [
    "<h4><font color=\"orange\">개인 정보 클래스</font></h4>"
   ]
  },
  {
   "cell_type": "code",
   "execution_count": 21,
   "id": "0a5924b1",
   "metadata": {
    "scrolled": true
   },
   "outputs": [
    {
     "data": {
      "text/plain": [
       "'\\n아이디 : yusin\\n이름 : 김유신\\n혈액형 : AB\\n'"
      ]
     },
     "execution_count": 21,
     "metadata": {},
     "output_type": "execute_result"
    }
   ],
   "source": [
    "'''\n",
    "아이디 : yusin\n",
    "이름 : 김유신\n",
    "혈액형 : AB\n",
    "'''"
   ]
  },
  {
   "cell_type": "code",
   "execution_count": 37,
   "id": "b86e45bb",
   "metadata": {},
   "outputs": [],
   "source": [
    "class Human : # 클래스 정의\n",
    "    # self는 자바의 this와 유사한 개념으로 사용되는 참조 변수 역할\n",
    "    def __init__(self, id,name,blood): # 생성자 함수\n",
    "        self.id = id\n",
    "        self.name = name\n",
    "        self.blood = blood\n",
    "    \n",
    "    def showInfo(self) :\n",
    "        message = '아이디 : %s, 이름 : %s, 혈액형 : %s'\n",
    "        return message % (self.id, self.name, self.blood)"
   ]
  },
  {
   "cell_type": "code",
   "execution_count": 38,
   "id": "2ed1045d",
   "metadata": {},
   "outputs": [
    {
     "name": "stdout",
     "output_type": "stream",
     "text": [
      "<__main__.Human object at 0x00000208D4AFB110>\n",
      "<class '__main__.Human'>\n"
     ]
    }
   ],
   "source": [
    "yusin = Human('yusin','김유신','AB')\n",
    "print(yusin)\n",
    "print(type(yusin))"
   ]
  },
  {
   "cell_type": "code",
   "execution_count": 39,
   "id": "170d1855",
   "metadata": {
    "scrolled": true
   },
   "outputs": [
    {
     "data": {
      "text/plain": [
       "'아이디 : yusin, 이름 : 김유신, 혈액형 : AB'"
      ]
     },
     "execution_count": 39,
     "metadata": {},
     "output_type": "execute_result"
    }
   ],
   "source": [
    "yusin.showInfo()"
   ]
  },
  {
   "cell_type": "code",
   "execution_count": 40,
   "id": "f85a428c",
   "metadata": {},
   "outputs": [
    {
     "data": {
      "text/plain": [
       "['__class__',\n",
       " '__delattr__',\n",
       " '__dict__',\n",
       " '__dir__',\n",
       " '__doc__',\n",
       " '__eq__',\n",
       " '__format__',\n",
       " '__ge__',\n",
       " '__getattribute__',\n",
       " '__getstate__',\n",
       " '__gt__',\n",
       " '__hash__',\n",
       " '__init__',\n",
       " '__init_subclass__',\n",
       " '__le__',\n",
       " '__lt__',\n",
       " '__module__',\n",
       " '__ne__',\n",
       " '__new__',\n",
       " '__reduce__',\n",
       " '__reduce_ex__',\n",
       " '__repr__',\n",
       " '__setattr__',\n",
       " '__sizeof__',\n",
       " '__str__',\n",
       " '__subclasshook__',\n",
       " '__weakref__',\n",
       " 'blood',\n",
       " 'id',\n",
       " 'name',\n",
       " 'showInfo']"
      ]
     },
     "execution_count": 40,
     "metadata": {},
     "output_type": "execute_result"
    }
   ],
   "source": [
    "# dif 함수 : 해당 모듈(파이썬에서는 파일을 모듈이라고 함)에 들어 있는 모든 변수,\n",
    "#            함수 목록들을 list 형식으로 보여 주는 함수\n",
    "dir(yusin)"
   ]
  },
  {
   "cell_type": "code",
   "execution_count": 41,
   "id": "5bcf0342",
   "metadata": {
    "scrolled": true
   },
   "outputs": [
    {
     "data": {
      "text/plain": [
       "['blood', 'id', 'name', 'showInfo']"
      ]
     },
     "execution_count": 41,
     "metadata": {},
     "output_type": "execute_result"
    }
   ],
   "source": [
    "myinfo = [item for item in dir(yusin) if not item.startswith('_')]\n",
    "myinfo"
   ]
  },
  {
   "cell_type": "markdown",
   "id": "b328e84b",
   "metadata": {},
   "source": [
    "<h1>클래스</font></h1>"
   ]
  },
  {
   "cell_type": "markdown",
   "id": "208476ae",
   "metadata": {},
   "source": [
    "<h4><font color=\"orange\">연봉 계산</font></h4>"
   ]
  },
  {
   "cell_type": "code",
   "execution_count": 1,
   "id": "b5257b0c",
   "metadata": {},
   "outputs": [
    {
     "data": {
      "text/plain": [
       "'\\n이름 : 김유신\\n급여 : 400\\n'"
      ]
     },
     "execution_count": 1,
     "metadata": {},
     "output_type": "execute_result"
    }
   ],
   "source": [
    "'''\n",
    "이름 : 김유신\n",
    "급여 : 400\n",
    "'''\n",
    "# 클래스 income을 구현해보세요\n",
    "# 연봉은 급여가 500 이상이면 급여의 12배\n",
    "# 미만이면 13배로 계산하세요"
   ]
  },
  {
   "cell_type": "code",
   "execution_count": 2,
   "id": "2723a224",
   "metadata": {},
   "outputs": [],
   "source": [
    "class Income :\n",
    "    def __init__(self, name, salary) :\n",
    "        self.name = name\n",
    "        self.salary = salary\n",
    "        if salary >= 500 :\n",
    "            self.annsal = self.salary * 12\n",
    "        else :\n",
    "            self.annsal = self.salary * 13\n",
    "            \n",
    "    def showInfo(self) :\n",
    "        message = '이름 : %s, 급여 : %d, 연봉 : %d'\n",
    "        return message % (self.name, self.salary, self.annsal)"
   ]
  },
  {
   "cell_type": "code",
   "execution_count": 4,
   "id": "755e0a30",
   "metadata": {
    "scrolled": true
   },
   "outputs": [
    {
     "data": {
      "text/plain": [
       "'이름 : 김유신, 급여 : 400, 연봉 : 5200'"
      ]
     },
     "execution_count": 4,
     "metadata": {},
     "output_type": "execute_result"
    }
   ],
   "source": [
    "shin = Income('김유신',400)\n",
    "shin.showInfo()"
   ]
  },
  {
   "cell_type": "code",
   "execution_count": 6,
   "id": "789a3f17",
   "metadata": {},
   "outputs": [
    {
     "data": {
      "text/plain": [
       "'이름 : 김구, 급여 : 600, 연봉 : 7200'"
      ]
     },
     "execution_count": 6,
     "metadata": {},
     "output_type": "execute_result"
    }
   ],
   "source": [
    "kim9 = Income('김구', 600)\n",
    "kim9.showInfo()"
   ]
  },
  {
   "cell_type": "code",
   "execution_count": 7,
   "id": "1a0ea57c",
   "metadata": {},
   "outputs": [
    {
     "name": "stdout",
     "output_type": "stream",
     "text": [
      "이름 : 이정식, 급여 : 300, 연봉 : 3900\n",
      "이름 : 최부길, 급여 : 700, 연봉 : 8400\n"
     ]
    }
   ],
   "source": [
    "members = [Income('이정식',300), Income('최부길',700)]\n",
    "for saram in members :\n",
    "    print(saram.showInfo())"
   ]
  },
  {
   "cell_type": "code",
   "execution_count": null,
   "id": "853024aa",
   "metadata": {},
   "outputs": [],
   "source": []
  },
  {
   "cell_type": "code",
   "execution_count": null,
   "id": "05089478",
   "metadata": {},
   "outputs": [],
   "source": []
  }
 ],
 "metadata": {
  "kernelspec": {
   "display_name": "Python 3 (ipykernel)",
   "language": "python",
   "name": "python3"
  },
  "language_info": {
   "codemirror_mode": {
    "name": "ipython",
    "version": 3
   },
   "file_extension": ".py",
   "mimetype": "text/x-python",
   "name": "python",
   "nbconvert_exporter": "python",
   "pygments_lexer": "ipython3",
   "version": "3.11.2"
  }
 },
 "nbformat": 4,
 "nbformat_minor": 5
}
