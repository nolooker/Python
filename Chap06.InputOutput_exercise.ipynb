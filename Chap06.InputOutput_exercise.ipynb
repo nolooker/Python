{
 "cells": [
  {
   "cell_type": "markdown",
   "id": "395fa551",
   "metadata": {},
   "source": [
    "<h1><font color=\"blue\">데이터 로딩과 저장</font></h1>"
   ]
  },
  {
   "cell_type": "markdown",
   "id": "aaa28e65",
   "metadata": {},
   "source": [
    "<h2><font color=\"red\">파일 읽기/쓰기</font></h2>"
   ]
  },
  {
   "cell_type": "markdown",
   "id": "24d41597",
   "metadata": {},
   "source": [
    "<h4><font color=\"green\">데이터 저장하기</font></h4>"
   ]
  },
  {
   "cell_type": "markdown",
   "id": "941d9bab",
   "metadata": {},
   "source": [
    "<h6><font color=\"BlueViolet\">to_csv() 함수</font></h6>"
   ]
  },
  {
   "cell_type": "code",
   "execution_count": 1,
   "id": "7e3c46ca",
   "metadata": {},
   "outputs": [
    {
     "data": {
      "text/plain": [
       "'\\n다음과 같은 데이터를 이용하여 result02.csv 파일을 생성해 보세요.\\n이름,나이,주소\\n김철수,10,금천\\n박영희,20,용산\\n'"
      ]
     },
     "execution_count": 1,
     "metadata": {},
     "output_type": "execute_result"
    }
   ],
   "source": [
    "'''\n",
    "다음과 같은 데이터를 이용하여 result02.csv 파일을 생성해 보세요.\n",
    "이름,나이,주소\n",
    "김철수,10,금천\n",
    "박영희,20,용산\n",
    "'''"
   ]
  },
  {
   "cell_type": "code",
   "execution_count": 2,
   "id": "56b2ac78",
   "metadata": {},
   "outputs": [],
   "source": [
    "import random\n",
    "import pandas as pd"
   ]
  },
  {
   "cell_type": "code",
   "execution_count": 3,
   "id": "3f679c28",
   "metadata": {},
   "outputs": [],
   "source": [
    "result01=[]\n",
    "columns01 = ('이름', '나이', '주소')\n",
    "myencoding = 'CP949'"
   ]
  },
  {
   "cell_type": "code",
   "execution_count": 4,
   "id": "04d89603",
   "metadata": {},
   "outputs": [],
   "source": [
    "sublist = []\n",
    "sublist.append('김철수')\n",
    "sublist.append(10)\n",
    "sublist.append('금천')\n",
    "result01.append(sublist)"
   ]
  },
  {
   "cell_type": "code",
   "execution_count": 5,
   "id": "8546a4e6",
   "metadata": {},
   "outputs": [],
   "source": [
    "sublist = []\n",
    "sublist.append('박영희')\n",
    "sublist.append(20)\n",
    "sublist.append('용산')\n",
    "result01.append(sublist)"
   ]
  },
  {
   "cell_type": "code",
   "execution_count": 6,
   "id": "674fc92d",
   "metadata": {},
   "outputs": [
    {
     "data": {
      "text/html": [
       "<div>\n",
       "<style scoped>\n",
       "    .dataframe tbody tr th:only-of-type {\n",
       "        vertical-align: middle;\n",
       "    }\n",
       "\n",
       "    .dataframe tbody tr th {\n",
       "        vertical-align: top;\n",
       "    }\n",
       "\n",
       "    .dataframe thead th {\n",
       "        text-align: right;\n",
       "    }\n",
       "</style>\n",
       "<table border=\"1\" class=\"dataframe\">\n",
       "  <thead>\n",
       "    <tr style=\"text-align: right;\">\n",
       "      <th></th>\n",
       "      <th>이름</th>\n",
       "      <th>나이</th>\n",
       "      <th>주소</th>\n",
       "    </tr>\n",
       "  </thead>\n",
       "  <tbody>\n",
       "    <tr>\n",
       "      <th>0</th>\n",
       "      <td>김철수</td>\n",
       "      <td>10</td>\n",
       "      <td>금천</td>\n",
       "    </tr>\n",
       "    <tr>\n",
       "      <th>1</th>\n",
       "      <td>박영희</td>\n",
       "      <td>20</td>\n",
       "      <td>용산</td>\n",
       "    </tr>\n",
       "  </tbody>\n",
       "</table>\n",
       "</div>"
      ],
      "text/plain": [
       "    이름  나이  주소\n",
       "0  김철수  10  금천\n",
       "1  박영희  20  용산"
      ]
     },
     "execution_count": 6,
     "metadata": {},
     "output_type": "execute_result"
    }
   ],
   "source": [
    "myframe01 = pd.DataFrame(result01, columns=columns01)\n",
    "myframe01"
   ]
  },
  {
   "cell_type": "code",
   "execution_count": 7,
   "id": "fa4b418d",
   "metadata": {},
   "outputs": [
    {
     "name": "stdout",
     "output_type": "stream",
     "text": [
      "./../data/result02.csv 파일이 저장되었습니다.\n"
     ]
    }
   ],
   "source": [
    "filename = './../data/result02.csv'\n",
    "myframe01.to_csv(filename, encoding=myencoding, mode='w', index=True)\n",
    "print(filename + ' 파일이 저장되었습니다.')"
   ]
  },
  {
   "cell_type": "code",
   "execution_count": 8,
   "id": "211326e2",
   "metadata": {},
   "outputs": [
    {
     "data": {
      "text/html": [
       "<div>\n",
       "<style scoped>\n",
       "    .dataframe tbody tr th:only-of-type {\n",
       "        vertical-align: middle;\n",
       "    }\n",
       "\n",
       "    .dataframe tbody tr th {\n",
       "        vertical-align: top;\n",
       "    }\n",
       "\n",
       "    .dataframe thead th {\n",
       "        text-align: right;\n",
       "    }\n",
       "</style>\n",
       "<table border=\"1\" class=\"dataframe\">\n",
       "  <thead>\n",
       "    <tr style=\"text-align: right;\">\n",
       "      <th></th>\n",
       "      <th>이름</th>\n",
       "      <th>나이</th>\n",
       "      <th>주소</th>\n",
       "    </tr>\n",
       "  </thead>\n",
       "  <tbody>\n",
       "    <tr>\n",
       "      <th>0</th>\n",
       "      <td>김철수</td>\n",
       "      <td>10</td>\n",
       "      <td>금천</td>\n",
       "    </tr>\n",
       "    <tr>\n",
       "      <th>1</th>\n",
       "      <td>박영희</td>\n",
       "      <td>20</td>\n",
       "      <td>용산</td>\n",
       "    </tr>\n",
       "  </tbody>\n",
       "</table>\n",
       "</div>"
      ],
      "text/plain": [
       "    이름  나이  주소\n",
       "0  김철수  10  금천\n",
       "1  박영희  20  용산"
      ]
     },
     "execution_count": 8,
     "metadata": {},
     "output_type": "execute_result"
    }
   ],
   "source": [
    "result = pd.read_csv('./../data/result02.csv', index_col=0, encoding='cp949')\n",
    "result"
   ]
  },
  {
   "cell_type": "markdown",
   "id": "fad2681f",
   "metadata": {},
   "source": [
    "<h2><font color=\"red\">문제를 풀어 보세요.</font></h2>"
   ]
  },
  {
   "cell_type": "code",
   "execution_count": 9,
   "id": "6c6a7a60",
   "metadata": {},
   "outputs": [
    {
     "data": {
      "text/plain": [
       "'\\n\\'분기\\' 컬럼은 \\'quarter\\'으로, \\'출고량\\' 컬럼은 \\'output\\'으로 이름을 변경해 보세요.\\n\"일생산량\"에 대한 총합과 평균과 표준 편차를 확인해 보세요.\\n\\n다음과 같이 신규 컬럼을 추가해 보세요.\\n    남은량 = 총생산량 - 출고량\\n    불량률 = 불량품/일생산량\\n\\n제품명이 \\'미니오븐\\'인 행을 삭제하세요.\\n\\'불량품\\', \\'출고량\\' 컬럼을 삭제하세요.\\n\\n\\'믹서기\\'만 추출하여 \"일생산량\" 컬럼에 대한 Pie 그래프를 그려 보세요.\\n'"
      ]
     },
     "execution_count": 9,
     "metadata": {},
     "output_type": "execute_result"
    }
   ],
   "source": [
    "'''\n",
    "'분기' 컬럼은 'quarter'으로, '출고량' 컬럼은 'output'으로 이름을 변경해 보세요.\n",
    "\"일생산량\"에 대한 총합과 평균과 표준 편차를 확인해 보세요.\n",
    "\n",
    "다음과 같이 신규 컬럼을 추가해 보세요.\n",
    "    남은량 = 총생산량 - 출고량\n",
    "    불량률 = 불량품/일생산량\n",
    "\n",
    "제품명이 '미니오븐'인 행을 삭제하세요.\n",
    "'불량품', '출고량' 컬럼을 삭제하세요.\n",
    "\n",
    "'믹서기'만 추출하여 \"일생산량\" 컬럼에 대한 Pie 그래프를 그려 보세요.\n",
    "'''"
   ]
  },
  {
   "cell_type": "code",
   "execution_count": 10,
   "id": "c410cc64",
   "metadata": {},
   "outputs": [
    {
     "data": {
      "text/html": [
       "<div>\n",
       "<style scoped>\n",
       "    .dataframe tbody tr th:only-of-type {\n",
       "        vertical-align: middle;\n",
       "    }\n",
       "\n",
       "    .dataframe tbody tr th {\n",
       "        vertical-align: top;\n",
       "    }\n",
       "\n",
       "    .dataframe thead th {\n",
       "        text-align: right;\n",
       "    }\n",
       "</style>\n",
       "<table border=\"1\" class=\"dataframe\">\n",
       "  <thead>\n",
       "    <tr style=\"text-align: right;\">\n",
       "      <th></th>\n",
       "      <th>제품명</th>\n",
       "      <th>분기</th>\n",
       "      <th>일생산량</th>\n",
       "      <th>생산일수</th>\n",
       "      <th>총생산량</th>\n",
       "      <th>불량품</th>\n",
       "      <th>출고량</th>\n",
       "    </tr>\n",
       "  </thead>\n",
       "  <tbody>\n",
       "    <tr>\n",
       "      <th>0</th>\n",
       "      <td>미니오븐</td>\n",
       "      <td>1</td>\n",
       "      <td>85</td>\n",
       "      <td>20</td>\n",
       "      <td>6000</td>\n",
       "      <td>24</td>\n",
       "      <td>50</td>\n",
       "    </tr>\n",
       "    <tr>\n",
       "      <th>1</th>\n",
       "      <td>전기밥솥</td>\n",
       "      <td>1</td>\n",
       "      <td>85</td>\n",
       "      <td>25</td>\n",
       "      <td>9000</td>\n",
       "      <td>36</td>\n",
       "      <td>80</td>\n",
       "    </tr>\n",
       "    <tr>\n",
       "      <th>2</th>\n",
       "      <td>믹서기</td>\n",
       "      <td>1</td>\n",
       "      <td>90</td>\n",
       "      <td>25</td>\n",
       "      <td>12000</td>\n",
       "      <td>48</td>\n",
       "      <td>80</td>\n",
       "    </tr>\n",
       "    <tr>\n",
       "      <th>3</th>\n",
       "      <td>전자레인지</td>\n",
       "      <td>1</td>\n",
       "      <td>85</td>\n",
       "      <td>25</td>\n",
       "      <td>7200</td>\n",
       "      <td>29</td>\n",
       "      <td>50</td>\n",
       "    </tr>\n",
       "    <tr>\n",
       "      <th>4</th>\n",
       "      <td>미니냉장고</td>\n",
       "      <td>1</td>\n",
       "      <td>65</td>\n",
       "      <td>25</td>\n",
       "      <td>4800</td>\n",
       "      <td>19</td>\n",
       "      <td>65</td>\n",
       "    </tr>\n",
       "  </tbody>\n",
       "</table>\n",
       "</div>"
      ],
      "text/plain": [
       "     제품명  분기  일생산량  생산일수   총생산량  불량품  출고량\n",
       "0   미니오븐   1    85    20   6000   24   50\n",
       "1   전기밥솥   1    85    25   9000   36   80\n",
       "2    믹서기   1    90    25  12000   48   80\n",
       "3  전자레인지   1    85    25   7200   29   50\n",
       "4  미니냉장고   1    65    25   4800   19   65"
      ]
     },
     "execution_count": 10,
     "metadata": {},
     "output_type": "execute_result"
    }
   ],
   "source": [
    "homeware = pd.read_csv('./../data/가전제품.csv', encoding='cp949')\n",
    "homeware.head()"
   ]
  },
  {
   "cell_type": "code",
   "execution_count": 11,
   "id": "90c04099",
   "metadata": {
    "scrolled": true
   },
   "outputs": [
    {
     "data": {
      "text/html": [
       "<div>\n",
       "<style scoped>\n",
       "    .dataframe tbody tr th:only-of-type {\n",
       "        vertical-align: middle;\n",
       "    }\n",
       "\n",
       "    .dataframe tbody tr th {\n",
       "        vertical-align: top;\n",
       "    }\n",
       "\n",
       "    .dataframe thead th {\n",
       "        text-align: right;\n",
       "    }\n",
       "</style>\n",
       "<table border=\"1\" class=\"dataframe\">\n",
       "  <thead>\n",
       "    <tr style=\"text-align: right;\">\n",
       "      <th></th>\n",
       "      <th>제품명</th>\n",
       "      <th>quarter</th>\n",
       "      <th>일생산량</th>\n",
       "      <th>생산일수</th>\n",
       "      <th>총생산량</th>\n",
       "      <th>불량품</th>\n",
       "      <th>output</th>\n",
       "    </tr>\n",
       "  </thead>\n",
       "  <tbody>\n",
       "    <tr>\n",
       "      <th>0</th>\n",
       "      <td>미니오븐</td>\n",
       "      <td>1</td>\n",
       "      <td>85</td>\n",
       "      <td>20</td>\n",
       "      <td>6000</td>\n",
       "      <td>24</td>\n",
       "      <td>50</td>\n",
       "    </tr>\n",
       "    <tr>\n",
       "      <th>1</th>\n",
       "      <td>전기밥솥</td>\n",
       "      <td>1</td>\n",
       "      <td>85</td>\n",
       "      <td>25</td>\n",
       "      <td>9000</td>\n",
       "      <td>36</td>\n",
       "      <td>80</td>\n",
       "    </tr>\n",
       "    <tr>\n",
       "      <th>2</th>\n",
       "      <td>믹서기</td>\n",
       "      <td>1</td>\n",
       "      <td>90</td>\n",
       "      <td>25</td>\n",
       "      <td>12000</td>\n",
       "      <td>48</td>\n",
       "      <td>80</td>\n",
       "    </tr>\n",
       "    <tr>\n",
       "      <th>3</th>\n",
       "      <td>전자레인지</td>\n",
       "      <td>1</td>\n",
       "      <td>85</td>\n",
       "      <td>25</td>\n",
       "      <td>7200</td>\n",
       "      <td>29</td>\n",
       "      <td>50</td>\n",
       "    </tr>\n",
       "    <tr>\n",
       "      <th>4</th>\n",
       "      <td>미니냉장고</td>\n",
       "      <td>1</td>\n",
       "      <td>65</td>\n",
       "      <td>25</td>\n",
       "      <td>4800</td>\n",
       "      <td>19</td>\n",
       "      <td>65</td>\n",
       "    </tr>\n",
       "  </tbody>\n",
       "</table>\n",
       "</div>"
      ],
      "text/plain": [
       "     제품명  quarter  일생산량  생산일수   총생산량  불량품  output\n",
       "0   미니오븐        1    85    20   6000   24      50\n",
       "1   전기밥솥        1    85    25   9000   36      80\n",
       "2    믹서기        1    90    25  12000   48      80\n",
       "3  전자레인지        1    85    25   7200   29      50\n",
       "4  미니냉장고        1    65    25   4800   19      65"
      ]
     },
     "execution_count": 11,
     "metadata": {},
     "output_type": "execute_result"
    }
   ],
   "source": [
    "renamed_col = {'분기':'quarter', '출고량':'output'}\n",
    "homeware = homeware.rename(columns=renamed_col)\n",
    "homeware.head()"
   ]
  },
  {
   "cell_type": "code",
   "execution_count": 12,
   "id": "dc16e2b8",
   "metadata": {
    "scrolled": true
   },
   "outputs": [
    {
     "data": {
      "text/plain": [
       "0    85\n",
       "1    85\n",
       "2    90\n",
       "3    85\n",
       "4    65\n",
       "Name: 일생산량, dtype: int64"
      ]
     },
     "execution_count": 12,
     "metadata": {},
     "output_type": "execute_result"
    }
   ],
   "source": [
    "dayproduct = homeware['일생산량']\n",
    "dayproduct.head()"
   ]
  },
  {
   "cell_type": "code",
   "execution_count": 13,
   "id": "580124d7",
   "metadata": {},
   "outputs": [
    {
     "name": "stdout",
     "output_type": "stream",
     "text": [
      "dayproduct.sum() : 1990\n",
      "dayproduct.mean() : 82.91666666666667\n",
      "dayproduct.std() : 9.881544795032399\n"
     ]
    }
   ],
   "source": [
    "print('dayproduct.sum() : ' + str(dayproduct.sum()))\n",
    "print('dayproduct.mean() : ' + str(dayproduct.mean()))\n",
    "print('dayproduct.std() : ' + str(dayproduct.std()))"
   ]
  },
  {
   "cell_type": "code",
   "execution_count": 14,
   "id": "49fa2b99",
   "metadata": {},
   "outputs": [
    {
     "data": {
      "text/html": [
       "<div>\n",
       "<style scoped>\n",
       "    .dataframe tbody tr th:only-of-type {\n",
       "        vertical-align: middle;\n",
       "    }\n",
       "\n",
       "    .dataframe tbody tr th {\n",
       "        vertical-align: top;\n",
       "    }\n",
       "\n",
       "    .dataframe thead th {\n",
       "        text-align: right;\n",
       "    }\n",
       "</style>\n",
       "<table border=\"1\" class=\"dataframe\">\n",
       "  <thead>\n",
       "    <tr style=\"text-align: right;\">\n",
       "      <th></th>\n",
       "      <th>제품명</th>\n",
       "      <th>quarter</th>\n",
       "      <th>일생산량</th>\n",
       "      <th>생산일수</th>\n",
       "      <th>총생산량</th>\n",
       "      <th>불량품</th>\n",
       "      <th>output</th>\n",
       "      <th>남은량</th>\n",
       "      <th>불량률</th>\n",
       "    </tr>\n",
       "  </thead>\n",
       "  <tbody>\n",
       "    <tr>\n",
       "      <th>0</th>\n",
       "      <td>미니오븐</td>\n",
       "      <td>1</td>\n",
       "      <td>85</td>\n",
       "      <td>20</td>\n",
       "      <td>6000</td>\n",
       "      <td>24</td>\n",
       "      <td>50</td>\n",
       "      <td>5950</td>\n",
       "      <td>0.282353</td>\n",
       "    </tr>\n",
       "    <tr>\n",
       "      <th>1</th>\n",
       "      <td>전기밥솥</td>\n",
       "      <td>1</td>\n",
       "      <td>85</td>\n",
       "      <td>25</td>\n",
       "      <td>9000</td>\n",
       "      <td>36</td>\n",
       "      <td>80</td>\n",
       "      <td>8920</td>\n",
       "      <td>0.423529</td>\n",
       "    </tr>\n",
       "    <tr>\n",
       "      <th>2</th>\n",
       "      <td>믹서기</td>\n",
       "      <td>1</td>\n",
       "      <td>90</td>\n",
       "      <td>25</td>\n",
       "      <td>12000</td>\n",
       "      <td>48</td>\n",
       "      <td>80</td>\n",
       "      <td>11920</td>\n",
       "      <td>0.533333</td>\n",
       "    </tr>\n",
       "    <tr>\n",
       "      <th>3</th>\n",
       "      <td>전자레인지</td>\n",
       "      <td>1</td>\n",
       "      <td>85</td>\n",
       "      <td>25</td>\n",
       "      <td>7200</td>\n",
       "      <td>29</td>\n",
       "      <td>50</td>\n",
       "      <td>7150</td>\n",
       "      <td>0.341176</td>\n",
       "    </tr>\n",
       "    <tr>\n",
       "      <th>4</th>\n",
       "      <td>미니냉장고</td>\n",
       "      <td>1</td>\n",
       "      <td>65</td>\n",
       "      <td>25</td>\n",
       "      <td>4800</td>\n",
       "      <td>19</td>\n",
       "      <td>65</td>\n",
       "      <td>4735</td>\n",
       "      <td>0.292308</td>\n",
       "    </tr>\n",
       "  </tbody>\n",
       "</table>\n",
       "</div>"
      ],
      "text/plain": [
       "     제품명  quarter  일생산량  생산일수   총생산량  불량품  output    남은량       불량률\n",
       "0   미니오븐        1    85    20   6000   24      50   5950  0.282353\n",
       "1   전기밥솥        1    85    25   9000   36      80   8920  0.423529\n",
       "2    믹서기        1    90    25  12000   48      80  11920  0.533333\n",
       "3  전자레인지        1    85    25   7200   29      50   7150  0.341176\n",
       "4  미니냉장고        1    65    25   4800   19      65   4735  0.292308"
      ]
     },
     "execution_count": 14,
     "metadata": {},
     "output_type": "execute_result"
    }
   ],
   "source": [
    "homeware['남은량'] = homeware['총생산량'] - homeware['output']\n",
    "homeware['불량률'] = homeware['불량품']/homeware['일생산량']\n",
    "homeware.head()"
   ]
  },
  {
   "cell_type": "code",
   "execution_count": 15,
   "id": "28404007",
   "metadata": {},
   "outputs": [
    {
     "data": {
      "text/plain": [
       "0     미니오븐\n",
       "1     전기밥솥\n",
       "2      믹서기\n",
       "3    전자레인지\n",
       "4    미니냉장고\n",
       "Name: 제품명, dtype: object"
      ]
     },
     "execution_count": 15,
     "metadata": {},
     "output_type": "execute_result"
    }
   ],
   "source": [
    "homeware['제품명'].head()"
   ]
  },
  {
   "cell_type": "code",
   "execution_count": 16,
   "id": "5aa43e1d",
   "metadata": {},
   "outputs": [
    {
     "data": {
      "text/html": [
       "<div>\n",
       "<style scoped>\n",
       "    .dataframe tbody tr th:only-of-type {\n",
       "        vertical-align: middle;\n",
       "    }\n",
       "\n",
       "    .dataframe tbody tr th {\n",
       "        vertical-align: top;\n",
       "    }\n",
       "\n",
       "    .dataframe thead th {\n",
       "        text-align: right;\n",
       "    }\n",
       "</style>\n",
       "<table border=\"1\" class=\"dataframe\">\n",
       "  <thead>\n",
       "    <tr style=\"text-align: right;\">\n",
       "      <th></th>\n",
       "      <th>제품명</th>\n",
       "      <th>quarter</th>\n",
       "      <th>일생산량</th>\n",
       "      <th>생산일수</th>\n",
       "      <th>총생산량</th>\n",
       "      <th>불량품</th>\n",
       "      <th>output</th>\n",
       "      <th>남은량</th>\n",
       "      <th>불량률</th>\n",
       "    </tr>\n",
       "  </thead>\n",
       "  <tbody>\n",
       "    <tr>\n",
       "      <th>1</th>\n",
       "      <td>전기밥솥</td>\n",
       "      <td>1</td>\n",
       "      <td>85</td>\n",
       "      <td>25</td>\n",
       "      <td>9000</td>\n",
       "      <td>36</td>\n",
       "      <td>80</td>\n",
       "      <td>8920</td>\n",
       "      <td>0.423529</td>\n",
       "    </tr>\n",
       "    <tr>\n",
       "      <th>2</th>\n",
       "      <td>믹서기</td>\n",
       "      <td>1</td>\n",
       "      <td>90</td>\n",
       "      <td>25</td>\n",
       "      <td>12000</td>\n",
       "      <td>48</td>\n",
       "      <td>80</td>\n",
       "      <td>11920</td>\n",
       "      <td>0.533333</td>\n",
       "    </tr>\n",
       "    <tr>\n",
       "      <th>3</th>\n",
       "      <td>전자레인지</td>\n",
       "      <td>1</td>\n",
       "      <td>85</td>\n",
       "      <td>25</td>\n",
       "      <td>7200</td>\n",
       "      <td>29</td>\n",
       "      <td>50</td>\n",
       "      <td>7150</td>\n",
       "      <td>0.341176</td>\n",
       "    </tr>\n",
       "    <tr>\n",
       "      <th>4</th>\n",
       "      <td>미니냉장고</td>\n",
       "      <td>1</td>\n",
       "      <td>65</td>\n",
       "      <td>25</td>\n",
       "      <td>4800</td>\n",
       "      <td>19</td>\n",
       "      <td>65</td>\n",
       "      <td>4735</td>\n",
       "      <td>0.292308</td>\n",
       "    </tr>\n",
       "    <tr>\n",
       "      <th>5</th>\n",
       "      <td>선풍기</td>\n",
       "      <td>1</td>\n",
       "      <td>70</td>\n",
       "      <td>25</td>\n",
       "      <td>10800</td>\n",
       "      <td>43</td>\n",
       "      <td>55</td>\n",
       "      <td>10745</td>\n",
       "      <td>0.614286</td>\n",
       "    </tr>\n",
       "  </tbody>\n",
       "</table>\n",
       "</div>"
      ],
      "text/plain": [
       "     제품명  quarter  일생산량  생산일수   총생산량  불량품  output    남은량       불량률\n",
       "1   전기밥솥        1    85    25   9000   36      80   8920  0.423529\n",
       "2    믹서기        1    90    25  12000   48      80  11920  0.533333\n",
       "3  전자레인지        1    85    25   7200   29      50   7150  0.341176\n",
       "4  미니냉장고        1    65    25   4800   19      65   4735  0.292308\n",
       "5    선풍기        1    70    25  10800   43      55  10745  0.614286"
      ]
     },
     "execution_count": 16,
     "metadata": {},
     "output_type": "execute_result"
    }
   ],
   "source": [
    "homeware = homeware.loc[homeware['제품명'] != '미니오븐']\n",
    "homeware.head()"
   ]
  },
  {
   "cell_type": "code",
   "execution_count": 17,
   "id": "42a3c338",
   "metadata": {},
   "outputs": [
    {
     "data": {
      "text/html": [
       "<div>\n",
       "<style scoped>\n",
       "    .dataframe tbody tr th:only-of-type {\n",
       "        vertical-align: middle;\n",
       "    }\n",
       "\n",
       "    .dataframe tbody tr th {\n",
       "        vertical-align: top;\n",
       "    }\n",
       "\n",
       "    .dataframe thead th {\n",
       "        text-align: right;\n",
       "    }\n",
       "</style>\n",
       "<table border=\"1\" class=\"dataframe\">\n",
       "  <thead>\n",
       "    <tr style=\"text-align: right;\">\n",
       "      <th></th>\n",
       "      <th>제품명</th>\n",
       "      <th>quarter</th>\n",
       "      <th>일생산량</th>\n",
       "      <th>생산일수</th>\n",
       "      <th>총생산량</th>\n",
       "      <th>남은량</th>\n",
       "      <th>불량률</th>\n",
       "    </tr>\n",
       "  </thead>\n",
       "  <tbody>\n",
       "    <tr>\n",
       "      <th>1</th>\n",
       "      <td>전기밥솥</td>\n",
       "      <td>1</td>\n",
       "      <td>85</td>\n",
       "      <td>25</td>\n",
       "      <td>9000</td>\n",
       "      <td>8920</td>\n",
       "      <td>0.423529</td>\n",
       "    </tr>\n",
       "    <tr>\n",
       "      <th>2</th>\n",
       "      <td>믹서기</td>\n",
       "      <td>1</td>\n",
       "      <td>90</td>\n",
       "      <td>25</td>\n",
       "      <td>12000</td>\n",
       "      <td>11920</td>\n",
       "      <td>0.533333</td>\n",
       "    </tr>\n",
       "    <tr>\n",
       "      <th>3</th>\n",
       "      <td>전자레인지</td>\n",
       "      <td>1</td>\n",
       "      <td>85</td>\n",
       "      <td>25</td>\n",
       "      <td>7200</td>\n",
       "      <td>7150</td>\n",
       "      <td>0.341176</td>\n",
       "    </tr>\n",
       "    <tr>\n",
       "      <th>4</th>\n",
       "      <td>미니냉장고</td>\n",
       "      <td>1</td>\n",
       "      <td>65</td>\n",
       "      <td>25</td>\n",
       "      <td>4800</td>\n",
       "      <td>4735</td>\n",
       "      <td>0.292308</td>\n",
       "    </tr>\n",
       "    <tr>\n",
       "      <th>5</th>\n",
       "      <td>선풍기</td>\n",
       "      <td>1</td>\n",
       "      <td>70</td>\n",
       "      <td>25</td>\n",
       "      <td>10800</td>\n",
       "      <td>10745</td>\n",
       "      <td>0.614286</td>\n",
       "    </tr>\n",
       "  </tbody>\n",
       "</table>\n",
       "</div>"
      ],
      "text/plain": [
       "     제품명  quarter  일생산량  생산일수   총생산량    남은량       불량률\n",
       "1   전기밥솥        1    85    25   9000   8920  0.423529\n",
       "2    믹서기        1    90    25  12000  11920  0.533333\n",
       "3  전자레인지        1    85    25   7200   7150  0.341176\n",
       "4  미니냉장고        1    65    25   4800   4735  0.292308\n",
       "5    선풍기        1    70    25  10800  10745  0.614286"
      ]
     },
     "execution_count": 17,
     "metadata": {},
     "output_type": "execute_result"
    }
   ],
   "source": [
    "homeware = homeware.drop(['불량품', 'output'], axis='columns')\n",
    "homeware.head()"
   ]
  },
  {
   "cell_type": "code",
   "execution_count": 18,
   "id": "c70eb87b",
   "metadata": {},
   "outputs": [
    {
     "data": {
      "text/html": [
       "<div>\n",
       "<style scoped>\n",
       "    .dataframe tbody tr th:only-of-type {\n",
       "        vertical-align: middle;\n",
       "    }\n",
       "\n",
       "    .dataframe tbody tr th {\n",
       "        vertical-align: top;\n",
       "    }\n",
       "\n",
       "    .dataframe thead th {\n",
       "        text-align: right;\n",
       "    }\n",
       "</style>\n",
       "<table border=\"1\" class=\"dataframe\">\n",
       "  <thead>\n",
       "    <tr style=\"text-align: right;\">\n",
       "      <th></th>\n",
       "      <th>quarter</th>\n",
       "      <th>일생산량</th>\n",
       "    </tr>\n",
       "  </thead>\n",
       "  <tbody>\n",
       "    <tr>\n",
       "      <th>2</th>\n",
       "      <td>1</td>\n",
       "      <td>90</td>\n",
       "    </tr>\n",
       "    <tr>\n",
       "      <th>8</th>\n",
       "      <td>2</td>\n",
       "      <td>85</td>\n",
       "    </tr>\n",
       "    <tr>\n",
       "      <th>14</th>\n",
       "      <td>3</td>\n",
       "      <td>80</td>\n",
       "    </tr>\n",
       "    <tr>\n",
       "      <th>20</th>\n",
       "      <td>4</td>\n",
       "      <td>80</td>\n",
       "    </tr>\n",
       "  </tbody>\n",
       "</table>\n",
       "</div>"
      ],
      "text/plain": [
       "    quarter  일생산량\n",
       "2         1    90\n",
       "8         2    85\n",
       "14        3    80\n",
       "20        4    80"
      ]
     },
     "execution_count": 18,
     "metadata": {},
     "output_type": "execute_result"
    }
   ],
   "source": [
    "mixer = homeware.loc[homeware['제품명'] == '믹서기', ['quarter', '일생산량']]\n",
    "mixer"
   ]
  },
  {
   "cell_type": "code",
   "execution_count": 19,
   "id": "cc7c19f5",
   "metadata": {},
   "outputs": [],
   "source": [
    "quarter = mixer['quarter'].to_list() \n",
    "quarter = [str(quad) + '사분기' for quad in quarter]\n",
    "quarter\n",
    "mixer.index = quarter \n",
    "mixer = mixer.drop('quarter', axis='columns')\n",
    "mixer.name = '믹서기'"
   ]
  },
  {
   "cell_type": "code",
   "execution_count": 20,
   "id": "1e9c0cfe",
   "metadata": {},
   "outputs": [],
   "source": [
    "import matplotlib.pyplot as plt\n",
    "plt.rc('font', family='Malgun Gothic')\n",
    "mycolors = ['AntiqueWhite', 'DarkCyan', 'Brown', 'HotPink']"
   ]
  },
  {
   "cell_type": "code",
   "execution_count": 21,
   "id": "70147880",
   "metadata": {},
   "outputs": [
    {
     "data": {
      "text/plain": [
       "Text(0.5, 1.0, '분기별 믹서기 일생산량')"
      ]
     },
     "execution_count": 21,
     "metadata": {},
     "output_type": "execute_result"
    },
    {
     "data": {
      "image/png": "[encoded data removed]",
      "text/plain": [
       "<Figure size 640x480 with 1 Axes>"
      ]
     },
     "metadata": {},
     "output_type": "display_data"
    }
   ],
   "source": [
    "mylabel = mixer.index\n",
    "mixer.plot(kind='pie', labels=mylabel, shadow=True, explode=(0, 0.05, 0, 0),\n",
    "        colors=mycolors, autopct='%1.2f%%', startangle=90, counterclock=False, subplots=True)\n",
    "plt.grid(True)\n",
    "plt.legend(loc=4)\n",
    "plt.xlabel(mixer.index.name)\n",
    "plt.title('분기별 ' + mixer.name + ' 일생산량')"
   ]
  },
  {
   "cell_type": "code",
   "execution_count": null,
   "id": "0f3debf4",
   "metadata": {},
   "outputs": [],
   "source": []
  },
  {
   "cell_type": "code",
   "execution_count": null,
   "id": "04722f99",
   "metadata": {},
   "outputs": [],
   "source": []
  }
 ],
 "metadata": {
  "kernelspec": {
   "display_name": "Python 3 (ipykernel)",
   "language": "python",
   "name": "python3"
  },
  "language_info": {
   "codemirror_mode": {
    "name": "ipython",
    "version": 3
   },
   "file_extension": ".py",
   "mimetype": "text/x-python",
   "name": "python",
   "nbconvert_exporter": "python",
   "pygments_lexer": "ipython3",
   "version": "3.11.2"
  }
 },
 "nbformat": 4,
 "nbformat_minor": 5
}
