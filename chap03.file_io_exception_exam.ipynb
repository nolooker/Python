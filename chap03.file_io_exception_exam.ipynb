{
 "cells": [
  {
   "cell_type": "markdown",
   "id": "313400a9",
   "metadata": {},
   "source": [
    "<h1>파일 입출력과 예외 처리</font></h1>"
   ]
  },
  {
   "cell_type": "markdown",
   "id": "38217ca2",
   "metadata": {},
   "source": [
    "<h4><font color=\"orange\">파일 입출력</font></h4>"
   ]
  },
  {
   "cell_type": "code",
   "execution_count": 1,
   "id": "48117b66",
   "metadata": {},
   "outputs": [
    {
     "data": {
      "text/plain": [
       "'\\n다음은 급여 list입니다.\\nsalaries = [500, 300, 200, 400]\\n급여를 이용하여 연봉 정보를 파일 annsal.txt 파일에 기록하세요.\\n연봉 계산 공식 : 급여가 400이상이면 급여의 12배, 미만이면 13배를 적용합니다.\\n'"
      ]
     },
     "execution_count": 1,
     "metadata": {},
     "output_type": "execute_result"
    }
   ],
   "source": [
    "'''\n",
    "다음은 급여 list입니다.\n",
    "salaries = [500, 300, 200, 400]\n",
    "급여를 이용하여 연봉 정보를 파일 annsal.txt 파일에 기록하세요.\n",
    "연봉 계산 공식 : 급여가 400이상이면 급여의 12배, 미만이면 13배를 적용합니다.\n",
    "'''"
   ]
  },
  {
   "cell_type": "code",
   "execution_count": 17,
   "id": "be5e9c28",
   "metadata": {},
   "outputs": [
    {
     "name": "stdout",
     "output_type": "stream",
     "text": [
      "annsal.txt파일 저장\n"
     ]
    }
   ],
   "source": [
    "filename = 'annsal.txt'\n",
    "myfile = open(filename, mode = 'wt', encoding = 'UTF-8')\n",
    "\n",
    "mylist = [500, 300, 200, 400]\n",
    "for item in mylist :\n",
    "    myfile.write(str(item) + '\\n')\n",
    "\n",
    "# if mylist >= 400 :\n",
    "#     annsal = salaries * 12\n",
    "# else :\n",
    "#     annsal = salaries * 13\n",
    "\n",
    "#end for\n",
    "myfile.close()\n",
    "\n",
    "print(filename + '파일 저장')"
   ]
  },
  {
   "cell_type": "code",
   "execution_count": 22,
   "id": "9d0ae05e",
   "metadata": {},
   "outputs": [
    {
     "data": {
      "text/plain": [
       "[500, 300, 200, 400]"
      ]
     },
     "execution_count": 22,
     "metadata": {},
     "output_type": "execute_result"
    }
   ],
   "source": [
    "myfile02 = open(filename, mode = 'rt', encoding = 'UTF-8')\n",
    "annlist = myfile02.readlines()\n",
    "annlist = [int(item.strip()) for item in annlist]\n",
    "annlist"
   ]
  },
  {
   "cell_type": "code",
   "execution_count": 24,
   "id": "43e69c33",
   "metadata": {},
   "outputs": [
    {
     "ename": "TypeError",
     "evalue": "'>=' not supported between instances of 'list' and 'int'",
     "output_type": "error",
     "traceback": [
      "\u001b[1;31m---------------------------------------------------------------------------\u001b[0m",
      "\u001b[1;31mTypeError\u001b[0m                                 Traceback (most recent call last)",
      "Cell \u001b[1;32mIn[24], line 1\u001b[0m\n\u001b[1;32m----> 1\u001b[0m \u001b[38;5;28;01mif\u001b[39;00m \u001b[43mmylist\u001b[49m\u001b[43m \u001b[49m\u001b[38;5;241;43m>\u001b[39;49m\u001b[38;5;241;43m=\u001b[39;49m\u001b[43m \u001b[49m\u001b[38;5;241;43m400\u001b[39;49m :\n\u001b[0;32m      2\u001b[0m     annsal \u001b[38;5;241m=\u001b[39m salaries \u001b[38;5;241m*\u001b[39m \u001b[38;5;241m12\u001b[39m\n\u001b[0;32m      3\u001b[0m \u001b[38;5;28;01melse\u001b[39;00m :\n",
      "\u001b[1;31mTypeError\u001b[0m: '>=' not supported between instances of 'list' and 'int'"
     ]
    }
   ],
   "source": [
    "annsal = "
   ]
  },
  {
   "cell_type": "code",
   "execution_count": 27,
   "id": "03575d81",
   "metadata": {},
   "outputs": [
    {
     "data": {
      "text/plain": [
       "\"\\n다음 정보(이름, 주소, 급여)를 file03.txt 파일에 구분자를 '#'으로 지정하여 저장해 보세요.\\nmembers = [('김인식', '마포', '200'), ('홍경희', '금천', '100'), ('이순자', '용산', '300')]\\n\\n파일 내용\\n김인식#마포#200\\n홍경희#금천#100\\n이순자#용산#300\\n\""
      ]
     },
     "execution_count": 27,
     "metadata": {},
     "output_type": "execute_result"
    }
   ],
   "source": [
    "'''\n",
    "다음 정보(이름, 주소, 급여)를 file03.txt 파일에 구분자를 '#'으로 지정하여 저장해 보세요.\n",
    "members = [('김인식', '마포', '200'), ('홍경희', '금천', '100'), ('이순자', '용산', '300')]\n",
    "\n",
    "파일 내용\n",
    "김인식#마포#200\n",
    "홍경희#금천#100\n",
    "이순자#용산#300\n",
    "'''"
   ]
  },
  {
   "cell_type": "code",
   "execution_count": 37,
   "id": "10dc021e",
   "metadata": {},
   "outputs": [
    {
     "name": "stdout",
     "output_type": "stream",
     "text": [
      "file03.txt파일 저장됨\n"
     ]
    }
   ],
   "source": [
    "filename03 = 'file03.txt'\n",
    "myfile03 = open(filename03, mode = 'wt', encoding = 'UTF-8')\n",
    "members = [('김인식', '마포', '200'), ('홍경희', '금천', '100'), ('이순자', '용산', '300')]\n",
    "for saram in members :\n",
    "    data = (','.join(saram))\n",
    "    myfile03.write(data + '\\n')\n",
    "    \n",
    "# end for\n",
    "\n",
    "myfile03.close()\n",
    "\n",
    "print(filename03 + '파일 저장됨')"
   ]
  },
  {
   "cell_type": "code",
   "execution_count": 42,
   "id": "eff4772b",
   "metadata": {},
   "outputs": [],
   "source": [
    "myfile03 = open(filename03, mode = 'rt', encoding = 'UTF-8')\n",
    "datalist = myfile03.readlines()\n",
    "datalist = [saram.strip() for saram in datalist]\n",
    "datalist\n",
    "\n",
    "myfile03.close()"
   ]
  },
  {
   "cell_type": "code",
   "execution_count": 49,
   "id": "3d6a36f1",
   "metadata": {
    "scrolled": true
   },
   "outputs": [
    {
     "ename": "IndexError",
     "evalue": "list index out of range",
     "output_type": "error",
     "traceback": [
      "\u001b[1;31m---------------------------------------------------------------------------\u001b[0m",
      "\u001b[1;31mIndexError\u001b[0m                                Traceback (most recent call last)",
      "Cell \u001b[1;32mIn[49], line 4\u001b[0m\n\u001b[0;32m      2\u001b[0m cutlist \u001b[38;5;241m=\u001b[39m saram\u001b[38;5;241m.\u001b[39msplit(\u001b[38;5;124m'\u001b[39m\u001b[38;5;124m#\u001b[39m\u001b[38;5;124m'\u001b[39m)\n\u001b[0;32m      3\u001b[0m name \u001b[38;5;241m=\u001b[39m cutlist[\u001b[38;5;241m0\u001b[39m]\n\u001b[1;32m----> 4\u001b[0m address \u001b[38;5;241m=\u001b[39m \u001b[38;5;28mstr\u001b[39m(\u001b[43mcutlist\u001b[49m\u001b[43m[\u001b[49m\u001b[38;5;241;43m1\u001b[39;49m\u001b[43m]\u001b[49m)\n\u001b[0;32m      5\u001b[0m salary \u001b[38;5;241m=\u001b[39m \u001b[38;5;28mint\u001b[39m(cutlist[\u001b[38;5;241m2\u001b[39m])\n\u001b[0;32m      6\u001b[0m message \u001b[38;5;241m=\u001b[39m \u001b[38;5;124m'\u001b[39m\u001b[38;5;132;01m%s\u001b[39;00m\u001b[38;5;124m 의 주소는 \u001b[39m\u001b[38;5;132;01m%s\u001b[39;00m\u001b[38;5;124m이고, 급여는 \u001b[39m\u001b[38;5;132;01m%d\u001b[39;00m\u001b[38;5;124m 입니다\u001b[39m\u001b[38;5;124m'\u001b[39m\n",
      "\u001b[1;31mIndexError\u001b[0m: list index out of range"
     ]
    }
   ],
   "source": [
    "for saram in datalist :\n",
    "    cutlist = saram.split('#')\n",
    "    name = cutlist[0]\n",
    "    address = str(cutlist[1])\n",
    "    salary = int(cutlist[2])\n",
    "    message = '%s 의 주소는 %s이고, 급여는 %d 입니다'\n",
    "    print(message % (name, address, salary))"
   ]
  },
  {
   "cell_type": "raw",
   "id": "690218cb",
   "metadata": {},
   "source": []
  },
  {
   "cell_type": "code",
   "execution_count": 26,
   "id": "77eb7ebf",
   "metadata": {},
   "outputs": [
    {
     "data": {
      "text/plain": [
       "\"\\nfile03.txt 파일을 읽어서, 다음과 같이 출력되도록 작성해 보세요.\\n이름 최대 : 홍경희\\n주소 최대 : 용산\\n급여 최소 : 100\\n\\n힌트) min('가', '하'), max('마포', '용산'), min(100, 200)\\n\""
      ]
     },
     "execution_count": 26,
     "metadata": {},
     "output_type": "execute_result"
    }
   ],
   "source": [
    "'''\n",
    "file03.txt 파일을 읽어서, 다음과 같이 출력되도록 작성해 보세요.\n",
    "이름 최대 : 홍경희\n",
    "주소 최대 : 용산\n",
    "급여 최소 : 100\n",
    "\n",
    "힌트) min('가', '하'), max('마포', '용산'), min(100, 200)\n",
    "'''"
   ]
  },
  {
   "cell_type": "markdown",
   "id": "9378bc02",
   "metadata": {},
   "source": [
    "<h4><font color=\"orange\">os 모듈과 예외 처리</font></h4>"
   ]
  },
  {
   "cell_type": "code",
   "execution_count": 55,
   "id": "e91f669f",
   "metadata": {},
   "outputs": [
    {
     "data": {
      "text/plain": [
       "\"\\nrandom.sample() 메소드와 다음 list를 사용하여 요소 3개를 추출해 보세요.\\nhumans = ['김유식', '이준수', '홍기영', '박진희', '류지은', '노유정', '박지만']\\nhumans\\n\""
      ]
     },
     "execution_count": 55,
     "metadata": {},
     "output_type": "execute_result"
    }
   ],
   "source": [
    "# 두 수의 각각의 제곱의 합에 root를 씌워 주는 함수 jogobroot(x, y)를 \n",
    "# 외부 모듈 yourmodule.py 파일에 작성하고 테스트해보세요.\n",
    "'''\n",
    "result = yourmodule.jogobroot(3, 5)\n",
    "result = root(9 + 25) = root(34) = 5.830951\n",
    "'''\n",
    "\n",
    "'''\n",
    "random.sample() 메소드와 다음 list를 사용하여 요소 3개를 추출해 보세요.\n",
    "humans = ['김유식', '이준수', '홍기영', '박진희', '류지은', '노유정', '박지만']\n",
    "humans\n",
    "'''"
   ]
  },
  {
   "cell_type": "code",
   "execution_count": null,
   "id": "c95ee8c0",
   "metadata": {},
   "outputs": [],
   "source": []
  },
  {
   "cell_type": "code",
   "execution_count": 51,
   "id": "47f4d594",
   "metadata": {},
   "outputs": [],
   "source": [
    "import os"
   ]
  },
  {
   "cell_type": "code",
   "execution_count": 53,
   "id": "e34b21da",
   "metadata": {},
   "outputs": [
    {
     "name": "stdout",
     "output_type": "stream",
     "text": [
      "<class 'str'>\n",
      "finished\n"
     ]
    }
   ],
   "source": [
    "myfolder = 'd:\\\\'\n",
    "newpath = os.path.join(myfolder, 'test')\n",
    "print(type(newpath))\n",
    "\n",
    "try :\n",
    "    os.mkdir(path = newpath)\n",
    "except FileExistsError as err :\n",
    "    print('파일이나 디렉토리 이미 존재합니다.')\n",
    "    print(err)\n",
    "# end try\n",
    "\n",
    "print('finished')"
   ]
  },
  {
   "cell_type": "code",
   "execution_count": 54,
   "id": "e8d8084d",
   "metadata": {},
   "outputs": [
    {
     "ename": "FileExistsError",
     "evalue": "[WinError 183] 파일이 이미 있으므로 만들 수 없습니다: 'd:\\\\test'",
     "output_type": "error",
     "traceback": [
      "\u001b[1;31m---------------------------------------------------------------------------\u001b[0m",
      "\u001b[1;31mFileExistsError\u001b[0m                           Traceback (most recent call last)",
      "Cell \u001b[1;32mIn[54], line 5\u001b[0m\n\u001b[0;32m      2\u001b[0m     newfolder \u001b[38;5;241m=\u001b[39m os\u001b[38;5;241m.\u001b[39mpath\u001b[38;5;241m.\u001b[39mjoin(newpath, \u001b[38;5;124m'\u001b[39m\u001b[38;5;124mtest\u001b[39m\u001b[38;5;124m'\u001b[39m \u001b[38;5;241m+\u001b[39m \u001b[38;5;28mstr\u001b[39m(idx)\u001b[38;5;241m.\u001b[39mzfill(\u001b[38;5;241m2\u001b[39m))\n\u001b[0;32m      4\u001b[0m \u001b[38;5;28;01mif\u001b[39;00m \u001b[38;5;129;01mnot\u001b[39;00m os\u001b[38;5;241m.\u001b[39mpath\u001b[38;5;241m.\u001b[39mexists(newfolder):\n\u001b[1;32m----> 5\u001b[0m     \u001b[43mos\u001b[49m\u001b[38;5;241;43m.\u001b[39;49m\u001b[43mmkdir\u001b[49m\u001b[43m(\u001b[49m\u001b[43mpath\u001b[49m\u001b[43m \u001b[49m\u001b[38;5;241;43m=\u001b[39;49m\u001b[43m \u001b[49m\u001b[43mnewpath\u001b[49m\u001b[43m)\u001b[49m\n\u001b[0;32m      6\u001b[0m \u001b[38;5;28;01melse\u001b[39;00m :\n\u001b[0;32m      7\u001b[0m     \u001b[38;5;28mprint\u001b[39m(\u001b[38;5;124m'\u001b[39m\u001b[38;5;124m파일이나 디렉토리 이미 존재\u001b[39m\u001b[38;5;124m'\u001b[39m)\n",
      "\u001b[1;31mFileExistsError\u001b[0m: [WinError 183] 파일이 이미 있으므로 만들 수 없습니다: 'd:\\\\test'"
     ]
    }
   ],
   "source": [
    "for idx in range(1,11) :\n",
    "    newfolder = os.path.join(newpath, 'test' + str(idx).zfill(2))\n",
    "    \n",
    "if not os.path.exists(newfolder):\n",
    "    os.mkdir(path = newpath)\n",
    "else :\n",
    "    print('파일이나 디렉토리 이미 존재')\n",
    "\n",
    "# end for\n",
    "\n",
    "print('finished')"
   ]
  },
  {
   "cell_type": "code",
   "execution_count": null,
   "id": "6dcfdf0e",
   "metadata": {},
   "outputs": [],
   "source": []
  },
  {
   "cell_type": "code",
   "execution_count": null,
   "id": "489e7deb",
   "metadata": {},
   "outputs": [],
   "source": []
  }
 ],
 "metadata": {
  "kernelspec": {
   "display_name": "Python 3 (ipykernel)",
   "language": "python",
   "name": "python3"
  },
  "language_info": {
   "codemirror_mode": {
    "name": "ipython",
    "version": 3
   },
   "file_extension": ".py",
   "mimetype": "text/x-python",
   "name": "python",
   "nbconvert_exporter": "python",
   "pygments_lexer": "ipython3",
   "version": "3.11.2"
  }
 },
 "nbformat": 4,
 "nbformat_minor": 5
}
