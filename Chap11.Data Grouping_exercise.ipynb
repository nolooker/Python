{
 "cells": [
  {
   "cell_type": "markdown",
   "id": "e48a2724",
   "metadata": {},
   "source": [
    "<h1>데이터 그룹화</h1>"
   ]
  },
  {
   "cell_type": "markdown",
   "id": "f2d0d927",
   "metadata": {},
   "source": [
    "<h3>groupby mechanism</h3>"
   ]
  },
  {
   "cell_type": "markdown",
   "id": "e37ab8cf",
   "metadata": {},
   "source": [
    "<h4>데이터 확인</h4>"
   ]
  },
  {
   "cell_type": "code",
   "execution_count": 2,
   "id": "cfa1370c",
   "metadata": {},
   "outputs": [],
   "source": [
    "import pandas as pd\n",
    "import numpy as np"
   ]
  },
  {
   "cell_type": "code",
   "execution_count": 29,
   "id": "eb99faf7",
   "metadata": {},
   "outputs": [
    {
     "data": {
      "text/html": [
       "<div>\n",
       "<style scoped>\n",
       "    .dataframe tbody tr th:only-of-type {\n",
       "        vertical-align: middle;\n",
       "    }\n",
       "\n",
       "    .dataframe tbody tr th {\n",
       "        vertical-align: top;\n",
       "    }\n",
       "\n",
       "    .dataframe thead th {\n",
       "        text-align: right;\n",
       "    }\n",
       "</style>\n",
       "<table border=\"1\" class=\"dataframe\">\n",
       "  <thead>\n",
       "    <tr style=\"text-align: right;\">\n",
       "      <th></th>\n",
       "      <th>name</th>\n",
       "      <th>product</th>\n",
       "      <th>pay</th>\n",
       "      <th>price</th>\n",
       "      <th>qty</th>\n",
       "    </tr>\n",
       "  </thead>\n",
       "  <tbody>\n",
       "    <tr>\n",
       "      <th>0</th>\n",
       "      <td>김철수</td>\n",
       "      <td>사과</td>\n",
       "      <td>현금</td>\n",
       "      <td>1000</td>\n",
       "      <td>10</td>\n",
       "    </tr>\n",
       "    <tr>\n",
       "      <th>1</th>\n",
       "      <td>김철수</td>\n",
       "      <td>사과</td>\n",
       "      <td>직불카드</td>\n",
       "      <td>2000</td>\n",
       "      <td>15</td>\n",
       "    </tr>\n",
       "    <tr>\n",
       "      <th>2</th>\n",
       "      <td>김철수</td>\n",
       "      <td>사과</td>\n",
       "      <td>현금</td>\n",
       "      <td>3000</td>\n",
       "      <td>20</td>\n",
       "    </tr>\n",
       "    <tr>\n",
       "      <th>3</th>\n",
       "      <td>김철수</td>\n",
       "      <td>사과</td>\n",
       "      <td>신용카드</td>\n",
       "      <td>6000</td>\n",
       "      <td>10</td>\n",
       "    </tr>\n",
       "    <tr>\n",
       "      <th>4</th>\n",
       "      <td>김철수</td>\n",
       "      <td>사과</td>\n",
       "      <td>신용카드</td>\n",
       "      <td>5000</td>\n",
       "      <td>30</td>\n",
       "    </tr>\n",
       "    <tr>\n",
       "      <th>5</th>\n",
       "      <td>김철수</td>\n",
       "      <td>포도</td>\n",
       "      <td>현금</td>\n",
       "      <td>3000</td>\n",
       "      <td>15</td>\n",
       "    </tr>\n",
       "    <tr>\n",
       "      <th>6</th>\n",
       "      <td>김철수</td>\n",
       "      <td>포도</td>\n",
       "      <td>현금</td>\n",
       "      <td>4000</td>\n",
       "      <td>15</td>\n",
       "    </tr>\n",
       "    <tr>\n",
       "      <th>7</th>\n",
       "      <td>김철수</td>\n",
       "      <td>포도</td>\n",
       "      <td>신용카드</td>\n",
       "      <td>1000</td>\n",
       "      <td>10</td>\n",
       "    </tr>\n",
       "    <tr>\n",
       "      <th>8</th>\n",
       "      <td>김철수</td>\n",
       "      <td>포도</td>\n",
       "      <td>신용카드</td>\n",
       "      <td>2000</td>\n",
       "      <td>30</td>\n",
       "    </tr>\n",
       "    <tr>\n",
       "      <th>9</th>\n",
       "      <td>박영희</td>\n",
       "      <td>사과</td>\n",
       "      <td>현금</td>\n",
       "      <td>3000</td>\n",
       "      <td>20</td>\n",
       "    </tr>\n",
       "    <tr>\n",
       "      <th>10</th>\n",
       "      <td>박영희</td>\n",
       "      <td>사과</td>\n",
       "      <td>현금</td>\n",
       "      <td>4000</td>\n",
       "      <td>15</td>\n",
       "    </tr>\n",
       "    <tr>\n",
       "      <th>11</th>\n",
       "      <td>박영희</td>\n",
       "      <td>사과</td>\n",
       "      <td>신용카드</td>\n",
       "      <td>5000</td>\n",
       "      <td>10</td>\n",
       "    </tr>\n",
       "    <tr>\n",
       "      <th>12</th>\n",
       "      <td>박영희</td>\n",
       "      <td>사과</td>\n",
       "      <td>신용카드</td>\n",
       "      <td>5000</td>\n",
       "      <td>30</td>\n",
       "    </tr>\n",
       "    <tr>\n",
       "      <th>13</th>\n",
       "      <td>박영희</td>\n",
       "      <td>포도</td>\n",
       "      <td>현금</td>\n",
       "      <td>2000</td>\n",
       "      <td>15</td>\n",
       "    </tr>\n",
       "    <tr>\n",
       "      <th>14</th>\n",
       "      <td>박영희</td>\n",
       "      <td>포도</td>\n",
       "      <td>현금</td>\n",
       "      <td>4000</td>\n",
       "      <td>30</td>\n",
       "    </tr>\n",
       "    <tr>\n",
       "      <th>15</th>\n",
       "      <td>박영희</td>\n",
       "      <td>포도</td>\n",
       "      <td>신용카드</td>\n",
       "      <td>1000</td>\n",
       "      <td>30</td>\n",
       "    </tr>\n",
       "    <tr>\n",
       "      <th>16</th>\n",
       "      <td>박영희</td>\n",
       "      <td>포도</td>\n",
       "      <td>신용카드</td>\n",
       "      <td>5000</td>\n",
       "      <td>10</td>\n",
       "    </tr>\n",
       "  </tbody>\n",
       "</table>\n",
       "</div>"
      ],
      "text/plain": [
       "   name product   pay  price  qty\n",
       "0   김철수      사과    현금   1000   10\n",
       "1   김철수      사과  직불카드   2000   15\n",
       "2   김철수      사과    현금   3000   20\n",
       "3   김철수      사과  신용카드   6000   10\n",
       "4   김철수      사과  신용카드   5000   30\n",
       "5   김철수      포도    현금   3000   15\n",
       "6   김철수      포도    현금   4000   15\n",
       "7   김철수      포도  신용카드   1000   10\n",
       "8   김철수      포도  신용카드   2000   30\n",
       "9   박영희      사과    현금   3000   20\n",
       "10  박영희      사과    현금   4000   15\n",
       "11  박영희      사과  신용카드   5000   10\n",
       "12  박영희      사과  신용카드   5000   30\n",
       "13  박영희      포도    현금   2000   15\n",
       "14  박영희      포도    현금   4000   30\n",
       "15  박영희      포도  신용카드   1000   30\n",
       "16  박영희      포도  신용카드   5000   10"
      ]
     },
     "execution_count": 29,
     "metadata": {},
     "output_type": "execute_result"
    }
   ],
   "source": [
    "pay_info = pd.read_csv('./../data/pay_info.csv', encoding='CP949')\n",
    "pay_info"
   ]
  },
  {
   "cell_type": "markdown",
   "id": "85984015",
   "metadata": {},
   "source": [
    "<h6>'성별'에 따른 '교통비' 집계</h6>"
   ]
  },
  {
   "cell_type": "code",
   "execution_count": 30,
   "id": "e0102a22",
   "metadata": {
    "scrolled": true
   },
   "outputs": [
    {
     "data": {
      "text/html": [
       "<div>\n",
       "<style scoped>\n",
       "    .dataframe tbody tr th:only-of-type {\n",
       "        vertical-align: middle;\n",
       "    }\n",
       "\n",
       "    .dataframe tbody tr th {\n",
       "        vertical-align: top;\n",
       "    }\n",
       "\n",
       "    .dataframe thead th {\n",
       "        text-align: right;\n",
       "    }\n",
       "</style>\n",
       "<table border=\"1\" class=\"dataframe\">\n",
       "  <thead>\n",
       "    <tr style=\"text-align: right;\">\n",
       "      <th></th>\n",
       "      <th>price</th>\n",
       "    </tr>\n",
       "    <tr>\n",
       "      <th>product</th>\n",
       "      <th></th>\n",
       "    </tr>\n",
       "  </thead>\n",
       "  <tbody>\n",
       "    <tr>\n",
       "      <th>사과</th>\n",
       "      <td>34000</td>\n",
       "    </tr>\n",
       "    <tr>\n",
       "      <th>포도</th>\n",
       "      <td>22000</td>\n",
       "    </tr>\n",
       "  </tbody>\n",
       "</table>\n",
       "</div>"
      ],
      "text/plain": [
       "         price\n",
       "product       \n",
       "사과       34000\n",
       "포도       22000"
      ]
     },
     "execution_count": 30,
     "metadata": {},
     "output_type": "execute_result"
    }
   ],
   "source": [
    "mygrouping = pay_info.groupby('product')['price']\n",
    "mygrouping.sum().to_frame()"
   ]
  },
  {
   "cell_type": "code",
   "execution_count": 31,
   "id": "ca21bc62",
   "metadata": {},
   "outputs": [
    {
     "data": {
      "text/html": [
       "<div>\n",
       "<style scoped>\n",
       "    .dataframe tbody tr th:only-of-type {\n",
       "        vertical-align: middle;\n",
       "    }\n",
       "\n",
       "    .dataframe tbody tr th {\n",
       "        vertical-align: top;\n",
       "    }\n",
       "\n",
       "    .dataframe thead th {\n",
       "        text-align: right;\n",
       "    }\n",
       "</style>\n",
       "<table border=\"1\" class=\"dataframe\">\n",
       "  <thead>\n",
       "    <tr style=\"text-align: right;\">\n",
       "      <th></th>\n",
       "      <th>price</th>\n",
       "    </tr>\n",
       "    <tr>\n",
       "      <th>product</th>\n",
       "      <th></th>\n",
       "    </tr>\n",
       "  </thead>\n",
       "  <tbody>\n",
       "    <tr>\n",
       "      <th>사과</th>\n",
       "      <td>9</td>\n",
       "    </tr>\n",
       "    <tr>\n",
       "      <th>포도</th>\n",
       "      <td>8</td>\n",
       "    </tr>\n",
       "  </tbody>\n",
       "</table>\n",
       "</div>"
      ],
      "text/plain": [
       "         price\n",
       "product       \n",
       "사과           9\n",
       "포도           8"
      ]
     },
     "execution_count": 31,
     "metadata": {},
     "output_type": "execute_result"
    }
   ],
   "source": [
    "mygrouping.count().to_frame()"
   ]
  },
  {
   "cell_type": "markdown",
   "id": "22fb69b4",
   "metadata": {},
   "source": [
    "<h6>agg를 사용한 집계 사용</h6>"
   ]
  },
  {
   "cell_type": "code",
   "execution_count": 32,
   "id": "aa7ea397",
   "metadata": {},
   "outputs": [
    {
     "data": {
      "text/html": [
       "<div>\n",
       "<style scoped>\n",
       "    .dataframe tbody tr th:only-of-type {\n",
       "        vertical-align: middle;\n",
       "    }\n",
       "\n",
       "    .dataframe tbody tr th {\n",
       "        vertical-align: top;\n",
       "    }\n",
       "\n",
       "    .dataframe thead th {\n",
       "        text-align: right;\n",
       "    }\n",
       "</style>\n",
       "<table border=\"1\" class=\"dataframe\">\n",
       "  <thead>\n",
       "    <tr style=\"text-align: right;\">\n",
       "      <th></th>\n",
       "      <th>qty</th>\n",
       "    </tr>\n",
       "    <tr>\n",
       "      <th>name</th>\n",
       "      <th></th>\n",
       "    </tr>\n",
       "  </thead>\n",
       "  <tbody>\n",
       "    <tr>\n",
       "      <th>김철수</th>\n",
       "      <td>17.222222</td>\n",
       "    </tr>\n",
       "    <tr>\n",
       "      <th>박영희</th>\n",
       "      <td>20.000000</td>\n",
       "    </tr>\n",
       "  </tbody>\n",
       "</table>\n",
       "</div>"
      ],
      "text/plain": [
       "            qty\n",
       "name           \n",
       "김철수   17.222222\n",
       "박영희   20.000000"
      ]
     },
     "execution_count": 32,
     "metadata": {},
     "output_type": "execute_result"
    }
   ],
   "source": [
    "result = pay_info.groupby('name')['qty'].agg('mean')\n",
    "result.to_frame()"
   ]
  },
  {
   "cell_type": "markdown",
   "id": "caef5457",
   "metadata": {},
   "source": [
    "<h6>2개 이상의 컬럼에 대한 집계 사용</h6>"
   ]
  },
  {
   "cell_type": "code",
   "execution_count": 33,
   "id": "577b652a",
   "metadata": {},
   "outputs": [
    {
     "data": {
      "text/html": [
       "<div>\n",
       "<style scoped>\n",
       "    .dataframe tbody tr th:only-of-type {\n",
       "        vertical-align: middle;\n",
       "    }\n",
       "\n",
       "    .dataframe tbody tr th {\n",
       "        vertical-align: top;\n",
       "    }\n",
       "\n",
       "    .dataframe thead th {\n",
       "        text-align: right;\n",
       "    }\n",
       "</style>\n",
       "<table border=\"1\" class=\"dataframe\">\n",
       "  <thead>\n",
       "    <tr style=\"text-align: right;\">\n",
       "      <th></th>\n",
       "      <th></th>\n",
       "      <th>price</th>\n",
       "    </tr>\n",
       "    <tr>\n",
       "      <th>name</th>\n",
       "      <th>product</th>\n",
       "      <th></th>\n",
       "    </tr>\n",
       "  </thead>\n",
       "  <tbody>\n",
       "    <tr>\n",
       "      <th rowspan=\"2\" valign=\"top\">김철수</th>\n",
       "      <th>사과</th>\n",
       "      <td>3400.0</td>\n",
       "    </tr>\n",
       "    <tr>\n",
       "      <th>포도</th>\n",
       "      <td>2500.0</td>\n",
       "    </tr>\n",
       "    <tr>\n",
       "      <th rowspan=\"2\" valign=\"top\">박영희</th>\n",
       "      <th>사과</th>\n",
       "      <td>4250.0</td>\n",
       "    </tr>\n",
       "    <tr>\n",
       "      <th>포도</th>\n",
       "      <td>3000.0</td>\n",
       "    </tr>\n",
       "  </tbody>\n",
       "</table>\n",
       "</div>"
      ],
      "text/plain": [
       "               price\n",
       "name product        \n",
       "김철수  사과       3400.0\n",
       "     포도       2500.0\n",
       "박영희  사과       4250.0\n",
       "     포도       3000.0"
      ]
     },
     "execution_count": 33,
     "metadata": {},
     "output_type": "execute_result"
    }
   ],
   "source": [
    "result = pay_info.groupby(['name', 'product'])['price'].agg('mean')\n",
    "result.to_frame()"
   ]
  },
  {
   "cell_type": "code",
   "execution_count": 53,
   "id": "4e3d16cb",
   "metadata": {
    "scrolled": true
   },
   "outputs": [
    {
     "data": {
      "text/html": [
       "<div>\n",
       "<style scoped>\n",
       "    .dataframe tbody tr th:only-of-type {\n",
       "        vertical-align: middle;\n",
       "    }\n",
       "\n",
       "    .dataframe tbody tr th {\n",
       "        vertical-align: top;\n",
       "    }\n",
       "\n",
       "    .dataframe thead tr th {\n",
       "        text-align: left;\n",
       "    }\n",
       "\n",
       "    .dataframe thead tr:last-of-type th {\n",
       "        text-align: right;\n",
       "    }\n",
       "</style>\n",
       "<table border=\"1\" class=\"dataframe\">\n",
       "  <thead>\n",
       "    <tr>\n",
       "      <th></th>\n",
       "      <th></th>\n",
       "      <th colspan=\"2\" halign=\"left\">price</th>\n",
       "    </tr>\n",
       "    <tr>\n",
       "      <th></th>\n",
       "      <th></th>\n",
       "      <th>sum</th>\n",
       "      <th>max</th>\n",
       "    </tr>\n",
       "    <tr>\n",
       "      <th>product</th>\n",
       "      <th>name</th>\n",
       "      <th></th>\n",
       "      <th></th>\n",
       "    </tr>\n",
       "  </thead>\n",
       "  <tbody>\n",
       "    <tr>\n",
       "      <th rowspan=\"2\" valign=\"top\">사과</th>\n",
       "      <th>김철수</th>\n",
       "      <td>17000</td>\n",
       "      <td>6000</td>\n",
       "    </tr>\n",
       "    <tr>\n",
       "      <th>박영희</th>\n",
       "      <td>17000</td>\n",
       "      <td>5000</td>\n",
       "    </tr>\n",
       "    <tr>\n",
       "      <th rowspan=\"2\" valign=\"top\">포도</th>\n",
       "      <th>김철수</th>\n",
       "      <td>10000</td>\n",
       "      <td>4000</td>\n",
       "    </tr>\n",
       "    <tr>\n",
       "      <th>박영희</th>\n",
       "      <td>12000</td>\n",
       "      <td>5000</td>\n",
       "    </tr>\n",
       "  </tbody>\n",
       "</table>\n",
       "</div>"
      ],
      "text/plain": [
       "              price      \n",
       "                sum   max\n",
       "product name             \n",
       "사과      김철수   17000  6000\n",
       "        박영희   17000  5000\n",
       "포도      김철수   10000  4000\n",
       "        박영희   12000  5000"
      ]
     },
     "execution_count": 53,
     "metadata": {},
     "output_type": "execute_result"
    }
   ],
   "source": [
    "result = pay_info.groupby(['product', 'name']).agg({'price':['sum', 'max']})\n",
    "result"
   ]
  },
  {
   "cell_type": "code",
   "execution_count": 55,
   "id": "e740f4ea",
   "metadata": {
    "scrolled": true
   },
   "outputs": [
    {
     "data": {
      "text/plain": [
       "Index(['price', 'price'], dtype='object')"
      ]
     },
     "execution_count": 55,
     "metadata": {},
     "output_type": "execute_result"
    }
   ],
   "source": [
    "outer_column = result.columns.get_level_values(0)\n",
    "outer_column"
   ]
  },
  {
   "cell_type": "code",
   "execution_count": 56,
   "id": "40d8386f",
   "metadata": {},
   "outputs": [
    {
     "data": {
      "text/plain": [
       "['총합', '최대']"
      ]
     },
     "execution_count": 56,
     "metadata": {},
     "output_type": "execute_result"
    }
   ],
   "source": [
    "hangul_dict = {'sum':'총합', 'mean':'평균', 'max':'최대', 'min':'최소'}\n",
    "inner_column = result.columns.get_level_values(1)\n",
    "inner_column = [hangul_dict[item] for item in inner_column.tolist()]\n",
    "inner_column"
   ]
  },
  {
   "cell_type": "code",
   "execution_count": 57,
   "id": "0f27a52f",
   "metadata": {
    "scrolled": true
   },
   "outputs": [
    {
     "data": {
      "text/html": [
       "<div>\n",
       "<style scoped>\n",
       "    .dataframe tbody tr th:only-of-type {\n",
       "        vertical-align: middle;\n",
       "    }\n",
       "\n",
       "    .dataframe tbody tr th {\n",
       "        vertical-align: top;\n",
       "    }\n",
       "\n",
       "    .dataframe thead th {\n",
       "        text-align: right;\n",
       "    }\n",
       "</style>\n",
       "<table border=\"1\" class=\"dataframe\">\n",
       "  <thead>\n",
       "    <tr style=\"text-align: right;\">\n",
       "      <th></th>\n",
       "      <th></th>\n",
       "      <th>price_총합</th>\n",
       "      <th>price_최대</th>\n",
       "    </tr>\n",
       "    <tr>\n",
       "      <th>product</th>\n",
       "      <th>name</th>\n",
       "      <th></th>\n",
       "      <th></th>\n",
       "    </tr>\n",
       "  </thead>\n",
       "  <tbody>\n",
       "    <tr>\n",
       "      <th rowspan=\"2\" valign=\"top\">사과</th>\n",
       "      <th>김철수</th>\n",
       "      <td>17000</td>\n",
       "      <td>6000</td>\n",
       "    </tr>\n",
       "    <tr>\n",
       "      <th>박영희</th>\n",
       "      <td>17000</td>\n",
       "      <td>5000</td>\n",
       "    </tr>\n",
       "    <tr>\n",
       "      <th rowspan=\"2\" valign=\"top\">포도</th>\n",
       "      <th>김철수</th>\n",
       "      <td>10000</td>\n",
       "      <td>4000</td>\n",
       "    </tr>\n",
       "    <tr>\n",
       "      <th>박영희</th>\n",
       "      <td>12000</td>\n",
       "      <td>5000</td>\n",
       "    </tr>\n",
       "  </tbody>\n",
       "</table>\n",
       "</div>"
      ],
      "text/plain": [
       "              price_총합  price_최대\n",
       "product name                    \n",
       "사과      김철수      17000      6000\n",
       "        박영희      17000      5000\n",
       "포도      김철수      10000      4000\n",
       "        박영희      12000      5000"
      ]
     },
     "execution_count": 57,
     "metadata": {},
     "output_type": "execute_result"
    }
   ],
   "source": [
    "result.columns = outer_column + '_' + inner_column\n",
    "result"
   ]
  },
  {
   "cell_type": "code",
   "execution_count": 59,
   "id": "b69c649d",
   "metadata": {
    "scrolled": true
   },
   "outputs": [
    {
     "data": {
      "text/html": [
       "<div>\n",
       "<style scoped>\n",
       "    .dataframe tbody tr th:only-of-type {\n",
       "        vertical-align: middle;\n",
       "    }\n",
       "\n",
       "    .dataframe tbody tr th {\n",
       "        vertical-align: top;\n",
       "    }\n",
       "\n",
       "    .dataframe thead th {\n",
       "        text-align: right;\n",
       "    }\n",
       "</style>\n",
       "<table border=\"1\" class=\"dataframe\">\n",
       "  <thead>\n",
       "    <tr style=\"text-align: right;\">\n",
       "      <th></th>\n",
       "      <th>product</th>\n",
       "      <th>name</th>\n",
       "      <th>price_총합</th>\n",
       "      <th>price_최대</th>\n",
       "    </tr>\n",
       "  </thead>\n",
       "  <tbody>\n",
       "    <tr>\n",
       "      <th>0</th>\n",
       "      <td>사과</td>\n",
       "      <td>김철수</td>\n",
       "      <td>17000</td>\n",
       "      <td>6000</td>\n",
       "    </tr>\n",
       "    <tr>\n",
       "      <th>1</th>\n",
       "      <td>사과</td>\n",
       "      <td>박영희</td>\n",
       "      <td>17000</td>\n",
       "      <td>5000</td>\n",
       "    </tr>\n",
       "    <tr>\n",
       "      <th>2</th>\n",
       "      <td>포도</td>\n",
       "      <td>김철수</td>\n",
       "      <td>10000</td>\n",
       "      <td>4000</td>\n",
       "    </tr>\n",
       "    <tr>\n",
       "      <th>3</th>\n",
       "      <td>포도</td>\n",
       "      <td>박영희</td>\n",
       "      <td>12000</td>\n",
       "      <td>5000</td>\n",
       "    </tr>\n",
       "  </tbody>\n",
       "</table>\n",
       "</div>"
      ],
      "text/plain": [
       "  product name  price_총합  price_최대\n",
       "0      사과  김철수     17000      6000\n",
       "1      사과  박영희     17000      5000\n",
       "2      포도  김철수     10000      4000\n",
       "3      포도  박영희     12000      5000"
      ]
     },
     "execution_count": 59,
     "metadata": {},
     "output_type": "execute_result"
    }
   ],
   "source": [
    "result.reset_index()"
   ]
  },
  {
   "cell_type": "markdown",
   "id": "e7f4de13",
   "metadata": {},
   "source": [
    "<h3><font color=\"blue\">agg() 함수 커스터마이징</font></h3>"
   ]
  },
  {
   "cell_type": "code",
   "execution_count": 76,
   "id": "7deb06cb",
   "metadata": {},
   "outputs": [],
   "source": [
    "def get_rate(data):\n",
    "    return (data=='사과').mean()"
   ]
  },
  {
   "cell_type": "code",
   "execution_count": 77,
   "id": "b2d9cdc3",
   "metadata": {},
   "outputs": [
    {
     "data": {
      "text/html": [
       "<div>\n",
       "<style scoped>\n",
       "    .dataframe tbody tr th:only-of-type {\n",
       "        vertical-align: middle;\n",
       "    }\n",
       "\n",
       "    .dataframe tbody tr th {\n",
       "        vertical-align: top;\n",
       "    }\n",
       "\n",
       "    .dataframe thead th {\n",
       "        text-align: right;\n",
       "    }\n",
       "</style>\n",
       "<table border=\"1\" class=\"dataframe\">\n",
       "  <thead>\n",
       "    <tr style=\"text-align: right;\">\n",
       "      <th></th>\n",
       "      <th>product</th>\n",
       "    </tr>\n",
       "    <tr>\n",
       "      <th>name</th>\n",
       "      <th></th>\n",
       "    </tr>\n",
       "  </thead>\n",
       "  <tbody>\n",
       "    <tr>\n",
       "      <th>김철수</th>\n",
       "      <td>0.555556</td>\n",
       "    </tr>\n",
       "    <tr>\n",
       "      <th>박영희</th>\n",
       "      <td>0.500000</td>\n",
       "    </tr>\n",
       "  </tbody>\n",
       "</table>\n",
       "</div>"
      ],
      "text/plain": [
       "       product\n",
       "name          \n",
       "김철수   0.555556\n",
       "박영희   0.500000"
      ]
     },
     "execution_count": 77,
     "metadata": {},
     "output_type": "execute_result"
    }
   ],
   "source": [
    "result = pay_info.groupby('name')['product'].agg(get_rate)\n",
    "result.to_frame()"
   ]
  },
  {
   "cell_type": "code",
   "execution_count": 78,
   "id": "4aa7057a",
   "metadata": {},
   "outputs": [],
   "source": [
    "def get_rate_pct(data, fruit):\n",
    "    return (data==fruit).mean()"
   ]
  },
  {
   "cell_type": "code",
   "execution_count": 79,
   "id": "9d9408ad",
   "metadata": {},
   "outputs": [
    {
     "data": {
      "text/html": [
       "<div>\n",
       "<style scoped>\n",
       "    .dataframe tbody tr th:only-of-type {\n",
       "        vertical-align: middle;\n",
       "    }\n",
       "\n",
       "    .dataframe tbody tr th {\n",
       "        vertical-align: top;\n",
       "    }\n",
       "\n",
       "    .dataframe thead th {\n",
       "        text-align: right;\n",
       "    }\n",
       "</style>\n",
       "<table border=\"1\" class=\"dataframe\">\n",
       "  <thead>\n",
       "    <tr style=\"text-align: right;\">\n",
       "      <th></th>\n",
       "      <th>product</th>\n",
       "    </tr>\n",
       "    <tr>\n",
       "      <th>name</th>\n",
       "      <th></th>\n",
       "    </tr>\n",
       "  </thead>\n",
       "  <tbody>\n",
       "    <tr>\n",
       "      <th>김철수</th>\n",
       "      <td>0.444444</td>\n",
       "    </tr>\n",
       "    <tr>\n",
       "      <th>박영희</th>\n",
       "      <td>0.500000</td>\n",
       "    </tr>\n",
       "  </tbody>\n",
       "</table>\n",
       "</div>"
      ],
      "text/plain": [
       "       product\n",
       "name          \n",
       "김철수   0.444444\n",
       "박영희   0.500000"
      ]
     },
     "execution_count": 79,
     "metadata": {},
     "output_type": "execute_result"
    }
   ],
   "source": [
    "result = pay_info.groupby('name')['product'].agg(get_rate_pct, '포도')\n",
    "result.to_frame()"
   ]
  },
  {
   "cell_type": "markdown",
   "id": "06424beb",
   "metadata": {},
   "source": [
    "<h3>groupby 객체 살펴 보기</h3>"
   ]
  },
  {
   "cell_type": "code",
   "execution_count": 69,
   "id": "fbc17357",
   "metadata": {},
   "outputs": [
    {
     "data": {
      "text/html": [
       "<div>\n",
       "<style scoped>\n",
       "    .dataframe tbody tr th:only-of-type {\n",
       "        vertical-align: middle;\n",
       "    }\n",
       "\n",
       "    .dataframe tbody tr th {\n",
       "        vertical-align: top;\n",
       "    }\n",
       "\n",
       "    .dataframe thead th {\n",
       "        text-align: right;\n",
       "    }\n",
       "</style>\n",
       "<table border=\"1\" class=\"dataframe\">\n",
       "  <thead>\n",
       "    <tr style=\"text-align: right;\">\n",
       "      <th></th>\n",
       "      <th>name</th>\n",
       "      <th>product</th>\n",
       "      <th>pay</th>\n",
       "      <th>price</th>\n",
       "      <th>qty</th>\n",
       "    </tr>\n",
       "  </thead>\n",
       "  <tbody>\n",
       "    <tr>\n",
       "      <th>0</th>\n",
       "      <td>김철수</td>\n",
       "      <td>사과</td>\n",
       "      <td>현금</td>\n",
       "      <td>1000</td>\n",
       "      <td>10</td>\n",
       "    </tr>\n",
       "    <tr>\n",
       "      <th>1</th>\n",
       "      <td>김철수</td>\n",
       "      <td>사과</td>\n",
       "      <td>직불카드</td>\n",
       "      <td>2000</td>\n",
       "      <td>15</td>\n",
       "    </tr>\n",
       "    <tr>\n",
       "      <th>2</th>\n",
       "      <td>김철수</td>\n",
       "      <td>사과</td>\n",
       "      <td>현금</td>\n",
       "      <td>3000</td>\n",
       "      <td>20</td>\n",
       "    </tr>\n",
       "    <tr>\n",
       "      <th>3</th>\n",
       "      <td>김철수</td>\n",
       "      <td>사과</td>\n",
       "      <td>신용카드</td>\n",
       "      <td>6000</td>\n",
       "      <td>10</td>\n",
       "    </tr>\n",
       "    <tr>\n",
       "      <th>4</th>\n",
       "      <td>김철수</td>\n",
       "      <td>사과</td>\n",
       "      <td>신용카드</td>\n",
       "      <td>5000</td>\n",
       "      <td>30</td>\n",
       "    </tr>\n",
       "    <tr>\n",
       "      <th>5</th>\n",
       "      <td>김철수</td>\n",
       "      <td>포도</td>\n",
       "      <td>현금</td>\n",
       "      <td>3000</td>\n",
       "      <td>15</td>\n",
       "    </tr>\n",
       "    <tr>\n",
       "      <th>6</th>\n",
       "      <td>김철수</td>\n",
       "      <td>포도</td>\n",
       "      <td>현금</td>\n",
       "      <td>4000</td>\n",
       "      <td>15</td>\n",
       "    </tr>\n",
       "    <tr>\n",
       "      <th>7</th>\n",
       "      <td>김철수</td>\n",
       "      <td>포도</td>\n",
       "      <td>신용카드</td>\n",
       "      <td>1000</td>\n",
       "      <td>10</td>\n",
       "    </tr>\n",
       "    <tr>\n",
       "      <th>8</th>\n",
       "      <td>김철수</td>\n",
       "      <td>포도</td>\n",
       "      <td>신용카드</td>\n",
       "      <td>2000</td>\n",
       "      <td>30</td>\n",
       "    </tr>\n",
       "    <tr>\n",
       "      <th>9</th>\n",
       "      <td>박영희</td>\n",
       "      <td>사과</td>\n",
       "      <td>현금</td>\n",
       "      <td>3000</td>\n",
       "      <td>20</td>\n",
       "    </tr>\n",
       "    <tr>\n",
       "      <th>10</th>\n",
       "      <td>박영희</td>\n",
       "      <td>사과</td>\n",
       "      <td>현금</td>\n",
       "      <td>4000</td>\n",
       "      <td>15</td>\n",
       "    </tr>\n",
       "    <tr>\n",
       "      <th>11</th>\n",
       "      <td>박영희</td>\n",
       "      <td>사과</td>\n",
       "      <td>신용카드</td>\n",
       "      <td>5000</td>\n",
       "      <td>10</td>\n",
       "    </tr>\n",
       "    <tr>\n",
       "      <th>12</th>\n",
       "      <td>박영희</td>\n",
       "      <td>사과</td>\n",
       "      <td>신용카드</td>\n",
       "      <td>5000</td>\n",
       "      <td>30</td>\n",
       "    </tr>\n",
       "    <tr>\n",
       "      <th>13</th>\n",
       "      <td>박영희</td>\n",
       "      <td>포도</td>\n",
       "      <td>현금</td>\n",
       "      <td>2000</td>\n",
       "      <td>15</td>\n",
       "    </tr>\n",
       "    <tr>\n",
       "      <th>14</th>\n",
       "      <td>박영희</td>\n",
       "      <td>포도</td>\n",
       "      <td>현금</td>\n",
       "      <td>4000</td>\n",
       "      <td>30</td>\n",
       "    </tr>\n",
       "    <tr>\n",
       "      <th>15</th>\n",
       "      <td>박영희</td>\n",
       "      <td>포도</td>\n",
       "      <td>신용카드</td>\n",
       "      <td>1000</td>\n",
       "      <td>30</td>\n",
       "    </tr>\n",
       "    <tr>\n",
       "      <th>16</th>\n",
       "      <td>박영희</td>\n",
       "      <td>포도</td>\n",
       "      <td>신용카드</td>\n",
       "      <td>5000</td>\n",
       "      <td>10</td>\n",
       "    </tr>\n",
       "  </tbody>\n",
       "</table>\n",
       "</div>"
      ],
      "text/plain": [
       "   name product   pay  price  qty\n",
       "0   김철수      사과    현금   1000   10\n",
       "1   김철수      사과  직불카드   2000   15\n",
       "2   김철수      사과    현금   3000   20\n",
       "3   김철수      사과  신용카드   6000   10\n",
       "4   김철수      사과  신용카드   5000   30\n",
       "5   김철수      포도    현금   3000   15\n",
       "6   김철수      포도    현금   4000   15\n",
       "7   김철수      포도  신용카드   1000   10\n",
       "8   김철수      포도  신용카드   2000   30\n",
       "9   박영희      사과    현금   3000   20\n",
       "10  박영희      사과    현금   4000   15\n",
       "11  박영희      사과  신용카드   5000   10\n",
       "12  박영희      사과  신용카드   5000   30\n",
       "13  박영희      포도    현금   2000   15\n",
       "14  박영희      포도    현금   4000   30\n",
       "15  박영희      포도  신용카드   1000   30\n",
       "16  박영희      포도  신용카드   5000   10"
      ]
     },
     "execution_count": 69,
     "metadata": {},
     "output_type": "execute_result"
    }
   ],
   "source": [
    "pay_info = pd.read_csv('./../data/pay_info.csv', encoding='CP949')\n",
    "pay_info"
   ]
  },
  {
   "cell_type": "code",
   "execution_count": 70,
   "id": "411149bd",
   "metadata": {
    "scrolled": true
   },
   "outputs": [
    {
     "data": {
      "text/plain": [
       "<pandas.core.groupby.generic.DataFrameGroupBy object at 0x000002473A63E890>"
      ]
     },
     "execution_count": 70,
     "metadata": {},
     "output_type": "execute_result"
    }
   ],
   "source": [
    "# groupby() 메소드를 적절히 사용하여 그룹이 ['사과', '현금']인 데이터만 추출해 보세요.\n",
    "mygrouping = pay_info.groupby(['product', 'pay'])\n",
    "mygrouping"
   ]
  },
  {
   "cell_type": "code",
   "execution_count": 72,
   "id": "85e8bbee",
   "metadata": {},
   "outputs": [
    {
     "name": "stdout",
     "output_type": "stream",
     "text": [
      "[('사과', '신용카드'), ('사과', '직불카드'), ('사과', '현금'), ('포도', '신용카드'), ('포도', '현금')]\n"
     ]
    }
   ],
   "source": [
    "group_list = list(mygrouping.groups.keys())\n",
    "print(group_list)"
   ]
  },
  {
   "cell_type": "code",
   "execution_count": 75,
   "id": "377e9f8a",
   "metadata": {},
   "outputs": [
    {
     "data": {
      "text/html": [
       "<div>\n",
       "<style scoped>\n",
       "    .dataframe tbody tr th:only-of-type {\n",
       "        vertical-align: middle;\n",
       "    }\n",
       "\n",
       "    .dataframe tbody tr th {\n",
       "        vertical-align: top;\n",
       "    }\n",
       "\n",
       "    .dataframe thead th {\n",
       "        text-align: right;\n",
       "    }\n",
       "</style>\n",
       "<table border=\"1\" class=\"dataframe\">\n",
       "  <thead>\n",
       "    <tr style=\"text-align: right;\">\n",
       "      <th></th>\n",
       "      <th>name</th>\n",
       "      <th>product</th>\n",
       "      <th>pay</th>\n",
       "      <th>price</th>\n",
       "      <th>qty</th>\n",
       "    </tr>\n",
       "  </thead>\n",
       "  <tbody>\n",
       "    <tr>\n",
       "      <th>0</th>\n",
       "      <td>김철수</td>\n",
       "      <td>사과</td>\n",
       "      <td>현금</td>\n",
       "      <td>1000</td>\n",
       "      <td>10</td>\n",
       "    </tr>\n",
       "    <tr>\n",
       "      <th>2</th>\n",
       "      <td>김철수</td>\n",
       "      <td>사과</td>\n",
       "      <td>현금</td>\n",
       "      <td>3000</td>\n",
       "      <td>20</td>\n",
       "    </tr>\n",
       "    <tr>\n",
       "      <th>9</th>\n",
       "      <td>박영희</td>\n",
       "      <td>사과</td>\n",
       "      <td>현금</td>\n",
       "      <td>3000</td>\n",
       "      <td>20</td>\n",
       "    </tr>\n",
       "    <tr>\n",
       "      <th>10</th>\n",
       "      <td>박영희</td>\n",
       "      <td>사과</td>\n",
       "      <td>현금</td>\n",
       "      <td>4000</td>\n",
       "      <td>15</td>\n",
       "    </tr>\n",
       "  </tbody>\n",
       "</table>\n",
       "</div>"
      ],
      "text/plain": [
       "   name product pay  price  qty\n",
       "0   김철수      사과  현금   1000   10\n",
       "2   김철수      사과  현금   3000   20\n",
       "9   박영희      사과  현금   3000   20\n",
       "10  박영희      사과  현금   4000   15"
      ]
     },
     "execution_count": 75,
     "metadata": {},
     "output_type": "execute_result"
    }
   ],
   "source": [
    "result = mygrouping.get_group(('사과', '현금'))\n",
    "result"
   ]
  },
  {
   "cell_type": "markdown",
   "id": "f7860371",
   "metadata": {},
   "source": [
    "<h3><font color=\"blue\">연속형 변수의 범주화와 그룹핑</font></h3>"
   ]
  },
  {
   "cell_type": "code",
   "execution_count": 55,
   "id": "b86d56ba",
   "metadata": {},
   "outputs": [],
   "source": [
    "import pandas as pd\n",
    "import numpy as np"
   ]
  },
  {
   "cell_type": "markdown",
   "id": "9cb52fc9",
   "metadata": {},
   "source": [
    "<h4><font color=\"red\">복지 데이터 읽기</font></h4>"
   ]
  },
  {
   "cell_type": "markdown",
   "id": "ef4e1e67",
   "metadata": {},
   "source": [
    "<h6><font color=\"green\">기본 열 색인 정보 확인</font></h6>"
   ]
  },
  {
   "cell_type": "code",
   "execution_count": 84,
   "id": "e6470592",
   "metadata": {
    "scrolled": true
   },
   "outputs": [
    {
     "data": {
      "text/plain": [
       "Index(['total_bill', 'tip', 'sex', 'smoker', 'day', 'time', 'size'], dtype='object')"
      ]
     },
     "execution_count": 84,
     "metadata": {},
     "output_type": "execute_result"
    }
   ],
   "source": [
    "tips = pd.read_csv('./../data/tips.csv', encoding='CP949')\n",
    "tips.columns"
   ]
  },
  {
   "cell_type": "code",
   "execution_count": 85,
   "id": "b8a0aebe",
   "metadata": {
    "scrolled": false
   },
   "outputs": [
    {
     "data": {
      "text/html": [
       "<div>\n",
       "<style scoped>\n",
       "    .dataframe tbody tr th:only-of-type {\n",
       "        vertical-align: middle;\n",
       "    }\n",
       "\n",
       "    .dataframe tbody tr th {\n",
       "        vertical-align: top;\n",
       "    }\n",
       "\n",
       "    .dataframe thead th {\n",
       "        text-align: right;\n",
       "    }\n",
       "</style>\n",
       "<table border=\"1\" class=\"dataframe\">\n",
       "  <thead>\n",
       "    <tr style=\"text-align: right;\">\n",
       "      <th></th>\n",
       "      <th>total_bill</th>\n",
       "    </tr>\n",
       "    <tr>\n",
       "      <th>sex</th>\n",
       "      <th></th>\n",
       "    </tr>\n",
       "  </thead>\n",
       "  <tbody>\n",
       "    <tr>\n",
       "      <th>Female</th>\n",
       "      <td>18.056897</td>\n",
       "    </tr>\n",
       "    <tr>\n",
       "      <th>Male</th>\n",
       "      <td>20.744076</td>\n",
       "    </tr>\n",
       "  </tbody>\n",
       "</table>\n",
       "</div>"
      ],
      "text/plain": [
       "        total_bill\n",
       "sex               \n",
       "Female   18.056897\n",
       "Male     20.744076"
      ]
     },
     "execution_count": 85,
     "metadata": {},
     "output_type": "execute_result"
    }
   ],
   "source": [
    "chartdata = tips.groupby('sex')['total_bill'].mean()\n",
    "chartdata.to_frame()"
   ]
  },
  {
   "cell_type": "code",
   "execution_count": 89,
   "id": "4fe7c65b",
   "metadata": {},
   "outputs": [],
   "source": [
    "import matplotlib.pyplot as plt\n",
    "plt.rc('font', family='Malgun Gothic')"
   ]
  },
  {
   "cell_type": "code",
   "execution_count": 102,
   "id": "33cb3873",
   "metadata": {
    "scrolled": false
   },
   "outputs": [
    {
     "data": {
      "text/plain": [
       "<matplotlib.legend.Legend at 0x24740ade9d0>"
      ]
     },
     "execution_count": 102,
     "metadata": {},
     "output_type": "execute_result"
    },
    {
     "data": {
      "image/png": "[encoded data removed]",
      "text/plain": [
       "<Figure size 700x500 with 1 Axes>"
      ]
     },
     "metadata": {},
     "output_type": "display_data"
    }
   ],
   "source": [
    "plt.style.use('ggplot') \n",
    "\n",
    "# https://www.w3schools.com/colors/colors_names.asp\n",
    "chartdata.plot(kind='pie',figsize=(7, 5),autopct='%1.1f%%',\n",
    "         startangle=10, colors=['Brown', 'CornflowerBlue', 'DarkKhaki'])\n",
    "\n",
    "plt.title('평균 지급금', size=17)\n",
    "plt.axis('equal') \n",
    "plt.legend(labels=chartdata.index, loc='upper right')"
   ]
  },
  {
   "cell_type": "code",
   "execution_count": 105,
   "id": "0a49bbc6",
   "metadata": {
    "scrolled": false
   },
   "outputs": [
    {
     "data": {
      "text/plain": [
       "Text(0, 0.5, '팁비')"
      ]
     },
     "execution_count": 105,
     "metadata": {},
     "output_type": "execute_result"
    },
    {
     "data": {
      "image/png": "[encoded data removed]",
      "text/plain": [
       "<Figure size 1000x500 with 1 Axes>"
      ]
     },
     "metadata": {},
     "output_type": "display_data"
    }
   ],
   "source": [
    "tips.plot(kind='scatter', x='total_bill', y='tip',  c='LightCoral', \\\n",
    "             s=10, figsize=(10, 5))\n",
    "plt.title('산점도 : 지급 금액 vs 팁비')\n",
    "plt.xlabel('지급 금액')\n",
    "plt.ylabel('팁비')"
   ]
  },
  {
   "cell_type": "code",
   "execution_count": 106,
   "id": "0d9b1be4",
   "metadata": {},
   "outputs": [
    {
     "data": {
      "text/plain": [
       "array(['Dinner', 'Lunch'], dtype=object)"
      ]
     },
     "execution_count": 106,
     "metadata": {},
     "output_type": "execute_result"
    }
   ],
   "source": [
    "tips['time'].unique()"
   ]
  },
  {
   "cell_type": "code",
   "execution_count": 109,
   "id": "0505527a",
   "metadata": {
    "scrolled": false
   },
   "outputs": [
    {
     "data": {
      "text/plain": [
       "Text(0.5, 1.0, '시간대별 지불 금액(박스 플롯)')"
      ]
     },
     "execution_count": 109,
     "metadata": {},
     "output_type": "execute_result"
    },
    {
     "data": {
      "image/png": "[encoded data removed]",
      "text/plain": [
       "<Figure size 1500x500 with 1 Axes>"
      ]
     },
     "metadata": {},
     "output_type": "display_data"
    }
   ],
   "source": [
    "plt.style.use('ggplot') \n",
    "plt.figure(figsize=(15, 5))   \n",
    "\n",
    "plt.boxplot(x=[tips[tips['time']=='Lunch']['total_bill'],\n",
    "               tips[tips['time']=='Dinner']['total_bill']], \n",
    "         labels=['Lunch', 'Dinner'], vert=True)\n",
    "\n",
    "plt.title('시간대별 지불 금액(박스 플롯)')"
   ]
  },
  {
   "cell_type": "markdown",
   "id": "a60b7121",
   "metadata": {},
   "source": [
    "<h6><font color=\"green\">(그래프)히스토그램 그리기</font></h6>"
   ]
  },
  {
   "cell_type": "code",
   "execution_count": 111,
   "id": "1432ad75",
   "metadata": {},
   "outputs": [
    {
     "data": {
      "text/plain": [
       "Text(0.5, 0, '지급 금액')"
      ]
     },
     "execution_count": 111,
     "metadata": {},
     "output_type": "execute_result"
    },
    {
     "data": {
      "image/png": "[encoded data removed]",
      "text/plain": [
       "<Figure size 1000x500 with 1 Axes>"
      ]
     },
     "metadata": {},
     "output_type": "display_data"
    }
   ],
   "source": [
    "tips['total_bill'].plot(kind='hist', bins=50, color='LightCoral', figsize=(10, 5))\n",
    "plt.title('지급 금액 Histogram')\n",
    "plt.xlabel('지급 금액')"
   ]
  },
  {
   "cell_type": "markdown",
   "id": "6c801492",
   "metadata": {},
   "source": [
    "<h6><font color=\"green\">데이터 이산화</font></h6>"
   ]
  },
  {
   "cell_type": "code",
   "execution_count": 113,
   "id": "671e9c02",
   "metadata": {},
   "outputs": [
    {
     "data": {
      "text/html": [
       "<div>\n",
       "<style scoped>\n",
       "    .dataframe tbody tr th:only-of-type {\n",
       "        vertical-align: middle;\n",
       "    }\n",
       "\n",
       "    .dataframe tbody tr th {\n",
       "        vertical-align: top;\n",
       "    }\n",
       "\n",
       "    .dataframe thead th {\n",
       "        text-align: right;\n",
       "    }\n",
       "</style>\n",
       "<table border=\"1\" class=\"dataframe\">\n",
       "  <thead>\n",
       "    <tr style=\"text-align: right;\">\n",
       "      <th></th>\n",
       "      <th>count</th>\n",
       "      <th>mean</th>\n",
       "      <th>std</th>\n",
       "      <th>min</th>\n",
       "      <th>25%</th>\n",
       "      <th>50%</th>\n",
       "      <th>75%</th>\n",
       "      <th>max</th>\n",
       "    </tr>\n",
       "  </thead>\n",
       "  <tbody>\n",
       "    <tr>\n",
       "      <th>tip</th>\n",
       "      <td>244.0</td>\n",
       "      <td>2.998279</td>\n",
       "      <td>1.383638</td>\n",
       "      <td>1.0</td>\n",
       "      <td>2.0</td>\n",
       "      <td>2.9</td>\n",
       "      <td>3.5625</td>\n",
       "      <td>10.0</td>\n",
       "    </tr>\n",
       "  </tbody>\n",
       "</table>\n",
       "</div>"
      ],
      "text/plain": [
       "     count      mean       std  min  25%  50%     75%   max\n",
       "tip  244.0  2.998279  1.383638  1.0  2.0  2.9  3.5625  10.0"
      ]
     },
     "execution_count": 113,
     "metadata": {},
     "output_type": "execute_result"
    }
   ],
   "source": [
    "tips['tip'].describe().to_frame().T"
   ]
  },
  {
   "cell_type": "code",
   "execution_count": 115,
   "id": "b823f378",
   "metadata": {
    "scrolled": true
   },
   "outputs": [
    {
     "data": {
      "text/html": [
       "<div>\n",
       "<style scoped>\n",
       "    .dataframe tbody tr th:only-of-type {\n",
       "        vertical-align: middle;\n",
       "    }\n",
       "\n",
       "    .dataframe tbody tr th {\n",
       "        vertical-align: top;\n",
       "    }\n",
       "\n",
       "    .dataframe thead th {\n",
       "        text-align: right;\n",
       "    }\n",
       "</style>\n",
       "<table border=\"1\" class=\"dataframe\">\n",
       "  <thead>\n",
       "    <tr style=\"text-align: right;\">\n",
       "      <th></th>\n",
       "      <th>total_bill</th>\n",
       "      <th>tip</th>\n",
       "      <th>sex</th>\n",
       "      <th>smoker</th>\n",
       "      <th>day</th>\n",
       "      <th>time</th>\n",
       "      <th>size</th>\n",
       "      <th>범주형tip</th>\n",
       "    </tr>\n",
       "  </thead>\n",
       "  <tbody>\n",
       "    <tr>\n",
       "      <th>0</th>\n",
       "      <td>16.99</td>\n",
       "      <td>1.01</td>\n",
       "      <td>Female</td>\n",
       "      <td>No</td>\n",
       "      <td>Sun</td>\n",
       "      <td>Dinner</td>\n",
       "      <td>2</td>\n",
       "      <td>low</td>\n",
       "    </tr>\n",
       "    <tr>\n",
       "      <th>1</th>\n",
       "      <td>10.34</td>\n",
       "      <td>1.66</td>\n",
       "      <td>Male</td>\n",
       "      <td>No</td>\n",
       "      <td>Sun</td>\n",
       "      <td>Dinner</td>\n",
       "      <td>3</td>\n",
       "      <td>low</td>\n",
       "    </tr>\n",
       "    <tr>\n",
       "      <th>2</th>\n",
       "      <td>21.01</td>\n",
       "      <td>3.50</td>\n",
       "      <td>Male</td>\n",
       "      <td>No</td>\n",
       "      <td>Sun</td>\n",
       "      <td>Dinner</td>\n",
       "      <td>3</td>\n",
       "      <td>high</td>\n",
       "    </tr>\n",
       "    <tr>\n",
       "      <th>3</th>\n",
       "      <td>23.68</td>\n",
       "      <td>3.31</td>\n",
       "      <td>Male</td>\n",
       "      <td>No</td>\n",
       "      <td>Sun</td>\n",
       "      <td>Dinner</td>\n",
       "      <td>2</td>\n",
       "      <td>high</td>\n",
       "    </tr>\n",
       "    <tr>\n",
       "      <th>4</th>\n",
       "      <td>24.59</td>\n",
       "      <td>3.61</td>\n",
       "      <td>Female</td>\n",
       "      <td>No</td>\n",
       "      <td>Sun</td>\n",
       "      <td>Dinner</td>\n",
       "      <td>4</td>\n",
       "      <td>high</td>\n",
       "    </tr>\n",
       "    <tr>\n",
       "      <th>5</th>\n",
       "      <td>25.29</td>\n",
       "      <td>4.71</td>\n",
       "      <td>Male</td>\n",
       "      <td>No</td>\n",
       "      <td>Sun</td>\n",
       "      <td>Dinner</td>\n",
       "      <td>4</td>\n",
       "      <td>high</td>\n",
       "    </tr>\n",
       "    <tr>\n",
       "      <th>6</th>\n",
       "      <td>8.77</td>\n",
       "      <td>2.00</td>\n",
       "      <td>Male</td>\n",
       "      <td>No</td>\n",
       "      <td>Sun</td>\n",
       "      <td>Dinner</td>\n",
       "      <td>2</td>\n",
       "      <td>low</td>\n",
       "    </tr>\n",
       "    <tr>\n",
       "      <th>7</th>\n",
       "      <td>26.88</td>\n",
       "      <td>3.12</td>\n",
       "      <td>Male</td>\n",
       "      <td>No</td>\n",
       "      <td>Sun</td>\n",
       "      <td>Dinner</td>\n",
       "      <td>4</td>\n",
       "      <td>high</td>\n",
       "    </tr>\n",
       "    <tr>\n",
       "      <th>8</th>\n",
       "      <td>15.04</td>\n",
       "      <td>1.96</td>\n",
       "      <td>Male</td>\n",
       "      <td>No</td>\n",
       "      <td>Sun</td>\n",
       "      <td>Dinner</td>\n",
       "      <td>2</td>\n",
       "      <td>low</td>\n",
       "    </tr>\n",
       "    <tr>\n",
       "      <th>9</th>\n",
       "      <td>14.78</td>\n",
       "      <td>3.23</td>\n",
       "      <td>Male</td>\n",
       "      <td>No</td>\n",
       "      <td>Sun</td>\n",
       "      <td>Dinner</td>\n",
       "      <td>2</td>\n",
       "      <td>high</td>\n",
       "    </tr>\n",
       "  </tbody>\n",
       "</table>\n",
       "</div>"
      ],
      "text/plain": [
       "   total_bill   tip     sex smoker  day    time  size 범주형tip\n",
       "0       16.99  1.01  Female     No  Sun  Dinner     2    low\n",
       "1       10.34  1.66    Male     No  Sun  Dinner     3    low\n",
       "2       21.01  3.50    Male     No  Sun  Dinner     3   high\n",
       "3       23.68  3.31    Male     No  Sun  Dinner     2   high\n",
       "4       24.59  3.61  Female     No  Sun  Dinner     4   high\n",
       "5       25.29  4.71    Male     No  Sun  Dinner     4   high\n",
       "6        8.77  2.00    Male     No  Sun  Dinner     2    low\n",
       "7       26.88  3.12    Male     No  Sun  Dinner     4   high\n",
       "8       15.04  1.96    Male     No  Sun  Dinner     2    low\n",
       "9       14.78  3.23    Male     No  Sun  Dinner     2   high"
      ]
     },
     "execution_count": 115,
     "metadata": {},
     "output_type": "execute_result"
    }
   ],
   "source": [
    "labels=['low', 'middle', 'high']\n",
    "cuts_label = pd.cut(tips['tip'], bins=bins, labels=labels)\n",
    "\n",
    "tips['범주형tip'] = cuts_label\n",
    "tips.head(10)"
   ]
  },
  {
   "cell_type": "markdown",
   "id": "218ebd04",
   "metadata": {},
   "source": [
    "<h6><font color=\"green\">(그래프)지역별 소득의 평균</font></h6>"
   ]
  },
  {
   "cell_type": "code",
   "execution_count": 116,
   "id": "d46d39d0",
   "metadata": {
    "scrolled": true
   },
   "outputs": [
    {
     "data": {
      "text/html": [
       "<div>\n",
       "<style scoped>\n",
       "    .dataframe tbody tr th:only-of-type {\n",
       "        vertical-align: middle;\n",
       "    }\n",
       "\n",
       "    .dataframe tbody tr th {\n",
       "        vertical-align: top;\n",
       "    }\n",
       "\n",
       "    .dataframe thead th {\n",
       "        text-align: right;\n",
       "    }\n",
       "</style>\n",
       "<table border=\"1\" class=\"dataframe\">\n",
       "  <thead>\n",
       "    <tr style=\"text-align: right;\">\n",
       "      <th></th>\n",
       "      <th></th>\n",
       "      <th>total_bill</th>\n",
       "    </tr>\n",
       "    <tr>\n",
       "      <th>sex</th>\n",
       "      <th>범주형tip</th>\n",
       "      <th></th>\n",
       "    </tr>\n",
       "  </thead>\n",
       "  <tbody>\n",
       "    <tr>\n",
       "      <th rowspan=\"3\" valign=\"top\">Female</th>\n",
       "      <th>low</th>\n",
       "      <td>14.057750</td>\n",
       "    </tr>\n",
       "    <tr>\n",
       "      <th>middle</th>\n",
       "      <td>17.034000</td>\n",
       "    </tr>\n",
       "    <tr>\n",
       "      <th>high</th>\n",
       "      <td>23.535312</td>\n",
       "    </tr>\n",
       "    <tr>\n",
       "      <th rowspan=\"3\" valign=\"top\">Male</th>\n",
       "      <th>low</th>\n",
       "      <td>15.160441</td>\n",
       "    </tr>\n",
       "    <tr>\n",
       "      <th>middle</th>\n",
       "      <td>22.368696</td>\n",
       "    </tr>\n",
       "    <tr>\n",
       "      <th>high</th>\n",
       "      <td>25.930758</td>\n",
       "    </tr>\n",
       "  </tbody>\n",
       "</table>\n",
       "</div>"
      ],
      "text/plain": [
       "               total_bill\n",
       "sex    범주형tip            \n",
       "Female low      14.057750\n",
       "       middle   17.034000\n",
       "       high     23.535312\n",
       "Male   low      15.160441\n",
       "       middle   22.368696\n",
       "       high     25.930758"
      ]
     },
     "execution_count": 116,
     "metadata": {},
     "output_type": "execute_result"
    }
   ],
   "source": [
    "chartdata = tips.groupby(['sex', '범주형tip'])['total_bill'].mean()\n",
    "chartdata.to_frame()"
   ]
  },
  {
   "cell_type": "markdown",
   "id": "407fec01",
   "metadata": {},
   "source": [
    "<h6><font color=\"green\">요일(day)별 최대 total_bill</font></h6>"
   ]
  },
  {
   "cell_type": "code",
   "execution_count": 119,
   "id": "174fa5a1",
   "metadata": {},
   "outputs": [
    {
     "data": {
      "text/plain": [
       "array(['Sun', 'Sat', 'Thur', 'Fri'], dtype=object)"
      ]
     },
     "execution_count": 119,
     "metadata": {},
     "output_type": "execute_result"
    }
   ],
   "source": [
    "tips['day'].unique()"
   ]
  },
  {
   "cell_type": "code",
   "execution_count": 117,
   "id": "f835b7f8",
   "metadata": {
    "scrolled": false
   },
   "outputs": [
    {
     "data": {
      "text/html": [
       "<div>\n",
       "<style scoped>\n",
       "    .dataframe tbody tr th:only-of-type {\n",
       "        vertical-align: middle;\n",
       "    }\n",
       "\n",
       "    .dataframe tbody tr th {\n",
       "        vertical-align: top;\n",
       "    }\n",
       "\n",
       "    .dataframe thead th {\n",
       "        text-align: right;\n",
       "    }\n",
       "</style>\n",
       "<table border=\"1\" class=\"dataframe\">\n",
       "  <thead>\n",
       "    <tr style=\"text-align: right;\">\n",
       "      <th></th>\n",
       "      <th>total_bill</th>\n",
       "      <th>tip</th>\n",
       "      <th>sex</th>\n",
       "      <th>smoker</th>\n",
       "      <th>day</th>\n",
       "      <th>time</th>\n",
       "      <th>size</th>\n",
       "      <th>범주형tip</th>\n",
       "      <th>rank</th>\n",
       "    </tr>\n",
       "  </thead>\n",
       "  <tbody>\n",
       "    <tr>\n",
       "      <th>0</th>\n",
       "      <td>16.99</td>\n",
       "      <td>1.01</td>\n",
       "      <td>Female</td>\n",
       "      <td>No</td>\n",
       "      <td>Sun</td>\n",
       "      <td>Dinner</td>\n",
       "      <td>2</td>\n",
       "      <td>low</td>\n",
       "      <td>49.0</td>\n",
       "    </tr>\n",
       "    <tr>\n",
       "      <th>1</th>\n",
       "      <td>10.34</td>\n",
       "      <td>1.66</td>\n",
       "      <td>Male</td>\n",
       "      <td>No</td>\n",
       "      <td>Sun</td>\n",
       "      <td>Dinner</td>\n",
       "      <td>3</td>\n",
       "      <td>low</td>\n",
       "      <td>68.0</td>\n",
       "    </tr>\n",
       "    <tr>\n",
       "      <th>2</th>\n",
       "      <td>21.01</td>\n",
       "      <td>3.50</td>\n",
       "      <td>Male</td>\n",
       "      <td>No</td>\n",
       "      <td>Sun</td>\n",
       "      <td>Dinner</td>\n",
       "      <td>3</td>\n",
       "      <td>high</td>\n",
       "      <td>34.0</td>\n",
       "    </tr>\n",
       "    <tr>\n",
       "      <th>3</th>\n",
       "      <td>23.68</td>\n",
       "      <td>3.31</td>\n",
       "      <td>Male</td>\n",
       "      <td>No</td>\n",
       "      <td>Sun</td>\n",
       "      <td>Dinner</td>\n",
       "      <td>2</td>\n",
       "      <td>high</td>\n",
       "      <td>27.0</td>\n",
       "    </tr>\n",
       "    <tr>\n",
       "      <th>4</th>\n",
       "      <td>24.59</td>\n",
       "      <td>3.61</td>\n",
       "      <td>Female</td>\n",
       "      <td>No</td>\n",
       "      <td>Sun</td>\n",
       "      <td>Dinner</td>\n",
       "      <td>4</td>\n",
       "      <td>high</td>\n",
       "      <td>23.0</td>\n",
       "    </tr>\n",
       "    <tr>\n",
       "      <th>...</th>\n",
       "      <td>...</td>\n",
       "      <td>...</td>\n",
       "      <td>...</td>\n",
       "      <td>...</td>\n",
       "      <td>...</td>\n",
       "      <td>...</td>\n",
       "      <td>...</td>\n",
       "      <td>...</td>\n",
       "      <td>...</td>\n",
       "    </tr>\n",
       "    <tr>\n",
       "      <th>239</th>\n",
       "      <td>29.03</td>\n",
       "      <td>5.92</td>\n",
       "      <td>Male</td>\n",
       "      <td>No</td>\n",
       "      <td>Sat</td>\n",
       "      <td>Dinner</td>\n",
       "      <td>3</td>\n",
       "      <td>high</td>\n",
       "      <td>13.0</td>\n",
       "    </tr>\n",
       "    <tr>\n",
       "      <th>240</th>\n",
       "      <td>27.18</td>\n",
       "      <td>2.00</td>\n",
       "      <td>Female</td>\n",
       "      <td>Yes</td>\n",
       "      <td>Sat</td>\n",
       "      <td>Dinner</td>\n",
       "      <td>2</td>\n",
       "      <td>low</td>\n",
       "      <td>16.0</td>\n",
       "    </tr>\n",
       "    <tr>\n",
       "      <th>241</th>\n",
       "      <td>22.67</td>\n",
       "      <td>2.00</td>\n",
       "      <td>Male</td>\n",
       "      <td>Yes</td>\n",
       "      <td>Sat</td>\n",
       "      <td>Dinner</td>\n",
       "      <td>2</td>\n",
       "      <td>low</td>\n",
       "      <td>26.0</td>\n",
       "    </tr>\n",
       "    <tr>\n",
       "      <th>242</th>\n",
       "      <td>17.82</td>\n",
       "      <td>1.75</td>\n",
       "      <td>Male</td>\n",
       "      <td>No</td>\n",
       "      <td>Sat</td>\n",
       "      <td>Dinner</td>\n",
       "      <td>2</td>\n",
       "      <td>low</td>\n",
       "      <td>47.0</td>\n",
       "    </tr>\n",
       "    <tr>\n",
       "      <th>243</th>\n",
       "      <td>18.78</td>\n",
       "      <td>3.00</td>\n",
       "      <td>Female</td>\n",
       "      <td>No</td>\n",
       "      <td>Thur</td>\n",
       "      <td>Dinner</td>\n",
       "      <td>2</td>\n",
       "      <td>middle</td>\n",
       "      <td>20.0</td>\n",
       "    </tr>\n",
       "  </tbody>\n",
       "</table>\n",
       "<p>244 rows × 9 columns</p>\n",
       "</div>"
      ],
      "text/plain": [
       "     total_bill   tip     sex smoker   day    time  size  범주형tip  rank\n",
       "0         16.99  1.01  Female     No   Sun  Dinner     2     low  49.0\n",
       "1         10.34  1.66    Male     No   Sun  Dinner     3     low  68.0\n",
       "2         21.01  3.50    Male     No   Sun  Dinner     3    high  34.0\n",
       "3         23.68  3.31    Male     No   Sun  Dinner     2    high  27.0\n",
       "4         24.59  3.61  Female     No   Sun  Dinner     4    high  23.0\n",
       "..          ...   ...     ...    ...   ...     ...   ...     ...   ...\n",
       "239       29.03  5.92    Male     No   Sat  Dinner     3    high  13.0\n",
       "240       27.18  2.00  Female    Yes   Sat  Dinner     2     low  16.0\n",
       "241       22.67  2.00    Male    Yes   Sat  Dinner     2     low  26.0\n",
       "242       17.82  1.75    Male     No   Sat  Dinner     2     low  47.0\n",
       "243       18.78  3.00  Female     No  Thur  Dinner     2  middle  20.0\n",
       "\n",
       "[244 rows x 9 columns]"
      ]
     },
     "execution_count": 117,
     "metadata": {},
     "output_type": "execute_result"
    }
   ],
   "source": [
    "tips['rank'] = tips.groupby('day')['total_bill']. \\\n",
    "    rank(method='first', ascending=False)\n",
    "tips"
   ]
  },
  {
   "cell_type": "code",
   "execution_count": 120,
   "id": "31d1a5d9",
   "metadata": {
    "scrolled": true
   },
   "outputs": [
    {
     "data": {
      "text/html": [
       "<div>\n",
       "<style scoped>\n",
       "    .dataframe tbody tr th:only-of-type {\n",
       "        vertical-align: middle;\n",
       "    }\n",
       "\n",
       "    .dataframe tbody tr th {\n",
       "        vertical-align: top;\n",
       "    }\n",
       "\n",
       "    .dataframe thead th {\n",
       "        text-align: right;\n",
       "    }\n",
       "</style>\n",
       "<table border=\"1\" class=\"dataframe\">\n",
       "  <thead>\n",
       "    <tr style=\"text-align: right;\">\n",
       "      <th></th>\n",
       "      <th>total_bill</th>\n",
       "      <th>tip</th>\n",
       "      <th>sex</th>\n",
       "      <th>smoker</th>\n",
       "      <th>day</th>\n",
       "      <th>time</th>\n",
       "      <th>size</th>\n",
       "      <th>범주형tip</th>\n",
       "      <th>rank</th>\n",
       "    </tr>\n",
       "  </thead>\n",
       "  <tbody>\n",
       "    <tr>\n",
       "      <th>95</th>\n",
       "      <td>40.17</td>\n",
       "      <td>4.73</td>\n",
       "      <td>Male</td>\n",
       "      <td>Yes</td>\n",
       "      <td>Fri</td>\n",
       "      <td>Dinner</td>\n",
       "      <td>4</td>\n",
       "      <td>high</td>\n",
       "      <td>1.0</td>\n",
       "    </tr>\n",
       "    <tr>\n",
       "      <th>156</th>\n",
       "      <td>48.17</td>\n",
       "      <td>5.00</td>\n",
       "      <td>Male</td>\n",
       "      <td>No</td>\n",
       "      <td>Sun</td>\n",
       "      <td>Dinner</td>\n",
       "      <td>6</td>\n",
       "      <td>high</td>\n",
       "      <td>1.0</td>\n",
       "    </tr>\n",
       "    <tr>\n",
       "      <th>170</th>\n",
       "      <td>50.81</td>\n",
       "      <td>10.00</td>\n",
       "      <td>Male</td>\n",
       "      <td>Yes</td>\n",
       "      <td>Sat</td>\n",
       "      <td>Dinner</td>\n",
       "      <td>3</td>\n",
       "      <td>high</td>\n",
       "      <td>1.0</td>\n",
       "    </tr>\n",
       "    <tr>\n",
       "      <th>197</th>\n",
       "      <td>43.11</td>\n",
       "      <td>5.00</td>\n",
       "      <td>Female</td>\n",
       "      <td>Yes</td>\n",
       "      <td>Thur</td>\n",
       "      <td>Lunch</td>\n",
       "      <td>4</td>\n",
       "      <td>high</td>\n",
       "      <td>1.0</td>\n",
       "    </tr>\n",
       "  </tbody>\n",
       "</table>\n",
       "</div>"
      ],
      "text/plain": [
       "     total_bill    tip     sex smoker   day    time  size 범주형tip  rank\n",
       "95        40.17   4.73    Male    Yes   Fri  Dinner     4   high   1.0\n",
       "156       48.17   5.00    Male     No   Sun  Dinner     6   high   1.0\n",
       "170       50.81  10.00    Male    Yes   Sat  Dinner     3   high   1.0\n",
       "197       43.11   5.00  Female    Yes  Thur   Lunch     4   high   1.0"
      ]
     },
     "execution_count": 120,
     "metadata": {},
     "output_type": "execute_result"
    }
   ],
   "source": [
    "result = tips[tips['rank'] == 1.0]\n",
    "result"
   ]
  },
  {
   "cell_type": "code",
   "execution_count": 121,
   "id": "df979b0c",
   "metadata": {
    "scrolled": true
   },
   "outputs": [
    {
     "data": {
      "text/html": [
       "<div>\n",
       "<style scoped>\n",
       "    .dataframe tbody tr th:only-of-type {\n",
       "        vertical-align: middle;\n",
       "    }\n",
       "\n",
       "    .dataframe tbody tr th {\n",
       "        vertical-align: top;\n",
       "    }\n",
       "\n",
       "    .dataframe thead th {\n",
       "        text-align: right;\n",
       "    }\n",
       "</style>\n",
       "<table border=\"1\" class=\"dataframe\">\n",
       "  <thead>\n",
       "    <tr style=\"text-align: right;\">\n",
       "      <th></th>\n",
       "      <th>total_bill</th>\n",
       "      <th>tip</th>\n",
       "      <th>sex</th>\n",
       "      <th>smoker</th>\n",
       "      <th>day</th>\n",
       "      <th>time</th>\n",
       "      <th>size</th>\n",
       "      <th>범주형tip</th>\n",
       "    </tr>\n",
       "  </thead>\n",
       "  <tbody>\n",
       "    <tr>\n",
       "      <th>95</th>\n",
       "      <td>40.17</td>\n",
       "      <td>4.73</td>\n",
       "      <td>Male</td>\n",
       "      <td>Yes</td>\n",
       "      <td>Fri</td>\n",
       "      <td>Dinner</td>\n",
       "      <td>4</td>\n",
       "      <td>high</td>\n",
       "    </tr>\n",
       "    <tr>\n",
       "      <th>156</th>\n",
       "      <td>48.17</td>\n",
       "      <td>5.00</td>\n",
       "      <td>Male</td>\n",
       "      <td>No</td>\n",
       "      <td>Sun</td>\n",
       "      <td>Dinner</td>\n",
       "      <td>6</td>\n",
       "      <td>high</td>\n",
       "    </tr>\n",
       "    <tr>\n",
       "      <th>170</th>\n",
       "      <td>50.81</td>\n",
       "      <td>10.00</td>\n",
       "      <td>Male</td>\n",
       "      <td>Yes</td>\n",
       "      <td>Sat</td>\n",
       "      <td>Dinner</td>\n",
       "      <td>3</td>\n",
       "      <td>high</td>\n",
       "    </tr>\n",
       "    <tr>\n",
       "      <th>197</th>\n",
       "      <td>43.11</td>\n",
       "      <td>5.00</td>\n",
       "      <td>Female</td>\n",
       "      <td>Yes</td>\n",
       "      <td>Thur</td>\n",
       "      <td>Lunch</td>\n",
       "      <td>4</td>\n",
       "      <td>high</td>\n",
       "    </tr>\n",
       "  </tbody>\n",
       "</table>\n",
       "</div>"
      ],
      "text/plain": [
       "     total_bill    tip     sex smoker   day    time  size 범주형tip\n",
       "95        40.17   4.73    Male    Yes   Fri  Dinner     4   high\n",
       "156       48.17   5.00    Male     No   Sun  Dinner     6   high\n",
       "170       50.81  10.00    Male    Yes   Sat  Dinner     3   high\n",
       "197       43.11   5.00  Female    Yes  Thur   Lunch     4   high"
      ]
     },
     "execution_count": 121,
     "metadata": {},
     "output_type": "execute_result"
    }
   ],
   "source": [
    "result = result.drop(columns=['rank'])\n",
    "result"
   ]
  },
  {
   "cell_type": "code",
   "execution_count": null,
   "id": "33cf1c43",
   "metadata": {},
   "outputs": [],
   "source": []
  },
  {
   "cell_type": "code",
   "execution_count": null,
   "id": "c96d49d0",
   "metadata": {},
   "outputs": [],
   "source": []
  }
 ],
 "metadata": {
  "kernelspec": {
   "display_name": "Python 3 (ipykernel)",
   "language": "python",
   "name": "python3"
  },
  "language_info": {
   "codemirror_mode": {
    "name": "ipython",
    "version": 3
   },
   "file_extension": ".py",
   "mimetype": "text/x-python",
   "name": "python",
   "nbconvert_exporter": "python",
   "pygments_lexer": "ipython3",
   "version": "3.11.2"
  }
 },
 "nbformat": 4,
 "nbformat_minor": 5
}
