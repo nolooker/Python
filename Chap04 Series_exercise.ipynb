{
 "cells": [
  {
   "cell_type": "code",
   "execution_count": 1,
   "id": "6da0420d",
   "metadata": {},
   "outputs": [
    {
     "data": {
      "text/plain": [
       "\"\\n다음 물음에 답해주세요.\\n문제01\\n다음을 이용하여 myseries01 이라는 시리즈를 만드세요.\\nmylist01 = ['김인식', '이현도', '강철순', '박지현']\\nmyindex01 = [10,30,40,20]\\n\\n문제02\\n다음을 이용하여 myseries02 이라는 시리즈를 만드세요.\\nmylist02 = ['김인식', '이현도', '강철순', '최지만']\\nmyindex02 = [30,50,30,40]\\n\\n문제03\\nmyseries01 시리즈에 대한 통계 정보를 확인해보세요.\\n\\n문제04\\nmyseries01 시리즈와 myseries02 시리즈를 합쳐주세요.\\n단, 누락된 데이터 존재시 myseries01은 기본 값으로 30을, myseries04는 40으로 채워주세요\\n\\n문제05\\n문제04에서 만들어진 시리즈를 이용하여 막대 그래프를 그려 보세요\\n\\n\""
      ]
     },
     "execution_count": 1,
     "metadata": {},
     "output_type": "execute_result"
    }
   ],
   "source": [
    "'''\n",
    "다음 물음에 답해주세요.\n",
    "문제01\n",
    "다음을 이용하여 myseries01 이라는 시리즈를 만드세요.\n",
    "mylist01 = ['김인식', '이현도', '강철순', '박지현']\n",
    "myindex01 = [10,30,40,20]\n",
    "\n",
    "문제02\n",
    "다음을 이용하여 myseries02 이라는 시리즈를 만드세요.\n",
    "mylist02 = ['김인식', '이현도', '강철순', '최지만']\n",
    "myindex02 = [30,50,30,40]\n",
    "\n",
    "문제03\n",
    "myseries01 시리즈에 대한 통계 정보를 확인해보세요.\n",
    "\n",
    "문제04\n",
    "myseries01 시리즈와 myseries02 시리즈를 합쳐주세요.\n",
    "단, 누락된 데이터 존재시 myseries01은 기본 값으로 30을, myseries04는 40으로 채워주세요\n",
    "\n",
    "문제05\n",
    "문제04에서 만들어진 시리즈를 이용하여 막대 그래프를 그려 보세요\n",
    "\n",
    "'''"
   ]
  },
  {
   "cell_type": "code",
   "execution_count": 13,
   "id": "aa077f33",
   "metadata": {},
   "outputs": [],
   "source": [
    "# 문제01\n",
    "# 다음을 이용하여 myseries01 이라는 시리즈를 만드세요.\n",
    "myindex01 = ['김인식', '이현도', '강철순', '박지현']\n",
    "mylist01 = [10,30,40,20]"
   ]
  },
  {
   "cell_type": "code",
   "execution_count": 14,
   "id": "76f4851c",
   "metadata": {},
   "outputs": [],
   "source": [
    "import pandas as pd"
   ]
  },
  {
   "cell_type": "code",
   "execution_count": 27,
   "id": "ddcddcdf",
   "metadata": {},
   "outputs": [
    {
     "data": {
      "text/plain": [
       "김인식    10\n",
       "이현도    30\n",
       "강철순    40\n",
       "박지현    20\n",
       "dtype: int64"
      ]
     },
     "execution_count": 27,
     "metadata": {},
     "output_type": "execute_result"
    }
   ],
   "source": [
    "myindex01 = ['김인식', '이현도', '강철순', '박지현']\n",
    "mylist01 = [10,30,40,20]\n",
    "myseries01 = pd.Series(mylist01, myindex01)\n",
    "myseries01"
   ]
  },
  {
   "cell_type": "code",
   "execution_count": null,
   "id": "47f172c8",
   "metadata": {},
   "outputs": [],
   "source": [
    "문제02\n",
    "다음을 이용하여 myseries02 이라는 시리즈를 만드세요.\n",
    "# mylist02 = ['김인식', '이현도', '강철순', '최지만']\n",
    "# myindex02 = [30,50,30,40]"
   ]
  },
  {
   "cell_type": "code",
   "execution_count": 28,
   "id": "8047e24c",
   "metadata": {},
   "outputs": [
    {
     "data": {
      "text/plain": [
       "김인식    30\n",
       "이현도    50\n",
       "강철순    30\n",
       "최지만    40\n",
       "dtype: int64"
      ]
     },
     "execution_count": 28,
     "metadata": {},
     "output_type": "execute_result"
    }
   ],
   "source": [
    "myindex02 = ['김인식', '이현도', '강철순', '최지만']\n",
    "mylist02 = [30,50,30,40]\n",
    "myseries02 = pd.Series(mylist02, myindex02)\n",
    "myseries02"
   ]
  },
  {
   "cell_type": "code",
   "execution_count": null,
   "id": "5d29a985",
   "metadata": {},
   "outputs": [],
   "source": [
    "문제03\n",
    "myseries01 시리즈에 대한 통계 정보를 확인해보세요."
   ]
  },
  {
   "cell_type": "code",
   "execution_count": 29,
   "id": "d57ebff3",
   "metadata": {},
   "outputs": [
    {
     "name": "stdout",
     "output_type": "stream",
     "text": [
      "시리즈 더하기\n",
      "김인식    20\n",
      "이현도    40\n",
      "강철순    50\n",
      "박지현    30\n",
      "dtype: int64\n"
     ]
    }
   ],
   "source": [
    "su = 30\n",
    "print('시리즈 더하기')\n",
    "print(myseries01 + 10)"
   ]
  },
  {
   "cell_type": "code",
   "execution_count": 17,
   "id": "64284c0c",
   "metadata": {},
   "outputs": [
    {
     "name": "stdout",
     "output_type": "stream",
     "text": [
      "add 메소드 사용\n",
      "김인식    60\n",
      "이현도    80\n",
      "강철순    60\n",
      "최지만    70\n",
      "dtype: int64\n"
     ]
    }
   ],
   "source": [
    "su = 30\n",
    "print('add 메소드 사용')\n",
    "print(myseries02.add(su))"
   ]
  },
  {
   "cell_type": "code",
   "execution_count": 18,
   "id": "d874e397",
   "metadata": {},
   "outputs": [
    {
     "name": "stdout",
     "output_type": "stream",
     "text": [
      "김인식     0\n",
      "이현도    20\n",
      "강철순     0\n",
      "최지만    10\n",
      "dtype: int64\n"
     ]
    }
   ],
   "source": [
    "print(myseries02.sub(su))"
   ]
  },
  {
   "cell_type": "code",
   "execution_count": 30,
   "id": "c799571d",
   "metadata": {},
   "outputs": [
    {
     "name": "stdout",
     "output_type": "stream",
     "text": [
      "김인식    False\n",
      "이현도     True\n",
      "강철순     True\n",
      "박지현     True\n",
      "dtype: bool\n"
     ]
    },
    {
     "data": {
      "text/plain": [
       "이현도    30\n",
       "강철순    40\n",
       "박지현    20\n",
       "dtype: int64"
      ]
     },
     "execution_count": 30,
     "metadata": {},
     "output_type": "execute_result"
    }
   ],
   "source": [
    "su = 20\n",
    "print(myseries01 >= su)\n",
    "myseries01[myseries01 >= su]"
   ]
  },
  {
   "cell_type": "code",
   "execution_count": 53,
   "id": "54982678",
   "metadata": {},
   "outputs": [
    {
     "ename": "SyntaxError",
     "evalue": "invalid decimal literal (908958715.py, line 3)",
     "output_type": "error",
     "traceback": [
      "\u001b[1;36m  Cell \u001b[1;32mIn[53], line 3\u001b[1;36m\u001b[0m\n\u001b[1;33m    단, 누락된 데이터 존재시 myseries01은 기본 값으로 30을, myseries02는 40으로 채워주세요\u001b[0m\n\u001b[1;37m                                       ^\u001b[0m\n\u001b[1;31mSyntaxError\u001b[0m\u001b[1;31m:\u001b[0m invalid decimal literal\n"
     ]
    }
   ],
   "source": [
    "문제04\n",
    "myseries01 시리즈와 myseries02 시리즈를 합쳐주세요.\n",
    "단, 누락된 데이터 존재시 myseries01은 기본 값으로 30을, myseries02는 40으로 채워주세요"
   ]
  },
  {
   "cell_type": "code",
   "execution_count": 60,
   "id": "dc48c460",
   "metadata": {},
   "outputs": [
    {
     "data": {
      "text/plain": [
       "강철순    70.0\n",
       "김인식    40.0\n",
       "박지현     NaN\n",
       "이현도    80.0\n",
       "최지만     NaN\n",
       "dtype: float64"
      ]
     },
     "execution_count": 60,
     "metadata": {},
     "output_type": "execute_result"
    }
   ],
   "source": [
    "newseries = pd.Series(myseries01 + myseries02)\n",
    "\n",
    "data = list()\n",
    "for item in newseries :\n",
    "    if item not in newseries :\n",
    "        data.append(item)\n",
    "# end for\n",
    "newseries"
   ]
  },
  {
   "cell_type": "code",
   "execution_count": null,
   "id": "ebebd28d",
   "metadata": {},
   "outputs": [],
   "source": [
    "\n"
   ]
  },
  {
   "cell_type": "code",
   "execution_count": 52,
   "id": "1aa0acfc",
   "metadata": {},
   "outputs": [
    {
     "data": {
      "text/plain": [
       "강철순    70.0\n",
       "김인식    40.0\n",
       "박지현     NaN\n",
       "이현도    80.0\n",
       "최지만     NaN\n",
       "dtype: float64"
      ]
     },
     "execution_count": 52,
     "metadata": {},
     "output_type": "execute_result"
    }
   ],
   "source": [
    "newseries = myseries01.add(myseries02)\n",
    "newseries"
   ]
  },
  {
   "cell_type": "code",
   "execution_count": 35,
   "id": "925f3b63",
   "metadata": {},
   "outputs": [
    {
     "data": {
      "text/plain": [
       "강철순    70.0\n",
       "김인식    40.0\n",
       "박지현    60.0\n",
       "이현도    80.0\n",
       "최지만    80.0\n",
       "dtype: float64"
      ]
     },
     "execution_count": 35,
     "metadata": {},
     "output_type": "execute_result"
    }
   ],
   "source": [
    "newseries = myseries01.add(myseries02, fill_value=40)\n",
    "newseries"
   ]
  },
  {
   "cell_type": "code",
   "execution_count": 39,
   "id": "12670a58",
   "metadata": {},
   "outputs": [
    {
     "data": {
      "text/plain": [
       "김인식    10\n",
       "이현도    30\n",
       "강철순    40\n",
       "최지만    40\n",
       "dtype: int64"
      ]
     },
     "execution_count": 39,
     "metadata": {},
     "output_type": "execute_result"
    }
   ],
   "source": [
    "result = myseries01.reindex(index = myindex02, fill_value = 40)\n",
    "result"
   ]
  },
  {
   "cell_type": "code",
   "execution_count": 41,
   "id": "c26b13bc",
   "metadata": {},
   "outputs": [
    {
     "data": {
      "text/plain": [
       "김인식    30\n",
       "이현도    50\n",
       "강철순    30\n",
       "박지현    30\n",
       "dtype: int64"
      ]
     },
     "execution_count": 41,
     "metadata": {},
     "output_type": "execute_result"
    }
   ],
   "source": [
    "result = myseries02.reindex(index = myindex01, fill_value = 30)\n",
    "result"
   ]
  },
  {
   "cell_type": "code",
   "execution_count": 42,
   "id": "901a035f",
   "metadata": {},
   "outputs": [
    {
     "data": {
      "text/plain": [
       "강철순    70.0\n",
       "김인식    40.0\n",
       "박지현     NaN\n",
       "이현도    80.0\n",
       "최지만     NaN\n",
       "dtype: float64"
      ]
     },
     "execution_count": 42,
     "metadata": {},
     "output_type": "execute_result"
    }
   ],
   "source": [
    "newseries = myseries01 + myseries02\n",
    "newseries"
   ]
  },
  {
   "cell_type": "code",
   "execution_count": null,
   "id": "e3e7abe8",
   "metadata": {},
   "outputs": [],
   "source": [
    "문제05\n",
    "문제04에서 만들어진 시리즈를 이용하여 막대 그래프를 그려 보세요"
   ]
  },
  {
   "cell_type": "code",
   "execution_count": 78,
   "id": "4489ca69",
   "metadata": {},
   "outputs": [],
   "source": [
    "import matplotlib.pyplot as plt\n",
    "plt.rc('font', family = 'Malgun Gothic')"
   ]
  },
  {
   "cell_type": "code",
   "execution_count": 86,
   "id": "82848d8c",
   "metadata": {},
   "outputs": [
    {
     "data": {
      "text/html": [
       "<div>\n",
       "<style scoped>\n",
       "    .dataframe tbody tr th:only-of-type {\n",
       "        vertical-align: middle;\n",
       "    }\n",
       "\n",
       "    .dataframe tbody tr th {\n",
       "        vertical-align: top;\n",
       "    }\n",
       "\n",
       "    .dataframe thead th {\n",
       "        text-align: right;\n",
       "    }\n",
       "</style>\n",
       "<table border=\"1\" class=\"dataframe\">\n",
       "  <thead>\n",
       "    <tr style=\"text-align: right;\">\n",
       "      <th></th>\n",
       "      <th>0</th>\n",
       "    </tr>\n",
       "  </thead>\n",
       "  <tbody>\n",
       "    <tr>\n",
       "      <th>김인식</th>\n",
       "      <td>60</td>\n",
       "    </tr>\n",
       "    <tr>\n",
       "      <th>이현도</th>\n",
       "      <td>30</td>\n",
       "    </tr>\n",
       "    <tr>\n",
       "      <th>강철순</th>\n",
       "      <td>50</td>\n",
       "    </tr>\n",
       "    <tr>\n",
       "      <th>박지현</th>\n",
       "      <td>40</td>\n",
       "    </tr>\n",
       "    <tr>\n",
       "      <th>최지만</th>\n",
       "      <td>10</td>\n",
       "    </tr>\n",
       "  </tbody>\n",
       "</table>\n",
       "</div>"
      ],
      "text/plain": [
       "      0\n",
       "김인식  60\n",
       "이현도  30\n",
       "강철순  50\n",
       "박지현  40\n",
       "최지만  10"
      ]
     },
     "execution_count": 86,
     "metadata": {},
     "output_type": "execute_result"
    }
   ],
   "source": [
    "mylist02 = [60,30,50,40,10]\n",
    "myindex02 = ['김인식', '이현도', '강철순', '박지현','최지만']\n",
    "myseries02 = pd.Series(data = mylist02, index = myindex02)\n",
    "myseries02.to_frame()"
   ]
  },
  {
   "cell_type": "code",
   "execution_count": 88,
   "id": "a4cfd48b",
   "metadata": {},
   "outputs": [
    {
     "data": {
      "text/plain": [
       "Text(0, 0.5, '성적')"
      ]
     },
     "execution_count": 88,
     "metadata": {},
     "output_type": "execute_result"
    },
    {
     "data": {
      "image/png": "[encoded data removed]",
      "text/plain": [
       "<Figure size 640x480 with 1 Axes>"
      ]
     },
     "metadata": {},
     "output_type": "display_data"
    }
   ],
   "source": [
    "myseries02.plot(kind = 'bar', grid = False, use_index = True, rot = 0 ,color = ['black','DarkGray','IndianRed','blue','pink'])\n",
    "plt.xlabel('이름')\n",
    "plt.ylabel('성적')"
   ]
  },
  {
   "cell_type": "code",
   "execution_count": null,
   "id": "7522598b",
   "metadata": {},
   "outputs": [],
   "source": []
  }
 ],
 "metadata": {
  "kernelspec": {
   "display_name": "Python 3 (ipykernel)",
   "language": "python",
   "name": "python3"
  },
  "language_info": {
   "codemirror_mode": {
    "name": "ipython",
    "version": 3
   },
   "file_extension": ".py",
   "mimetype": "text/x-python",
   "name": "python",
   "nbconvert_exporter": "python",
   "pygments_lexer": "ipython3",
   "version": "3.11.2"
  }
 },
 "nbformat": 4,
 "nbformat_minor": 5
}
