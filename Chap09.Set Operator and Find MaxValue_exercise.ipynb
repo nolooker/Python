{
 "cells": [
  {
   "cell_type": "markdown",
   "id": "395fa551",
   "metadata": {},
   "source": [
    "<h1><font color=\"blue\">집합 연산과 최대값 찾기</font></h1>"
   ]
  },
  {
   "cell_type": "markdown",
   "id": "aaa28e65",
   "metadata": {},
   "source": [
    "<h2><font color=\"red\">색인의 집합 연산</font></h2>"
   ]
  },
  {
   "cell_type": "markdown",
   "id": "24d41597",
   "metadata": {},
   "source": [
    "<h4><font color=\"green\">가전 제품 데이터</font></h4>"
   ]
  },
  {
   "cell_type": "markdown",
   "id": "941d9bab",
   "metadata": {},
   "source": [
    "<h6><font color=\"BlueViolet\">1번 파일 살펴 보기</font></h6>"
   ]
  },
  {
   "cell_type": "code",
   "execution_count": 4,
   "id": "7e3c46ca",
   "metadata": {},
   "outputs": [],
   "source": [
    "import pandas as pd\n",
    "import numpy as np"
   ]
  },
  {
   "cell_type": "code",
   "execution_count": 5,
   "id": "7aea8f40",
   "metadata": {},
   "outputs": [
    {
     "data": {
      "text/html": [
       "<div>\n",
       "<style scoped>\n",
       "    .dataframe tbody tr th:only-of-type {\n",
       "        vertical-align: middle;\n",
       "    }\n",
       "\n",
       "    .dataframe tbody tr th {\n",
       "        vertical-align: top;\n",
       "    }\n",
       "\n",
       "    .dataframe thead th {\n",
       "        text-align: right;\n",
       "    }\n",
       "</style>\n",
       "<table border=\"1\" class=\"dataframe\">\n",
       "  <thead>\n",
       "    <tr style=\"text-align: right;\">\n",
       "      <th></th>\n",
       "      <th>국어</th>\n",
       "    </tr>\n",
       "    <tr>\n",
       "      <th>이름</th>\n",
       "      <th></th>\n",
       "    </tr>\n",
       "  </thead>\n",
       "  <tbody>\n",
       "    <tr>\n",
       "      <th>강유심</th>\n",
       "      <td>60</td>\n",
       "    </tr>\n",
       "    <tr>\n",
       "      <th>신서윤</th>\n",
       "      <td>75</td>\n",
       "    </tr>\n",
       "    <tr>\n",
       "      <th>최윤라</th>\n",
       "      <td>80</td>\n",
       "    </tr>\n",
       "    <tr>\n",
       "      <th>박윤정</th>\n",
       "      <td>75</td>\n",
       "    </tr>\n",
       "  </tbody>\n",
       "</table>\n",
       "</div>"
      ],
      "text/plain": [
       "     국어\n",
       "이름     \n",
       "강유심  60\n",
       "신서윤  75\n",
       "최윤라  80\n",
       "박윤정  75"
      ]
     },
     "execution_count": 5,
     "metadata": {},
     "output_type": "execute_result"
    }
   ],
   "source": [
    "sungjuk01 = pd.read_csv('./../data/sungjuk01.csv', encoding='cp949', \\\n",
    "                       index_col='이름')\n",
    "sungjuk01"
   ]
  },
  {
   "cell_type": "code",
   "execution_count": 6,
   "id": "14502fba",
   "metadata": {},
   "outputs": [
    {
     "data": {
      "text/plain": [
       "Index(['강유심', '신서윤', '최윤라', '박윤정'], dtype='object', name='이름')"
      ]
     },
     "execution_count": 6,
     "metadata": {},
     "output_type": "execute_result"
    }
   ],
   "source": [
    "sungjuk01idx = sungjuk01.index\n",
    "sungjuk01idx"
   ]
  },
  {
   "cell_type": "code",
   "execution_count": 7,
   "id": "67e20641",
   "metadata": {},
   "outputs": [
    {
     "name": "stdout",
     "output_type": "stream",
     "text": [
      "강유심\n",
      "최윤라\n",
      "4\n"
     ]
    }
   ],
   "source": [
    "print(sungjuk01idx.min())\n",
    "print(sungjuk01idx.max())\n",
    "print(sungjuk01idx.size)"
   ]
  },
  {
   "cell_type": "code",
   "execution_count": 8,
   "id": "8c60b077",
   "metadata": {},
   "outputs": [],
   "source": [
    "# sungjuk01idx[1] = '전기밥솥'"
   ]
  },
  {
   "cell_type": "code",
   "execution_count": 10,
   "id": "095bc842",
   "metadata": {},
   "outputs": [
    {
     "data": {
      "text/html": [
       "<div>\n",
       "<style scoped>\n",
       "    .dataframe tbody tr th:only-of-type {\n",
       "        vertical-align: middle;\n",
       "    }\n",
       "\n",
       "    .dataframe tbody tr th {\n",
       "        vertical-align: top;\n",
       "    }\n",
       "\n",
       "    .dataframe thead th {\n",
       "        text-align: right;\n",
       "    }\n",
       "</style>\n",
       "<table border=\"1\" class=\"dataframe\">\n",
       "  <thead>\n",
       "    <tr style=\"text-align: right;\">\n",
       "      <th></th>\n",
       "      <th>국어</th>\n",
       "    </tr>\n",
       "    <tr>\n",
       "      <th>이름</th>\n",
       "      <th></th>\n",
       "    </tr>\n",
       "  </thead>\n",
       "  <tbody>\n",
       "    <tr>\n",
       "      <th>강유심 학생</th>\n",
       "      <td>60</td>\n",
       "    </tr>\n",
       "    <tr>\n",
       "      <th>신서윤 학생</th>\n",
       "      <td>75</td>\n",
       "    </tr>\n",
       "    <tr>\n",
       "      <th>최윤라 학생</th>\n",
       "      <td>80</td>\n",
       "    </tr>\n",
       "    <tr>\n",
       "      <th>박윤정 학생</th>\n",
       "      <td>75</td>\n",
       "    </tr>\n",
       "  </tbody>\n",
       "</table>\n",
       "</div>"
      ],
      "text/plain": [
       "        국어\n",
       "이름        \n",
       "강유심 학생  60\n",
       "신서윤 학생  75\n",
       "최윤라 학생  80\n",
       "박윤정 학생  75"
      ]
     },
     "execution_count": 10,
     "metadata": {},
     "output_type": "execute_result"
    }
   ],
   "source": [
    "newindex = sungjuk01idx + ' 학생'\n",
    "sungjuk01.index = newindex\n",
    "sungjuk01"
   ]
  },
  {
   "cell_type": "code",
   "execution_count": 12,
   "id": "705aa8ce",
   "metadata": {},
   "outputs": [
    {
     "data": {
      "text/plain": [
       "array([False, False,  True, False])"
      ]
     },
     "execution_count": 12,
     "metadata": {},
     "output_type": "execute_result"
    }
   ],
   "source": [
    "result = sungjuk01idx > '자'\n",
    "result"
   ]
  },
  {
   "cell_type": "code",
   "execution_count": 13,
   "id": "f8674390",
   "metadata": {
    "scrolled": false
   },
   "outputs": [
    {
     "data": {
      "text/html": [
       "<div>\n",
       "<style scoped>\n",
       "    .dataframe tbody tr th:only-of-type {\n",
       "        vertical-align: middle;\n",
       "    }\n",
       "\n",
       "    .dataframe tbody tr th {\n",
       "        vertical-align: top;\n",
       "    }\n",
       "\n",
       "    .dataframe thead th {\n",
       "        text-align: right;\n",
       "    }\n",
       "</style>\n",
       "<table border=\"1\" class=\"dataframe\">\n",
       "  <thead>\n",
       "    <tr style=\"text-align: right;\">\n",
       "      <th></th>\n",
       "      <th>국어</th>\n",
       "    </tr>\n",
       "    <tr>\n",
       "      <th>이름</th>\n",
       "      <th></th>\n",
       "    </tr>\n",
       "  </thead>\n",
       "  <tbody>\n",
       "    <tr>\n",
       "      <th>최윤라 학생</th>\n",
       "      <td>80</td>\n",
       "    </tr>\n",
       "  </tbody>\n",
       "</table>\n",
       "</div>"
      ],
      "text/plain": [
       "        국어\n",
       "이름        \n",
       "최윤라 학생  80"
      ]
     },
     "execution_count": 13,
     "metadata": {},
     "output_type": "execute_result"
    }
   ],
   "source": [
    "sungjuk01[result]"
   ]
  },
  {
   "cell_type": "markdown",
   "id": "53d356c2",
   "metadata": {},
   "source": [
    "<h6><font color=\"BlueViolet\">2번 파일 살펴 보기</font></h6>"
   ]
  },
  {
   "cell_type": "code",
   "execution_count": 17,
   "id": "87e0e3e0",
   "metadata": {},
   "outputs": [
    {
     "data": {
      "text/html": [
       "<div>\n",
       "<style scoped>\n",
       "    .dataframe tbody tr th:only-of-type {\n",
       "        vertical-align: middle;\n",
       "    }\n",
       "\n",
       "    .dataframe tbody tr th {\n",
       "        vertical-align: top;\n",
       "    }\n",
       "\n",
       "    .dataframe thead th {\n",
       "        text-align: right;\n",
       "    }\n",
       "</style>\n",
       "<table border=\"1\" class=\"dataframe\">\n",
       "  <thead>\n",
       "    <tr style=\"text-align: right;\">\n",
       "      <th></th>\n",
       "      <th>영어</th>\n",
       "    </tr>\n",
       "    <tr>\n",
       "      <th>이름</th>\n",
       "      <th></th>\n",
       "    </tr>\n",
       "  </thead>\n",
       "  <tbody>\n",
       "    <tr>\n",
       "      <th>강유심</th>\n",
       "      <td>50</td>\n",
       "    </tr>\n",
       "    <tr>\n",
       "      <th>신서윤</th>\n",
       "      <td>80</td>\n",
       "    </tr>\n",
       "    <tr>\n",
       "      <th>김만철</th>\n",
       "      <td>90</td>\n",
       "    </tr>\n",
       "    <tr>\n",
       "      <th>윤선희</th>\n",
       "      <td>70</td>\n",
       "    </tr>\n",
       "  </tbody>\n",
       "</table>\n",
       "</div>"
      ],
      "text/plain": [
       "     영어\n",
       "이름     \n",
       "강유심  50\n",
       "신서윤  80\n",
       "김만철  90\n",
       "윤선희  70"
      ]
     },
     "execution_count": 17,
     "metadata": {},
     "output_type": "execute_result"
    }
   ],
   "source": [
    "sungjuk02 = pd.read_csv('./../data/sungjuk02.csv', encoding='cp949', \\\n",
    "                       index_col='이름')\n",
    "sungjuk02"
   ]
  },
  {
   "cell_type": "code",
   "execution_count": 18,
   "id": "f0a60e9d",
   "metadata": {},
   "outputs": [
    {
     "data": {
      "text/plain": [
       "Index(['강유심', '신서윤', '김만철', '윤선희'], dtype='object', name='이름')"
      ]
     },
     "execution_count": 18,
     "metadata": {},
     "output_type": "execute_result"
    }
   ],
   "source": [
    "sungjuk02idx = sungjuk02.index\n",
    "sungjuk02idx"
   ]
  },
  {
   "cell_type": "code",
   "execution_count": 19,
   "id": "c8e94875",
   "metadata": {
    "scrolled": true
   },
   "outputs": [
    {
     "name": "stdout",
     "output_type": "stream",
     "text": [
      "Index(['강유심', '신서윤', '최윤라', '박윤정'], dtype='object', name='이름')\n"
     ]
    }
   ],
   "source": [
    "print(sungjuk01idx)"
   ]
  },
  {
   "cell_type": "markdown",
   "id": "afe0c7aa",
   "metadata": {},
   "source": [
    "<h4><font color=\"green\">색인의 집합 연산</font></h4>"
   ]
  },
  {
   "cell_type": "code",
   "execution_count": 20,
   "id": "daa71d73",
   "metadata": {},
   "outputs": [
    {
     "data": {
      "text/plain": [
       "Index(['강유심', '김만철', '박윤정', '신서윤', '윤선희', '최윤라'], dtype='object', name='이름')"
      ]
     },
     "execution_count": 20,
     "metadata": {},
     "output_type": "execute_result"
    }
   ],
   "source": [
    "sungjuk01idx.union(sungjuk02idx)"
   ]
  },
  {
   "cell_type": "code",
   "execution_count": 21,
   "id": "00241fe3",
   "metadata": {},
   "outputs": [
    {
     "data": {
      "text/plain": [
       "Index(['강유심', '신서윤'], dtype='object', name='이름')"
      ]
     },
     "execution_count": 21,
     "metadata": {},
     "output_type": "execute_result"
    }
   ],
   "source": [
    "sungjuk01idx.intersection(sungjuk02idx)"
   ]
  },
  {
   "cell_type": "code",
   "execution_count": 22,
   "id": "7ba4dfc3",
   "metadata": {},
   "outputs": [
    {
     "data": {
      "text/plain": [
       "Index(['박윤정', '최윤라'], dtype='object', name='이름')"
      ]
     },
     "execution_count": 22,
     "metadata": {},
     "output_type": "execute_result"
    }
   ],
   "source": [
    "diff01 = sungjuk01idx.difference(sungjuk02idx)\n",
    "diff01"
   ]
  },
  {
   "cell_type": "code",
   "execution_count": 23,
   "id": "7ee72975",
   "metadata": {},
   "outputs": [
    {
     "data": {
      "text/plain": [
       "Index(['김만철', '윤선희'], dtype='object', name='이름')"
      ]
     },
     "execution_count": 23,
     "metadata": {},
     "output_type": "execute_result"
    }
   ],
   "source": [
    "diff02 = sungjuk02idx.difference(sungjuk01idx)\n",
    "diff02"
   ]
  },
  {
   "cell_type": "code",
   "execution_count": 24,
   "id": "7a3af890",
   "metadata": {},
   "outputs": [
    {
     "data": {
      "text/plain": [
       "array([False, False])"
      ]
     },
     "execution_count": 24,
     "metadata": {},
     "output_type": "execute_result"
    }
   ],
   "source": [
    "diff01 == diff02"
   ]
  },
  {
   "cell_type": "markdown",
   "id": "f10a8826",
   "metadata": {},
   "source": [
    "<h2><font color=\"red\">색인의 참조 복사와 값 복사</font></h2>"
   ]
  },
  {
   "cell_type": "markdown",
   "id": "756bbbe2",
   "metadata": {},
   "source": [
    "<h4><font color=\"green\">출장 내역 데이터</font></h4>"
   ]
  },
  {
   "cell_type": "markdown",
   "id": "8245ce51",
   "metadata": {},
   "source": [
    "<h6><font color=\"BlueViolet\">참조 복사와 값 복사</font></h6>"
   ]
  },
  {
   "cell_type": "code",
   "execution_count": 58,
   "id": "c9de67f8",
   "metadata": {},
   "outputs": [
    {
     "data": {
      "text/html": [
       "<div>\n",
       "<style scoped>\n",
       "    .dataframe tbody tr th:only-of-type {\n",
       "        vertical-align: middle;\n",
       "    }\n",
       "\n",
       "    .dataframe tbody tr th {\n",
       "        vertical-align: top;\n",
       "    }\n",
       "\n",
       "    .dataframe thead th {\n",
       "        text-align: right;\n",
       "    }\n",
       "</style>\n",
       "<table border=\"1\" class=\"dataframe\">\n",
       "  <thead>\n",
       "    <tr style=\"text-align: right;\">\n",
       "      <th></th>\n",
       "      <th>분기</th>\n",
       "      <th>일생산량</th>\n",
       "      <th>불량품</th>\n",
       "    </tr>\n",
       "    <tr>\n",
       "      <th>제품명</th>\n",
       "      <th></th>\n",
       "      <th></th>\n",
       "      <th></th>\n",
       "    </tr>\n",
       "  </thead>\n",
       "  <tbody>\n",
       "    <tr>\n",
       "      <th>미니오븐</th>\n",
       "      <td>2</td>\n",
       "      <td>85</td>\n",
       "      <td>26</td>\n",
       "    </tr>\n",
       "    <tr>\n",
       "      <th>전기밥솥</th>\n",
       "      <td>2</td>\n",
       "      <td>70</td>\n",
       "      <td>39</td>\n",
       "    </tr>\n",
       "    <tr>\n",
       "      <th>믹서기</th>\n",
       "      <td>2</td>\n",
       "      <td>85</td>\n",
       "      <td>39</td>\n",
       "    </tr>\n",
       "    <tr>\n",
       "      <th>전자레인지</th>\n",
       "      <td>2</td>\n",
       "      <td>90</td>\n",
       "      <td>22</td>\n",
       "    </tr>\n",
       "    <tr>\n",
       "      <th>미니냉장고</th>\n",
       "      <td>2</td>\n",
       "      <td>90</td>\n",
       "      <td>22</td>\n",
       "    </tr>\n",
       "    <tr>\n",
       "      <th>선풍기</th>\n",
       "      <td>2</td>\n",
       "      <td>65</td>\n",
       "      <td>33</td>\n",
       "    </tr>\n",
       "  </tbody>\n",
       "</table>\n",
       "</div>"
      ],
      "text/plain": [
       "       분기  일생산량  불량품\n",
       "제품명                 \n",
       "미니오븐    2    85   26\n",
       "전기밥솥    2    70   39\n",
       "믹서기     2    85   39\n",
       "전자레인지   2    90   22\n",
       "미니냉장고   2    90   22\n",
       "선풍기     2    65   33"
      ]
     },
     "execution_count": 58,
     "metadata": {},
     "output_type": "execute_result"
    }
   ],
   "source": [
    "homeware = pd.read_csv('./../data/가전제품02.csv', encoding='cp949', \\\n",
    "                       index_col='제품명')\n",
    "homeware"
   ]
  },
  {
   "cell_type": "code",
   "execution_count": 59,
   "id": "80b6b15b",
   "metadata": {},
   "outputs": [
    {
     "data": {
      "text/html": [
       "<div>\n",
       "<style scoped>\n",
       "    .dataframe tbody tr th:only-of-type {\n",
       "        vertical-align: middle;\n",
       "    }\n",
       "\n",
       "    .dataframe tbody tr th {\n",
       "        vertical-align: top;\n",
       "    }\n",
       "\n",
       "    .dataframe thead th {\n",
       "        text-align: right;\n",
       "    }\n",
       "</style>\n",
       "<table border=\"1\" class=\"dataframe\">\n",
       "  <thead>\n",
       "    <tr style=\"text-align: right;\">\n",
       "      <th></th>\n",
       "      <th>일생산량</th>\n",
       "    </tr>\n",
       "    <tr>\n",
       "      <th>제품명</th>\n",
       "      <th></th>\n",
       "    </tr>\n",
       "  </thead>\n",
       "  <tbody>\n",
       "    <tr>\n",
       "      <th>미니오븐</th>\n",
       "      <td>85</td>\n",
       "    </tr>\n",
       "    <tr>\n",
       "      <th>전기밥솥</th>\n",
       "      <td>70</td>\n",
       "    </tr>\n",
       "    <tr>\n",
       "      <th>믹서기</th>\n",
       "      <td>85</td>\n",
       "    </tr>\n",
       "    <tr>\n",
       "      <th>전자레인지</th>\n",
       "      <td>90</td>\n",
       "    </tr>\n",
       "    <tr>\n",
       "      <th>미니냉장고</th>\n",
       "      <td>90</td>\n",
       "    </tr>\n",
       "    <tr>\n",
       "      <th>선풍기</th>\n",
       "      <td>65</td>\n",
       "    </tr>\n",
       "  </tbody>\n",
       "</table>\n",
       "</div>"
      ],
      "text/plain": [
       "       일생산량\n",
       "제품명        \n",
       "미니오븐     85\n",
       "전기밥솥     70\n",
       "믹서기      85\n",
       "전자레인지    90\n",
       "미니냉장고    90\n",
       "선풍기      65"
      ]
     },
     "execution_count": 59,
     "metadata": {},
     "output_type": "execute_result"
    }
   ],
   "source": [
    "homeware01 = homeware['일생산량']\n",
    "homeware01.to_frame()"
   ]
  },
  {
   "cell_type": "code",
   "execution_count": 60,
   "id": "fb6807c1",
   "metadata": {},
   "outputs": [
    {
     "data": {
      "text/html": [
       "<div>\n",
       "<style scoped>\n",
       "    .dataframe tbody tr th:only-of-type {\n",
       "        vertical-align: middle;\n",
       "    }\n",
       "\n",
       "    .dataframe tbody tr th {\n",
       "        vertical-align: top;\n",
       "    }\n",
       "\n",
       "    .dataframe thead th {\n",
       "        text-align: right;\n",
       "    }\n",
       "</style>\n",
       "<table border=\"1\" class=\"dataframe\">\n",
       "  <thead>\n",
       "    <tr style=\"text-align: right;\">\n",
       "      <th></th>\n",
       "      <th>일생산량</th>\n",
       "    </tr>\n",
       "    <tr>\n",
       "      <th>제품명</th>\n",
       "      <th></th>\n",
       "    </tr>\n",
       "  </thead>\n",
       "  <tbody>\n",
       "    <tr>\n",
       "      <th>미니오븐</th>\n",
       "      <td>85</td>\n",
       "    </tr>\n",
       "    <tr>\n",
       "      <th>전기밥솥</th>\n",
       "      <td>70</td>\n",
       "    </tr>\n",
       "    <tr>\n",
       "      <th>믹서기</th>\n",
       "      <td>85</td>\n",
       "    </tr>\n",
       "    <tr>\n",
       "      <th>전자레인지</th>\n",
       "      <td>90</td>\n",
       "    </tr>\n",
       "    <tr>\n",
       "      <th>미니냉장고</th>\n",
       "      <td>90</td>\n",
       "    </tr>\n",
       "    <tr>\n",
       "      <th>선풍기</th>\n",
       "      <td>65</td>\n",
       "    </tr>\n",
       "  </tbody>\n",
       "</table>\n",
       "</div>"
      ],
      "text/plain": [
       "       일생산량\n",
       "제품명        \n",
       "미니오븐     85\n",
       "전기밥솥     70\n",
       "믹서기      85\n",
       "전자레인지    90\n",
       "미니냉장고    90\n",
       "선풍기      65"
      ]
     },
     "execution_count": 60,
     "metadata": {},
     "output_type": "execute_result"
    }
   ],
   "source": [
    "homeware02 = homeware['일생산량']\n",
    "homeware02.to_frame()"
   ]
  },
  {
   "cell_type": "code",
   "execution_count": 61,
   "id": "23b3664e",
   "metadata": {},
   "outputs": [
    {
     "name": "stdout",
     "output_type": "stream",
     "text": [
      "True\n"
     ]
    }
   ],
   "source": [
    "print(homeware01 is homeware02)"
   ]
  },
  {
   "cell_type": "code",
   "execution_count": 63,
   "id": "752dabc7",
   "metadata": {},
   "outputs": [
    {
     "data": {
      "text/html": [
       "<div>\n",
       "<style scoped>\n",
       "    .dataframe tbody tr th:only-of-type {\n",
       "        vertical-align: middle;\n",
       "    }\n",
       "\n",
       "    .dataframe tbody tr th {\n",
       "        vertical-align: top;\n",
       "    }\n",
       "\n",
       "    .dataframe thead th {\n",
       "        text-align: right;\n",
       "    }\n",
       "</style>\n",
       "<table border=\"1\" class=\"dataframe\">\n",
       "  <thead>\n",
       "    <tr style=\"text-align: right;\">\n",
       "      <th></th>\n",
       "      <th>일생산량</th>\n",
       "    </tr>\n",
       "    <tr>\n",
       "      <th>제품명</th>\n",
       "      <th></th>\n",
       "    </tr>\n",
       "  </thead>\n",
       "  <tbody>\n",
       "    <tr>\n",
       "      <th>미니오븐</th>\n",
       "      <td>85</td>\n",
       "    </tr>\n",
       "    <tr>\n",
       "      <th>전기밥솥</th>\n",
       "      <td>70</td>\n",
       "    </tr>\n",
       "    <tr>\n",
       "      <th>믹서기</th>\n",
       "      <td>85</td>\n",
       "    </tr>\n",
       "    <tr>\n",
       "      <th>전자레인지</th>\n",
       "      <td>90</td>\n",
       "    </tr>\n",
       "    <tr>\n",
       "      <th>미니냉장고</th>\n",
       "      <td>90</td>\n",
       "    </tr>\n",
       "    <tr>\n",
       "      <th>선풍기</th>\n",
       "      <td>65</td>\n",
       "    </tr>\n",
       "  </tbody>\n",
       "</table>\n",
       "</div>"
      ],
      "text/plain": [
       "       일생산량\n",
       "제품명        \n",
       "미니오븐     85\n",
       "전기밥솥     70\n",
       "믹서기      85\n",
       "전자레인지    90\n",
       "미니냉장고    90\n",
       "선풍기      65"
      ]
     },
     "execution_count": 63,
     "metadata": {},
     "output_type": "execute_result"
    }
   ],
   "source": [
    "homeware01 = homeware['일생산량'].copy()\n",
    "homeware01.to_frame()"
   ]
  },
  {
   "cell_type": "code",
   "execution_count": 64,
   "id": "f491814d",
   "metadata": {},
   "outputs": [
    {
     "data": {
      "text/html": [
       "<div>\n",
       "<style scoped>\n",
       "    .dataframe tbody tr th:only-of-type {\n",
       "        vertical-align: middle;\n",
       "    }\n",
       "\n",
       "    .dataframe tbody tr th {\n",
       "        vertical-align: top;\n",
       "    }\n",
       "\n",
       "    .dataframe thead th {\n",
       "        text-align: right;\n",
       "    }\n",
       "</style>\n",
       "<table border=\"1\" class=\"dataframe\">\n",
       "  <thead>\n",
       "    <tr style=\"text-align: right;\">\n",
       "      <th></th>\n",
       "      <th>일생산량</th>\n",
       "    </tr>\n",
       "    <tr>\n",
       "      <th>제품명</th>\n",
       "      <th></th>\n",
       "    </tr>\n",
       "  </thead>\n",
       "  <tbody>\n",
       "    <tr>\n",
       "      <th>미니오븐</th>\n",
       "      <td>85</td>\n",
       "    </tr>\n",
       "    <tr>\n",
       "      <th>전기밥솥</th>\n",
       "      <td>70</td>\n",
       "    </tr>\n",
       "    <tr>\n",
       "      <th>믹서기</th>\n",
       "      <td>85</td>\n",
       "    </tr>\n",
       "    <tr>\n",
       "      <th>전자레인지</th>\n",
       "      <td>90</td>\n",
       "    </tr>\n",
       "    <tr>\n",
       "      <th>미니냉장고</th>\n",
       "      <td>90</td>\n",
       "    </tr>\n",
       "    <tr>\n",
       "      <th>선풍기</th>\n",
       "      <td>65</td>\n",
       "    </tr>\n",
       "  </tbody>\n",
       "</table>\n",
       "</div>"
      ],
      "text/plain": [
       "       일생산량\n",
       "제품명        \n",
       "미니오븐     85\n",
       "전기밥솥     70\n",
       "믹서기      85\n",
       "전자레인지    90\n",
       "미니냉장고    90\n",
       "선풍기      65"
      ]
     },
     "execution_count": 64,
     "metadata": {},
     "output_type": "execute_result"
    }
   ],
   "source": [
    "homeware02 = homeware['일생산량'].copy()\n",
    "homeware02.to_frame()"
   ]
  },
  {
   "cell_type": "code",
   "execution_count": 65,
   "id": "3267ab48",
   "metadata": {},
   "outputs": [
    {
     "name": "stdout",
     "output_type": "stream",
     "text": [
      "False\n"
     ]
    }
   ],
   "source": [
    "print(homeware01 is homeware02)"
   ]
  },
  {
   "cell_type": "code",
   "execution_count": 69,
   "id": "fa948ae6",
   "metadata": {},
   "outputs": [
    {
     "data": {
      "text/html": [
       "<div>\n",
       "<style scoped>\n",
       "    .dataframe tbody tr th:only-of-type {\n",
       "        vertical-align: middle;\n",
       "    }\n",
       "\n",
       "    .dataframe tbody tr th {\n",
       "        vertical-align: top;\n",
       "    }\n",
       "\n",
       "    .dataframe thead th {\n",
       "        text-align: right;\n",
       "    }\n",
       "</style>\n",
       "<table border=\"1\" class=\"dataframe\">\n",
       "  <thead>\n",
       "    <tr style=\"text-align: right;\">\n",
       "      <th></th>\n",
       "      <th>일생산량</th>\n",
       "    </tr>\n",
       "    <tr>\n",
       "      <th>제품명</th>\n",
       "      <th></th>\n",
       "    </tr>\n",
       "  </thead>\n",
       "  <tbody>\n",
       "    <tr>\n",
       "      <th>미니냉장고</th>\n",
       "      <td>90</td>\n",
       "    </tr>\n",
       "    <tr>\n",
       "      <th>미니오븐</th>\n",
       "      <td>85</td>\n",
       "    </tr>\n",
       "    <tr>\n",
       "      <th>믹서기</th>\n",
       "      <td>85</td>\n",
       "    </tr>\n",
       "    <tr>\n",
       "      <th>선풍기</th>\n",
       "      <td>65</td>\n",
       "    </tr>\n",
       "    <tr>\n",
       "      <th>전기밥솥</th>\n",
       "      <td>70</td>\n",
       "    </tr>\n",
       "    <tr>\n",
       "      <th>전자레인지</th>\n",
       "      <td>90</td>\n",
       "    </tr>\n",
       "  </tbody>\n",
       "</table>\n",
       "</div>"
      ],
      "text/plain": [
       "       일생산량\n",
       "제품명        \n",
       "미니냉장고    90\n",
       "미니오븐     85\n",
       "믹서기      85\n",
       "선풍기      65\n",
       "전기밥솥     70\n",
       "전자레인지    90"
      ]
     },
     "execution_count": 69,
     "metadata": {},
     "output_type": "execute_result"
    }
   ],
   "source": [
    "homeware01 = homeware01.sort_index()\n",
    "homeware01.to_frame()"
   ]
  },
  {
   "cell_type": "code",
   "execution_count": 68,
   "id": "2f523f78",
   "metadata": {},
   "outputs": [
    {
     "data": {
      "text/html": [
       "<div>\n",
       "<style scoped>\n",
       "    .dataframe tbody tr th:only-of-type {\n",
       "        vertical-align: middle;\n",
       "    }\n",
       "\n",
       "    .dataframe tbody tr th {\n",
       "        vertical-align: top;\n",
       "    }\n",
       "\n",
       "    .dataframe thead th {\n",
       "        text-align: right;\n",
       "    }\n",
       "</style>\n",
       "<table border=\"1\" class=\"dataframe\">\n",
       "  <thead>\n",
       "    <tr style=\"text-align: right;\">\n",
       "      <th></th>\n",
       "      <th>일생산량</th>\n",
       "    </tr>\n",
       "    <tr>\n",
       "      <th>제품명</th>\n",
       "      <th></th>\n",
       "    </tr>\n",
       "  </thead>\n",
       "  <tbody>\n",
       "    <tr>\n",
       "      <th>미니오븐</th>\n",
       "      <td>85</td>\n",
       "    </tr>\n",
       "    <tr>\n",
       "      <th>전기밥솥</th>\n",
       "      <td>70</td>\n",
       "    </tr>\n",
       "    <tr>\n",
       "      <th>믹서기</th>\n",
       "      <td>85</td>\n",
       "    </tr>\n",
       "    <tr>\n",
       "      <th>전자레인지</th>\n",
       "      <td>90</td>\n",
       "    </tr>\n",
       "    <tr>\n",
       "      <th>미니냉장고</th>\n",
       "      <td>90</td>\n",
       "    </tr>\n",
       "    <tr>\n",
       "      <th>선풍기</th>\n",
       "      <td>65</td>\n",
       "    </tr>\n",
       "  </tbody>\n",
       "</table>\n",
       "</div>"
      ],
      "text/plain": [
       "       일생산량\n",
       "제품명        \n",
       "미니오븐     85\n",
       "전기밥솥     70\n",
       "믹서기      85\n",
       "전자레인지    90\n",
       "미니냉장고    90\n",
       "선풍기      65"
      ]
     },
     "execution_count": 68,
     "metadata": {},
     "output_type": "execute_result"
    }
   ],
   "source": [
    "homeware02.to_frame()"
   ]
  },
  {
   "cell_type": "markdown",
   "id": "5c898f1e",
   "metadata": {},
   "source": [
    "<h2><font color=\"red\">특정 그룹별 최대 값 찾기</font></h2>"
   ]
  },
  {
   "cell_type": "markdown",
   "id": "c744bcc5",
   "metadata": {},
   "source": [
    "<h4><font color=\"green\">가전 제품 데이터</font></h4>"
   ]
  },
  {
   "cell_type": "code",
   "execution_count": 184,
   "id": "49d66f34",
   "metadata": {},
   "outputs": [],
   "source": [
    "import pandas as pd"
   ]
  },
  {
   "cell_type": "code",
   "execution_count": 185,
   "id": "cffd3a0e",
   "metadata": {
    "scrolled": true
   },
   "outputs": [
    {
     "data": {
      "text/html": [
       "<div>\n",
       "<style scoped>\n",
       "    .dataframe tbody tr th:only-of-type {\n",
       "        vertical-align: middle;\n",
       "    }\n",
       "\n",
       "    .dataframe tbody tr th {\n",
       "        vertical-align: top;\n",
       "    }\n",
       "\n",
       "    .dataframe thead th {\n",
       "        text-align: right;\n",
       "    }\n",
       "</style>\n",
       "<table border=\"1\" class=\"dataframe\">\n",
       "  <thead>\n",
       "    <tr style=\"text-align: right;\">\n",
       "      <th></th>\n",
       "      <th>이름</th>\n",
       "      <th>학기</th>\n",
       "      <th>국어</th>\n",
       "      <th>영어</th>\n",
       "      <th>수학</th>\n",
       "    </tr>\n",
       "  </thead>\n",
       "  <tbody>\n",
       "    <tr>\n",
       "      <th>0</th>\n",
       "      <td>김훈희</td>\n",
       "      <td>1</td>\n",
       "      <td>65</td>\n",
       "      <td>80</td>\n",
       "      <td>70</td>\n",
       "    </tr>\n",
       "    <tr>\n",
       "      <th>1</th>\n",
       "      <td>윤지영</td>\n",
       "      <td>1</td>\n",
       "      <td>75</td>\n",
       "      <td>90</td>\n",
       "      <td>60</td>\n",
       "    </tr>\n",
       "    <tr>\n",
       "      <th>2</th>\n",
       "      <td>박기현</td>\n",
       "      <td>1</td>\n",
       "      <td>50</td>\n",
       "      <td>75</td>\n",
       "      <td>95</td>\n",
       "    </tr>\n",
       "    <tr>\n",
       "      <th>3</th>\n",
       "      <td>허혜숙</td>\n",
       "      <td>1</td>\n",
       "      <td>90</td>\n",
       "      <td>85</td>\n",
       "      <td>75</td>\n",
       "    </tr>\n",
       "    <tr>\n",
       "      <th>4</th>\n",
       "      <td>권도기</td>\n",
       "      <td>1</td>\n",
       "      <td>55</td>\n",
       "      <td>70</td>\n",
       "      <td>95</td>\n",
       "    </tr>\n",
       "  </tbody>\n",
       "</table>\n",
       "</div>"
      ],
      "text/plain": [
       "    이름  학기  국어  영어  수학\n",
       "0  김훈희   1  65  80  70\n",
       "1  윤지영   1  75  90  60\n",
       "2  박기현   1  50  75  95\n",
       "3  허혜숙   1  90  85  75\n",
       "4  권도기   1  55  70  95"
      ]
     },
     "execution_count": 185,
     "metadata": {},
     "output_type": "execute_result"
    }
   ],
   "source": [
    "students = pd.read_csv('./../data/students.csv' ,encoding='cp949')\n",
    "students.head()"
   ]
  },
  {
   "cell_type": "code",
   "execution_count": 186,
   "id": "b04b6f16",
   "metadata": {},
   "outputs": [
    {
     "data": {
      "text/html": [
       "<div>\n",
       "<style scoped>\n",
       "    .dataframe tbody tr th:only-of-type {\n",
       "        vertical-align: middle;\n",
       "    }\n",
       "\n",
       "    .dataframe tbody tr th {\n",
       "        vertical-align: top;\n",
       "    }\n",
       "\n",
       "    .dataframe thead th {\n",
       "        text-align: right;\n",
       "    }\n",
       "</style>\n",
       "<table border=\"1\" class=\"dataframe\">\n",
       "  <thead>\n",
       "    <tr style=\"text-align: right;\">\n",
       "      <th></th>\n",
       "      <th>이름</th>\n",
       "      <th>국어</th>\n",
       "    </tr>\n",
       "  </thead>\n",
       "  <tbody>\n",
       "    <tr>\n",
       "      <th>0</th>\n",
       "      <td>김훈희</td>\n",
       "      <td>65</td>\n",
       "    </tr>\n",
       "    <tr>\n",
       "      <th>1</th>\n",
       "      <td>윤지영</td>\n",
       "      <td>75</td>\n",
       "    </tr>\n",
       "    <tr>\n",
       "      <th>2</th>\n",
       "      <td>박기현</td>\n",
       "      <td>50</td>\n",
       "    </tr>\n",
       "    <tr>\n",
       "      <th>3</th>\n",
       "      <td>허혜숙</td>\n",
       "      <td>90</td>\n",
       "    </tr>\n",
       "    <tr>\n",
       "      <th>4</th>\n",
       "      <td>권도기</td>\n",
       "      <td>55</td>\n",
       "    </tr>\n",
       "  </tbody>\n",
       "</table>\n",
       "</div>"
      ],
      "text/plain": [
       "    이름  국어\n",
       "0  김훈희  65\n",
       "1  윤지영  75\n",
       "2  박기현  50\n",
       "3  허혜숙  90\n",
       "4  권도기  55"
      ]
     },
     "execution_count": 186,
     "metadata": {},
     "output_type": "execute_result"
    }
   ],
   "source": [
    "korean = students[['이름', '국어']]\n",
    "korean.head()"
   ]
  },
  {
   "cell_type": "code",
   "execution_count": 187,
   "id": "8881ba57",
   "metadata": {},
   "outputs": [
    {
     "data": {
      "text/html": [
       "<div>\n",
       "<style scoped>\n",
       "    .dataframe tbody tr th:only-of-type {\n",
       "        vertical-align: middle;\n",
       "    }\n",
       "\n",
       "    .dataframe tbody tr th {\n",
       "        vertical-align: top;\n",
       "    }\n",
       "\n",
       "    .dataframe thead th {\n",
       "        text-align: right;\n",
       "    }\n",
       "</style>\n",
       "<table border=\"1\" class=\"dataframe\">\n",
       "  <thead>\n",
       "    <tr style=\"text-align: right;\">\n",
       "      <th></th>\n",
       "      <th>이름</th>\n",
       "      <th>국어</th>\n",
       "    </tr>\n",
       "  </thead>\n",
       "  <tbody>\n",
       "    <tr>\n",
       "      <th>16</th>\n",
       "      <td>권도기</td>\n",
       "      <td>95</td>\n",
       "    </tr>\n",
       "    <tr>\n",
       "      <th>10</th>\n",
       "      <td>권도기</td>\n",
       "      <td>90</td>\n",
       "    </tr>\n",
       "    <tr>\n",
       "      <th>4</th>\n",
       "      <td>권도기</td>\n",
       "      <td>55</td>\n",
       "    </tr>\n",
       "    <tr>\n",
       "      <th>22</th>\n",
       "      <td>권도기</td>\n",
       "      <td>55</td>\n",
       "    </tr>\n",
       "    <tr>\n",
       "      <th>6</th>\n",
       "      <td>김훈희</td>\n",
       "      <td>85</td>\n",
       "    </tr>\n",
       "    <tr>\n",
       "      <th>0</th>\n",
       "      <td>김훈희</td>\n",
       "      <td>65</td>\n",
       "    </tr>\n",
       "    <tr>\n",
       "      <th>12</th>\n",
       "      <td>김훈희</td>\n",
       "      <td>60</td>\n",
       "    </tr>\n",
       "    <tr>\n",
       "      <th>18</th>\n",
       "      <td>김훈희</td>\n",
       "      <td>55</td>\n",
       "    </tr>\n",
       "  </tbody>\n",
       "</table>\n",
       "</div>"
      ],
      "text/plain": [
       "     이름  국어\n",
       "16  권도기  95\n",
       "10  권도기  90\n",
       "4   권도기  55\n",
       "22  권도기  55\n",
       "6   김훈희  85\n",
       "0   김훈희  65\n",
       "12  김훈희  60\n",
       "18  김훈희  55"
      ]
     },
     "execution_count": 187,
     "metadata": {},
     "output_type": "execute_result"
    }
   ],
   "source": [
    "korean = korean.sort_values(['이름', '국어'], ascending=[True, False])\n",
    "korean.head(8)"
   ]
  },
  {
   "cell_type": "code",
   "execution_count": 188,
   "id": "414b89dc",
   "metadata": {
    "scrolled": true
   },
   "outputs": [
    {
     "data": {
      "text/html": [
       "<div>\n",
       "<style scoped>\n",
       "    .dataframe tbody tr th:only-of-type {\n",
       "        vertical-align: middle;\n",
       "    }\n",
       "\n",
       "    .dataframe tbody tr th {\n",
       "        vertical-align: top;\n",
       "    }\n",
       "\n",
       "    .dataframe thead th {\n",
       "        text-align: right;\n",
       "    }\n",
       "</style>\n",
       "<table border=\"1\" class=\"dataframe\">\n",
       "  <thead>\n",
       "    <tr style=\"text-align: right;\">\n",
       "      <th></th>\n",
       "      <th>국어</th>\n",
       "    </tr>\n",
       "    <tr>\n",
       "      <th>이름</th>\n",
       "      <th></th>\n",
       "    </tr>\n",
       "  </thead>\n",
       "  <tbody>\n",
       "    <tr>\n",
       "      <th>권도기</th>\n",
       "      <td>95</td>\n",
       "    </tr>\n",
       "    <tr>\n",
       "      <th>김훈희</th>\n",
       "      <td>85</td>\n",
       "    </tr>\n",
       "    <tr>\n",
       "      <th>박기현</th>\n",
       "      <td>85</td>\n",
       "    </tr>\n",
       "    <tr>\n",
       "      <th>송정옥</th>\n",
       "      <td>95</td>\n",
       "    </tr>\n",
       "    <tr>\n",
       "      <th>윤지영</th>\n",
       "      <td>75</td>\n",
       "    </tr>\n",
       "    <tr>\n",
       "      <th>허혜숙</th>\n",
       "      <td>90</td>\n",
       "    </tr>\n",
       "  </tbody>\n",
       "</table>\n",
       "</div>"
      ],
      "text/plain": [
       "     국어\n",
       "이름     \n",
       "권도기  95\n",
       "김훈희  85\n",
       "박기현  85\n",
       "송정옥  95\n",
       "윤지영  75\n",
       "허혜숙  90"
      ]
     },
     "execution_count": 188,
     "metadata": {},
     "output_type": "execute_result"
    }
   ],
   "source": [
    "max_korean = korean.drop_duplicates(subset='이름')\n",
    "max_korean = max_korean.set_index('이름')\n",
    "max_korean"
   ]
  },
  {
   "cell_type": "code",
   "execution_count": 189,
   "id": "5f705e20",
   "metadata": {},
   "outputs": [
    {
     "data": {
      "text/html": [
       "<div>\n",
       "<style scoped>\n",
       "    .dataframe tbody tr th:only-of-type {\n",
       "        vertical-align: middle;\n",
       "    }\n",
       "\n",
       "    .dataframe tbody tr th {\n",
       "        vertical-align: top;\n",
       "    }\n",
       "\n",
       "    .dataframe thead th {\n",
       "        text-align: right;\n",
       "    }\n",
       "</style>\n",
       "<table border=\"1\" class=\"dataframe\">\n",
       "  <thead>\n",
       "    <tr style=\"text-align: right;\">\n",
       "      <th></th>\n",
       "      <th>국어</th>\n",
       "    </tr>\n",
       "    <tr>\n",
       "      <th>이름</th>\n",
       "      <th></th>\n",
       "    </tr>\n",
       "  </thead>\n",
       "  <tbody>\n",
       "    <tr>\n",
       "      <th>권도기</th>\n",
       "      <td>95</td>\n",
       "    </tr>\n",
       "    <tr>\n",
       "      <th>송정옥</th>\n",
       "      <td>95</td>\n",
       "    </tr>\n",
       "    <tr>\n",
       "      <th>허혜숙</th>\n",
       "      <td>90</td>\n",
       "    </tr>\n",
       "    <tr>\n",
       "      <th>김훈희</th>\n",
       "      <td>85</td>\n",
       "    </tr>\n",
       "    <tr>\n",
       "      <th>박기현</th>\n",
       "      <td>85</td>\n",
       "    </tr>\n",
       "    <tr>\n",
       "      <th>윤지영</th>\n",
       "      <td>75</td>\n",
       "    </tr>\n",
       "  </tbody>\n",
       "</table>\n",
       "</div>"
      ],
      "text/plain": [
       "     국어\n",
       "이름     \n",
       "권도기  95\n",
       "송정옥  95\n",
       "허혜숙  90\n",
       "김훈희  85\n",
       "박기현  85\n",
       "윤지영  75"
      ]
     },
     "execution_count": 189,
     "metadata": {},
     "output_type": "execute_result"
    }
   ],
   "source": [
    "chartdata01 = max_korean.copy().sort_values(by='국어', ascending=False)\n",
    "chartdata01"
   ]
  },
  {
   "cell_type": "code",
   "execution_count": 190,
   "id": "f2bec441",
   "metadata": {},
   "outputs": [],
   "source": [
    "import matplotlib.pyplot as plt\n",
    "plt.rc('font', family='Malgun Gothic')"
   ]
  },
  {
   "cell_type": "code",
   "execution_count": 191,
   "id": "40751ecf",
   "metadata": {},
   "outputs": [
    {
     "data": {
      "text/plain": [
       "Text(0.5, 1.0, '학생별 국어 최대 점수')"
      ]
     },
     "execution_count": 191,
     "metadata": {},
     "output_type": "execute_result"
    },
    {
     "data": {
      "image/png": "[encoded data removed]",
      "text/plain": [
       "<Figure size 640x480 with 1 Axes>"
      ]
     },
     "metadata": {},
     "output_type": "display_data"
    }
   ],
   "source": [
    "chartdata01.plot(kind='bar', rot=0, use_index=True, grid=True, legend=False, \\\n",
    "                ylim=[0, 100])\n",
    "plt.xlabel('이름')\n",
    "plt.ylabel('국어 점수')\n",
    "plt.title('학생별 국어 최대 점수')"
   ]
  },
  {
   "cell_type": "code",
   "execution_count": 192,
   "id": "f8335f02",
   "metadata": {},
   "outputs": [
    {
     "data": {
      "text/html": [
       "<div>\n",
       "<style scoped>\n",
       "    .dataframe tbody tr th:only-of-type {\n",
       "        vertical-align: middle;\n",
       "    }\n",
       "\n",
       "    .dataframe tbody tr th {\n",
       "        vertical-align: top;\n",
       "    }\n",
       "\n",
       "    .dataframe thead th {\n",
       "        text-align: right;\n",
       "    }\n",
       "</style>\n",
       "<table border=\"1\" class=\"dataframe\">\n",
       "  <thead>\n",
       "    <tr style=\"text-align: right;\">\n",
       "      <th></th>\n",
       "      <th>학기</th>\n",
       "      <th>국어</th>\n",
       "      <th>영어</th>\n",
       "      <th>수학</th>\n",
       "    </tr>\n",
       "    <tr>\n",
       "      <th>이름</th>\n",
       "      <th></th>\n",
       "      <th></th>\n",
       "      <th></th>\n",
       "      <th></th>\n",
       "    </tr>\n",
       "  </thead>\n",
       "  <tbody>\n",
       "    <tr>\n",
       "      <th>김훈희</th>\n",
       "      <td>1</td>\n",
       "      <td>65</td>\n",
       "      <td>80</td>\n",
       "      <td>70</td>\n",
       "    </tr>\n",
       "    <tr>\n",
       "      <th>윤지영</th>\n",
       "      <td>1</td>\n",
       "      <td>75</td>\n",
       "      <td>90</td>\n",
       "      <td>60</td>\n",
       "    </tr>\n",
       "    <tr>\n",
       "      <th>박기현</th>\n",
       "      <td>1</td>\n",
       "      <td>50</td>\n",
       "      <td>75</td>\n",
       "      <td>95</td>\n",
       "    </tr>\n",
       "    <tr>\n",
       "      <th>허혜숙</th>\n",
       "      <td>1</td>\n",
       "      <td>90</td>\n",
       "      <td>85</td>\n",
       "      <td>75</td>\n",
       "    </tr>\n",
       "    <tr>\n",
       "      <th>권도기</th>\n",
       "      <td>1</td>\n",
       "      <td>55</td>\n",
       "      <td>70</td>\n",
       "      <td>95</td>\n",
       "    </tr>\n",
       "  </tbody>\n",
       "</table>\n",
       "</div>"
      ],
      "text/plain": [
       "     학기  국어  영어  수학\n",
       "이름                 \n",
       "김훈희   1  65  80  70\n",
       "윤지영   1  75  90  60\n",
       "박기현   1  50  75  95\n",
       "허혜숙   1  90  85  75\n",
       "권도기   1  55  70  95"
      ]
     },
     "execution_count": 192,
     "metadata": {},
     "output_type": "execute_result"
    }
   ],
   "source": [
    "students = students.set_index('이름') \n",
    "students.head()"
   ]
  },
  {
   "cell_type": "code",
   "execution_count": 193,
   "id": "6c026716",
   "metadata": {},
   "outputs": [],
   "source": [
    "students['국어_최대값'] = max_korean['국어'] "
   ]
  },
  {
   "cell_type": "code",
   "execution_count": 194,
   "id": "a41408e0",
   "metadata": {},
   "outputs": [],
   "source": [
    "students['rate'] = 100 * students['국어']/students['국어_최대값'] "
   ]
  },
  {
   "cell_type": "code",
   "execution_count": 195,
   "id": "28e5c83b",
   "metadata": {},
   "outputs": [
    {
     "data": {
      "text/html": [
       "<div>\n",
       "<style scoped>\n",
       "    .dataframe tbody tr th:only-of-type {\n",
       "        vertical-align: middle;\n",
       "    }\n",
       "\n",
       "    .dataframe tbody tr th {\n",
       "        vertical-align: top;\n",
       "    }\n",
       "\n",
       "    .dataframe thead th {\n",
       "        text-align: right;\n",
       "    }\n",
       "</style>\n",
       "<table border=\"1\" class=\"dataframe\">\n",
       "  <thead>\n",
       "    <tr style=\"text-align: right;\">\n",
       "      <th></th>\n",
       "      <th>학기</th>\n",
       "      <th>국어</th>\n",
       "      <th>영어</th>\n",
       "      <th>수학</th>\n",
       "      <th>국어_최대값</th>\n",
       "      <th>rate</th>\n",
       "    </tr>\n",
       "    <tr>\n",
       "      <th>이름</th>\n",
       "      <th></th>\n",
       "      <th></th>\n",
       "      <th></th>\n",
       "      <th></th>\n",
       "      <th></th>\n",
       "      <th></th>\n",
       "    </tr>\n",
       "  </thead>\n",
       "  <tbody>\n",
       "    <tr>\n",
       "      <th>권도기</th>\n",
       "      <td>1</td>\n",
       "      <td>55</td>\n",
       "      <td>70</td>\n",
       "      <td>95</td>\n",
       "      <td>95</td>\n",
       "      <td>57.894737</td>\n",
       "    </tr>\n",
       "    <tr>\n",
       "      <th>권도기</th>\n",
       "      <td>3</td>\n",
       "      <td>95</td>\n",
       "      <td>70</td>\n",
       "      <td>90</td>\n",
       "      <td>95</td>\n",
       "      <td>100.000000</td>\n",
       "    </tr>\n",
       "    <tr>\n",
       "      <th>권도기</th>\n",
       "      <td>2</td>\n",
       "      <td>90</td>\n",
       "      <td>65</td>\n",
       "      <td>65</td>\n",
       "      <td>95</td>\n",
       "      <td>94.736842</td>\n",
       "    </tr>\n",
       "    <tr>\n",
       "      <th>권도기</th>\n",
       "      <td>4</td>\n",
       "      <td>55</td>\n",
       "      <td>95</td>\n",
       "      <td>70</td>\n",
       "      <td>95</td>\n",
       "      <td>57.894737</td>\n",
       "    </tr>\n",
       "    <tr>\n",
       "      <th>김훈희</th>\n",
       "      <td>1</td>\n",
       "      <td>65</td>\n",
       "      <td>80</td>\n",
       "      <td>70</td>\n",
       "      <td>85</td>\n",
       "      <td>76.470588</td>\n",
       "    </tr>\n",
       "  </tbody>\n",
       "</table>\n",
       "</div>"
      ],
      "text/plain": [
       "     학기  국어  영어  수학  국어_최대값        rate\n",
       "이름                                     \n",
       "권도기   1  55  70  95      95   57.894737\n",
       "권도기   3  95  70  90      95  100.000000\n",
       "권도기   2  90  65  65      95   94.736842\n",
       "권도기   4  55  95  70      95   57.894737\n",
       "김훈희   1  65  80  70      85   76.470588"
      ]
     },
     "execution_count": 195,
     "metadata": {},
     "output_type": "execute_result"
    }
   ],
   "source": [
    "students.sort_index().head()"
   ]
  },
  {
   "cell_type": "code",
   "execution_count": 196,
   "id": "d4d365db",
   "metadata": {},
   "outputs": [
    {
     "data": {
      "text/html": [
       "<div>\n",
       "<style scoped>\n",
       "    .dataframe tbody tr th:only-of-type {\n",
       "        vertical-align: middle;\n",
       "    }\n",
       "\n",
       "    .dataframe tbody tr th {\n",
       "        vertical-align: top;\n",
       "    }\n",
       "\n",
       "    .dataframe thead th {\n",
       "        text-align: right;\n",
       "    }\n",
       "</style>\n",
       "<table border=\"1\" class=\"dataframe\">\n",
       "  <thead>\n",
       "    <tr style=\"text-align: right;\">\n",
       "      <th></th>\n",
       "      <th>학기</th>\n",
       "      <th>국어</th>\n",
       "      <th>영어</th>\n",
       "      <th>수학</th>\n",
       "      <th>국어_최대값</th>\n",
       "      <th>rate</th>\n",
       "    </tr>\n",
       "    <tr>\n",
       "      <th>이름</th>\n",
       "      <th></th>\n",
       "      <th></th>\n",
       "      <th></th>\n",
       "      <th></th>\n",
       "      <th></th>\n",
       "      <th></th>\n",
       "    </tr>\n",
       "  </thead>\n",
       "  <tbody>\n",
       "  </tbody>\n",
       "</table>\n",
       "</div>"
      ],
      "text/plain": [
       "Empty DataFrame\n",
       "Columns: [학기, 국어, 영어, 수학, 국어_최대값, rate]\n",
       "Index: []"
      ]
     },
     "execution_count": 196,
     "metadata": {},
     "output_type": "execute_result"
    }
   ],
   "source": [
    "students.query('국어 > 국어_최대값')"
   ]
  },
  {
   "cell_type": "markdown",
   "id": "32da3c74",
   "metadata": {},
   "source": [
    "<h2><font color=\"red\">열마다 최대 값을 가지는 행 정보 찾기</font></h2>"
   ]
  },
  {
   "cell_type": "markdown",
   "id": "5dee6cbd",
   "metadata": {},
   "source": [
    "<h4><font color=\"green\">개인 신상 데이터</font></h4>"
   ]
  },
  {
   "cell_type": "code",
   "execution_count": 197,
   "id": "654d5aa4",
   "metadata": {},
   "outputs": [
    {
     "data": {
      "text/html": [
       "<div>\n",
       "<style scoped>\n",
       "    .dataframe tbody tr th:only-of-type {\n",
       "        vertical-align: middle;\n",
       "    }\n",
       "\n",
       "    .dataframe tbody tr th {\n",
       "        vertical-align: top;\n",
       "    }\n",
       "\n",
       "    .dataframe thead th {\n",
       "        text-align: right;\n",
       "    }\n",
       "</style>\n",
       "<table border=\"1\" class=\"dataframe\">\n",
       "  <thead>\n",
       "    <tr style=\"text-align: right;\">\n",
       "      <th></th>\n",
       "      <th>kor</th>\n",
       "      <th>eng</th>\n",
       "      <th>math</th>\n",
       "      <th>sci</th>\n",
       "    </tr>\n",
       "    <tr>\n",
       "      <th>name</th>\n",
       "      <th></th>\n",
       "      <th></th>\n",
       "      <th></th>\n",
       "      <th></th>\n",
       "    </tr>\n",
       "  </thead>\n",
       "  <tbody>\n",
       "    <tr>\n",
       "      <th>이효신</th>\n",
       "      <td>70</td>\n",
       "      <td>50</td>\n",
       "      <td>90</td>\n",
       "      <td>40</td>\n",
       "    </tr>\n",
       "    <tr>\n",
       "      <th>김윤정</th>\n",
       "      <td>80</td>\n",
       "      <td>70</td>\n",
       "      <td>30</td>\n",
       "      <td>70</td>\n",
       "    </tr>\n",
       "    <tr>\n",
       "      <th>신숙희</th>\n",
       "      <td>미응시</td>\n",
       "      <td>90</td>\n",
       "      <td>60</td>\n",
       "      <td>60</td>\n",
       "    </tr>\n",
       "    <tr>\n",
       "      <th>유지현</th>\n",
       "      <td>50</td>\n",
       "      <td>미응시</td>\n",
       "      <td>50</td>\n",
       "      <td>95</td>\n",
       "    </tr>\n",
       "  </tbody>\n",
       "</table>\n",
       "</div>"
      ],
      "text/plain": [
       "      kor  eng  math  sci\n",
       "name                     \n",
       "이효신    70   50    90   40\n",
       "김윤정    80   70    30   70\n",
       "신숙희   미응시   90    60   60\n",
       "유지현    50  미응시    50   95"
      ]
     },
     "execution_count": 197,
     "metadata": {},
     "output_type": "execute_result"
    }
   ],
   "source": [
    "exercise = pd.read_csv('./../data/exercise.csv', encoding='CP949', \\\n",
    "                        index_col='name')\n",
    "exercise"
   ]
  },
  {
   "cell_type": "code",
   "execution_count": 198,
   "id": "2e59e683",
   "metadata": {},
   "outputs": [
    {
     "data": {
      "text/plain": [
       "kor     object\n",
       "eng     object\n",
       "math     int64\n",
       "sci      int64\n",
       "dtype: object"
      ]
     },
     "execution_count": 198,
     "metadata": {},
     "output_type": "execute_result"
    }
   ],
   "source": [
    "exercise.dtypes"
   ]
  },
  {
   "cell_type": "code",
   "execution_count": 199,
   "id": "bc4da295",
   "metadata": {
    "scrolled": true
   },
   "outputs": [
    {
     "data": {
      "text/plain": [
       "70     1\n",
       "80     1\n",
       "미응시    1\n",
       "50     1\n",
       "Name: kor, dtype: int64"
      ]
     },
     "execution_count": 199,
     "metadata": {},
     "output_type": "execute_result"
    }
   ],
   "source": [
    "exercise.kor.value_counts()"
   ]
  },
  {
   "cell_type": "code",
   "execution_count": 201,
   "id": "a7c38ae9",
   "metadata": {},
   "outputs": [],
   "source": [
    "exercise['kor'] = pd.to_numeric(exercise.kor, errors='coerce')\n",
    "exercise['eng'] = pd.to_numeric(exercise.eng, errors='coerce')"
   ]
  },
  {
   "cell_type": "code",
   "execution_count": 202,
   "id": "1c28b4c1",
   "metadata": {},
   "outputs": [
    {
     "data": {
      "text/plain": [
       "kor     float64\n",
       "eng     float64\n",
       "math      int64\n",
       "sci       int64\n",
       "dtype: object"
      ]
     },
     "execution_count": 202,
     "metadata": {},
     "output_type": "execute_result"
    }
   ],
   "source": [
    "exercise.dtypes"
   ]
  },
  {
   "cell_type": "code",
   "execution_count": 203,
   "id": "50c483d2",
   "metadata": {},
   "outputs": [
    {
     "name": "stdout",
     "output_type": "stream",
     "text": [
      "<class 'pandas.core.frame.DataFrame'>\n",
      "Index: 4 entries, 이효신 to 유지현\n",
      "Data columns (total 4 columns):\n",
      " #   Column  Non-Null Count  Dtype  \n",
      "---  ------  --------------  -----  \n",
      " 0   kor     3 non-null      float64\n",
      " 1   eng     3 non-null      float64\n",
      " 2   math    4 non-null      int64  \n",
      " 3   sci     4 non-null      int64  \n",
      "dtypes: float64(2), int64(2)\n",
      "memory usage: 160.0+ bytes\n"
     ]
    }
   ],
   "source": [
    "exercise.info()"
   ]
  },
  {
   "cell_type": "code",
   "execution_count": 204,
   "id": "e17d3ad7",
   "metadata": {},
   "outputs": [],
   "source": [
    "import numpy as np"
   ]
  },
  {
   "cell_type": "code",
   "execution_count": 205,
   "id": "e251a4ab",
   "metadata": {},
   "outputs": [
    {
     "data": {
      "text/html": [
       "<div>\n",
       "<style scoped>\n",
       "    .dataframe tbody tr th:only-of-type {\n",
       "        vertical-align: middle;\n",
       "    }\n",
       "\n",
       "    .dataframe tbody tr th {\n",
       "        vertical-align: top;\n",
       "    }\n",
       "\n",
       "    .dataframe thead th {\n",
       "        text-align: right;\n",
       "    }\n",
       "</style>\n",
       "<table border=\"1\" class=\"dataframe\">\n",
       "  <thead>\n",
       "    <tr style=\"text-align: right;\">\n",
       "      <th></th>\n",
       "      <th>kor</th>\n",
       "      <th>eng</th>\n",
       "      <th>math</th>\n",
       "      <th>sci</th>\n",
       "    </tr>\n",
       "    <tr>\n",
       "      <th>name</th>\n",
       "      <th></th>\n",
       "      <th></th>\n",
       "      <th></th>\n",
       "      <th></th>\n",
       "    </tr>\n",
       "  </thead>\n",
       "  <tbody>\n",
       "    <tr>\n",
       "      <th>이효신</th>\n",
       "      <td>70.0</td>\n",
       "      <td>50.0</td>\n",
       "      <td>90</td>\n",
       "      <td>40</td>\n",
       "    </tr>\n",
       "    <tr>\n",
       "      <th>김윤정</th>\n",
       "      <td>80.0</td>\n",
       "      <td>70.0</td>\n",
       "      <td>30</td>\n",
       "      <td>70</td>\n",
       "    </tr>\n",
       "    <tr>\n",
       "      <th>신숙희</th>\n",
       "      <td>NaN</td>\n",
       "      <td>90.0</td>\n",
       "      <td>60</td>\n",
       "      <td>60</td>\n",
       "    </tr>\n",
       "    <tr>\n",
       "      <th>유지현</th>\n",
       "      <td>50.0</td>\n",
       "      <td>NaN</td>\n",
       "      <td>50</td>\n",
       "      <td>95</td>\n",
       "    </tr>\n",
       "  </tbody>\n",
       "</table>\n",
       "</div>"
      ],
      "text/plain": [
       "       kor   eng  math  sci\n",
       "name                       \n",
       "이효신   70.0  50.0    90   40\n",
       "김윤정   80.0  70.0    30   70\n",
       "신숙희    NaN  90.0    60   60\n",
       "유지현   50.0   NaN    50   95"
      ]
     },
     "execution_count": 205,
     "metadata": {},
     "output_type": "execute_result"
    }
   ],
   "source": [
    "exercise_numeric = exercise.select_dtypes(include=[np.number])\n",
    "exercise_numeric"
   ]
  },
  {
   "cell_type": "code",
   "execution_count": 206,
   "id": "336ead2f",
   "metadata": {},
   "outputs": [
    {
     "data": {
      "text/plain": [
       "kor     False\n",
       "eng     False\n",
       "math    False\n",
       "sci     False\n",
       "dtype: bool"
      ]
     },
     "execution_count": 206,
     "metadata": {},
     "output_type": "execute_result"
    }
   ],
   "source": [
    "criteria = exercise_numeric.nunique() == 2 \n",
    "criteria"
   ]
  },
  {
   "cell_type": "code",
   "execution_count": 207,
   "id": "63e88d31",
   "metadata": {},
   "outputs": [
    {
     "data": {
      "text/plain": [
       "[]"
      ]
     },
     "execution_count": 207,
     "metadata": {},
     "output_type": "execute_result"
    }
   ],
   "source": [
    "dropped_columns = exercise_numeric.columns[criteria].tolist()\n",
    "dropped_columns # 제거된 열 리스트"
   ]
  },
  {
   "cell_type": "code",
   "execution_count": 208,
   "id": "aa57c0ff",
   "metadata": {},
   "outputs": [
    {
     "data": {
      "text/html": [
       "<div>\n",
       "<style scoped>\n",
       "    .dataframe tbody tr th:only-of-type {\n",
       "        vertical-align: middle;\n",
       "    }\n",
       "\n",
       "    .dataframe tbody tr th {\n",
       "        vertical-align: top;\n",
       "    }\n",
       "\n",
       "    .dataframe thead th {\n",
       "        text-align: right;\n",
       "    }\n",
       "</style>\n",
       "<table border=\"1\" class=\"dataframe\">\n",
       "  <thead>\n",
       "    <tr style=\"text-align: right;\">\n",
       "      <th></th>\n",
       "      <th>kor</th>\n",
       "      <th>eng</th>\n",
       "      <th>math</th>\n",
       "      <th>sci</th>\n",
       "    </tr>\n",
       "    <tr>\n",
       "      <th>name</th>\n",
       "      <th></th>\n",
       "      <th></th>\n",
       "      <th></th>\n",
       "      <th></th>\n",
       "    </tr>\n",
       "  </thead>\n",
       "  <tbody>\n",
       "    <tr>\n",
       "      <th>이효신</th>\n",
       "      <td>70.0</td>\n",
       "      <td>50.0</td>\n",
       "      <td>90</td>\n",
       "      <td>40</td>\n",
       "    </tr>\n",
       "    <tr>\n",
       "      <th>김윤정</th>\n",
       "      <td>80.0</td>\n",
       "      <td>70.0</td>\n",
       "      <td>30</td>\n",
       "      <td>70</td>\n",
       "    </tr>\n",
       "    <tr>\n",
       "      <th>신숙희</th>\n",
       "      <td>NaN</td>\n",
       "      <td>90.0</td>\n",
       "      <td>60</td>\n",
       "      <td>60</td>\n",
       "    </tr>\n",
       "    <tr>\n",
       "      <th>유지현</th>\n",
       "      <td>50.0</td>\n",
       "      <td>NaN</td>\n",
       "      <td>50</td>\n",
       "      <td>95</td>\n",
       "    </tr>\n",
       "  </tbody>\n",
       "</table>\n",
       "</div>"
      ],
      "text/plain": [
       "       kor   eng  math  sci\n",
       "name                       \n",
       "이효신   70.0  50.0    90   40\n",
       "김윤정   80.0  70.0    30   70\n",
       "신숙희    NaN  90.0    60   60\n",
       "유지현   50.0   NaN    50   95"
      ]
     },
     "execution_count": 208,
     "metadata": {},
     "output_type": "execute_result"
    }
   ],
   "source": [
    "numeric_cols = exercise_numeric.drop(labels=dropped_columns, axis='columns')\n",
    "numeric_cols"
   ]
  },
  {
   "cell_type": "code",
   "execution_count": 210,
   "id": "18a37862",
   "metadata": {},
   "outputs": [
    {
     "data": {
      "text/html": [
       "<div>\n",
       "<style scoped>\n",
       "    .dataframe tbody tr th:only-of-type {\n",
       "        vertical-align: middle;\n",
       "    }\n",
       "\n",
       "    .dataframe tbody tr th {\n",
       "        vertical-align: top;\n",
       "    }\n",
       "\n",
       "    .dataframe thead th {\n",
       "        text-align: right;\n",
       "    }\n",
       "</style>\n",
       "<table border=\"1\" class=\"dataframe\">\n",
       "  <thead>\n",
       "    <tr style=\"text-align: right;\">\n",
       "      <th></th>\n",
       "      <th>0</th>\n",
       "    </tr>\n",
       "  </thead>\n",
       "  <tbody>\n",
       "    <tr>\n",
       "      <th>kor</th>\n",
       "      <td>김윤정</td>\n",
       "    </tr>\n",
       "    <tr>\n",
       "      <th>eng</th>\n",
       "      <td>신숙희</td>\n",
       "    </tr>\n",
       "    <tr>\n",
       "      <th>math</th>\n",
       "      <td>이효신</td>\n",
       "    </tr>\n",
       "    <tr>\n",
       "      <th>sci</th>\n",
       "      <td>유지현</td>\n",
       "    </tr>\n",
       "  </tbody>\n",
       "</table>\n",
       "</div>"
      ],
      "text/plain": [
       "        0\n",
       "kor   김윤정\n",
       "eng   신숙희\n",
       "math  이효신\n",
       "sci   유지현"
      ]
     },
     "execution_count": 210,
     "metadata": {},
     "output_type": "execute_result"
    }
   ],
   "source": [
    "max_columns = numeric_cols.idxmax()\n",
    "max_columns.to_frame()"
   ]
  },
  {
   "cell_type": "code",
   "execution_count": 211,
   "id": "f939a37f",
   "metadata": {
    "scrolled": true
   },
   "outputs": [
    {
     "data": {
      "text/html": [
       "<div>\n",
       "<style scoped>\n",
       "    .dataframe tbody tr th:only-of-type {\n",
       "        vertical-align: middle;\n",
       "    }\n",
       "\n",
       "    .dataframe tbody tr th {\n",
       "        vertical-align: top;\n",
       "    }\n",
       "\n",
       "    .dataframe thead th {\n",
       "        text-align: right;\n",
       "    }\n",
       "</style>\n",
       "<table border=\"1\" class=\"dataframe\">\n",
       "  <thead>\n",
       "    <tr style=\"text-align: right;\">\n",
       "      <th></th>\n",
       "      <th>0</th>\n",
       "    </tr>\n",
       "  </thead>\n",
       "  <tbody>\n",
       "    <tr>\n",
       "      <th>kor</th>\n",
       "      <td>유지현</td>\n",
       "    </tr>\n",
       "    <tr>\n",
       "      <th>eng</th>\n",
       "      <td>이효신</td>\n",
       "    </tr>\n",
       "    <tr>\n",
       "      <th>math</th>\n",
       "      <td>김윤정</td>\n",
       "    </tr>\n",
       "    <tr>\n",
       "      <th>sci</th>\n",
       "      <td>이효신</td>\n",
       "    </tr>\n",
       "  </tbody>\n",
       "</table>\n",
       "</div>"
      ],
      "text/plain": [
       "        0\n",
       "kor   유지현\n",
       "eng   이효신\n",
       "math  김윤정\n",
       "sci   이효신"
      ]
     },
     "execution_count": 211,
     "metadata": {},
     "output_type": "execute_result"
    }
   ],
   "source": [
    "min_columns = numeric_cols.idxmin()\n",
    "min_columns.to_frame()"
   ]
  },
  {
   "cell_type": "code",
   "execution_count": 212,
   "id": "3661eb48",
   "metadata": {},
   "outputs": [
    {
     "data": {
      "text/html": [
       "<div>\n",
       "<style scoped>\n",
       "    .dataframe tbody tr th:only-of-type {\n",
       "        vertical-align: middle;\n",
       "    }\n",
       "\n",
       "    .dataframe tbody tr th {\n",
       "        vertical-align: top;\n",
       "    }\n",
       "\n",
       "    .dataframe thead th {\n",
       "        text-align: right;\n",
       "    }\n",
       "</style>\n",
       "<table border=\"1\" class=\"dataframe\">\n",
       "  <thead>\n",
       "    <tr style=\"text-align: right;\">\n",
       "      <th></th>\n",
       "      <th>최고득점자</th>\n",
       "      <th>최저득점자</th>\n",
       "    </tr>\n",
       "  </thead>\n",
       "  <tbody>\n",
       "    <tr>\n",
       "      <th>kor</th>\n",
       "      <td>김윤정</td>\n",
       "      <td>유지현</td>\n",
       "    </tr>\n",
       "    <tr>\n",
       "      <th>eng</th>\n",
       "      <td>신숙희</td>\n",
       "      <td>이효신</td>\n",
       "    </tr>\n",
       "    <tr>\n",
       "      <th>math</th>\n",
       "      <td>이효신</td>\n",
       "      <td>김윤정</td>\n",
       "    </tr>\n",
       "    <tr>\n",
       "      <th>sci</th>\n",
       "      <td>유지현</td>\n",
       "      <td>이효신</td>\n",
       "    </tr>\n",
       "  </tbody>\n",
       "</table>\n",
       "</div>"
      ],
      "text/plain": [
       "     최고득점자 최저득점자\n",
       "kor    김윤정   유지현\n",
       "eng    신숙희   이효신\n",
       "math   이효신   김윤정\n",
       "sci    유지현   이효신"
      ]
     },
     "execution_count": 212,
     "metadata": {},
     "output_type": "execute_result"
    }
   ],
   "source": [
    "df = pd.concat([max_columns, min_columns], axis=1)\n",
    "df.columns = ['최고득점자', '최저득점자']\n",
    "df"
   ]
  },
  {
   "cell_type": "code",
   "execution_count": 214,
   "id": "444496bf",
   "metadata": {},
   "outputs": [
    {
     "name": "stdout",
     "output_type": "stream",
     "text": [
      "과목/최고 득점자/점수\n",
      "kor/김윤정/80.0\n",
      "eng/신숙희/90.0\n",
      "math/이효신/90\n",
      "sci/유지현/95\n"
     ]
    }
   ],
   "source": [
    "print('과목/최고 득점자/점수')\n",
    "for idx in max_columns.index:\n",
    "    print(idx + '/' + max_columns[idx]  + '/' + str(numeric_cols.loc[max_columns[idx], idx]))"
   ]
  },
  {
   "cell_type": "code",
   "execution_count": 215,
   "id": "541af89b",
   "metadata": {},
   "outputs": [
    {
     "data": {
      "text/plain": [
       "array(['김윤정', '신숙희', '이효신', '유지현'], dtype=object)"
      ]
     },
     "execution_count": 215,
     "metadata": {},
     "output_type": "execute_result"
    }
   ],
   "source": [
    "unique_max = max_columns.unique()\n",
    "unique_max"
   ]
  },
  {
   "cell_type": "code",
   "execution_count": 216,
   "id": "32ebe421",
   "metadata": {},
   "outputs": [
    {
     "data": {
      "text/html": [
       "<div>\n",
       "<style scoped>\n",
       "    .dataframe tbody tr th:only-of-type {\n",
       "        vertical-align: middle;\n",
       "    }\n",
       "\n",
       "    .dataframe tbody tr th {\n",
       "        vertical-align: top;\n",
       "    }\n",
       "\n",
       "    .dataframe thead th {\n",
       "        text-align: right;\n",
       "    }\n",
       "</style>\n",
       "<table border=\"1\" class=\"dataframe\">\n",
       "  <thead>\n",
       "    <tr style=\"text-align: right;\">\n",
       "      <th></th>\n",
       "      <th>kor</th>\n",
       "      <th>eng</th>\n",
       "      <th>math</th>\n",
       "      <th>sci</th>\n",
       "    </tr>\n",
       "    <tr>\n",
       "      <th>name</th>\n",
       "      <th></th>\n",
       "      <th></th>\n",
       "      <th></th>\n",
       "      <th></th>\n",
       "    </tr>\n",
       "  </thead>\n",
       "  <tbody>\n",
       "    <tr>\n",
       "      <th>김윤정</th>\n",
       "      <td>80.0</td>\n",
       "      <td>70.0</td>\n",
       "      <td>30</td>\n",
       "      <td>70</td>\n",
       "    </tr>\n",
       "    <tr>\n",
       "      <th>신숙희</th>\n",
       "      <td>NaN</td>\n",
       "      <td>90.0</td>\n",
       "      <td>60</td>\n",
       "      <td>60</td>\n",
       "    </tr>\n",
       "    <tr>\n",
       "      <th>이효신</th>\n",
       "      <td>70.0</td>\n",
       "      <td>50.0</td>\n",
       "      <td>90</td>\n",
       "      <td>40</td>\n",
       "    </tr>\n",
       "    <tr>\n",
       "      <th>유지현</th>\n",
       "      <td>50.0</td>\n",
       "      <td>NaN</td>\n",
       "      <td>50</td>\n",
       "      <td>95</td>\n",
       "    </tr>\n",
       "  </tbody>\n",
       "</table>\n",
       "</div>"
      ],
      "text/plain": [
       "       kor   eng  math  sci\n",
       "name                       \n",
       "김윤정   80.0  70.0    30   70\n",
       "신숙희    NaN  90.0    60   60\n",
       "이효신   70.0  50.0    90   40\n",
       "유지현   50.0   NaN    50   95"
      ]
     },
     "execution_count": 216,
     "metadata": {},
     "output_type": "execute_result"
    }
   ],
   "source": [
    "numeric_cols.loc[unique_max]"
   ]
  },
  {
   "cell_type": "code",
   "execution_count": null,
   "id": "7522508e",
   "metadata": {},
   "outputs": [],
   "source": []
  },
  {
   "cell_type": "code",
   "execution_count": null,
   "id": "151df52d",
   "metadata": {},
   "outputs": [],
   "source": []
  },
  {
   "cell_type": "code",
   "execution_count": null,
   "id": "b755ac92",
   "metadata": {},
   "outputs": [],
   "source": []
  },
  {
   "cell_type": "code",
   "execution_count": null,
   "id": "2551b89c",
   "metadata": {},
   "outputs": [],
   "source": []
  }
 ],
 "metadata": {
  "kernelspec": {
   "display_name": "Python 3 (ipykernel)",
   "language": "python",
   "name": "python3"
  },
  "language_info": {
   "codemirror_mode": {
    "name": "ipython",
    "version": 3
   },
   "file_extension": ".py",
   "mimetype": "text/x-python",
   "name": "python",
   "nbconvert_exporter": "python",
   "pygments_lexer": "ipython3",
   "version": "3.11.2"
  }
 },
 "nbformat": 4,
 "nbformat_minor": 5
}
