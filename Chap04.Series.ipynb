{
 "cells": [
  {
   "cell_type": "markdown",
   "id": "766288aa",
   "metadata": {},
   "source": [
    "<h1>시리즈(Series)<h1>"
   ]
  },
  {
   "cell_type": "markdown",
   "id": "3c93586d",
   "metadata": {},
   "source": [
    "<h3>시리즈 생성하기<h3>"
   ]
  },
  {
   "cell_type": "code",
   "execution_count": 2,
   "id": "fd96b8e9",
   "metadata": {},
   "outputs": [],
   "source": [
    "import pandas as pd"
   ]
  },
  {
   "cell_type": "code",
   "execution_count": 3,
   "id": "562068cf",
   "metadata": {},
   "outputs": [],
   "source": [
    "# 파이썬 range() 이용하기"
   ]
  },
  {
   "cell_type": "code",
   "execution_count": 4,
   "id": "1922cdc0",
   "metadata": {},
   "outputs": [
    {
     "data": {
      "text/plain": [
       "0     1\n",
       "1     2\n",
       "2     3\n",
       "3     4\n",
       "4     5\n",
       "5     6\n",
       "6     7\n",
       "7     8\n",
       "8     9\n",
       "9    10\n",
       "dtype: int64"
      ]
     },
     "execution_count": 4,
     "metadata": {},
     "output_type": "execute_result"
    }
   ],
   "source": [
    "myrange = range(1,11)\n",
    "myseries01 = pd.Series(myrange)\n",
    "myseries01"
   ]
  },
  {
   "cell_type": "code",
   "execution_count": 5,
   "id": "29444465",
   "metadata": {},
   "outputs": [],
   "source": [
    "# 파이썬 list() 이용하기"
   ]
  },
  {
   "cell_type": "code",
   "execution_count": 6,
   "id": "f6dc97a4",
   "metadata": {},
   "outputs": [
    {
     "data": {
      "text/plain": [
       "0    55\n",
       "1    66\n",
       "2    77\n",
       "dtype: int64"
      ]
     },
     "execution_count": 6,
     "metadata": {},
     "output_type": "execute_result"
    }
   ],
   "source": [
    "myseries01 = pd.Series([55,66,77])\n",
    "myseries01"
   ]
  },
  {
   "cell_type": "code",
   "execution_count": 7,
   "id": "74ee6d27",
   "metadata": {},
   "outputs": [],
   "source": [
    "# 파이썬 list() 이용하기/(행 색인 부여하기)"
   ]
  },
  {
   "cell_type": "code",
   "execution_count": 10,
   "id": "a09c1268",
   "metadata": {},
   "outputs": [
    {
     "data": {
      "text/plain": [
       "김민철    10\n",
       "이순희    50\n",
       "강유철    80\n",
       "심수연    30\n",
       "dtype: int64"
      ]
     },
     "execution_count": 10,
     "metadata": {},
     "output_type": "execute_result"
    }
   ],
   "source": [
    "mylist01 = [10,50,80,30]\n",
    "myseries01 = pd.Series(mylist01, index = ['김민철','이순희','강유철','심수연'])\n",
    "myseries01"
   ]
  },
  {
   "cell_type": "code",
   "execution_count": 11,
   "id": "ce8b9cf7",
   "metadata": {},
   "outputs": [],
   "source": [
    "# 파이썬 dict 이용하기\n",
    "# key는 index에 , value는 값으로 들어갑니다."
   ]
  },
  {
   "cell_type": "code",
   "execution_count": 17,
   "id": "f3cbe321",
   "metadata": {},
   "outputs": [
    {
     "data": {
      "text/plain": [
       "서울     50\n",
       "워싱턴    30\n",
       "베이징    60\n",
       "dtype: int64"
      ]
     },
     "execution_count": 17,
     "metadata": {},
     "output_type": "execute_result"
    }
   ],
   "source": [
    "mydict = {'서울':50 , '워싱턴':30, '베이징':60}\n",
    "myseries01 = pd.Series(mydict)\n",
    "myseries01"
   ]
  },
  {
   "cell_type": "code",
   "execution_count": 18,
   "id": "c8333e81",
   "metadata": {},
   "outputs": [
    {
     "data": {
      "text/plain": [
       "\"타입 확인하기 : <class 'pandas.core.series.Series'>\""
      ]
     },
     "execution_count": 18,
     "metadata": {},
     "output_type": "execute_result"
    }
   ],
   "source": [
    "'타입 확인하기 : ' + str(type(myseries01))"
   ]
  },
  {
   "cell_type": "code",
   "execution_count": 20,
   "id": "b96c0d27",
   "metadata": {},
   "outputs": [],
   "source": [
    "myseries01.index.name = '신용도'\n",
    "myseries01.name = '도시별 신용도'"
   ]
  },
  {
   "cell_type": "code",
   "execution_count": 21,
   "id": "8eda7c9a",
   "metadata": {},
   "outputs": [
    {
     "data": {
      "text/plain": [
       "\"색인 정보 확인하기 : Index(['서울', '워싱턴', '베이징'], dtype='object', name='신용도')\""
      ]
     },
     "execution_count": 21,
     "metadata": {},
     "output_type": "execute_result"
    }
   ],
   "source": [
    "'색인 정보 확인하기 : ' + str(myseries01.index) "
   ]
  },
  {
   "cell_type": "code",
   "execution_count": 22,
   "id": "f0832ec0",
   "metadata": {},
   "outputs": [
    {
     "data": {
      "text/plain": [
       "'시리즈 이름 확인 : 도시별 신용도'"
      ]
     },
     "execution_count": 22,
     "metadata": {},
     "output_type": "execute_result"
    }
   ],
   "source": [
    "'시리즈 이름 확인 : ' + str(myseries01.name)"
   ]
  },
  {
   "cell_type": "code",
   "execution_count": 23,
   "id": "2c33d99c",
   "metadata": {},
   "outputs": [
    {
     "data": {
      "text/plain": [
       "'시리즈의 값 확인 : [50 30 60]'"
      ]
     },
     "execution_count": 23,
     "metadata": {},
     "output_type": "execute_result"
    }
   ],
   "source": [
    "'시리즈의 값 확인 : ' + str(myseries01.values)"
   ]
  },
  {
   "cell_type": "code",
   "execution_count": 24,
   "id": "d5560295",
   "metadata": {},
   "outputs": [],
   "source": [
    "#반복하여 출력하기"
   ]
  },
  {
   "cell_type": "code",
   "execution_count": 26,
   "id": "029720ff",
   "metadata": {},
   "outputs": [
    {
     "name": "stdout",
     "output_type": "stream",
     "text": [
      "색인 : 서울.값 : 50\n",
      "색인 : 워싱턴.값 : 30\n",
      "색인 : 베이징.값 : 60\n"
     ]
    }
   ],
   "source": [
    "for idx in myseries01.index :\n",
    "    print('색인 : ' + idx + '.값 : ' + str(myseries01[idx]))"
   ]
  },
  {
   "cell_type": "code",
   "execution_count": 29,
   "id": "ba9fa377",
   "metadata": {},
   "outputs": [
    {
     "name": "stdout",
     "output_type": "stream",
     "text": [
      "데이터 타입 확인 : int64\n",
      "누락된 데이터가 있나요? : False\n",
      "모든 항목이 unique 한가요? : True\n",
      "요소 개수 : 3\n"
     ]
    }
   ],
   "source": [
    "print('데이터 타입 확인 : ' + str(myseries01.dtype))\n",
    "print('누락된 데이터가 있나요? : ' + str(myseries01.hasnans))\n",
    "print('모든 항목이 unique 한가요? : ' + str(myseries01.is_unique))\n",
    "print('요소 개수 : ' + str(myseries01.size))"
   ]
  },
  {
   "cell_type": "code",
   "execution_count": 30,
   "id": "9c576553",
   "metadata": {},
   "outputs": [
    {
     "data": {
      "text/plain": [
       "신용도\n",
       "서울     50\n",
       "워싱턴    30\n",
       "베이징    60\n",
       "Name: 도시별 신용도, dtype: int64"
      ]
     },
     "execution_count": 30,
     "metadata": {},
     "output_type": "execute_result"
    }
   ],
   "source": [
    "myseries01"
   ]
  },
  {
   "cell_type": "code",
   "execution_count": 31,
   "id": "0fdd2526",
   "metadata": {},
   "outputs": [
    {
     "name": "stdout",
     "output_type": "stream",
     "text": [
      "색인 변경된 결과\n"
     ]
    },
    {
     "data": {
      "text/plain": [
       "서울    50\n",
       "파리    30\n",
       "런던    60\n",
       "Name: 도시별 신용도, dtype: int64"
      ]
     },
     "execution_count": 31,
     "metadata": {},
     "output_type": "execute_result"
    }
   ],
   "source": [
    "myseries01.index = ['서울','파리','런던']\n",
    "print('색인 변경된 결과')\n",
    "myseries01"
   ]
  },
  {
   "cell_type": "markdown",
   "id": "8fe11340",
   "metadata": {},
   "source": [
    "<h3>시리즈 읽기/쓰기<h3>"
   ]
  },
  {
   "cell_type": "code",
   "execution_count": 35,
   "id": "7e627996",
   "metadata": {},
   "outputs": [
    {
     "data": {
      "text/html": [
       "<div>\n",
       "<style scoped>\n",
       "    .dataframe tbody tr th:only-of-type {\n",
       "        vertical-align: middle;\n",
       "    }\n",
       "\n",
       "    .dataframe tbody tr th {\n",
       "        vertical-align: top;\n",
       "    }\n",
       "\n",
       "    .dataframe thead th {\n",
       "        text-align: right;\n",
       "    }\n",
       "</style>\n",
       "<table border=\"1\" class=\"dataframe\">\n",
       "  <thead>\n",
       "    <tr style=\"text-align: right;\">\n",
       "      <th></th>\n",
       "      <th>0</th>\n",
       "    </tr>\n",
       "    <tr>\n",
       "      <th>도시명</th>\n",
       "      <th></th>\n",
       "    </tr>\n",
       "  </thead>\n",
       "  <tbody>\n",
       "    <tr>\n",
       "      <th>서울</th>\n",
       "      <td>60</td>\n",
       "    </tr>\n",
       "    <tr>\n",
       "      <th>부산</th>\n",
       "      <td>30</td>\n",
       "    </tr>\n",
       "    <tr>\n",
       "      <th>광주</th>\n",
       "      <td>50</td>\n",
       "    </tr>\n",
       "    <tr>\n",
       "      <th>대구</th>\n",
       "      <td>40</td>\n",
       "    </tr>\n",
       "    <tr>\n",
       "      <th>대전</th>\n",
       "      <td>10</td>\n",
       "    </tr>\n",
       "  </tbody>\n",
       "</table>\n",
       "</div>"
      ],
      "text/plain": [
       "      0\n",
       "도시명    \n",
       "서울   60\n",
       "부산   30\n",
       "광주   50\n",
       "대구   40\n",
       "대전   10"
      ]
     },
     "execution_count": 35,
     "metadata": {},
     "output_type": "execute_result"
    }
   ],
   "source": [
    "mylist02 = [60,30,50,40,10]\n",
    "myindex02 = ['서울','부산','광주','대구','대전']\n",
    "myseries02 = pd.Series(data = mylist02, index = myindex02)\n",
    "myseries02.index.name = '도시명'\n",
    "myseries02.to_frame()"
   ]
  },
  {
   "cell_type": "markdown",
   "id": "f0384847",
   "metadata": {},
   "source": [
    "<h3><font color='orange'>Series의 값 읽어오기</font><h3>"
   ]
  },
  {
   "cell_type": "markdown",
   "id": "2a2a53a0",
   "metadata": {},
   "source": [
    "<h5>문자열 label 사용<h5>"
   ]
  },
  {
   "cell_type": "code",
   "execution_count": 36,
   "id": "3bbf0cb1",
   "metadata": {},
   "outputs": [
    {
     "name": "stdout",
     "output_type": "stream",
     "text": [
      "색인의 이름으로 값 읽기(scalar 반환)\n",
      "30\n"
     ]
    }
   ],
   "source": [
    "print('색인의 이름으로 값 읽기(scalar 반환)')\n",
    "print(myseries02['부산'])"
   ]
  },
  {
   "cell_type": "code",
   "execution_count": 37,
   "id": "c791c4ad",
   "metadata": {},
   "outputs": [
    {
     "name": "stdout",
     "output_type": "stream",
     "text": [
      "색인의 이름으로 값 읽기(scalar 반환)\n",
      "도시명\n",
      "부산    30\n",
      "dtype: int64\n"
     ]
    }
   ],
   "source": [
    "print('색인의 이름으로 값 읽기(scalar 반환)')\n",
    "print(myseries02[['부산']])"
   ]
  },
  {
   "cell_type": "code",
   "execution_count": 38,
   "id": "3f68189e",
   "metadata": {},
   "outputs": [
    {
     "name": "stdout",
     "output_type": "stream",
     "text": [
      "라벨 이름으로 슬라이싱\n",
      "도시명\n",
      "부산    30\n",
      "광주    50\n",
      "대구    40\n",
      "dtype: int64\n"
     ]
    }
   ],
   "source": [
    "print('라벨 이름으로 슬라이싱')\n",
    "print(myseries02['부산':'대구']) # 문자열 label : from <= 범위 <= to"
   ]
  },
  {
   "cell_type": "code",
   "execution_count": 40,
   "id": "09f76793",
   "metadata": {
    "scrolled": true
   },
   "outputs": [
    {
     "name": "stdout",
     "output_type": "stream",
     "text": [
      "여러 개의 색인 이름으로 데이터 읽기\n",
      "도시명\n",
      "부산    30\n",
      "대전    10\n",
      "dtype: int64\n"
     ]
    }
   ],
   "source": [
    "print('여러 개의 색인 이름으로 데이터 읽기')\n",
    "print(myseries02[['부산','대전']])"
   ]
  },
  {
   "cell_type": "markdown",
   "id": "e1278759",
   "metadata": {},
   "source": [
    "<h5>숫자열 label 사용<h5>"
   ]
  },
  {
   "cell_type": "code",
   "execution_count": 43,
   "id": "e11d0852",
   "metadata": {},
   "outputs": [
    {
     "name": "stdout",
     "output_type": "stream",
     "text": [
      "정수를 이용한 데이터 읽기\n",
      "30\n"
     ]
    }
   ],
   "source": [
    "print('정수를 이용한 데이터 읽기')\n",
    "print(myseries02[1])"
   ]
  },
  {
   "cell_type": "code",
   "execution_count": 41,
   "id": "8640f7a6",
   "metadata": {},
   "outputs": [
    {
     "name": "stdout",
     "output_type": "stream",
     "text": [
      "서로 떨어진 데이터 읽기\n",
      "도시명\n",
      "서울    60\n",
      "광주    50\n",
      "대전    10\n",
      "dtype: int64\n"
     ]
    }
   ],
   "source": [
    "print('서로 떨어진 데이터 읽기')\n",
    "print(myseries02[0:5:2])"
   ]
  },
  {
   "cell_type": "code",
   "execution_count": 42,
   "id": "1a4b4609",
   "metadata": {},
   "outputs": [
    {
     "name": "stdout",
     "output_type": "stream",
     "text": [
      "슬라이싱 사용하기\n",
      "도시명\n",
      "부산    30\n",
      "광주    50\n",
      "대구    40\n",
      "dtype: int64\n"
     ]
    }
   ],
   "source": [
    "print('슬라이싱 사용하기')\n",
    "print(myseries02[1:4])"
   ]
  },
  {
   "cell_type": "markdown",
   "id": "98f44693",
   "metadata": {},
   "source": [
    "<h3><font color='orange'>Series의 값 기록하기</font><h3>"
   ]
  },
  {
   "cell_type": "code",
   "execution_count": 45,
   "id": "aa52656f",
   "metadata": {},
   "outputs": [
    {
     "data": {
      "text/plain": [
       "도시명\n",
       "서울    55\n",
       "부산    30\n",
       "광주    33\n",
       "대구    55\n",
       "대전    55\n",
       "dtype: int64"
      ]
     },
     "execution_count": 45,
     "metadata": {},
     "output_type": "execute_result"
    }
   ],
   "source": [
    "myseries02[2] = 33\n",
    "myseries02[['서울','대구']] = 55\n",
    "myseries02"
   ]
  },
  {
   "cell_type": "code",
   "execution_count": 47,
   "id": "892718ae",
   "metadata": {},
   "outputs": [
    {
     "name": "stdout",
     "output_type": "stream",
     "text": [
      "홀수 번째 요소만 66으로 변경하기\n"
     ]
    },
    {
     "data": {
      "text/plain": [
       "도시명\n",
       "서울    55\n",
       "부산    66\n",
       "광주    33\n",
       "대구    66\n",
       "대전    55\n",
       "dtype: int64"
      ]
     },
     "execution_count": 47,
     "metadata": {},
     "output_type": "execute_result"
    }
   ],
   "source": [
    "print('홀수 번째 요소만 66으로 변경하기')\n",
    "myseries02[1::2] = 66\n",
    "myseries02"
   ]
  },
  {
   "cell_type": "code",
   "execution_count": 48,
   "id": "19fc2b1d",
   "metadata": {},
   "outputs": [
    {
     "name": "stdout",
     "output_type": "stream",
     "text": [
      "50보다 작은 데이터만 추출하기\n"
     ]
    },
    {
     "data": {
      "text/plain": [
       "도시명\n",
       "광주    33\n",
       "dtype: int64"
      ]
     },
     "execution_count": 48,
     "metadata": {},
     "output_type": "execute_result"
    }
   ],
   "source": [
    "print('50보다 작은 데이터만 추출하기')\n",
    "result = myseries02[myseries02 < 50]\n",
    "result"
   ]
  },
  {
   "cell_type": "markdown",
   "id": "f0dcb9b1",
   "metadata": {},
   "source": [
    "<h3>시리즈 연산하기<h3>"
   ]
  },
  {
   "cell_type": "markdown",
   "id": "888c2eca",
   "metadata": {},
   "source": [
    "<h3><font color='orange'>Series만들기</font><h3>"
   ]
  },
  {
   "cell_type": "code",
   "execution_count": 51,
   "id": "b11828ce",
   "metadata": {},
   "outputs": [],
   "source": [
    "mylist31 = [20,40,50,30]\n",
    "myindex31 = ['김인식','이현세','강윤희','신계숙']\n",
    "\n",
    "mylist32 = [50,10,40,20]\n",
    "myindex32 = ['김인식','이현세','강윤희','윤진숙']\n",
    "\n",
    "myseries31 = pd.Series(data = mylist31, index = myindex31)\n",
    "myseries32 = pd.Series(data = mylist32, index = myindex32)"
   ]
  },
  {
   "cell_type": "code",
   "execution_count": 53,
   "id": "05745264",
   "metadata": {},
   "outputs": [
    {
     "name": "stdout",
     "output_type": "stream",
     "text": [
      "1번 시리즈\n"
     ]
    },
    {
     "data": {
      "text/html": [
       "<div>\n",
       "<style scoped>\n",
       "    .dataframe tbody tr th:only-of-type {\n",
       "        vertical-align: middle;\n",
       "    }\n",
       "\n",
       "    .dataframe tbody tr th {\n",
       "        vertical-align: top;\n",
       "    }\n",
       "\n",
       "    .dataframe thead th {\n",
       "        text-align: right;\n",
       "    }\n",
       "</style>\n",
       "<table border=\"1\" class=\"dataframe\">\n",
       "  <thead>\n",
       "    <tr style=\"text-align: right;\">\n",
       "      <th></th>\n",
       "      <th>0</th>\n",
       "    </tr>\n",
       "  </thead>\n",
       "  <tbody>\n",
       "    <tr>\n",
       "      <th>김인식</th>\n",
       "      <td>20</td>\n",
       "    </tr>\n",
       "    <tr>\n",
       "      <th>이현세</th>\n",
       "      <td>40</td>\n",
       "    </tr>\n",
       "    <tr>\n",
       "      <th>강윤희</th>\n",
       "      <td>50</td>\n",
       "    </tr>\n",
       "    <tr>\n",
       "      <th>신계숙</th>\n",
       "      <td>30</td>\n",
       "    </tr>\n",
       "  </tbody>\n",
       "</table>\n",
       "</div>"
      ],
      "text/plain": [
       "      0\n",
       "김인식  20\n",
       "이현세  40\n",
       "강윤희  50\n",
       "신계숙  30"
      ]
     },
     "execution_count": 53,
     "metadata": {},
     "output_type": "execute_result"
    }
   ],
   "source": [
    "print('1번 시리즈')\n",
    "myseries31.to_frame()"
   ]
  },
  {
   "cell_type": "code",
   "execution_count": 54,
   "id": "c1954177",
   "metadata": {},
   "outputs": [
    {
     "name": "stdout",
     "output_type": "stream",
     "text": [
      "2번 시리즈\n"
     ]
    },
    {
     "data": {
      "text/html": [
       "<div>\n",
       "<style scoped>\n",
       "    .dataframe tbody tr th:only-of-type {\n",
       "        vertical-align: middle;\n",
       "    }\n",
       "\n",
       "    .dataframe tbody tr th {\n",
       "        vertical-align: top;\n",
       "    }\n",
       "\n",
       "    .dataframe thead th {\n",
       "        text-align: right;\n",
       "    }\n",
       "</style>\n",
       "<table border=\"1\" class=\"dataframe\">\n",
       "  <thead>\n",
       "    <tr style=\"text-align: right;\">\n",
       "      <th></th>\n",
       "      <th>0</th>\n",
       "    </tr>\n",
       "  </thead>\n",
       "  <tbody>\n",
       "    <tr>\n",
       "      <th>김인식</th>\n",
       "      <td>50</td>\n",
       "    </tr>\n",
       "    <tr>\n",
       "      <th>이현세</th>\n",
       "      <td>10</td>\n",
       "    </tr>\n",
       "    <tr>\n",
       "      <th>강윤희</th>\n",
       "      <td>40</td>\n",
       "    </tr>\n",
       "    <tr>\n",
       "      <th>윤진숙</th>\n",
       "      <td>20</td>\n",
       "    </tr>\n",
       "  </tbody>\n",
       "</table>\n",
       "</div>"
      ],
      "text/plain": [
       "      0\n",
       "김인식  50\n",
       "이현세  10\n",
       "강윤희  40\n",
       "윤진숙  20"
      ]
     },
     "execution_count": 54,
     "metadata": {},
     "output_type": "execute_result"
    }
   ],
   "source": [
    "print('2번 시리즈')\n",
    "myseries32.to_frame()"
   ]
  },
  {
   "cell_type": "markdown",
   "id": "68c5ad8d",
   "metadata": {},
   "source": [
    "<h3><font color='orange'>Series와 scalar의 산술 연산</font><h3>"
   ]
  },
  {
   "cell_type": "code",
   "execution_count": 55,
   "id": "06b6a0d1",
   "metadata": {},
   "outputs": [
    {
     "name": "stdout",
     "output_type": "stream",
     "text": [
      "시리즈 더하기 연산\n",
      "김인식    30\n",
      "이현세    50\n",
      "강윤희    60\n",
      "신계숙    40\n",
      "dtype: int64\n"
     ]
    }
   ],
   "source": [
    "su = 10\n",
    "print('시리즈 더하기 연산')\n",
    "print(myseries31 + su)"
   ]
  },
  {
   "cell_type": "code",
   "execution_count": 56,
   "id": "5059848f",
   "metadata": {},
   "outputs": [
    {
     "name": "stdout",
     "output_type": "stream",
     "text": [
      "add 메소드 사용\n",
      "김인식    30\n",
      "이현세    50\n",
      "강윤희    60\n",
      "신계숙    40\n",
      "dtype: int64\n"
     ]
    }
   ],
   "source": [
    "print('add 메소드 사용')\n",
    "print(myseries31.add(su))"
   ]
  },
  {
   "cell_type": "code",
   "execution_count": 57,
   "id": "db655c9f",
   "metadata": {},
   "outputs": [
    {
     "name": "stdout",
     "output_type": "stream",
     "text": [
      "시리즈 빼기 연산\n",
      "김인식    10\n",
      "이현세    30\n",
      "강윤희    40\n",
      "신계숙    20\n",
      "dtype: int64\n"
     ]
    }
   ],
   "source": [
    "su = 10\n",
    "print('시리즈 빼기 연산')\n",
    "print(myseries31 - su)"
   ]
  },
  {
   "cell_type": "code",
   "execution_count": 59,
   "id": "21fa4434",
   "metadata": {},
   "outputs": [
    {
     "name": "stdout",
     "output_type": "stream",
     "text": [
      "add 메소드 사용\n",
      "김인식    10\n",
      "이현세    30\n",
      "강윤희    40\n",
      "신계숙    20\n",
      "dtype: int64\n"
     ]
    }
   ],
   "source": [
    "print('add 메소드 사용')\n",
    "print(myseries31.sub(su))"
   ]
  },
  {
   "cell_type": "code",
   "execution_count": 60,
   "id": "4b668896",
   "metadata": {},
   "outputs": [
    {
     "name": "stdout",
     "output_type": "stream",
     "text": [
      "시리즈 관계 연산\n",
      "김인식    False\n",
      "이현세     True\n",
      "강윤희     True\n",
      "신계숙    False\n",
      "dtype: bool\n"
     ]
    }
   ],
   "source": [
    "su=40\n",
    "print('시리즈 관계 연산')\n",
    "print(myseries31 >= su)"
   ]
  },
  {
   "cell_type": "code",
   "execution_count": 61,
   "id": "2d873bb9",
   "metadata": {},
   "outputs": [
    {
     "data": {
      "text/plain": [
       "이현세    40\n",
       "강윤희    50\n",
       "dtype: int64"
      ]
     },
     "execution_count": 61,
     "metadata": {},
     "output_type": "execute_result"
    }
   ],
   "source": [
    "myseries31[myseries31 >= su]"
   ]
  },
  {
   "cell_type": "code",
   "execution_count": 62,
   "id": "61abddd9",
   "metadata": {},
   "outputs": [
    {
     "name": "stdout",
     "output_type": "stream",
     "text": [
      "40보다 큰 가요?\n",
      "김인식    False\n",
      "이현세    False\n",
      "강윤희     True\n",
      "신계숙    False\n",
      "dtype: bool\n"
     ]
    }
   ],
   "source": [
    "print('40보다 큰 가요?')\n",
    "print(myseries31.gt(su))"
   ]
  },
  {
   "cell_type": "code",
   "execution_count": 63,
   "id": "700f22be",
   "metadata": {},
   "outputs": [
    {
     "name": "stdout",
     "output_type": "stream",
     "text": [
      "40인가요?\n",
      "김인식    False\n",
      "이현세     True\n",
      "강윤희    False\n",
      "신계숙    False\n",
      "dtype: bool\n"
     ]
    }
   ],
   "source": [
    "print('40인가요?')\n",
    "print(myseries31.eq(su))"
   ]
  },
  {
   "cell_type": "markdown",
   "id": "40212059",
   "metadata": {},
   "source": [
    "<h3><font color='orange'>Series간의 산술 연산</font><h3>"
   ]
  },
  {
   "cell_type": "code",
   "execution_count": 64,
   "id": "949b04cf",
   "metadata": {},
   "outputs": [
    {
     "name": "stdout",
     "output_type": "stream",
     "text": [
      "한쪽에만 있는 데이터는 NaN으로 처리됨\n"
     ]
    },
    {
     "data": {
      "text/plain": [
       "강윤희    90.0\n",
       "김인식    70.0\n",
       "신계숙     NaN\n",
       "윤진숙     NaN\n",
       "이현세    50.0\n",
       "dtype: float64"
      ]
     },
     "execution_count": 64,
     "metadata": {},
     "output_type": "execute_result"
    }
   ],
   "source": [
    "print('한쪽에만 있는 데이터는 NaN으로 처리됨')\n",
    "newseries = myseries31 + myseries32\n",
    "newseries"
   ]
  },
  {
   "cell_type": "code",
   "execution_count": 69,
   "id": "c563e1df",
   "metadata": {},
   "outputs": [
    {
     "name": "stdout",
     "output_type": "stream",
     "text": [
      "뺄셈 처리됨\n"
     ]
    },
    {
     "data": {
      "text/plain": [
       "강윤희    10.0\n",
       "김인식   -30.0\n",
       "신계숙    30.0\n",
       "윤진숙   -20.0\n",
       "이현세    30.0\n",
       "dtype: float64"
      ]
     },
     "execution_count": 69,
     "metadata": {},
     "output_type": "execute_result"
    }
   ],
   "source": [
    "print('뺄셈 처리됨')\n",
    "newseries = myseries31.sub(myseries32, fill_value=0)\n",
    "newseries"
   ]
  },
  {
   "cell_type": "code",
   "execution_count": 71,
   "id": "3da31f63",
   "metadata": {},
   "outputs": [
    {
     "name": "stdout",
     "output_type": "stream",
     "text": [
      "곱셈 처리됨\n"
     ]
    },
    {
     "data": {
      "text/plain": [
       "강윤희    2000.0\n",
       "김인식    1000.0\n",
       "신계숙      30.0\n",
       "윤진숙      20.0\n",
       "이현세     400.0\n",
       "dtype: float64"
      ]
     },
     "execution_count": 71,
     "metadata": {},
     "output_type": "execute_result"
    }
   ],
   "source": [
    "print('곱셈 처리됨')\n",
    "newseries = myseries31.mul(myseries32, fill_value = 1)\n",
    "newseries"
   ]
  },
  {
   "cell_type": "markdown",
   "id": "6da5ab80",
   "metadata": {},
   "source": [
    "<h3>유일 값과 빈도 파악, 색인 필터링<h3>"
   ]
  },
  {
   "cell_type": "code",
   "execution_count": 72,
   "id": "83b51194",
   "metadata": {},
   "outputs": [
    {
     "data": {
      "text/plain": [
       "0    서울\n",
       "1    부산\n",
       "2    대구\n",
       "3    대전\n",
       "4    서울\n",
       "5    부산\n",
       "6    대구\n",
       "7    서울\n",
       "8    부산\n",
       "9    대구\n",
       "dtype: object"
      ]
     },
     "execution_count": 72,
     "metadata": {},
     "output_type": "execute_result"
    }
   ],
   "source": [
    "mylist04 = ['서울','부산','대구','대전','서울','부산','대구','서울','부산','대구']\n",
    "myseries04 = pd.Series(data = mylist04)\n",
    "myseries04"
   ]
  },
  {
   "cell_type": "markdown",
   "id": "3658d868",
   "metadata": {},
   "source": [
    "<h3><font color='orange'>유일한 값 확인하기</font><h3>"
   ]
  },
  {
   "cell_type": "code",
   "execution_count": 73,
   "id": "2c52d08f",
   "metadata": {},
   "outputs": [
    {
     "data": {
      "text/plain": [
       "array(['서울', '부산', '대구', '대전'], dtype=object)"
      ]
     },
     "execution_count": 73,
     "metadata": {},
     "output_type": "execute_result"
    }
   ],
   "source": [
    "myunique04 = myseries04.unique()\n",
    "myunique04"
   ]
  },
  {
   "cell_type": "markdown",
   "id": "9c54e7f9",
   "metadata": {},
   "source": [
    "<h3><font color='orange'>빈도수 파악하기</font><h3>"
   ]
  },
  {
   "cell_type": "code",
   "execution_count": 74,
   "id": "8da3e4e5",
   "metadata": {},
   "outputs": [
    {
     "name": "stdout",
     "output_type": "stream",
     "text": [
      "항목별 빈도 개수\n",
      "서울    3\n",
      "부산    3\n",
      "대구    3\n",
      "대전    1\n",
      "dtype: int64\n"
     ]
    }
   ],
   "source": [
    "print('항목별 빈도 개수')\n",
    "print(myseries04.value_counts())"
   ]
  },
  {
   "cell_type": "code",
   "execution_count": 75,
   "id": "db8f48cb",
   "metadata": {},
   "outputs": [
    {
     "name": "stdout",
     "output_type": "stream",
     "text": [
      "항목별 빈도 개수\n",
      "서울    0.3\n",
      "부산    0.3\n",
      "대구    0.3\n",
      "대전    0.1\n",
      "dtype: float64\n"
     ]
    }
   ],
   "source": [
    "print('항목별 빈도 개수')\n",
    "print(myseries04.value_counts(normalize=True))"
   ]
  },
  {
   "cell_type": "markdown",
   "id": "f43f848e",
   "metadata": {},
   "source": [
    "<h3><font color='orange'>색인 필터링</font><h3>"
   ]
  },
  {
   "cell_type": "code",
   "execution_count": 76,
   "id": "8591c54e",
   "metadata": {},
   "outputs": [
    {
     "name": "stdout",
     "output_type": "stream",
     "text": [
      "0    False\n",
      "1     True\n",
      "2     True\n",
      "3    False\n",
      "4    False\n",
      "5     True\n",
      "6     True\n",
      "7    False\n",
      "8     True\n",
      "9     True\n",
      "dtype: bool\n"
     ]
    }
   ],
   "source": [
    "filter04 = myseries04.isin(['부산','대구'])\n",
    "print(filter04)"
   ]
  },
  {
   "cell_type": "code",
   "execution_count": 77,
   "id": "cdcf28c2",
   "metadata": {},
   "outputs": [
    {
     "name": "stdout",
     "output_type": "stream",
     "text": [
      "1    부산\n",
      "2    대구\n",
      "5    부산\n",
      "6    대구\n",
      "8    부산\n",
      "9    대구\n",
      "dtype: object\n"
     ]
    }
   ],
   "source": [
    "print(myseries04[filter04])"
   ]
  },
  {
   "cell_type": "markdown",
   "id": "6b42e5f0",
   "metadata": {},
   "source": [
    "<h3>통계 함수 사용<h3>"
   ]
  },
  {
   "cell_type": "code",
   "execution_count": 85,
   "id": "76105377",
   "metadata": {},
   "outputs": [],
   "source": [
    "import numpy as np"
   ]
  },
  {
   "cell_type": "code",
   "execution_count": 86,
   "id": "c874bb03",
   "metadata": {},
   "outputs": [
    {
     "name": "stdout",
     "output_type": "stream",
     "text": [
      "0    11.0\n",
      "1    22.0\n",
      "2    33.0\n",
      "3    44.0\n",
      "4     NaN\n",
      "dtype: float64\n"
     ]
    }
   ],
   "source": [
    "mylist05 = [11,22,33,44, np.nan]\n",
    "myseries05 = pd.Series(mylist05)\n",
    "print(myseries05)"
   ]
  },
  {
   "cell_type": "markdown",
   "id": "95ead3f8",
   "metadata": {},
   "source": [
    "<h3><font color='orange'>통계 함수</font><h3>"
   ]
  },
  {
   "cell_type": "code",
   "execution_count": 90,
   "id": "cf5232c1",
   "metadata": {},
   "outputs": [
    {
     "name": "stdout",
     "output_type": "stream",
     "text": [
      "sum() 함수 : 110.0\n",
      "sum() 함수 : 27.5\n",
      "sum() 함수 : 44.0\n",
      "sum() 함수 : 11.0\n",
      "sum() 함수 : 14.200938936093861\n"
     ]
    }
   ],
   "source": [
    "print('sum() 함수 : ' + str(myseries05.sum()))\n",
    "print('sum() 함수 : ' + str(myseries05.mean()))\n",
    "print('sum() 함수 : ' + str(myseries05.max()))\n",
    "print('sum() 함수 : ' + str(myseries05.min()))\n",
    "print('sum() 함수 : ' + str(myseries05.std()))"
   ]
  },
  {
   "cell_type": "markdown",
   "id": "96f44756",
   "metadata": {},
   "source": [
    "<h3><font color='orange'>색인 필터링(관계 연산과 통계 함수)</font><h3>"
   ]
  },
  {
   "cell_type": "code",
   "execution_count": 91,
   "id": "c86dcb8d",
   "metadata": {},
   "outputs": [
    {
     "data": {
      "text/plain": [
       "0    False\n",
       "1    False\n",
       "2     True\n",
       "3     True\n",
       "4    False\n",
       "dtype: bool"
      ]
     },
     "execution_count": 91,
     "metadata": {},
     "output_type": "execute_result"
    }
   ],
   "source": [
    "result = myseries05 > myseries05.mean()\n",
    "result"
   ]
  },
  {
   "cell_type": "code",
   "execution_count": 93,
   "id": "c8ce8a22",
   "metadata": {},
   "outputs": [
    {
     "name": "stdout",
     "output_type": "stream",
     "text": [
      "평균 보다 큰 데이터\n"
     ]
    },
    {
     "data": {
      "text/plain": [
       "2    33.0\n",
       "3    44.0\n",
       "dtype: float64"
      ]
     },
     "execution_count": 93,
     "metadata": {},
     "output_type": "execute_result"
    }
   ],
   "source": [
    "print('평균 보다 큰 데이터')\n",
    "myseries05[result]"
   ]
  },
  {
   "cell_type": "markdown",
   "id": "bd5065be",
   "metadata": {},
   "source": [
    "<h1>재색인과 삭제 기능</h1>"
   ]
  },
  {
   "cell_type": "markdown",
   "id": "a59eb23e",
   "metadata": {},
   "source": [
    "<h3><font color='orange'>재색인하기</font></h3>"
   ]
  },
  {
   "cell_type": "code",
   "execution_count": 95,
   "id": "63ae8940",
   "metadata": {},
   "outputs": [
    {
     "data": {
      "text/plain": [
       "김한석    75\n",
       "이유림    65\n",
       "최훈철    85\n",
       "강유섭    45\n",
       "dtype: int64"
      ]
     },
     "execution_count": 95,
     "metadata": {},
     "output_type": "execute_result"
    }
   ],
   "source": [
    "myindex06 = ['김한석','이유림','최훈철','강유섭']\n",
    "mylist06 = [75,65,85,45]\n",
    "myseries06 = pd.Series(data = mylist06, index = myindex06)\n",
    "myseries06"
   ]
  },
  {
   "cell_type": "code",
   "execution_count": 96,
   "id": "3b4506a2",
   "metadata": {},
   "outputs": [
    {
     "name": "stdout",
     "output_type": "stream",
     "text": [
      "신규 추가 멤버 : ['심주영']\n"
     ]
    }
   ],
   "source": [
    "newmyindex06 = ['김한석','이유림','최훈철','강유섭','심주영']\n",
    "\n",
    "data = list() # empty list\n",
    "for item in newmyindex06 :\n",
    "    if item not in myindex06 :\n",
    "        data.append(item)\n",
    "# end for\n",
    "\n",
    "print('신규 추가 멤버 : ' + str(data))"
   ]
  },
  {
   "cell_type": "markdown",
   "id": "605111b6",
   "metadata": {},
   "source": [
    "<h3><font color='orange'>재색인 기본</font><h3>"
   ]
  },
  {
   "cell_type": "code",
   "execution_count": 97,
   "id": "57d866ac",
   "metadata": {},
   "outputs": [
    {
     "data": {
      "text/plain": [
       "김한석    75.0\n",
       "이유림    65.0\n",
       "최훈철    85.0\n",
       "강유섭    45.0\n",
       "심주영     NaN\n",
       "dtype: float64"
      ]
     },
     "execution_count": 97,
     "metadata": {},
     "output_type": "execute_result"
    }
   ],
   "source": [
    "result06 = myseries06.reindex(index = newmyindex06)\n",
    "result06"
   ]
  },
  {
   "cell_type": "markdown",
   "id": "c82bca50",
   "metadata": {},
   "source": [
    "<h3><font color='orange'>fill_value 매개 변수 사용</font>"
   ]
  },
  {
   "cell_type": "code",
   "execution_count": 99,
   "id": "7107e2fc",
   "metadata": {},
   "outputs": [
    {
     "data": {
      "text/plain": [
       "김한석    75\n",
       "이유람    30\n",
       "최훈철    85\n",
       "박기순    30\n",
       "강기혁    30\n",
       "dtype: int64"
      ]
     },
     "execution_count": 99,
     "metadata": {},
     "output_type": "execute_result"
    }
   ],
   "source": [
    "newmyindex06 = ['김한석','이유람','최훈철','박기순','강기혁']\n",
    "result06 = myseries06.reindex(index = newmyindex06, fill_value = 30)\n",
    "result06"
   ]
  },
  {
   "cell_type": "markdown",
   "id": "2206fe8e",
   "metadata": {},
   "source": [
    "<h3><font color='orange'>보간법을 이용한 재색인</h3>"
   ]
  },
  {
   "cell_type": "code",
   "execution_count": 100,
   "id": "9233ae4b",
   "metadata": {},
   "outputs": [
    {
     "data": {
      "text/plain": [
       "2     사과\n",
       "5      배\n",
       "8    오렌지\n",
       "dtype: object"
      ]
     },
     "execution_count": 100,
     "metadata": {},
     "output_type": "execute_result"
    }
   ],
   "source": [
    "mylist06 = ['사과','배','오렌지']\n",
    "myindex06 = [2,5,8]\n",
    "myseries06 = pd.Series(data = mylist06 , index = myindex06)\n",
    "myseries06"
   ]
  },
  {
   "cell_type": "code",
   "execution_count": 102,
   "id": "d1852112",
   "metadata": {},
   "outputs": [
    {
     "data": {
      "text/plain": [
       "0    NaN\n",
       "1    NaN\n",
       "2     사과\n",
       "3     사과\n",
       "4     사과\n",
       "5      배\n",
       "6      배\n",
       "7      배\n",
       "8    오렌지\n",
       "9    오렌지\n",
       "dtype: object"
      ]
     },
     "execution_count": 102,
     "metadata": {},
     "output_type": "execute_result"
    }
   ],
   "source": [
    "result06 = myseries06.reindex(range(10), method='ffill')\n",
    "result06"
   ]
  },
  {
   "cell_type": "code",
   "execution_count": 103,
   "id": "a4ad9166",
   "metadata": {},
   "outputs": [
    {
     "data": {
      "text/plain": [
       "0     사과\n",
       "1     사과\n",
       "2     사과\n",
       "3      배\n",
       "4      배\n",
       "5      배\n",
       "6    오렌지\n",
       "7    오렌지\n",
       "8    오렌지\n",
       "9    NaN\n",
       "dtype: object"
      ]
     },
     "execution_count": 103,
     "metadata": {},
     "output_type": "execute_result"
    }
   ],
   "source": [
    "result06 = myseries06.reindex(range(10), method='bfill')\n",
    "result06"
   ]
  },
  {
   "cell_type": "markdown",
   "id": "5f4bf7f9",
   "metadata": {},
   "source": [
    "<h3><font color='orange'>색인 삭제하기</h3>"
   ]
  },
  {
   "cell_type": "code",
   "execution_count": 108,
   "id": "46a415d3",
   "metadata": {},
   "outputs": [
    {
     "data": {
      "text/plain": [
       "1     사과\n",
       "2     사과\n",
       "3      배\n",
       "5      배\n",
       "6    오렌지\n",
       "9    NaN\n",
       "dtype: object"
      ]
     },
     "execution_count": 108,
     "metadata": {},
     "output_type": "execute_result"
    }
   ],
   "source": [
    "newdata = result06.drop([0,4,7,8])\n",
    "newdata"
   ]
  },
  {
   "cell_type": "markdown",
   "id": "99fd8b4a",
   "metadata": {},
   "source": [
    "<h1>Series를 이용한 차트 그리기</h1>"
   ]
  },
  {
   "cell_type": "markdown",
   "id": "4207dc57",
   "metadata": {},
   "source": [
    "<h3><font color='orange'>꺽은 선 그리기</h3>"
   ]
  },
  {
   "cell_type": "code",
   "execution_count": 131,
   "id": "ca8143a5",
   "metadata": {},
   "outputs": [
    {
     "data": {
      "text/html": [
       "<div>\n",
       "<style scoped>\n",
       "    .dataframe tbody tr th:only-of-type {\n",
       "        vertical-align: middle;\n",
       "    }\n",
       "\n",
       "    .dataframe tbody tr th {\n",
       "        vertical-align: top;\n",
       "    }\n",
       "\n",
       "    .dataframe thead th {\n",
       "        text-align: right;\n",
       "    }\n",
       "</style>\n",
       "<table border=\"1\" class=\"dataframe\">\n",
       "  <thead>\n",
       "    <tr style=\"text-align: right;\">\n",
       "      <th></th>\n",
       "      <th>0</th>\n",
       "    </tr>\n",
       "  </thead>\n",
       "  <tbody>\n",
       "    <tr>\n",
       "      <th>서울</th>\n",
       "      <td>60</td>\n",
       "    </tr>\n",
       "    <tr>\n",
       "      <th>부산</th>\n",
       "      <td>30</td>\n",
       "    </tr>\n",
       "    <tr>\n",
       "      <th>광주</th>\n",
       "      <td>50</td>\n",
       "    </tr>\n",
       "    <tr>\n",
       "      <th>대구</th>\n",
       "      <td>40</td>\n",
       "    </tr>\n",
       "    <tr>\n",
       "      <th>대전</th>\n",
       "      <td>10</td>\n",
       "    </tr>\n",
       "  </tbody>\n",
       "</table>\n",
       "</div>"
      ],
      "text/plain": [
       "     0\n",
       "서울  60\n",
       "부산  30\n",
       "광주  50\n",
       "대구  40\n",
       "대전  10"
      ]
     },
     "execution_count": 131,
     "metadata": {},
     "output_type": "execute_result"
    }
   ],
   "source": [
    "mylist02 = [60,30,50,40,10]\n",
    "myindex02 = ['서울','부산','광주','대구','대전']\n",
    "myseries02 = pd.Series(data = mylist02, index = myindex02)\n",
    "myseries02.to_frame()"
   ]
  },
  {
   "cell_type": "markdown",
   "id": "62250557",
   "metadata": {},
   "source": [
    "<h3><font color='orange'>작은 선 그리기</h3>"
   ]
  },
  {
   "cell_type": "code",
   "execution_count": 132,
   "id": "584a16b0",
   "metadata": {},
   "outputs": [],
   "source": [
    "import matplotlib.pyplot as plt\n",
    "plt.rc('font', family = 'Malgun Gothic') # 맑은 고딕체(한글 안 깨지게 하는 방법)"
   ]
  },
  {
   "cell_type": "code",
   "execution_count": 138,
   "id": "cd9f7274",
   "metadata": {},
   "outputs": [
    {
     "data": {
      "text/plain": [
       "Text(0.5, 1.0, '도시별 실적 꺽은 선')"
      ]
     },
     "execution_count": 138,
     "metadata": {},
     "output_type": "execute_result"
    },
    {
     "data": {
      "image/png": "[encoded data removed]",
      "text/plain": [
       "<Figure size 640x480 with 1 Axes>"
      ]
     },
     "metadata": {},
     "output_type": "display_data"
    }
   ],
   "source": [
    "myseries02.plot(kind = 'line', grid = True, use_index = True, rot = 10, ylim = [0,100])\n",
    "plt.xlabel('도시 이름')\n",
    "plt.ylabel('실적')\n",
    "plt.title('도시별 실적 꺽은 선')"
   ]
  },
  {
   "cell_type": "markdown",
   "id": "5c7f0818",
   "metadata": {},
   "source": [
    "<h3><font color='orange'>막대 그래프</h3>"
   ]
  },
  {
   "cell_type": "code",
   "execution_count": 158,
   "id": "cf584b64",
   "metadata": {},
   "outputs": [
    {
     "data": {
      "text/plain": [
       "Text(0.5, 1.0, '도시별 실적 막대 그래프')"
      ]
     },
     "execution_count": 158,
     "metadata": {},
     "output_type": "execute_result"
    },
    {
     "data": {
      "image/png": "[encoded data removed]",
      "text/plain": [
       "<Figure size 640x480 with 1 Axes>"
      ]
     },
     "metadata": {},
     "output_type": "display_data"
    }
   ],
   "source": [
    "myseries02.plot(kind = 'bar', grid = False, use_index = True, rot = 0 ,color = ['BlanchedAlmond','DarkGray','IndianRed','LightGoldenRodYellow','OrangeRed'])\n",
    "plt.xlabel('도시 이름')\n",
    "plt.ylabel('실적')\n",
    "plt.title('도시별 실적 막대 그래프')"
   ]
  },
  {
   "cell_type": "code",
   "execution_count": null,
   "id": "172d0866",
   "metadata": {},
   "outputs": [],
   "source": []
  },
  {
   "cell_type": "code",
   "execution_count": null,
   "id": "f4c6b47e",
   "metadata": {},
   "outputs": [],
   "source": []
  },
  {
   "cell_type": "code",
   "execution_count": null,
   "id": "fca01b7a",
   "metadata": {},
   "outputs": [],
   "source": []
  },
  {
   "cell_type": "code",
   "execution_count": null,
   "id": "41dd0ab9",
   "metadata": {},
   "outputs": [],
   "source": []
  },
  {
   "cell_type": "code",
   "execution_count": null,
   "id": "37833e69",
   "metadata": {},
   "outputs": [],
   "source": []
  },
  {
   "cell_type": "code",
   "execution_count": null,
   "id": "3ef87356",
   "metadata": {},
   "outputs": [],
   "source": []
  },
  {
   "cell_type": "code",
   "execution_count": null,
   "id": "82c5dec6",
   "metadata": {},
   "outputs": [],
   "source": []
  },
  {
   "cell_type": "code",
   "execution_count": null,
   "id": "3fdec3c8",
   "metadata": {},
   "outputs": [],
   "source": []
  }
 ],
 "metadata": {
  "kernelspec": {
   "display_name": "Python 3 (ipykernel)",
   "language": "python",
   "name": "python3"
  },
  "language_info": {
   "codemirror_mode": {
    "name": "ipython",
    "version": 3
   },
   "file_extension": ".py",
   "mimetype": "text/x-python",
   "name": "python",
   "nbconvert_exporter": "python",
   "pygments_lexer": "ipython3",
   "version": "3.11.2"
  }
 },
 "nbformat": 4,
 "nbformat_minor": 5
}
