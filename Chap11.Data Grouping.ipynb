{
 "cells": [
  {
   "cell_type": "markdown",
   "id": "545033ec",
   "metadata": {},
   "source": [
    "<h1>데이터 그룹화</h1>"
   ]
  },
  {
   "cell_type": "markdown",
   "id": "2499b994",
   "metadata": {},
   "source": [
    "<h3><font color='orange'>데이터 그룹화</h3>"
   ]
  },
  {
   "cell_type": "code",
   "execution_count": 4,
   "id": "eabf349c",
   "metadata": {},
   "outputs": [],
   "source": [
    "import pandas as pd\n",
    "import numpy as np"
   ]
  },
  {
   "cell_type": "code",
   "execution_count": 6,
   "id": "cdaba86b",
   "metadata": {},
   "outputs": [
    {
     "data": {
      "text/plain": [
       "array(['남자', '여자'], dtype=object)"
      ]
     },
     "execution_count": 6,
     "metadata": {},
     "output_type": "execute_result"
    }
   ],
   "source": [
    "payment = pd.read_csv('./../data/payment07.csv', encoding='cp949')\n",
    "payment['성별'].unique()"
   ]
  },
  {
   "cell_type": "code",
   "execution_count": 7,
   "id": "ec9a9e9b",
   "metadata": {},
   "outputs": [
    {
     "data": {
      "text/html": [
       "<div>\n",
       "<style scoped>\n",
       "    .dataframe tbody tr th:only-of-type {\n",
       "        vertical-align: middle;\n",
       "    }\n",
       "\n",
       "    .dataframe tbody tr th {\n",
       "        vertical-align: top;\n",
       "    }\n",
       "\n",
       "    .dataframe thead th {\n",
       "        text-align: right;\n",
       "    }\n",
       "</style>\n",
       "<table border=\"1\" class=\"dataframe\">\n",
       "  <thead>\n",
       "    <tr style=\"text-align: right;\">\n",
       "      <th></th>\n",
       "      <th>사원명</th>\n",
       "      <th>출장지역</th>\n",
       "      <th>출장기간</th>\n",
       "      <th>부서</th>\n",
       "      <th>성별</th>\n",
       "      <th>교통비</th>\n",
       "      <th>식비</th>\n",
       "    </tr>\n",
       "  </thead>\n",
       "  <tbody>\n",
       "    <tr>\n",
       "      <th>0</th>\n",
       "      <td>윤장혁</td>\n",
       "      <td>서울</td>\n",
       "      <td>7</td>\n",
       "      <td>영업부</td>\n",
       "      <td>남자</td>\n",
       "      <td>4000</td>\n",
       "      <td>2000</td>\n",
       "    </tr>\n",
       "    <tr>\n",
       "      <th>1</th>\n",
       "      <td>서문덕</td>\n",
       "      <td>서울</td>\n",
       "      <td>6</td>\n",
       "      <td>영업부</td>\n",
       "      <td>남자</td>\n",
       "      <td>3000</td>\n",
       "      <td>3000</td>\n",
       "    </tr>\n",
       "    <tr>\n",
       "      <th>2</th>\n",
       "      <td>이성진</td>\n",
       "      <td>부산</td>\n",
       "      <td>5</td>\n",
       "      <td>영업부</td>\n",
       "      <td>남자</td>\n",
       "      <td>3000</td>\n",
       "      <td>3000</td>\n",
       "    </tr>\n",
       "    <tr>\n",
       "      <th>3</th>\n",
       "      <td>강찬혁</td>\n",
       "      <td>부산</td>\n",
       "      <td>3</td>\n",
       "      <td>영업부</td>\n",
       "      <td>남자</td>\n",
       "      <td>1000</td>\n",
       "      <td>2000</td>\n",
       "    </tr>\n",
       "    <tr>\n",
       "      <th>4</th>\n",
       "      <td>신유석</td>\n",
       "      <td>서울</td>\n",
       "      <td>5</td>\n",
       "      <td>전산부</td>\n",
       "      <td>여자</td>\n",
       "      <td>2000</td>\n",
       "      <td>2000</td>\n",
       "    </tr>\n",
       "    <tr>\n",
       "      <th>5</th>\n",
       "      <td>유지혜</td>\n",
       "      <td>서울</td>\n",
       "      <td>5</td>\n",
       "      <td>전산부</td>\n",
       "      <td>여자</td>\n",
       "      <td>4000</td>\n",
       "      <td>1000</td>\n",
       "    </tr>\n",
       "    <tr>\n",
       "      <th>6</th>\n",
       "      <td>이유리</td>\n",
       "      <td>부산</td>\n",
       "      <td>8</td>\n",
       "      <td>전산부</td>\n",
       "      <td>여자</td>\n",
       "      <td>4000</td>\n",
       "      <td>1000</td>\n",
       "    </tr>\n",
       "    <tr>\n",
       "      <th>7</th>\n",
       "      <td>선진희</td>\n",
       "      <td>부산</td>\n",
       "      <td>6</td>\n",
       "      <td>전산부</td>\n",
       "      <td>여자</td>\n",
       "      <td>1000</td>\n",
       "      <td>4000</td>\n",
       "    </tr>\n",
       "  </tbody>\n",
       "</table>\n",
       "</div>"
      ],
      "text/plain": [
       "   사원명 출장지역  출장기간   부서  성별   교통비    식비\n",
       "0  윤장혁   서울     7  영업부  남자  4000  2000\n",
       "1  서문덕   서울     6  영업부  남자  3000  3000\n",
       "2  이성진   부산     5  영업부  남자  3000  3000\n",
       "3  강찬혁   부산     3  영업부  남자  1000  2000\n",
       "4  신유석   서울     5  전산부  여자  2000  2000\n",
       "5  유지혜   서울     5  전산부  여자  4000  1000\n",
       "6  이유리   부산     8  전산부  여자  4000  1000\n",
       "7  선진희   부산     6  전산부  여자  1000  4000"
      ]
     },
     "execution_count": 7,
     "metadata": {},
     "output_type": "execute_result"
    }
   ],
   "source": [
    "payment"
   ]
  },
  {
   "cell_type": "code",
   "execution_count": 9,
   "id": "21449371",
   "metadata": {},
   "outputs": [
    {
     "data": {
      "text/plain": [
       "성별\n",
       "남자    11000\n",
       "여자    11000\n",
       "Name: 교통비, dtype: int64"
      ]
     },
     "execution_count": 9,
     "metadata": {},
     "output_type": "execute_result"
    }
   ],
   "source": [
    "mygrouping = payment.groupby('성별')['교통비']\n",
    "mygrouping.sum()"
   ]
  },
  {
   "cell_type": "code",
   "execution_count": 10,
   "id": "9d04c049",
   "metadata": {},
   "outputs": [
    {
     "data": {
      "text/plain": [
       "성별\n",
       "남자    4\n",
       "여자    4\n",
       "Name: 교통비, dtype: int64"
      ]
     },
     "execution_count": 10,
     "metadata": {},
     "output_type": "execute_result"
    }
   ],
   "source": [
    "mygrouping.count()"
   ]
  },
  {
   "cell_type": "code",
   "execution_count": 11,
   "id": "9a71c9bd",
   "metadata": {},
   "outputs": [
    {
     "data": {
      "text/html": [
       "<div>\n",
       "<style scoped>\n",
       "    .dataframe tbody tr th:only-of-type {\n",
       "        vertical-align: middle;\n",
       "    }\n",
       "\n",
       "    .dataframe tbody tr th {\n",
       "        vertical-align: top;\n",
       "    }\n",
       "\n",
       "    .dataframe thead th {\n",
       "        text-align: right;\n",
       "    }\n",
       "</style>\n",
       "<table border=\"1\" class=\"dataframe\">\n",
       "  <thead>\n",
       "    <tr style=\"text-align: right;\">\n",
       "      <th></th>\n",
       "      <th>출장기간</th>\n",
       "    </tr>\n",
       "    <tr>\n",
       "      <th>성별</th>\n",
       "      <th></th>\n",
       "    </tr>\n",
       "  </thead>\n",
       "  <tbody>\n",
       "    <tr>\n",
       "      <th>남자</th>\n",
       "      <td>5.25</td>\n",
       "    </tr>\n",
       "    <tr>\n",
       "      <th>여자</th>\n",
       "      <td>6.00</td>\n",
       "    </tr>\n",
       "  </tbody>\n",
       "</table>\n",
       "</div>"
      ],
      "text/plain": [
       "    출장기간\n",
       "성별      \n",
       "남자  5.25\n",
       "여자  6.00"
      ]
     },
     "execution_count": 11,
     "metadata": {},
     "output_type": "execute_result"
    }
   ],
   "source": [
    "result = payment.groupby('성별')['출장기간'].agg('mean')\n",
    "result.to_frame()"
   ]
  },
  {
   "cell_type": "code",
   "execution_count": 14,
   "id": "1633cd63",
   "metadata": {},
   "outputs": [
    {
     "data": {
      "text/html": [
       "<div>\n",
       "<style scoped>\n",
       "    .dataframe tbody tr th:only-of-type {\n",
       "        vertical-align: middle;\n",
       "    }\n",
       "\n",
       "    .dataframe tbody tr th {\n",
       "        vertical-align: top;\n",
       "    }\n",
       "\n",
       "    .dataframe thead th {\n",
       "        text-align: right;\n",
       "    }\n",
       "</style>\n",
       "<table border=\"1\" class=\"dataframe\">\n",
       "  <thead>\n",
       "    <tr style=\"text-align: right;\">\n",
       "      <th></th>\n",
       "      <th>출장기간</th>\n",
       "    </tr>\n",
       "    <tr>\n",
       "      <th>성별</th>\n",
       "      <th></th>\n",
       "    </tr>\n",
       "  </thead>\n",
       "  <tbody>\n",
       "    <tr>\n",
       "      <th>남자</th>\n",
       "      <td>5.25</td>\n",
       "    </tr>\n",
       "    <tr>\n",
       "      <th>여자</th>\n",
       "      <td>6.00</td>\n",
       "    </tr>\n",
       "  </tbody>\n",
       "</table>\n",
       "</div>"
      ],
      "text/plain": [
       "    출장기간\n",
       "성별      \n",
       "남자  5.25\n",
       "여자  6.00"
      ]
     },
     "execution_count": 14,
     "metadata": {},
     "output_type": "execute_result"
    }
   ],
   "source": [
    "result = payment.groupby('성별').agg({'출장기간':'mean'})\n",
    "result"
   ]
  },
  {
   "cell_type": "code",
   "execution_count": 15,
   "id": "2946e18d",
   "metadata": {},
   "outputs": [
    {
     "data": {
      "text/html": [
       "<div>\n",
       "<style scoped>\n",
       "    .dataframe tbody tr th:only-of-type {\n",
       "        vertical-align: middle;\n",
       "    }\n",
       "\n",
       "    .dataframe tbody tr th {\n",
       "        vertical-align: top;\n",
       "    }\n",
       "\n",
       "    .dataframe thead th {\n",
       "        text-align: right;\n",
       "    }\n",
       "</style>\n",
       "<table border=\"1\" class=\"dataframe\">\n",
       "  <thead>\n",
       "    <tr style=\"text-align: right;\">\n",
       "      <th></th>\n",
       "      <th>출장기간</th>\n",
       "    </tr>\n",
       "    <tr>\n",
       "      <th>성별</th>\n",
       "      <th></th>\n",
       "    </tr>\n",
       "  </thead>\n",
       "  <tbody>\n",
       "    <tr>\n",
       "      <th>남자</th>\n",
       "      <td>5.25</td>\n",
       "    </tr>\n",
       "    <tr>\n",
       "      <th>여자</th>\n",
       "      <td>6.00</td>\n",
       "    </tr>\n",
       "  </tbody>\n",
       "</table>\n",
       "</div>"
      ],
      "text/plain": [
       "    출장기간\n",
       "성별      \n",
       "남자  5.25\n",
       "여자  6.00"
      ]
     },
     "execution_count": 15,
     "metadata": {},
     "output_type": "execute_result"
    }
   ],
   "source": [
    "result = payment.groupby('성별')['출장기간'].agg(np.mean)\n",
    "result.to_frame()"
   ]
  },
  {
   "cell_type": "code",
   "execution_count": 16,
   "id": "27d59124",
   "metadata": {},
   "outputs": [
    {
     "data": {
      "text/plain": [
       "array(['서울', '부산'], dtype=object)"
      ]
     },
     "execution_count": 16,
     "metadata": {},
     "output_type": "execute_result"
    }
   ],
   "source": [
    "payment['출장지역'].unique()"
   ]
  },
  {
   "cell_type": "code",
   "execution_count": 19,
   "id": "78b83277",
   "metadata": {},
   "outputs": [
    {
     "data": {
      "text/html": [
       "<div>\n",
       "<style scoped>\n",
       "    .dataframe tbody tr th:only-of-type {\n",
       "        vertical-align: middle;\n",
       "    }\n",
       "\n",
       "    .dataframe tbody tr th {\n",
       "        vertical-align: top;\n",
       "    }\n",
       "\n",
       "    .dataframe thead th {\n",
       "        text-align: right;\n",
       "    }\n",
       "</style>\n",
       "<table border=\"1\" class=\"dataframe\">\n",
       "  <thead>\n",
       "    <tr style=\"text-align: right;\">\n",
       "      <th></th>\n",
       "      <th></th>\n",
       "      <th>교통비</th>\n",
       "    </tr>\n",
       "    <tr>\n",
       "      <th>출장지역</th>\n",
       "      <th>성별</th>\n",
       "      <th></th>\n",
       "    </tr>\n",
       "  </thead>\n",
       "  <tbody>\n",
       "    <tr>\n",
       "      <th rowspan=\"2\" valign=\"top\">부산</th>\n",
       "      <th>남자</th>\n",
       "      <td>4000</td>\n",
       "    </tr>\n",
       "    <tr>\n",
       "      <th>여자</th>\n",
       "      <td>5000</td>\n",
       "    </tr>\n",
       "    <tr>\n",
       "      <th rowspan=\"2\" valign=\"top\">서울</th>\n",
       "      <th>남자</th>\n",
       "      <td>7000</td>\n",
       "    </tr>\n",
       "    <tr>\n",
       "      <th>여자</th>\n",
       "      <td>6000</td>\n",
       "    </tr>\n",
       "  </tbody>\n",
       "</table>\n",
       "</div>"
      ],
      "text/plain": [
       "          교통비\n",
       "출장지역 성별      \n",
       "부산   남자  4000\n",
       "     여자  5000\n",
       "서울   남자  7000\n",
       "     여자  6000"
      ]
     },
     "execution_count": 19,
     "metadata": {},
     "output_type": "execute_result"
    }
   ],
   "source": [
    "result = payment.groupby(['출장지역','성별'])['교통비'].agg('sum')\n",
    "result.to_frame()"
   ]
  },
  {
   "cell_type": "code",
   "execution_count": 24,
   "id": "c2a6f2f4",
   "metadata": {},
   "outputs": [
    {
     "data": {
      "text/html": [
       "<div>\n",
       "<style scoped>\n",
       "    .dataframe tbody tr th:only-of-type {\n",
       "        vertical-align: middle;\n",
       "    }\n",
       "\n",
       "    .dataframe tbody tr th {\n",
       "        vertical-align: top;\n",
       "    }\n",
       "\n",
       "    .dataframe thead tr th {\n",
       "        text-align: left;\n",
       "    }\n",
       "\n",
       "    .dataframe thead tr:last-of-type th {\n",
       "        text-align: right;\n",
       "    }\n",
       "</style>\n",
       "<table border=\"1\" class=\"dataframe\">\n",
       "  <thead>\n",
       "    <tr>\n",
       "      <th></th>\n",
       "      <th></th>\n",
       "      <th colspan=\"2\" halign=\"left\">교통비</th>\n",
       "      <th colspan=\"2\" halign=\"left\">출장기간</th>\n",
       "    </tr>\n",
       "    <tr>\n",
       "      <th></th>\n",
       "      <th></th>\n",
       "      <th>sum</th>\n",
       "      <th>mean</th>\n",
       "      <th>sum</th>\n",
       "      <th>mean</th>\n",
       "    </tr>\n",
       "    <tr>\n",
       "      <th>출장지역</th>\n",
       "      <th>성별</th>\n",
       "      <th></th>\n",
       "      <th></th>\n",
       "      <th></th>\n",
       "      <th></th>\n",
       "    </tr>\n",
       "  </thead>\n",
       "  <tbody>\n",
       "    <tr>\n",
       "      <th rowspan=\"2\" valign=\"top\">부산</th>\n",
       "      <th>남자</th>\n",
       "      <td>4000</td>\n",
       "      <td>2000.0</td>\n",
       "      <td>8</td>\n",
       "      <td>4.0</td>\n",
       "    </tr>\n",
       "    <tr>\n",
       "      <th>여자</th>\n",
       "      <td>5000</td>\n",
       "      <td>2500.0</td>\n",
       "      <td>14</td>\n",
       "      <td>7.0</td>\n",
       "    </tr>\n",
       "    <tr>\n",
       "      <th rowspan=\"2\" valign=\"top\">서울</th>\n",
       "      <th>남자</th>\n",
       "      <td>7000</td>\n",
       "      <td>3500.0</td>\n",
       "      <td>13</td>\n",
       "      <td>6.5</td>\n",
       "    </tr>\n",
       "    <tr>\n",
       "      <th>여자</th>\n",
       "      <td>6000</td>\n",
       "      <td>3000.0</td>\n",
       "      <td>10</td>\n",
       "      <td>5.0</td>\n",
       "    </tr>\n",
       "  </tbody>\n",
       "</table>\n",
       "</div>"
      ],
      "text/plain": [
       "          교통비         출장기간     \n",
       "          sum    mean  sum mean\n",
       "출장지역 성별                        \n",
       "부산   남자  4000  2000.0    8  4.0\n",
       "     여자  5000  2500.0   14  7.0\n",
       "서울   남자  7000  3500.0   13  6.5\n",
       "     여자  6000  3000.0   10  5.0"
      ]
     },
     "execution_count": 24,
     "metadata": {},
     "output_type": "execute_result"
    }
   ],
   "source": [
    "result = payment.groupby(['출장지역','성별'])[['교통비','출장기간']].agg(['sum','mean'])\n",
    "result"
   ]
  },
  {
   "cell_type": "code",
   "execution_count": 31,
   "id": "1ec4f4cf",
   "metadata": {},
   "outputs": [
    {
     "data": {
      "text/html": [
       "<div>\n",
       "<style scoped>\n",
       "    .dataframe tbody tr th:only-of-type {\n",
       "        vertical-align: middle;\n",
       "    }\n",
       "\n",
       "    .dataframe tbody tr th {\n",
       "        vertical-align: top;\n",
       "    }\n",
       "\n",
       "    .dataframe thead tr th {\n",
       "        text-align: left;\n",
       "    }\n",
       "\n",
       "    .dataframe thead tr:last-of-type th {\n",
       "        text-align: right;\n",
       "    }\n",
       "</style>\n",
       "<table border=\"1\" class=\"dataframe\">\n",
       "  <thead>\n",
       "    <tr>\n",
       "      <th></th>\n",
       "      <th></th>\n",
       "      <th colspan=\"3\" halign=\"left\">교통비</th>\n",
       "      <th colspan=\"2\" halign=\"left\">출장기간</th>\n",
       "    </tr>\n",
       "    <tr>\n",
       "      <th></th>\n",
       "      <th></th>\n",
       "      <th>sum</th>\n",
       "      <th>mean</th>\n",
       "      <th>max</th>\n",
       "      <th>mean</th>\n",
       "      <th>min</th>\n",
       "    </tr>\n",
       "    <tr>\n",
       "      <th>출장지역</th>\n",
       "      <th>성별</th>\n",
       "      <th></th>\n",
       "      <th></th>\n",
       "      <th></th>\n",
       "      <th></th>\n",
       "      <th></th>\n",
       "    </tr>\n",
       "  </thead>\n",
       "  <tbody>\n",
       "    <tr>\n",
       "      <th rowspan=\"2\" valign=\"top\">부산</th>\n",
       "      <th>남자</th>\n",
       "      <td>4000</td>\n",
       "      <td>2000</td>\n",
       "      <td>3000</td>\n",
       "      <td>4</td>\n",
       "      <td>3</td>\n",
       "    </tr>\n",
       "    <tr>\n",
       "      <th>여자</th>\n",
       "      <td>5000</td>\n",
       "      <td>2500</td>\n",
       "      <td>4000</td>\n",
       "      <td>7</td>\n",
       "      <td>6</td>\n",
       "    </tr>\n",
       "    <tr>\n",
       "      <th rowspan=\"2\" valign=\"top\">서울</th>\n",
       "      <th>남자</th>\n",
       "      <td>7000</td>\n",
       "      <td>3500</td>\n",
       "      <td>4000</td>\n",
       "      <td>6</td>\n",
       "      <td>6</td>\n",
       "    </tr>\n",
       "    <tr>\n",
       "      <th>여자</th>\n",
       "      <td>6000</td>\n",
       "      <td>3000</td>\n",
       "      <td>4000</td>\n",
       "      <td>5</td>\n",
       "      <td>5</td>\n",
       "    </tr>\n",
       "  </tbody>\n",
       "</table>\n",
       "</div>"
      ],
      "text/plain": [
       "          교통비             출장기간    \n",
       "          sum  mean   max mean min\n",
       "출장지역 성별                           \n",
       "부산   남자  4000  2000  3000    4   3\n",
       "     여자  5000  2500  4000    7   6\n",
       "서울   남자  7000  3500  4000    6   6\n",
       "     여자  6000  3000  4000    5   5"
      ]
     },
     "execution_count": 31,
     "metadata": {},
     "output_type": "execute_result"
    }
   ],
   "source": [
    "result = payment.groupby(['출장지역','성별']).agg({'교통비':['sum','mean','max'], '출장기간':['mean','min']}).astype(int)\n",
    "\n",
    "result"
   ]
  },
  {
   "cell_type": "code",
   "execution_count": 32,
   "id": "51cff8df",
   "metadata": {},
   "outputs": [
    {
     "data": {
      "text/html": [
       "<div>\n",
       "<style scoped>\n",
       "    .dataframe tbody tr th:only-of-type {\n",
       "        vertical-align: middle;\n",
       "    }\n",
       "\n",
       "    .dataframe tbody tr th {\n",
       "        vertical-align: top;\n",
       "    }\n",
       "\n",
       "    .dataframe thead tr th {\n",
       "        text-align: left;\n",
       "    }\n",
       "\n",
       "    .dataframe thead tr:last-of-type th {\n",
       "        text-align: right;\n",
       "    }\n",
       "</style>\n",
       "<table border=\"1\" class=\"dataframe\">\n",
       "  <thead>\n",
       "    <tr>\n",
       "      <th></th>\n",
       "      <th></th>\n",
       "      <th colspan=\"3\" halign=\"left\">교통비</th>\n",
       "      <th colspan=\"2\" halign=\"left\">출장기간</th>\n",
       "    </tr>\n",
       "    <tr>\n",
       "      <th></th>\n",
       "      <th></th>\n",
       "      <th>sum</th>\n",
       "      <th>mean</th>\n",
       "      <th>max</th>\n",
       "      <th>mean</th>\n",
       "      <th>min</th>\n",
       "    </tr>\n",
       "    <tr>\n",
       "      <th>출장지역</th>\n",
       "      <th>성별</th>\n",
       "      <th></th>\n",
       "      <th></th>\n",
       "      <th></th>\n",
       "      <th></th>\n",
       "      <th></th>\n",
       "    </tr>\n",
       "  </thead>\n",
       "  <tbody>\n",
       "    <tr>\n",
       "      <th rowspan=\"2\" valign=\"top\">부산</th>\n",
       "      <th>남자</th>\n",
       "      <td>4000</td>\n",
       "      <td>2000</td>\n",
       "      <td>3000</td>\n",
       "      <td>4</td>\n",
       "      <td>3</td>\n",
       "    </tr>\n",
       "    <tr>\n",
       "      <th>여자</th>\n",
       "      <td>5000</td>\n",
       "      <td>2500</td>\n",
       "      <td>4000</td>\n",
       "      <td>7</td>\n",
       "      <td>6</td>\n",
       "    </tr>\n",
       "    <tr>\n",
       "      <th rowspan=\"2\" valign=\"top\">서울</th>\n",
       "      <th>남자</th>\n",
       "      <td>7000</td>\n",
       "      <td>3500</td>\n",
       "      <td>4000</td>\n",
       "      <td>6</td>\n",
       "      <td>6</td>\n",
       "    </tr>\n",
       "    <tr>\n",
       "      <th>여자</th>\n",
       "      <td>6000</td>\n",
       "      <td>3000</td>\n",
       "      <td>4000</td>\n",
       "      <td>5</td>\n",
       "      <td>5</td>\n",
       "    </tr>\n",
       "  </tbody>\n",
       "</table>\n",
       "</div>"
      ],
      "text/plain": [
       "          교통비             출장기간    \n",
       "          sum  mean   max mean min\n",
       "출장지역 성별                           \n",
       "부산   남자  4000  2000  3000    4   3\n",
       "     여자  5000  2500  4000    7   6\n",
       "서울   남자  7000  3500  4000    6   6\n",
       "     여자  6000  3000  4000    5   5"
      ]
     },
     "execution_count": 32,
     "metadata": {},
     "output_type": "execute_result"
    }
   ],
   "source": [
    "mydict = {'교통비':['sum','mean','max'], '출장기간':['mean','min']}\n",
    "\n",
    "result = payment.groupby(['출장지역','성별']).agg(mydict).astype(int)\n",
    "\n",
    "result"
   ]
  },
  {
   "cell_type": "markdown",
   "id": "2e1b8ff3",
   "metadata": {},
   "source": [
    "<h1>중첩 색인 제거</h1>"
   ]
  },
  {
   "cell_type": "markdown",
   "id": "4753917c",
   "metadata": {},
   "source": [
    "<h3><font color='orange'>데이터 확인</h3>"
   ]
  },
  {
   "cell_type": "code",
   "execution_count": 33,
   "id": "f6eb0882",
   "metadata": {},
   "outputs": [],
   "source": [
    "import pandas as pd\n",
    "import numpy as np"
   ]
  },
  {
   "cell_type": "code",
   "execution_count": 34,
   "id": "af6e0852",
   "metadata": {},
   "outputs": [
    {
     "data": {
      "text/html": [
       "<div>\n",
       "<style scoped>\n",
       "    .dataframe tbody tr th:only-of-type {\n",
       "        vertical-align: middle;\n",
       "    }\n",
       "\n",
       "    .dataframe tbody tr th {\n",
       "        vertical-align: top;\n",
       "    }\n",
       "\n",
       "    .dataframe thead tr th {\n",
       "        text-align: left;\n",
       "    }\n",
       "\n",
       "    .dataframe thead tr:last-of-type th {\n",
       "        text-align: right;\n",
       "    }\n",
       "</style>\n",
       "<table border=\"1\" class=\"dataframe\">\n",
       "  <thead>\n",
       "    <tr>\n",
       "      <th></th>\n",
       "      <th></th>\n",
       "      <th colspan=\"3\" halign=\"left\">교통비</th>\n",
       "      <th colspan=\"2\" halign=\"left\">출장기간</th>\n",
       "    </tr>\n",
       "    <tr>\n",
       "      <th></th>\n",
       "      <th></th>\n",
       "      <th>sum</th>\n",
       "      <th>mean</th>\n",
       "      <th>max</th>\n",
       "      <th>mean</th>\n",
       "      <th>min</th>\n",
       "    </tr>\n",
       "    <tr>\n",
       "      <th>출장지역</th>\n",
       "      <th>성별</th>\n",
       "      <th></th>\n",
       "      <th></th>\n",
       "      <th></th>\n",
       "      <th></th>\n",
       "      <th></th>\n",
       "    </tr>\n",
       "  </thead>\n",
       "  <tbody>\n",
       "    <tr>\n",
       "      <th rowspan=\"2\" valign=\"top\">부산</th>\n",
       "      <th>남자</th>\n",
       "      <td>4000</td>\n",
       "      <td>2000</td>\n",
       "      <td>3000</td>\n",
       "      <td>4</td>\n",
       "      <td>3</td>\n",
       "    </tr>\n",
       "    <tr>\n",
       "      <th>여자</th>\n",
       "      <td>5000</td>\n",
       "      <td>2500</td>\n",
       "      <td>4000</td>\n",
       "      <td>7</td>\n",
       "      <td>6</td>\n",
       "    </tr>\n",
       "    <tr>\n",
       "      <th rowspan=\"2\" valign=\"top\">서울</th>\n",
       "      <th>남자</th>\n",
       "      <td>7000</td>\n",
       "      <td>3500</td>\n",
       "      <td>4000</td>\n",
       "      <td>6</td>\n",
       "      <td>6</td>\n",
       "    </tr>\n",
       "    <tr>\n",
       "      <th>여자</th>\n",
       "      <td>6000</td>\n",
       "      <td>3000</td>\n",
       "      <td>4000</td>\n",
       "      <td>5</td>\n",
       "      <td>5</td>\n",
       "    </tr>\n",
       "  </tbody>\n",
       "</table>\n",
       "</div>"
      ],
      "text/plain": [
       "          교통비             출장기간    \n",
       "          sum  mean   max mean min\n",
       "출장지역 성별                           \n",
       "부산   남자  4000  2000  3000    4   3\n",
       "     여자  5000  2500  4000    7   6\n",
       "서울   남자  7000  3500  4000    6   6\n",
       "     여자  6000  3000  4000    5   5"
      ]
     },
     "execution_count": 34,
     "metadata": {},
     "output_type": "execute_result"
    }
   ],
   "source": [
    "payment = pd.read_csv('./../data/payment07.csv', encoding='cp949')\n",
    "\n",
    "agg_dict = {'교통비':['sum','mean','max'], '출장기간':['mean','min']}\n",
    "\n",
    "groupdata = payment.groupby(['출장지역','성별']).agg(agg_dict).astype(int)\n",
    "\n",
    "groupdata"
   ]
  },
  {
   "cell_type": "code",
   "execution_count": 35,
   "id": "6edcacb3",
   "metadata": {},
   "outputs": [
    {
     "name": "stdout",
     "output_type": "stream",
     "text": [
      "열 색인 정보\n",
      "MultiIndex([( '교통비',  'sum'),\n",
      "            ( '교통비', 'mean'),\n",
      "            ( '교통비',  'max'),\n",
      "            ('출장기간', 'mean'),\n",
      "            ('출장기간',  'min')],\n",
      "           )\n"
     ]
    }
   ],
   "source": [
    "print('열 색인 정보')\n",
    "print(groupdata.columns)"
   ]
  },
  {
   "cell_type": "code",
   "execution_count": 36,
   "id": "18072e2e",
   "metadata": {},
   "outputs": [
    {
     "name": "stdout",
     "output_type": "stream",
     "text": [
      "행 색인 정보\n",
      "MultiIndex([('부산', '남자'),\n",
      "            ('부산', '여자'),\n",
      "            ('서울', '남자'),\n",
      "            ('서울', '여자')],\n",
      "           names=['출장지역', '성별'])\n"
     ]
    }
   ],
   "source": [
    "print('행 색인 정보')\n",
    "print(groupdata.index)"
   ]
  },
  {
   "cell_type": "code",
   "execution_count": 37,
   "id": "61a9a300",
   "metadata": {},
   "outputs": [
    {
     "data": {
      "text/plain": [
       "Index(['교통비', '교통비', '교통비', '출장기간', '출장기간'], dtype='object')"
      ]
     },
     "execution_count": 37,
     "metadata": {},
     "output_type": "execute_result"
    }
   ],
   "source": [
    "outer_column = groupdata.columns.get_level_values(0)\n",
    "outer_column"
   ]
  },
  {
   "cell_type": "code",
   "execution_count": 38,
   "id": "a7806725",
   "metadata": {},
   "outputs": [
    {
     "data": {
      "text/plain": [
       "Index(['sum', 'mean', 'max', 'mean', 'min'], dtype='object')"
      ]
     },
     "execution_count": 38,
     "metadata": {},
     "output_type": "execute_result"
    }
   ],
   "source": [
    "hangul_dict = {'sum':'총합', 'mean':'평균', 'max':'최대', 'min':'최소'}\n",
    "\n",
    "inner_column = groupdata.columns.get_level_values(1)\n",
    "inner_column"
   ]
  },
  {
   "cell_type": "markdown",
   "id": "6f01af41",
   "metadata": {},
   "source": [
    "<h3><font color='orange'>중첩 색인의 단일화</h3>"
   ]
  },
  {
   "cell_type": "code",
   "execution_count": 39,
   "id": "51011231",
   "metadata": {},
   "outputs": [
    {
     "data": {
      "text/plain": [
       "Index(['교통비_sum', '교통비_mean', '교통비_max', '출장기간_mean', '출장기간_min'], dtype='object')"
      ]
     },
     "execution_count": 39,
     "metadata": {},
     "output_type": "execute_result"
    }
   ],
   "source": [
    "groupdata.columns = outer_column + '_' + inner_column\n",
    "groupdata.columns"
   ]
  },
  {
   "cell_type": "code",
   "execution_count": 40,
   "id": "1b638eeb",
   "metadata": {},
   "outputs": [
    {
     "data": {
      "text/html": [
       "<div>\n",
       "<style scoped>\n",
       "    .dataframe tbody tr th:only-of-type {\n",
       "        vertical-align: middle;\n",
       "    }\n",
       "\n",
       "    .dataframe tbody tr th {\n",
       "        vertical-align: top;\n",
       "    }\n",
       "\n",
       "    .dataframe thead th {\n",
       "        text-align: right;\n",
       "    }\n",
       "</style>\n",
       "<table border=\"1\" class=\"dataframe\">\n",
       "  <thead>\n",
       "    <tr style=\"text-align: right;\">\n",
       "      <th></th>\n",
       "      <th>출장지역</th>\n",
       "      <th>성별</th>\n",
       "      <th>교통비_sum</th>\n",
       "      <th>교통비_mean</th>\n",
       "      <th>교통비_max</th>\n",
       "      <th>출장기간_mean</th>\n",
       "      <th>출장기간_min</th>\n",
       "    </tr>\n",
       "  </thead>\n",
       "  <tbody>\n",
       "    <tr>\n",
       "      <th>0</th>\n",
       "      <td>부산</td>\n",
       "      <td>남자</td>\n",
       "      <td>4000</td>\n",
       "      <td>2000</td>\n",
       "      <td>3000</td>\n",
       "      <td>4</td>\n",
       "      <td>3</td>\n",
       "    </tr>\n",
       "    <tr>\n",
       "      <th>1</th>\n",
       "      <td>부산</td>\n",
       "      <td>여자</td>\n",
       "      <td>5000</td>\n",
       "      <td>2500</td>\n",
       "      <td>4000</td>\n",
       "      <td>7</td>\n",
       "      <td>6</td>\n",
       "    </tr>\n",
       "    <tr>\n",
       "      <th>2</th>\n",
       "      <td>서울</td>\n",
       "      <td>남자</td>\n",
       "      <td>7000</td>\n",
       "      <td>3500</td>\n",
       "      <td>4000</td>\n",
       "      <td>6</td>\n",
       "      <td>6</td>\n",
       "    </tr>\n",
       "    <tr>\n",
       "      <th>3</th>\n",
       "      <td>서울</td>\n",
       "      <td>여자</td>\n",
       "      <td>6000</td>\n",
       "      <td>3000</td>\n",
       "      <td>4000</td>\n",
       "      <td>5</td>\n",
       "      <td>5</td>\n",
       "    </tr>\n",
       "  </tbody>\n",
       "</table>\n",
       "</div>"
      ],
      "text/plain": [
       "  출장지역  성별  교통비_sum  교통비_mean  교통비_max  출장기간_mean  출장기간_min\n",
       "0   부산  남자     4000      2000     3000          4         3\n",
       "1   부산  여자     5000      2500     4000          7         6\n",
       "2   서울  남자     7000      3500     4000          6         6\n",
       "3   서울  여자     6000      3000     4000          5         5"
      ]
     },
     "execution_count": 40,
     "metadata": {},
     "output_type": "execute_result"
    }
   ],
   "source": [
    "groupdata.reset_index().head()"
   ]
  },
  {
   "cell_type": "markdown",
   "id": "9b216d67",
   "metadata": {},
   "source": [
    "<h1>agg() 함수 커스터마이징</h1>"
   ]
  },
  {
   "cell_type": "markdown",
   "id": "ca4872ca",
   "metadata": {},
   "source": [
    "<h3><font color='orange'>그룹별 비율 함수</h3>"
   ]
  },
  {
   "cell_type": "code",
   "execution_count": 41,
   "id": "e066c265",
   "metadata": {},
   "outputs": [
    {
     "data": {
      "text/html": [
       "<div>\n",
       "<style scoped>\n",
       "    .dataframe tbody tr th:only-of-type {\n",
       "        vertical-align: middle;\n",
       "    }\n",
       "\n",
       "    .dataframe tbody tr th {\n",
       "        vertical-align: top;\n",
       "    }\n",
       "\n",
       "    .dataframe thead th {\n",
       "        text-align: right;\n",
       "    }\n",
       "</style>\n",
       "<table border=\"1\" class=\"dataframe\">\n",
       "  <thead>\n",
       "    <tr style=\"text-align: right;\">\n",
       "      <th></th>\n",
       "      <th>사원명</th>\n",
       "      <th>출장지역</th>\n",
       "      <th>출장기간</th>\n",
       "      <th>부서</th>\n",
       "      <th>성별</th>\n",
       "      <th>교통비</th>\n",
       "      <th>식비</th>\n",
       "    </tr>\n",
       "  </thead>\n",
       "  <tbody>\n",
       "    <tr>\n",
       "      <th>0</th>\n",
       "      <td>윤장혁</td>\n",
       "      <td>서울</td>\n",
       "      <td>7</td>\n",
       "      <td>영업부</td>\n",
       "      <td>남자</td>\n",
       "      <td>4000</td>\n",
       "      <td>2000</td>\n",
       "    </tr>\n",
       "    <tr>\n",
       "      <th>1</th>\n",
       "      <td>서문덕</td>\n",
       "      <td>서울</td>\n",
       "      <td>6</td>\n",
       "      <td>영업부</td>\n",
       "      <td>남자</td>\n",
       "      <td>3000</td>\n",
       "      <td>3000</td>\n",
       "    </tr>\n",
       "    <tr>\n",
       "      <th>2</th>\n",
       "      <td>이성진</td>\n",
       "      <td>부산</td>\n",
       "      <td>5</td>\n",
       "      <td>영업부</td>\n",
       "      <td>남자</td>\n",
       "      <td>3000</td>\n",
       "      <td>3000</td>\n",
       "    </tr>\n",
       "    <tr>\n",
       "      <th>3</th>\n",
       "      <td>강찬혁</td>\n",
       "      <td>부산</td>\n",
       "      <td>3</td>\n",
       "      <td>영업부</td>\n",
       "      <td>남자</td>\n",
       "      <td>1000</td>\n",
       "      <td>2000</td>\n",
       "    </tr>\n",
       "    <tr>\n",
       "      <th>4</th>\n",
       "      <td>신유석</td>\n",
       "      <td>서울</td>\n",
       "      <td>5</td>\n",
       "      <td>전산부</td>\n",
       "      <td>여자</td>\n",
       "      <td>2000</td>\n",
       "      <td>2000</td>\n",
       "    </tr>\n",
       "    <tr>\n",
       "      <th>5</th>\n",
       "      <td>유지혜</td>\n",
       "      <td>서울</td>\n",
       "      <td>5</td>\n",
       "      <td>전산부</td>\n",
       "      <td>여자</td>\n",
       "      <td>4000</td>\n",
       "      <td>1000</td>\n",
       "    </tr>\n",
       "    <tr>\n",
       "      <th>6</th>\n",
       "      <td>이유리</td>\n",
       "      <td>부산</td>\n",
       "      <td>8</td>\n",
       "      <td>전산부</td>\n",
       "      <td>여자</td>\n",
       "      <td>4000</td>\n",
       "      <td>1000</td>\n",
       "    </tr>\n",
       "    <tr>\n",
       "      <th>7</th>\n",
       "      <td>선진희</td>\n",
       "      <td>부산</td>\n",
       "      <td>6</td>\n",
       "      <td>전산부</td>\n",
       "      <td>여자</td>\n",
       "      <td>1000</td>\n",
       "      <td>4000</td>\n",
       "    </tr>\n",
       "  </tbody>\n",
       "</table>\n",
       "</div>"
      ],
      "text/plain": [
       "   사원명 출장지역  출장기간   부서  성별   교통비    식비\n",
       "0  윤장혁   서울     7  영업부  남자  4000  2000\n",
       "1  서문덕   서울     6  영업부  남자  3000  3000\n",
       "2  이성진   부산     5  영업부  남자  3000  3000\n",
       "3  강찬혁   부산     3  영업부  남자  1000  2000\n",
       "4  신유석   서울     5  전산부  여자  2000  2000\n",
       "5  유지혜   서울     5  전산부  여자  4000  1000\n",
       "6  이유리   부산     8  전산부  여자  4000  1000\n",
       "7  선진희   부산     6  전산부  여자  1000  4000"
      ]
     },
     "execution_count": 41,
     "metadata": {},
     "output_type": "execute_result"
    }
   ],
   "source": [
    "payment"
   ]
  },
  {
   "cell_type": "markdown",
   "id": "89d25148",
   "metadata": {},
   "source": [
    "<h3><font color='orange'>함수 만들기</h3>"
   ]
  },
  {
   "cell_type": "code",
   "execution_count": 42,
   "id": "28e75db3",
   "metadata": {},
   "outputs": [],
   "source": [
    "def get_range(x):\n",
    "    return x.between(1500,3500).mean()"
   ]
  },
  {
   "cell_type": "code",
   "execution_count": 43,
   "id": "3bbe7b3c",
   "metadata": {},
   "outputs": [
    {
     "data": {
      "text/plain": [
       "성별\n",
       "남자    0.50\n",
       "여자    0.25\n",
       "Name: 교통비, dtype: float64"
      ]
     },
     "execution_count": 43,
     "metadata": {},
     "output_type": "execute_result"
    }
   ],
   "source": [
    "result = payment.groupby(['성별'])['교통비'].agg(get_range)\n",
    "result"
   ]
  },
  {
   "cell_type": "markdown",
   "id": "36c33b06",
   "metadata": {},
   "source": [
    "<h3><font color='orange'>범용적 함수 만들기</h3>"
   ]
  },
  {
   "cell_type": "code",
   "execution_count": 44,
   "id": "f85c9e36",
   "metadata": {},
   "outputs": [],
   "source": [
    "def get_range_pct(x, lower, upper) :\n",
    "    return x.between(lower, upper).mean()"
   ]
  },
  {
   "cell_type": "code",
   "execution_count": 45,
   "id": "30592c40",
   "metadata": {},
   "outputs": [
    {
     "data": {
      "text/html": [
       "<div>\n",
       "<style scoped>\n",
       "    .dataframe tbody tr th:only-of-type {\n",
       "        vertical-align: middle;\n",
       "    }\n",
       "\n",
       "    .dataframe tbody tr th {\n",
       "        vertical-align: top;\n",
       "    }\n",
       "\n",
       "    .dataframe thead th {\n",
       "        text-align: right;\n",
       "    }\n",
       "</style>\n",
       "<table border=\"1\" class=\"dataframe\">\n",
       "  <thead>\n",
       "    <tr style=\"text-align: right;\">\n",
       "      <th></th>\n",
       "      <th>교통비</th>\n",
       "    </tr>\n",
       "    <tr>\n",
       "      <th>성별</th>\n",
       "      <th></th>\n",
       "    </tr>\n",
       "  </thead>\n",
       "  <tbody>\n",
       "    <tr>\n",
       "      <th>남자</th>\n",
       "      <td>0.50</td>\n",
       "    </tr>\n",
       "    <tr>\n",
       "      <th>여자</th>\n",
       "      <td>0.25</td>\n",
       "    </tr>\n",
       "  </tbody>\n",
       "</table>\n",
       "</div>"
      ],
      "text/plain": [
       "     교통비\n",
       "성별      \n",
       "남자  0.50\n",
       "여자  0.25"
      ]
     },
     "execution_count": 45,
     "metadata": {},
     "output_type": "execute_result"
    }
   ],
   "source": [
    "LOWER, UPPER = 1500, 3500\n",
    "\n",
    "# positional arguments\n",
    "result = payment.groupby(['성별'])['교통비'].agg(get_range_pct, LOWER, UPPER)\n",
    "result.to_frame()"
   ]
  },
  {
   "cell_type": "code",
   "execution_count": 46,
   "id": "66a8c78d",
   "metadata": {},
   "outputs": [
    {
     "data": {
      "text/html": [
       "<div>\n",
       "<style scoped>\n",
       "    .dataframe tbody tr th:only-of-type {\n",
       "        vertical-align: middle;\n",
       "    }\n",
       "\n",
       "    .dataframe tbody tr th {\n",
       "        vertical-align: top;\n",
       "    }\n",
       "\n",
       "    .dataframe thead th {\n",
       "        text-align: right;\n",
       "    }\n",
       "</style>\n",
       "<table border=\"1\" class=\"dataframe\">\n",
       "  <thead>\n",
       "    <tr style=\"text-align: right;\">\n",
       "      <th></th>\n",
       "      <th>교통비</th>\n",
       "    </tr>\n",
       "    <tr>\n",
       "      <th>성별</th>\n",
       "      <th></th>\n",
       "    </tr>\n",
       "  </thead>\n",
       "  <tbody>\n",
       "    <tr>\n",
       "      <th>남자</th>\n",
       "      <td>0.50</td>\n",
       "    </tr>\n",
       "    <tr>\n",
       "      <th>여자</th>\n",
       "      <td>0.25</td>\n",
       "    </tr>\n",
       "  </tbody>\n",
       "</table>\n",
       "</div>"
      ],
      "text/plain": [
       "     교통비\n",
       "성별      \n",
       "남자  0.50\n",
       "여자  0.25"
      ]
     },
     "execution_count": 46,
     "metadata": {},
     "output_type": "execute_result"
    }
   ],
   "source": [
    "# keyword arguments\n",
    "result = payment.groupby(['성별'])['교통비'].agg(get_range_pct, lower=LOWER, upper=UPPER)\n",
    "result.to_frame()"
   ]
  },
  {
   "cell_type": "markdown",
   "id": "d6d9dfdb",
   "metadata": {},
   "source": [
    "<h1>groupby 객체 살펴보기</h1>"
   ]
  },
  {
   "cell_type": "code",
   "execution_count": 52,
   "id": "8c56b08a",
   "metadata": {},
   "outputs": [
    {
     "data": {
      "text/plain": [
       "pandas.core.groupby.generic.DataFrameGroupBy"
      ]
     },
     "execution_count": 52,
     "metadata": {},
     "output_type": "execute_result"
    }
   ],
   "source": [
    "group_col = ['출장지역','성별','교통비']\n",
    "grouped = payment.groupby(group_col)\n",
    "type(grouped)"
   ]
  },
  {
   "cell_type": "code",
   "execution_count": 49,
   "id": "52362dfa",
   "metadata": {},
   "outputs": [],
   "source": [
    "# dir(grouped)"
   ]
  },
  {
   "cell_type": "code",
   "execution_count": 56,
   "id": "cd242c97",
   "metadata": {},
   "outputs": [
    {
     "data": {
      "text/plain": [
       "['clear',\n",
       " 'copy',\n",
       " 'fromkeys',\n",
       " 'get',\n",
       " 'items',\n",
       " 'keys',\n",
       " 'pop',\n",
       " 'popitem',\n",
       " 'setdefault',\n",
       " 'update',\n",
       " 'values']"
      ]
     },
     "execution_count": 56,
     "metadata": {},
     "output_type": "execute_result"
    }
   ],
   "source": [
    "attrlist = [attr for attr in dir(grouped.groups) if not attr.startswith('_')]\n",
    "attrlist"
   ]
  },
  {
   "cell_type": "code",
   "execution_count": 57,
   "id": "5c5e641f",
   "metadata": {},
   "outputs": [
    {
     "data": {
      "text/plain": [
       "'8'"
      ]
     },
     "execution_count": 57,
     "metadata": {},
     "output_type": "execute_result"
    }
   ],
   "source": [
    "str(grouped.ngroups)"
   ]
  },
  {
   "cell_type": "code",
   "execution_count": 58,
   "id": "68275d9b",
   "metadata": {},
   "outputs": [
    {
     "data": {
      "text/plain": [
       "{('부산', '남자', 1000): [3], ('부산', '남자', 3000): [2], ('부산', '여자', 1000): [7], ('부산', '여자', 4000): [6], ('서울', '남자', 3000): [1], ('서울', '남자', 4000): [0], ('서울', '여자', 2000): [4], ('서울', '여자', 4000): [5]}"
      ]
     },
     "execution_count": 58,
     "metadata": {},
     "output_type": "execute_result"
    }
   ],
   "source": [
    "grouped.groups"
   ]
  },
  {
   "cell_type": "code",
   "execution_count": 59,
   "id": "d315cb55",
   "metadata": {},
   "outputs": [
    {
     "data": {
      "text/html": [
       "<div>\n",
       "<style scoped>\n",
       "    .dataframe tbody tr th:only-of-type {\n",
       "        vertical-align: middle;\n",
       "    }\n",
       "\n",
       "    .dataframe tbody tr th {\n",
       "        vertical-align: top;\n",
       "    }\n",
       "\n",
       "    .dataframe thead th {\n",
       "        text-align: right;\n",
       "    }\n",
       "</style>\n",
       "<table border=\"1\" class=\"dataframe\">\n",
       "  <thead>\n",
       "    <tr style=\"text-align: right;\">\n",
       "      <th></th>\n",
       "      <th>출장지역</th>\n",
       "      <th>성별</th>\n",
       "      <th>교통비</th>\n",
       "    </tr>\n",
       "  </thead>\n",
       "  <tbody>\n",
       "    <tr>\n",
       "      <th>0</th>\n",
       "      <td>서울</td>\n",
       "      <td>남자</td>\n",
       "      <td>4000</td>\n",
       "    </tr>\n",
       "    <tr>\n",
       "      <th>1</th>\n",
       "      <td>서울</td>\n",
       "      <td>남자</td>\n",
       "      <td>3000</td>\n",
       "    </tr>\n",
       "    <tr>\n",
       "      <th>2</th>\n",
       "      <td>부산</td>\n",
       "      <td>남자</td>\n",
       "      <td>3000</td>\n",
       "    </tr>\n",
       "    <tr>\n",
       "      <th>3</th>\n",
       "      <td>부산</td>\n",
       "      <td>남자</td>\n",
       "      <td>1000</td>\n",
       "    </tr>\n",
       "    <tr>\n",
       "      <th>4</th>\n",
       "      <td>서울</td>\n",
       "      <td>여자</td>\n",
       "      <td>2000</td>\n",
       "    </tr>\n",
       "    <tr>\n",
       "      <th>5</th>\n",
       "      <td>서울</td>\n",
       "      <td>여자</td>\n",
       "      <td>4000</td>\n",
       "    </tr>\n",
       "    <tr>\n",
       "      <th>6</th>\n",
       "      <td>부산</td>\n",
       "      <td>여자</td>\n",
       "      <td>4000</td>\n",
       "    </tr>\n",
       "    <tr>\n",
       "      <th>7</th>\n",
       "      <td>부산</td>\n",
       "      <td>여자</td>\n",
       "      <td>1000</td>\n",
       "    </tr>\n",
       "  </tbody>\n",
       "</table>\n",
       "</div>"
      ],
      "text/plain": [
       "  출장지역  성별   교통비\n",
       "0   서울  남자  4000\n",
       "1   서울  남자  3000\n",
       "2   부산  남자  3000\n",
       "3   부산  남자  1000\n",
       "4   서울  여자  2000\n",
       "5   서울  여자  4000\n",
       "6   부산  여자  4000\n",
       "7   부산  여자  1000"
      ]
     },
     "execution_count": 59,
     "metadata": {},
     "output_type": "execute_result"
    }
   ],
   "source": [
    "payment[group_col]"
   ]
  },
  {
   "cell_type": "code",
   "execution_count": 60,
   "id": "044a981d",
   "metadata": {},
   "outputs": [
    {
     "data": {
      "text/html": [
       "<div>\n",
       "<style scoped>\n",
       "    .dataframe tbody tr th:only-of-type {\n",
       "        vertical-align: middle;\n",
       "    }\n",
       "\n",
       "    .dataframe tbody tr th {\n",
       "        vertical-align: top;\n",
       "    }\n",
       "\n",
       "    .dataframe thead th {\n",
       "        text-align: right;\n",
       "    }\n",
       "</style>\n",
       "<table border=\"1\" class=\"dataframe\">\n",
       "  <thead>\n",
       "    <tr style=\"text-align: right;\">\n",
       "      <th></th>\n",
       "      <th>사원명</th>\n",
       "      <th>출장지역</th>\n",
       "      <th>출장기간</th>\n",
       "      <th>부서</th>\n",
       "      <th>성별</th>\n",
       "      <th>교통비</th>\n",
       "      <th>식비</th>\n",
       "    </tr>\n",
       "  </thead>\n",
       "  <tbody>\n",
       "    <tr>\n",
       "      <th>3</th>\n",
       "      <td>강찬혁</td>\n",
       "      <td>부산</td>\n",
       "      <td>3</td>\n",
       "      <td>영업부</td>\n",
       "      <td>남자</td>\n",
       "      <td>1000</td>\n",
       "      <td>2000</td>\n",
       "    </tr>\n",
       "  </tbody>\n",
       "</table>\n",
       "</div>"
      ],
      "text/plain": [
       "   사원명 출장지역  출장기간   부서  성별   교통비    식비\n",
       "3  강찬혁   부산     3  영업부  남자  1000  2000"
      ]
     },
     "execution_count": 60,
     "metadata": {},
     "output_type": "execute_result"
    }
   ],
   "source": [
    "result = grouped.get_group(('부산','남자',1000))\n",
    "result"
   ]
  },
  {
   "cell_type": "code",
   "execution_count": 61,
   "id": "4ce282d7",
   "metadata": {},
   "outputs": [
    {
     "data": {
      "text/plain": [
       "pandas.core.frame.DataFrame"
      ]
     },
     "execution_count": 61,
     "metadata": {},
     "output_type": "execute_result"
    }
   ],
   "source": [
    "type(result)"
   ]
  },
  {
   "cell_type": "code",
   "execution_count": 64,
   "id": "246b6133",
   "metadata": {},
   "outputs": [
    {
     "data": {
      "text/plain": [
       "[('부산', '남자', 1000),\n",
       " ('부산', '남자', 3000),\n",
       " ('부산', '여자', 1000),\n",
       " ('부산', '여자', 4000),\n",
       " ('서울', '남자', 3000),\n",
       " ('서울', '남자', 4000),\n",
       " ('서울', '여자', 2000),\n",
       " ('서울', '여자', 4000)]"
      ]
     },
     "execution_count": 64,
     "metadata": {},
     "output_type": "execute_result"
    }
   ],
   "source": [
    "groups = list(grouped.groups.keys())\n",
    "groups"
   ]
  },
  {
   "cell_type": "code",
   "execution_count": 65,
   "id": "3eca4c62",
   "metadata": {},
   "outputs": [
    {
     "data": {
      "text/html": [
       "<div>\n",
       "<style scoped>\n",
       "    .dataframe tbody tr th:only-of-type {\n",
       "        vertical-align: middle;\n",
       "    }\n",
       "\n",
       "    .dataframe tbody tr th {\n",
       "        vertical-align: top;\n",
       "    }\n",
       "\n",
       "    .dataframe thead th {\n",
       "        text-align: right;\n",
       "    }\n",
       "</style>\n",
       "<table border=\"1\" class=\"dataframe\">\n",
       "  <thead>\n",
       "    <tr style=\"text-align: right;\">\n",
       "      <th></th>\n",
       "      <th>사원명</th>\n",
       "      <th>출장지역</th>\n",
       "      <th>출장기간</th>\n",
       "      <th>부서</th>\n",
       "      <th>성별</th>\n",
       "      <th>교통비</th>\n",
       "      <th>식비</th>\n",
       "    </tr>\n",
       "  </thead>\n",
       "  <tbody>\n",
       "    <tr>\n",
       "      <th>3</th>\n",
       "      <td>강찬혁</td>\n",
       "      <td>부산</td>\n",
       "      <td>3</td>\n",
       "      <td>영업부</td>\n",
       "      <td>남자</td>\n",
       "      <td>1000</td>\n",
       "      <td>2000</td>\n",
       "    </tr>\n",
       "  </tbody>\n",
       "</table>\n",
       "</div>"
      ],
      "text/plain": [
       "   사원명 출장지역  출장기간   부서  성별   교통비    식비\n",
       "3  강찬혁   부산     3  영업부  남자  1000  2000"
      ]
     },
     "execution_count": 65,
     "metadata": {},
     "output_type": "execute_result"
    }
   ],
   "source": [
    "result = grouped.get_group(('부산','남자',1000))\n",
    "result"
   ]
  },
  {
   "cell_type": "code",
   "execution_count": 66,
   "id": "270b2078",
   "metadata": {},
   "outputs": [
    {
     "name": "stdout",
     "output_type": "stream",
     "text": [
      "키 :('부산', '남자', 1000)\n",
      "값 : \n",
      "   사원명 출장지역  출장기간   부서  성별   교통비    식비\n",
      "3  강찬혁   부산     3  영업부  남자  1000  2000\n",
      "\n",
      "\n",
      "키 :('부산', '남자', 3000)\n",
      "값 : \n",
      "   사원명 출장지역  출장기간   부서  성별   교통비    식비\n",
      "2  이성진   부산     5  영업부  남자  3000  3000\n",
      "\n",
      "\n",
      "키 :('부산', '여자', 1000)\n",
      "값 : \n",
      "   사원명 출장지역  출장기간   부서  성별   교통비    식비\n",
      "7  선진희   부산     6  전산부  여자  1000  4000\n"
     ]
    }
   ],
   "source": [
    "cnt = 0\n",
    "\n",
    "for key,value in grouped:\n",
    "    print('키 :', end='')\n",
    "    print(key)\n",
    "    print('값 : \\n', end='')\n",
    "    print(value)\n",
    "    cnt += 1\n",
    "    if(cnt==3): break\n",
    "    print('\\n')\n",
    "# end for"
   ]
  },
  {
   "cell_type": "markdown",
   "id": "52696ea2",
   "metadata": {},
   "source": [
    "<h1>시험 성적 향상표 읽기</h1>"
   ]
  },
  {
   "cell_type": "code",
   "execution_count": 80,
   "id": "8470803a",
   "metadata": {},
   "outputs": [],
   "source": [
    "import pandas as pd\n",
    "import numpy as np"
   ]
  },
  {
   "cell_type": "code",
   "execution_count": 81,
   "id": "86287953",
   "metadata": {},
   "outputs": [
    {
     "name": "stdout",
     "output_type": "stream",
     "text": [
      "<class 'pandas.core.frame.DataFrame'>\n",
      "RangeIndex: 32 entries, 0 to 31\n",
      "Data columns (total 4 columns):\n",
      " #   Column  Non-Null Count  Dtype \n",
      "---  ------  --------------  ----- \n",
      " 0   이름      32 non-null     object\n",
      " 1   월       32 non-null     object\n",
      " 2   주       32 non-null     object\n",
      " 3   점수      32 non-null     int64 \n",
      "dtypes: int64(1), object(3)\n",
      "memory usage: 1.1+ KB\n",
      "None\n"
     ]
    }
   ],
   "source": [
    "jumsu_score = pd.read_csv('./../data/시험성적향상표.csv', encoding='cp949')\n",
    "print(jumsu_score.info())"
   ]
  },
  {
   "cell_type": "code",
   "execution_count": 82,
   "id": "2b51f8c0",
   "metadata": {},
   "outputs": [
    {
     "data": {
      "text/html": [
       "<div>\n",
       "<style scoped>\n",
       "    .dataframe tbody tr th:only-of-type {\n",
       "        vertical-align: middle;\n",
       "    }\n",
       "\n",
       "    .dataframe tbody tr th {\n",
       "        vertical-align: top;\n",
       "    }\n",
       "\n",
       "    .dataframe thead th {\n",
       "        text-align: right;\n",
       "    }\n",
       "</style>\n",
       "<table border=\"1\" class=\"dataframe\">\n",
       "  <thead>\n",
       "    <tr style=\"text-align: right;\">\n",
       "      <th></th>\n",
       "      <th>이름</th>\n",
       "      <th>월</th>\n",
       "      <th>주</th>\n",
       "      <th>점수</th>\n",
       "    </tr>\n",
       "  </thead>\n",
       "  <tbody>\n",
       "    <tr>\n",
       "      <th>0</th>\n",
       "      <td>김철수</td>\n",
       "      <td>1월</td>\n",
       "      <td>1주차</td>\n",
       "      <td>64</td>\n",
       "    </tr>\n",
       "    <tr>\n",
       "      <th>1</th>\n",
       "      <td>김철수</td>\n",
       "      <td>1월</td>\n",
       "      <td>2주차</td>\n",
       "      <td>65</td>\n",
       "    </tr>\n",
       "    <tr>\n",
       "      <th>2</th>\n",
       "      <td>김철수</td>\n",
       "      <td>1월</td>\n",
       "      <td>3주차</td>\n",
       "      <td>67</td>\n",
       "    </tr>\n",
       "    <tr>\n",
       "      <th>3</th>\n",
       "      <td>김철수</td>\n",
       "      <td>1월</td>\n",
       "      <td>4주차</td>\n",
       "      <td>67</td>\n",
       "    </tr>\n",
       "    <tr>\n",
       "      <th>4</th>\n",
       "      <td>김철수</td>\n",
       "      <td>2월</td>\n",
       "      <td>1주차</td>\n",
       "      <td>61</td>\n",
       "    </tr>\n",
       "    <tr>\n",
       "      <th>5</th>\n",
       "      <td>김철수</td>\n",
       "      <td>2월</td>\n",
       "      <td>2주차</td>\n",
       "      <td>62</td>\n",
       "    </tr>\n",
       "    <tr>\n",
       "      <th>6</th>\n",
       "      <td>김철수</td>\n",
       "      <td>2월</td>\n",
       "      <td>3주차</td>\n",
       "      <td>63</td>\n",
       "    </tr>\n",
       "    <tr>\n",
       "      <th>7</th>\n",
       "      <td>김철수</td>\n",
       "      <td>2월</td>\n",
       "      <td>4주차</td>\n",
       "      <td>64</td>\n",
       "    </tr>\n",
       "    <tr>\n",
       "      <th>8</th>\n",
       "      <td>김철수</td>\n",
       "      <td>3월</td>\n",
       "      <td>1주차</td>\n",
       "      <td>55</td>\n",
       "    </tr>\n",
       "    <tr>\n",
       "      <th>9</th>\n",
       "      <td>김철수</td>\n",
       "      <td>3월</td>\n",
       "      <td>2주차</td>\n",
       "      <td>55</td>\n",
       "    </tr>\n",
       "  </tbody>\n",
       "</table>\n",
       "</div>"
      ],
      "text/plain": [
       "    이름   월    주  점수\n",
       "0  김철수  1월  1주차  64\n",
       "1  김철수  1월  2주차  65\n",
       "2  김철수  1월  3주차  67\n",
       "3  김철수  1월  4주차  67\n",
       "4  김철수  2월  1주차  61\n",
       "5  김철수  2월  2주차  62\n",
       "6  김철수  2월  3주차  63\n",
       "7  김철수  2월  4주차  64\n",
       "8  김철수  3월  1주차  55\n",
       "9  김철수  3월  2주차  55"
      ]
     },
     "execution_count": 82,
     "metadata": {},
     "output_type": "execute_result"
    }
   ],
   "source": [
    "jumsu_score.head(10)"
   ]
  },
  {
   "cell_type": "code",
   "execution_count": 83,
   "id": "d8317387",
   "metadata": {},
   "outputs": [
    {
     "data": {
      "text/html": [
       "<div>\n",
       "<style scoped>\n",
       "    .dataframe tbody tr th:only-of-type {\n",
       "        vertical-align: middle;\n",
       "    }\n",
       "\n",
       "    .dataframe tbody tr th {\n",
       "        vertical-align: top;\n",
       "    }\n",
       "\n",
       "    .dataframe thead th {\n",
       "        text-align: right;\n",
       "    }\n",
       "</style>\n",
       "<table border=\"1\" class=\"dataframe\">\n",
       "  <thead>\n",
       "    <tr style=\"text-align: right;\">\n",
       "      <th></th>\n",
       "      <th>이름</th>\n",
       "      <th>월</th>\n",
       "      <th>주</th>\n",
       "      <th>점수</th>\n",
       "    </tr>\n",
       "  </thead>\n",
       "  <tbody>\n",
       "    <tr>\n",
       "      <th>0</th>\n",
       "      <td>김철수</td>\n",
       "      <td>1월</td>\n",
       "      <td>1주차</td>\n",
       "      <td>64</td>\n",
       "    </tr>\n",
       "    <tr>\n",
       "      <th>1</th>\n",
       "      <td>김철수</td>\n",
       "      <td>1월</td>\n",
       "      <td>2주차</td>\n",
       "      <td>65</td>\n",
       "    </tr>\n",
       "    <tr>\n",
       "      <th>2</th>\n",
       "      <td>김철수</td>\n",
       "      <td>1월</td>\n",
       "      <td>3주차</td>\n",
       "      <td>67</td>\n",
       "    </tr>\n",
       "    <tr>\n",
       "      <th>3</th>\n",
       "      <td>김철수</td>\n",
       "      <td>1월</td>\n",
       "      <td>4주차</td>\n",
       "      <td>67</td>\n",
       "    </tr>\n",
       "    <tr>\n",
       "      <th>16</th>\n",
       "      <td>박영희</td>\n",
       "      <td>1월</td>\n",
       "      <td>1주차</td>\n",
       "      <td>78</td>\n",
       "    </tr>\n",
       "    <tr>\n",
       "      <th>17</th>\n",
       "      <td>박영희</td>\n",
       "      <td>1월</td>\n",
       "      <td>2주차</td>\n",
       "      <td>79</td>\n",
       "    </tr>\n",
       "    <tr>\n",
       "      <th>18</th>\n",
       "      <td>박영희</td>\n",
       "      <td>1월</td>\n",
       "      <td>3주차</td>\n",
       "      <td>81</td>\n",
       "    </tr>\n",
       "    <tr>\n",
       "      <th>19</th>\n",
       "      <td>박영희</td>\n",
       "      <td>1월</td>\n",
       "      <td>4주차</td>\n",
       "      <td>82</td>\n",
       "    </tr>\n",
       "  </tbody>\n",
       "</table>\n",
       "</div>"
      ],
      "text/plain": [
       "     이름   월    주  점수\n",
       "0   김철수  1월  1주차  64\n",
       "1   김철수  1월  2주차  65\n",
       "2   김철수  1월  3주차  67\n",
       "3   김철수  1월  4주차  67\n",
       "16  박영희  1월  1주차  78\n",
       "17  박영희  1월  2주차  79\n",
       "18  박영희  1월  3주차  81\n",
       "19  박영희  1월  4주차  82"
      ]
     },
     "execution_count": 83,
     "metadata": {},
     "output_type": "execute_result"
    }
   ],
   "source": [
    "result = jumsu_score.query('월 == \"1월\"')\n",
    "result"
   ]
  },
  {
   "cell_type": "code",
   "execution_count": 84,
   "id": "14515250",
   "metadata": {},
   "outputs": [
    {
     "data": {
      "text/html": [
       "<div>\n",
       "<style scoped>\n",
       "    .dataframe tbody tr th:only-of-type {\n",
       "        vertical-align: middle;\n",
       "    }\n",
       "\n",
       "    .dataframe tbody tr th {\n",
       "        vertical-align: top;\n",
       "    }\n",
       "\n",
       "    .dataframe thead th {\n",
       "        text-align: right;\n",
       "    }\n",
       "</style>\n",
       "<table border=\"1\" class=\"dataframe\">\n",
       "  <thead>\n",
       "    <tr style=\"text-align: right;\">\n",
       "      <th></th>\n",
       "      <th>이름</th>\n",
       "      <th>월</th>\n",
       "      <th>주</th>\n",
       "      <th>점수</th>\n",
       "    </tr>\n",
       "  </thead>\n",
       "  <tbody>\n",
       "    <tr>\n",
       "      <th>0</th>\n",
       "      <td>김철수</td>\n",
       "      <td>1월</td>\n",
       "      <td>1주차</td>\n",
       "      <td>64</td>\n",
       "    </tr>\n",
       "    <tr>\n",
       "      <th>1</th>\n",
       "      <td>김철수</td>\n",
       "      <td>1월</td>\n",
       "      <td>2주차</td>\n",
       "      <td>65</td>\n",
       "    </tr>\n",
       "    <tr>\n",
       "      <th>2</th>\n",
       "      <td>김철수</td>\n",
       "      <td>1월</td>\n",
       "      <td>3주차</td>\n",
       "      <td>67</td>\n",
       "    </tr>\n",
       "    <tr>\n",
       "      <th>3</th>\n",
       "      <td>김철수</td>\n",
       "      <td>1월</td>\n",
       "      <td>4주차</td>\n",
       "      <td>67</td>\n",
       "    </tr>\n",
       "  </tbody>\n",
       "</table>\n",
       "</div>"
      ],
      "text/plain": [
       "    이름   월    주  점수\n",
       "0  김철수  1월  1주차  64\n",
       "1  김철수  1월  2주차  65\n",
       "2  김철수  1월  3주차  67\n",
       "3  김철수  1월  4주차  67"
      ]
     },
     "execution_count": 84,
     "metadata": {},
     "output_type": "execute_result"
    }
   ],
   "source": [
    "man = jumsu_score.query('이름==\"김철수\" and 월 in [\"1월\"]')\n",
    "man"
   ]
  },
  {
   "cell_type": "code",
   "execution_count": 85,
   "id": "34841dbd",
   "metadata": {},
   "outputs": [
    {
     "data": {
      "text/html": [
       "<div>\n",
       "<style scoped>\n",
       "    .dataframe tbody tr th:only-of-type {\n",
       "        vertical-align: middle;\n",
       "    }\n",
       "\n",
       "    .dataframe tbody tr th {\n",
       "        vertical-align: top;\n",
       "    }\n",
       "\n",
       "    .dataframe thead th {\n",
       "        text-align: right;\n",
       "    }\n",
       "</style>\n",
       "<table border=\"1\" class=\"dataframe\">\n",
       "  <thead>\n",
       "    <tr style=\"text-align: right;\">\n",
       "      <th></th>\n",
       "      <th>점수</th>\n",
       "    </tr>\n",
       "  </thead>\n",
       "  <tbody>\n",
       "    <tr>\n",
       "      <th>0</th>\n",
       "      <td>64</td>\n",
       "    </tr>\n",
       "    <tr>\n",
       "      <th>1</th>\n",
       "      <td>65</td>\n",
       "    </tr>\n",
       "    <tr>\n",
       "      <th>2</th>\n",
       "      <td>67</td>\n",
       "    </tr>\n",
       "    <tr>\n",
       "      <th>3</th>\n",
       "      <td>67</td>\n",
       "    </tr>\n",
       "  </tbody>\n",
       "</table>\n",
       "</div>"
      ],
      "text/plain": [
       "   점수\n",
       "0  64\n",
       "1  65\n",
       "2  67\n",
       "3  67"
      ]
     },
     "execution_count": 85,
     "metadata": {},
     "output_type": "execute_result"
    }
   ],
   "source": [
    "man['점수'].to_frame()"
   ]
  },
  {
   "cell_type": "code",
   "execution_count": 92,
   "id": "6d213dc3",
   "metadata": {},
   "outputs": [],
   "source": [
    "def jumsu_rate(jumsu):\n",
    "    # x는 매주의 시험 점수, x.iloc[0]는 첫 주의 시험 점수\n",
    "    return 100 * (jumsu - jumsu.iloc[0]) / jumsu.iloc[0]"
   ]
  },
  {
   "cell_type": "code",
   "execution_count": 93,
   "id": "f76114cc",
   "metadata": {},
   "outputs": [
    {
     "data": {
      "text/html": [
       "<div>\n",
       "<style scoped>\n",
       "    .dataframe tbody tr th:only-of-type {\n",
       "        vertical-align: middle;\n",
       "    }\n",
       "\n",
       "    .dataframe tbody tr th {\n",
       "        vertical-align: top;\n",
       "    }\n",
       "\n",
       "    .dataframe thead th {\n",
       "        text-align: right;\n",
       "    }\n",
       "</style>\n",
       "<table border=\"1\" class=\"dataframe\">\n",
       "  <thead>\n",
       "    <tr style=\"text-align: right;\">\n",
       "      <th></th>\n",
       "      <th>점수</th>\n",
       "    </tr>\n",
       "  </thead>\n",
       "  <tbody>\n",
       "    <tr>\n",
       "      <th>0</th>\n",
       "      <td>0.0000</td>\n",
       "    </tr>\n",
       "    <tr>\n",
       "      <th>1</th>\n",
       "      <td>1.5625</td>\n",
       "    </tr>\n",
       "    <tr>\n",
       "      <th>2</th>\n",
       "      <td>4.6875</td>\n",
       "    </tr>\n",
       "    <tr>\n",
       "      <th>3</th>\n",
       "      <td>4.6875</td>\n",
       "    </tr>\n",
       "  </tbody>\n",
       "</table>\n",
       "</div>"
      ],
      "text/plain": [
       "       점수\n",
       "0  0.0000\n",
       "1  1.5625\n",
       "2  4.6875\n",
       "3  4.6875"
      ]
     },
     "execution_count": 93,
     "metadata": {},
     "output_type": "execute_result"
    }
   ],
   "source": [
    "result = jumsu_rate(man['점수'])\n",
    "result.to_frame()"
   ]
  },
  {
   "cell_type": "code",
   "execution_count": 94,
   "id": "2362c9b4",
   "metadata": {},
   "outputs": [
    {
     "data": {
      "text/html": [
       "<div>\n",
       "<style scoped>\n",
       "    .dataframe tbody tr th:only-of-type {\n",
       "        vertical-align: middle;\n",
       "    }\n",
       "\n",
       "    .dataframe tbody tr th {\n",
       "        vertical-align: top;\n",
       "    }\n",
       "\n",
       "    .dataframe thead th {\n",
       "        text-align: right;\n",
       "    }\n",
       "</style>\n",
       "<table border=\"1\" class=\"dataframe\">\n",
       "  <thead>\n",
       "    <tr style=\"text-align: right;\">\n",
       "      <th></th>\n",
       "      <th>점수</th>\n",
       "    </tr>\n",
       "  </thead>\n",
       "  <tbody>\n",
       "    <tr>\n",
       "      <th>0</th>\n",
       "      <td>0.000000</td>\n",
       "    </tr>\n",
       "    <tr>\n",
       "      <th>1</th>\n",
       "      <td>1.562500</td>\n",
       "    </tr>\n",
       "    <tr>\n",
       "      <th>2</th>\n",
       "      <td>4.687500</td>\n",
       "    </tr>\n",
       "    <tr>\n",
       "      <th>3</th>\n",
       "      <td>4.687500</td>\n",
       "    </tr>\n",
       "    <tr>\n",
       "      <th>4</th>\n",
       "      <td>0.000000</td>\n",
       "    </tr>\n",
       "    <tr>\n",
       "      <th>5</th>\n",
       "      <td>1.639344</td>\n",
       "    </tr>\n",
       "    <tr>\n",
       "      <th>6</th>\n",
       "      <td>3.278689</td>\n",
       "    </tr>\n",
       "    <tr>\n",
       "      <th>7</th>\n",
       "      <td>4.918033</td>\n",
       "    </tr>\n",
       "  </tbody>\n",
       "</table>\n",
       "</div>"
      ],
      "text/plain": [
       "         점수\n",
       "0  0.000000\n",
       "1  1.562500\n",
       "2  4.687500\n",
       "3  4.687500\n",
       "4  0.000000\n",
       "5  1.639344\n",
       "6  3.278689\n",
       "7  4.918033"
      ]
     },
     "execution_count": 94,
     "metadata": {},
     "output_type": "execute_result"
    }
   ],
   "source": [
    "pct_jumsu_score = jumsu_score.groupby(['이름','월'])['점수'].transform(jumsu_rate)\n",
    "result = pct_jumsu_score.head(8)\n",
    "result.to_frame()"
   ]
  },
  {
   "cell_type": "code",
   "execution_count": 95,
   "id": "89688668",
   "metadata": {},
   "outputs": [
    {
     "data": {
      "text/html": [
       "<div>\n",
       "<style scoped>\n",
       "    .dataframe tbody tr th:only-of-type {\n",
       "        vertical-align: middle;\n",
       "    }\n",
       "\n",
       "    .dataframe tbody tr th {\n",
       "        vertical-align: top;\n",
       "    }\n",
       "\n",
       "    .dataframe thead th {\n",
       "        text-align: right;\n",
       "    }\n",
       "</style>\n",
       "<table border=\"1\" class=\"dataframe\">\n",
       "  <thead>\n",
       "    <tr style=\"text-align: right;\">\n",
       "      <th></th>\n",
       "      <th>이름</th>\n",
       "      <th>월</th>\n",
       "      <th>주</th>\n",
       "      <th>점수</th>\n",
       "      <th>향상_비율</th>\n",
       "    </tr>\n",
       "  </thead>\n",
       "  <tbody>\n",
       "    <tr>\n",
       "      <th>0</th>\n",
       "      <td>김철수</td>\n",
       "      <td>1월</td>\n",
       "      <td>1주차</td>\n",
       "      <td>64</td>\n",
       "      <td>0.0000</td>\n",
       "    </tr>\n",
       "    <tr>\n",
       "      <th>1</th>\n",
       "      <td>김철수</td>\n",
       "      <td>1월</td>\n",
       "      <td>2주차</td>\n",
       "      <td>65</td>\n",
       "      <td>1.5625</td>\n",
       "    </tr>\n",
       "    <tr>\n",
       "      <th>2</th>\n",
       "      <td>김철수</td>\n",
       "      <td>1월</td>\n",
       "      <td>3주차</td>\n",
       "      <td>67</td>\n",
       "      <td>4.6875</td>\n",
       "    </tr>\n",
       "    <tr>\n",
       "      <th>3</th>\n",
       "      <td>김철수</td>\n",
       "      <td>1월</td>\n",
       "      <td>4주차</td>\n",
       "      <td>67</td>\n",
       "      <td>4.6875</td>\n",
       "    </tr>\n",
       "    <tr>\n",
       "      <th>4</th>\n",
       "      <td>김철수</td>\n",
       "      <td>2월</td>\n",
       "      <td>1주차</td>\n",
       "      <td>61</td>\n",
       "      <td>0.0000</td>\n",
       "    </tr>\n",
       "    <tr>\n",
       "      <th>5</th>\n",
       "      <td>김철수</td>\n",
       "      <td>2월</td>\n",
       "      <td>2주차</td>\n",
       "      <td>62</td>\n",
       "      <td>1.6393</td>\n",
       "    </tr>\n",
       "    <tr>\n",
       "      <th>6</th>\n",
       "      <td>김철수</td>\n",
       "      <td>2월</td>\n",
       "      <td>3주차</td>\n",
       "      <td>63</td>\n",
       "      <td>3.2787</td>\n",
       "    </tr>\n",
       "    <tr>\n",
       "      <th>7</th>\n",
       "      <td>김철수</td>\n",
       "      <td>2월</td>\n",
       "      <td>4주차</td>\n",
       "      <td>64</td>\n",
       "      <td>4.9180</td>\n",
       "    </tr>\n",
       "  </tbody>\n",
       "</table>\n",
       "</div>"
      ],
      "text/plain": [
       "    이름   월    주  점수   향상_비율\n",
       "0  김철수  1월  1주차  64  0.0000\n",
       "1  김철수  1월  2주차  65  1.5625\n",
       "2  김철수  1월  3주차  67  4.6875\n",
       "3  김철수  1월  4주차  67  4.6875\n",
       "4  김철수  2월  1주차  61  0.0000\n",
       "5  김철수  2월  2주차  62  1.6393\n",
       "6  김철수  2월  3주차  63  3.2787\n",
       "7  김철수  2월  4주차  64  4.9180"
      ]
     },
     "execution_count": 95,
     "metadata": {},
     "output_type": "execute_result"
    }
   ],
   "source": [
    "jumsu_score['향상_비율'] = pct_jumsu_score.round(4)\n",
    "result = jumsu_score.query('이름==\"김철수\"')\n",
    "result.head(8)"
   ]
  },
  {
   "cell_type": "code",
   "execution_count": 96,
   "id": "b6e7e625",
   "metadata": {},
   "outputs": [
    {
     "data": {
      "text/html": [
       "<div>\n",
       "<style scoped>\n",
       "    .dataframe tbody tr th:only-of-type {\n",
       "        vertical-align: middle;\n",
       "    }\n",
       "\n",
       "    .dataframe tbody tr th {\n",
       "        vertical-align: top;\n",
       "    }\n",
       "\n",
       "    .dataframe thead th {\n",
       "        text-align: right;\n",
       "    }\n",
       "</style>\n",
       "<table border=\"1\" class=\"dataframe\">\n",
       "  <thead>\n",
       "    <tr style=\"text-align: right;\">\n",
       "      <th></th>\n",
       "      <th>이름</th>\n",
       "      <th>월</th>\n",
       "      <th>주</th>\n",
       "      <th>점수</th>\n",
       "      <th>향상_비율</th>\n",
       "    </tr>\n",
       "  </thead>\n",
       "  <tbody>\n",
       "    <tr>\n",
       "      <th>3</th>\n",
       "      <td>김철수</td>\n",
       "      <td>1월</td>\n",
       "      <td>4주차</td>\n",
       "      <td>67</td>\n",
       "      <td>4.6875</td>\n",
       "    </tr>\n",
       "    <tr>\n",
       "      <th>7</th>\n",
       "      <td>김철수</td>\n",
       "      <td>2월</td>\n",
       "      <td>4주차</td>\n",
       "      <td>64</td>\n",
       "      <td>4.9180</td>\n",
       "    </tr>\n",
       "    <tr>\n",
       "      <th>11</th>\n",
       "      <td>김철수</td>\n",
       "      <td>3월</td>\n",
       "      <td>4주차</td>\n",
       "      <td>55</td>\n",
       "      <td>0.0000</td>\n",
       "    </tr>\n",
       "    <tr>\n",
       "      <th>15</th>\n",
       "      <td>김철수</td>\n",
       "      <td>4월</td>\n",
       "      <td>4주차</td>\n",
       "      <td>54</td>\n",
       "      <td>1.8868</td>\n",
       "    </tr>\n",
       "    <tr>\n",
       "      <th>19</th>\n",
       "      <td>박영희</td>\n",
       "      <td>1월</td>\n",
       "      <td>4주차</td>\n",
       "      <td>82</td>\n",
       "      <td>5.1282</td>\n",
       "    </tr>\n",
       "    <tr>\n",
       "      <th>23</th>\n",
       "      <td>박영희</td>\n",
       "      <td>2월</td>\n",
       "      <td>4주차</td>\n",
       "      <td>89</td>\n",
       "      <td>5.9524</td>\n",
       "    </tr>\n",
       "    <tr>\n",
       "      <th>27</th>\n",
       "      <td>박영희</td>\n",
       "      <td>3월</td>\n",
       "      <td>4주차</td>\n",
       "      <td>84</td>\n",
       "      <td>2.4390</td>\n",
       "    </tr>\n",
       "    <tr>\n",
       "      <th>31</th>\n",
       "      <td>박영희</td>\n",
       "      <td>4월</td>\n",
       "      <td>4주차</td>\n",
       "      <td>88</td>\n",
       "      <td>3.5294</td>\n",
       "    </tr>\n",
       "  </tbody>\n",
       "</table>\n",
       "</div>"
      ],
      "text/plain": [
       "     이름   월    주  점수   향상_비율\n",
       "3   김철수  1월  4주차  67  4.6875\n",
       "7   김철수  2월  4주차  64  4.9180\n",
       "11  김철수  3월  4주차  55  0.0000\n",
       "15  김철수  4월  4주차  54  1.8868\n",
       "19  박영희  1월  4주차  82  5.1282\n",
       "23  박영희  2월  4주차  89  5.9524\n",
       "27  박영희  3월  4주차  84  2.4390\n",
       "31  박영희  4월  4주차  88  3.5294"
      ]
     },
     "execution_count": 96,
     "metadata": {},
     "output_type": "execute_result"
    }
   ],
   "source": [
    "week4 = jumsu_score.query('주==\"4주차\"')\n",
    "week4"
   ]
  },
  {
   "cell_type": "code",
   "execution_count": 98,
   "id": "86158bf8",
   "metadata": {},
   "outputs": [
    {
     "name": "stdout",
     "output_type": "stream",
     "text": [
      "['1월' '2월' '3월' '4월']\n"
     ]
    }
   ],
   "source": [
    "week4copy = week4.copy()\n",
    "month_unique = week4copy['월'].unique()\n",
    "print(month_unique)"
   ]
  },
  {
   "cell_type": "code",
   "execution_count": 99,
   "id": "3e25cd31",
   "metadata": {},
   "outputs": [
    {
     "data": {
      "text/plain": [
       "'object'"
      ]
     },
     "execution_count": 99,
     "metadata": {},
     "output_type": "execute_result"
    }
   ],
   "source": [
    "str(week4copy['월'].dtypes)"
   ]
  },
  {
   "cell_type": "code",
   "execution_count": 100,
   "id": "6d3eace3",
   "metadata": {},
   "outputs": [
    {
     "data": {
      "text/html": [
       "<div>\n",
       "<style scoped>\n",
       "    .dataframe tbody tr th:only-of-type {\n",
       "        vertical-align: middle;\n",
       "    }\n",
       "\n",
       "    .dataframe tbody tr th {\n",
       "        vertical-align: top;\n",
       "    }\n",
       "\n",
       "    .dataframe thead th {\n",
       "        text-align: right;\n",
       "    }\n",
       "</style>\n",
       "<table border=\"1\" class=\"dataframe\">\n",
       "  <thead>\n",
       "    <tr style=\"text-align: right;\">\n",
       "      <th>이름</th>\n",
       "      <th>김철수</th>\n",
       "      <th>박영희</th>\n",
       "    </tr>\n",
       "    <tr>\n",
       "      <th>월</th>\n",
       "      <th></th>\n",
       "      <th></th>\n",
       "    </tr>\n",
       "  </thead>\n",
       "  <tbody>\n",
       "    <tr>\n",
       "      <th>1월</th>\n",
       "      <td>4.6875</td>\n",
       "      <td>5.1282</td>\n",
       "    </tr>\n",
       "    <tr>\n",
       "      <th>2월</th>\n",
       "      <td>4.9180</td>\n",
       "      <td>5.9524</td>\n",
       "    </tr>\n",
       "    <tr>\n",
       "      <th>3월</th>\n",
       "      <td>0.0000</td>\n",
       "      <td>2.4390</td>\n",
       "    </tr>\n",
       "    <tr>\n",
       "      <th>4월</th>\n",
       "      <td>1.8868</td>\n",
       "      <td>3.5294</td>\n",
       "    </tr>\n",
       "  </tbody>\n",
       "</table>\n",
       "</div>"
      ],
      "text/plain": [
       "이름     김철수     박영희\n",
       "월                 \n",
       "1월  4.6875  5.1282\n",
       "2월  4.9180  5.9524\n",
       "3월  0.0000  2.4390\n",
       "4월  1.8868  3.5294"
      ]
     },
     "execution_count": 100,
     "metadata": {},
     "output_type": "execute_result"
    }
   ],
   "source": [
    "winner = week4copy.pivot(index='월', columns='이름', values='향상_비율')\n",
    "winner"
   ]
  },
  {
   "cell_type": "code",
   "execution_count": 101,
   "id": "26eafa76",
   "metadata": {},
   "outputs": [
    {
     "data": {
      "text/html": [
       "<div>\n",
       "<style scoped>\n",
       "    .dataframe tbody tr th:only-of-type {\n",
       "        vertical-align: middle;\n",
       "    }\n",
       "\n",
       "    .dataframe tbody tr th {\n",
       "        vertical-align: top;\n",
       "    }\n",
       "\n",
       "    .dataframe thead th {\n",
       "        text-align: right;\n",
       "    }\n",
       "</style>\n",
       "<table border=\"1\" class=\"dataframe\">\n",
       "  <thead>\n",
       "    <tr style=\"text-align: right;\">\n",
       "      <th>이름</th>\n",
       "      <th>김철수</th>\n",
       "      <th>박영희</th>\n",
       "      <th>성적우수자</th>\n",
       "    </tr>\n",
       "    <tr>\n",
       "      <th>월</th>\n",
       "      <th></th>\n",
       "      <th></th>\n",
       "      <th></th>\n",
       "    </tr>\n",
       "  </thead>\n",
       "  <tbody>\n",
       "    <tr>\n",
       "      <th>1월</th>\n",
       "      <td>4.6875</td>\n",
       "      <td>5.1282</td>\n",
       "      <td>박영희</td>\n",
       "    </tr>\n",
       "    <tr>\n",
       "      <th>2월</th>\n",
       "      <td>4.9180</td>\n",
       "      <td>5.9524</td>\n",
       "      <td>박영희</td>\n",
       "    </tr>\n",
       "    <tr>\n",
       "      <th>3월</th>\n",
       "      <td>0.0000</td>\n",
       "      <td>2.4390</td>\n",
       "      <td>박영희</td>\n",
       "    </tr>\n",
       "    <tr>\n",
       "      <th>4월</th>\n",
       "      <td>1.8868</td>\n",
       "      <td>3.5294</td>\n",
       "      <td>박영희</td>\n",
       "    </tr>\n",
       "  </tbody>\n",
       "</table>\n",
       "</div>"
      ],
      "text/plain": [
       "이름     김철수     박영희 성적우수자\n",
       "월                       \n",
       "1월  4.6875  5.1282   박영희\n",
       "2월  4.9180  5.9524   박영희\n",
       "3월  0.0000  2.4390   박영희\n",
       "4월  1.8868  3.5294   박영희"
      ]
     },
     "execution_count": 101,
     "metadata": {},
     "output_type": "execute_result"
    }
   ],
   "source": [
    "winner['성적우수자'] = np.where(winner['김철수'] > winner['박영희'], '김철수','박영희')\n",
    "winner"
   ]
  },
  {
   "cell_type": "markdown",
   "id": "71808d1c",
   "metadata": {},
   "source": [
    "<h1>연속형 변수의 범주화와 그룹핑</h1>"
   ]
  },
  {
   "cell_type": "code",
   "execution_count": 107,
   "id": "5d8c0e70",
   "metadata": {},
   "outputs": [
    {
     "data": {
      "text/plain": [
       "Index(['성별', '생일', '결혼 유무', '종교 유무', '직업 코드', '소득', '지역구', '나이', '직업', '연령대',\n",
       "       '점수', '신용'],\n",
       "      dtype='object')"
      ]
     },
     "execution_count": 107,
     "metadata": {},
     "output_type": "execute_result"
    }
   ],
   "source": [
    "welfare = pd.read_csv('./../data/welfareCleanNew.csv', encoding='cp949')\n",
    "welfare.columns"
   ]
  },
  {
   "cell_type": "code",
   "execution_count": 118,
   "id": "534f7be6",
   "metadata": {},
   "outputs": [
    {
     "data": {
      "text/plain": [
       "array(['무응답', '이혼', '결혼'], dtype=object)"
      ]
     },
     "execution_count": 118,
     "metadata": {},
     "output_type": "execute_result"
    }
   ],
   "source": [
    "welfare['결혼 유무'].unique()"
   ]
  },
  {
   "cell_type": "code",
   "execution_count": 119,
   "id": "5d1d9831",
   "metadata": {},
   "outputs": [
    {
     "data": {
      "text/html": [
       "<div>\n",
       "<style scoped>\n",
       "    .dataframe tbody tr th:only-of-type {\n",
       "        vertical-align: middle;\n",
       "    }\n",
       "\n",
       "    .dataframe tbody tr th {\n",
       "        vertical-align: top;\n",
       "    }\n",
       "\n",
       "    .dataframe thead th {\n",
       "        text-align: right;\n",
       "    }\n",
       "</style>\n",
       "<table border=\"1\" class=\"dataframe\">\n",
       "  <thead>\n",
       "    <tr style=\"text-align: right;\">\n",
       "      <th></th>\n",
       "      <th>소득</th>\n",
       "    </tr>\n",
       "    <tr>\n",
       "      <th>결혼 유무</th>\n",
       "      <th></th>\n",
       "    </tr>\n",
       "  </thead>\n",
       "  <tbody>\n",
       "    <tr>\n",
       "      <th>결혼</th>\n",
       "      <td>259.935812</td>\n",
       "    </tr>\n",
       "    <tr>\n",
       "      <th>무응답</th>\n",
       "      <td>198.124863</td>\n",
       "    </tr>\n",
       "    <tr>\n",
       "      <th>이혼</th>\n",
       "      <td>196.780643</td>\n",
       "    </tr>\n",
       "  </tbody>\n",
       "</table>\n",
       "</div>"
      ],
      "text/plain": [
       "               소득\n",
       "결혼 유무            \n",
       "결혼     259.935812\n",
       "무응답    198.124863\n",
       "이혼     196.780643"
      ]
     },
     "execution_count": 119,
     "metadata": {},
     "output_type": "execute_result"
    }
   ],
   "source": [
    "chartdata = welfare.groupby('결혼 유무')['소득'].mean()\n",
    "chartdata.to_frame()"
   ]
  },
  {
   "cell_type": "code",
   "execution_count": 120,
   "id": "1b3cf523",
   "metadata": {},
   "outputs": [],
   "source": [
    "import matplotlib.pyplot as plt\n",
    "plt.rc('font', family='Malgun Gothic')"
   ]
  },
  {
   "cell_type": "code",
   "execution_count": 134,
   "id": "2d29ff5d",
   "metadata": {},
   "outputs": [
    {
     "data": {
      "text/plain": [
       "<matplotlib.legend.Legend at 0x1dd98d374d0>"
      ]
     },
     "execution_count": 134,
     "metadata": {},
     "output_type": "execute_result"
    },
    {
     "data": {
      "image/png": "[encoded data removed]",
      "text/plain": [
       "<Figure size 700x500 with 1 Axes>"
      ]
     },
     "metadata": {},
     "output_type": "display_data"
    }
   ],
   "source": [
    "chartdata.plot(kind='pie', figsize=(7,5), autopct='%1.2f%%', startangle=90, colors=['red','yellow','pink'])\n",
    "\n",
    "plt.title('평균')\n",
    "plt.axis('equal')\n",
    "plt.legend(labels=chartdata.index, loc='upper right')"
   ]
  },
  {
   "cell_type": "code",
   "execution_count": 135,
   "id": "054205f3",
   "metadata": {},
   "outputs": [
    {
     "data": {
      "text/plain": [
       "Text(0.5, 1.0, '산점도 : 소득 vs 나이')"
      ]
     },
     "execution_count": 135,
     "metadata": {},
     "output_type": "execute_result"
    },
    {
     "data": {
      "image/png": "[encoded data removed]",
      "text/plain": [
       "<Figure size 1000x500 with 1 Axes>"
      ]
     },
     "metadata": {},
     "output_type": "display_data"
    }
   ],
   "source": [
    "welfare.plot(kind='scatter', x='소득', y='나이', c='LightCoral', s=10, figsize=(10,5))\n",
    "plt.title('산점도 : 소득 vs 나이')"
   ]
  },
  {
   "cell_type": "code",
   "execution_count": 139,
   "id": "4dbb0495",
   "metadata": {},
   "outputs": [
    {
     "data": {
      "text/plain": [
       "Text(0.5, 1.0, '결혼 유무별 소득(박스 플롯)')"
      ]
     },
     "execution_count": 139,
     "metadata": {},
     "output_type": "execute_result"
    },
    {
     "data": {
      "image/png": "[encoded data removed]",
      "text/plain": [
       "<Figure size 1500x500 with 1 Axes>"
      ]
     },
     "metadata": {},
     "output_type": "display_data"
    }
   ],
   "source": [
    "plt.style.use('ggplot')\n",
    "plt.figure(figsize=(15,5))\n",
    "\n",
    "plt.boxplot(x=[welfare[welfare['결혼 유무']=='결혼']['소득'],\n",
    "               welfare[welfare['결혼 유무']=='이혼']['소득'],\n",
    "               welfare[welfare['결혼 유무']=='무응답']['소득']],\n",
    "               labels=['결혼','이혼','무응답'], vert=False)\n",
    "              \n",
    "plt.title('결혼 유무별 소득(박스 플롯)')"
   ]
  },
  {
   "cell_type": "code",
   "execution_count": 142,
   "id": "5e442420",
   "metadata": {},
   "outputs": [
    {
     "data": {
      "text/html": [
       "<div>\n",
       "<style scoped>\n",
       "    .dataframe tbody tr th:only-of-type {\n",
       "        vertical-align: middle;\n",
       "    }\n",
       "\n",
       "    .dataframe tbody tr th {\n",
       "        vertical-align: top;\n",
       "    }\n",
       "\n",
       "    .dataframe thead th {\n",
       "        text-align: right;\n",
       "    }\n",
       "</style>\n",
       "<table border=\"1\" class=\"dataframe\">\n",
       "  <thead>\n",
       "    <tr style=\"text-align: right;\">\n",
       "      <th></th>\n",
       "      <th>소득</th>\n",
       "    </tr>\n",
       "  </thead>\n",
       "  <tbody>\n",
       "    <tr>\n",
       "      <th>count</th>\n",
       "      <td>7529.000000</td>\n",
       "    </tr>\n",
       "    <tr>\n",
       "      <th>mean</th>\n",
       "      <td>241.619016</td>\n",
       "    </tr>\n",
       "    <tr>\n",
       "      <th>std</th>\n",
       "      <td>144.679991</td>\n",
       "    </tr>\n",
       "    <tr>\n",
       "      <th>min</th>\n",
       "      <td>0.000000</td>\n",
       "    </tr>\n",
       "    <tr>\n",
       "      <th>25%</th>\n",
       "      <td>162.600000</td>\n",
       "    </tr>\n",
       "    <tr>\n",
       "      <th>50%</th>\n",
       "      <td>241.619016</td>\n",
       "    </tr>\n",
       "    <tr>\n",
       "      <th>75%</th>\n",
       "      <td>241.619016</td>\n",
       "    </tr>\n",
       "    <tr>\n",
       "      <th>max</th>\n",
       "      <td>2400.000000</td>\n",
       "    </tr>\n",
       "  </tbody>\n",
       "</table>\n",
       "</div>"
      ],
      "text/plain": [
       "                소득\n",
       "count  7529.000000\n",
       "mean    241.619016\n",
       "std     144.679991\n",
       "min       0.000000\n",
       "25%     162.600000\n",
       "50%     241.619016\n",
       "75%     241.619016\n",
       "max    2400.000000"
      ]
     },
     "execution_count": 142,
     "metadata": {},
     "output_type": "execute_result"
    }
   ],
   "source": [
    "welfare['소득'].describe().to_frame()"
   ]
  },
  {
   "cell_type": "code",
   "execution_count": 144,
   "id": "aabb2365",
   "metadata": {},
   "outputs": [
    {
     "data": {
      "text/html": [
       "<div>\n",
       "<style scoped>\n",
       "    .dataframe tbody tr th:only-of-type {\n",
       "        vertical-align: middle;\n",
       "    }\n",
       "\n",
       "    .dataframe tbody tr th {\n",
       "        vertical-align: top;\n",
       "    }\n",
       "\n",
       "    .dataframe thead th {\n",
       "        text-align: right;\n",
       "    }\n",
       "</style>\n",
       "<table border=\"1\" class=\"dataframe\">\n",
       "  <thead>\n",
       "    <tr style=\"text-align: right;\">\n",
       "      <th></th>\n",
       "      <th>소득</th>\n",
       "    </tr>\n",
       "  </thead>\n",
       "  <tbody>\n",
       "    <tr>\n",
       "      <th>881</th>\n",
       "      <td>2400.00</td>\n",
       "    </tr>\n",
       "    <tr>\n",
       "      <th>7136</th>\n",
       "      <td>1853.30</td>\n",
       "    </tr>\n",
       "    <tr>\n",
       "      <th>7250</th>\n",
       "      <td>1678.70</td>\n",
       "    </tr>\n",
       "    <tr>\n",
       "      <th>5484</th>\n",
       "      <td>1666.70</td>\n",
       "    </tr>\n",
       "    <tr>\n",
       "      <th>2409</th>\n",
       "      <td>1666.66</td>\n",
       "    </tr>\n",
       "    <tr>\n",
       "      <th>4740</th>\n",
       "      <td>1416.70</td>\n",
       "    </tr>\n",
       "    <tr>\n",
       "      <th>5488</th>\n",
       "      <td>1374.00</td>\n",
       "    </tr>\n",
       "    <tr>\n",
       "      <th>5485</th>\n",
       "      <td>1250.00</td>\n",
       "    </tr>\n",
       "    <tr>\n",
       "      <th>7526</th>\n",
       "      <td>1250.00</td>\n",
       "    </tr>\n",
       "    <tr>\n",
       "      <th>4747</th>\n",
       "      <td>1226.70</td>\n",
       "    </tr>\n",
       "    <tr>\n",
       "      <th>5605</th>\n",
       "      <td>1208.00</td>\n",
       "    </tr>\n",
       "    <tr>\n",
       "      <th>776</th>\n",
       "      <td>1150.00</td>\n",
       "    </tr>\n",
       "    <tr>\n",
       "      <th>4737</th>\n",
       "      <td>1135.00</td>\n",
       "    </tr>\n",
       "    <tr>\n",
       "      <th>3164</th>\n",
       "      <td>1095.30</td>\n",
       "    </tr>\n",
       "    <tr>\n",
       "      <th>7321</th>\n",
       "      <td>1084.00</td>\n",
       "    </tr>\n",
       "    <tr>\n",
       "      <th>4734</th>\n",
       "      <td>1083.30</td>\n",
       "    </tr>\n",
       "    <tr>\n",
       "      <th>1890</th>\n",
       "      <td>1069.60</td>\n",
       "    </tr>\n",
       "    <tr>\n",
       "      <th>5654</th>\n",
       "      <td>1043.30</td>\n",
       "    </tr>\n",
       "    <tr>\n",
       "      <th>7423</th>\n",
       "      <td>1033.00</td>\n",
       "    </tr>\n",
       "    <tr>\n",
       "      <th>7300</th>\n",
       "      <td>1026.00</td>\n",
       "    </tr>\n",
       "  </tbody>\n",
       "</table>\n",
       "</div>"
      ],
      "text/plain": [
       "           소득\n",
       "881   2400.00\n",
       "7136  1853.30\n",
       "7250  1678.70\n",
       "5484  1666.70\n",
       "2409  1666.66\n",
       "4740  1416.70\n",
       "5488  1374.00\n",
       "5485  1250.00\n",
       "7526  1250.00\n",
       "4747  1226.70\n",
       "5605  1208.00\n",
       "776   1150.00\n",
       "4737  1135.00\n",
       "3164  1095.30\n",
       "7321  1084.00\n",
       "4734  1083.30\n",
       "1890  1069.60\n",
       "5654  1043.30\n",
       "7423  1033.00\n",
       "7300  1026.00"
      ]
     },
     "execution_count": 144,
     "metadata": {},
     "output_type": "execute_result"
    }
   ],
   "source": [
    "welfare['소득'].sort_values(ascending=False).head(20).to_frame()"
   ]
  },
  {
   "cell_type": "code",
   "execution_count": 145,
   "id": "210750dd",
   "metadata": {},
   "outputs": [
    {
     "data": {
      "text/plain": [
       "7529"
      ]
     },
     "execution_count": 145,
     "metadata": {},
     "output_type": "execute_result"
    }
   ],
   "source": [
    "len(welfare)"
   ]
  },
  {
   "cell_type": "code",
   "execution_count": 147,
   "id": "33cf0d6e",
   "metadata": {},
   "outputs": [
    {
     "data": {
      "text/html": [
       "<div>\n",
       "<style scoped>\n",
       "    .dataframe tbody tr th:only-of-type {\n",
       "        vertical-align: middle;\n",
       "    }\n",
       "\n",
       "    .dataframe tbody tr th {\n",
       "        vertical-align: top;\n",
       "    }\n",
       "\n",
       "    .dataframe thead th {\n",
       "        text-align: right;\n",
       "    }\n",
       "</style>\n",
       "<table border=\"1\" class=\"dataframe\">\n",
       "  <thead>\n",
       "    <tr style=\"text-align: right;\">\n",
       "      <th></th>\n",
       "      <th>성별</th>\n",
       "      <th>생일</th>\n",
       "      <th>결혼 유무</th>\n",
       "      <th>종교 유무</th>\n",
       "      <th>직업 코드</th>\n",
       "      <th>소득</th>\n",
       "      <th>지역구</th>\n",
       "      <th>나이</th>\n",
       "      <th>직업</th>\n",
       "      <th>연령대</th>\n",
       "      <th>점수</th>\n",
       "      <th>신용</th>\n",
       "    </tr>\n",
       "  </thead>\n",
       "  <tbody>\n",
       "    <tr>\n",
       "      <th>0</th>\n",
       "      <td>남성</td>\n",
       "      <td>1948</td>\n",
       "      <td>무응답</td>\n",
       "      <td>없슴</td>\n",
       "      <td>942</td>\n",
       "      <td>120.000000</td>\n",
       "      <td>서울</td>\n",
       "      <td>73</td>\n",
       "      <td>경비원 및 검표원</td>\n",
       "      <td>노년</td>\n",
       "      <td>7.9</td>\n",
       "      <td>128.0</td>\n",
       "    </tr>\n",
       "    <tr>\n",
       "      <th>1</th>\n",
       "      <td>남성</td>\n",
       "      <td>1945</td>\n",
       "      <td>이혼</td>\n",
       "      <td>없슴</td>\n",
       "      <td>942</td>\n",
       "      <td>220.200000</td>\n",
       "      <td>서울</td>\n",
       "      <td>76</td>\n",
       "      <td>경비원 및 검표원</td>\n",
       "      <td>노년</td>\n",
       "      <td>7.1</td>\n",
       "      <td>111.0</td>\n",
       "    </tr>\n",
       "    <tr>\n",
       "      <th>2</th>\n",
       "      <td>남성</td>\n",
       "      <td>1946</td>\n",
       "      <td>결혼</td>\n",
       "      <td>없슴</td>\n",
       "      <td>942</td>\n",
       "      <td>139.000000</td>\n",
       "      <td>서울</td>\n",
       "      <td>75</td>\n",
       "      <td>경비원 및 검표원</td>\n",
       "      <td>노년</td>\n",
       "      <td>6.8</td>\n",
       "      <td>139.0</td>\n",
       "    </tr>\n",
       "    <tr>\n",
       "      <th>3</th>\n",
       "      <td>남성</td>\n",
       "      <td>1953</td>\n",
       "      <td>결혼</td>\n",
       "      <td>없슴</td>\n",
       "      <td>942</td>\n",
       "      <td>150.000000</td>\n",
       "      <td>서울</td>\n",
       "      <td>68</td>\n",
       "      <td>경비원 및 검표원</td>\n",
       "      <td>노년</td>\n",
       "      <td>8.5</td>\n",
       "      <td>126.0</td>\n",
       "    </tr>\n",
       "    <tr>\n",
       "      <th>4</th>\n",
       "      <td>남성</td>\n",
       "      <td>1960</td>\n",
       "      <td>결혼</td>\n",
       "      <td>있슴</td>\n",
       "      <td>942</td>\n",
       "      <td>166.000000</td>\n",
       "      <td>서울</td>\n",
       "      <td>61</td>\n",
       "      <td>경비원 및 검표원</td>\n",
       "      <td>노년</td>\n",
       "      <td>7.1</td>\n",
       "      <td>123.0</td>\n",
       "    </tr>\n",
       "    <tr>\n",
       "      <th>...</th>\n",
       "      <td>...</td>\n",
       "      <td>...</td>\n",
       "      <td>...</td>\n",
       "      <td>...</td>\n",
       "      <td>...</td>\n",
       "      <td>...</td>\n",
       "      <td>...</td>\n",
       "      <td>...</td>\n",
       "      <td>...</td>\n",
       "      <td>...</td>\n",
       "      <td>...</td>\n",
       "      <td>...</td>\n",
       "    </tr>\n",
       "    <tr>\n",
       "      <th>7523</th>\n",
       "      <td>여성</td>\n",
       "      <td>1937</td>\n",
       "      <td>무응답</td>\n",
       "      <td>있슴</td>\n",
       "      <td>819</td>\n",
       "      <td>241.619016</td>\n",
       "      <td>수도권</td>\n",
       "      <td>84</td>\n",
       "      <td>기타 식품가공관련 기계조작원</td>\n",
       "      <td>노년</td>\n",
       "      <td>7.1</td>\n",
       "      <td>60.0</td>\n",
       "    </tr>\n",
       "    <tr>\n",
       "      <th>7524</th>\n",
       "      <td>여성</td>\n",
       "      <td>1950</td>\n",
       "      <td>결혼</td>\n",
       "      <td>있슴</td>\n",
       "      <td>819</td>\n",
       "      <td>241.619016</td>\n",
       "      <td>강원/충북</td>\n",
       "      <td>71</td>\n",
       "      <td>기타 식품가공관련 기계조작원</td>\n",
       "      <td>노년</td>\n",
       "      <td>6.6</td>\n",
       "      <td>66.0</td>\n",
       "    </tr>\n",
       "    <tr>\n",
       "      <th>7525</th>\n",
       "      <td>남성</td>\n",
       "      <td>1960</td>\n",
       "      <td>결혼</td>\n",
       "      <td>있슴</td>\n",
       "      <td>111</td>\n",
       "      <td>250.000000</td>\n",
       "      <td>광주/전남/전북/제주도</td>\n",
       "      <td>61</td>\n",
       "      <td>의회의원 고위공무원 및 공공단체임원</td>\n",
       "      <td>노년</td>\n",
       "      <td>6.1</td>\n",
       "      <td>110.0</td>\n",
       "    </tr>\n",
       "    <tr>\n",
       "      <th>7527</th>\n",
       "      <td>남성</td>\n",
       "      <td>1992</td>\n",
       "      <td>무응답</td>\n",
       "      <td>있슴</td>\n",
       "      <td>876</td>\n",
       "      <td>280.000000</td>\n",
       "      <td>부산/경남/울산</td>\n",
       "      <td>29</td>\n",
       "      <td>선박 갑판승무원 및 관련 종사원</td>\n",
       "      <td>청년</td>\n",
       "      <td>8.1</td>\n",
       "      <td>84.0</td>\n",
       "    </tr>\n",
       "    <tr>\n",
       "      <th>7528</th>\n",
       "      <td>남성</td>\n",
       "      <td>1935</td>\n",
       "      <td>결혼</td>\n",
       "      <td>있슴</td>\n",
       "      <td>876</td>\n",
       "      <td>156.000000</td>\n",
       "      <td>부산/경남/울산</td>\n",
       "      <td>86</td>\n",
       "      <td>선박 갑판승무원 및 관련 종사원</td>\n",
       "      <td>노년</td>\n",
       "      <td>7.6</td>\n",
       "      <td>93.0</td>\n",
       "    </tr>\n",
       "  </tbody>\n",
       "</table>\n",
       "<p>7518 rows × 12 columns</p>\n",
       "</div>"
      ],
      "text/plain": [
       "      성별    생일 결혼 유무 종교 유무  직업 코드          소득           지역구  나이  \\\n",
       "0     남성  1948   무응답    없슴    942  120.000000            서울  73   \n",
       "1     남성  1945    이혼    없슴    942  220.200000            서울  76   \n",
       "2     남성  1946    결혼    없슴    942  139.000000            서울  75   \n",
       "3     남성  1953    결혼    없슴    942  150.000000            서울  68   \n",
       "4     남성  1960    결혼    있슴    942  166.000000            서울  61   \n",
       "...   ..   ...   ...   ...    ...         ...           ...  ..   \n",
       "7523  여성  1937   무응답    있슴    819  241.619016           수도권  84   \n",
       "7524  여성  1950    결혼    있슴    819  241.619016         강원/충북  71   \n",
       "7525  남성  1960    결혼    있슴    111  250.000000  광주/전남/전북/제주도  61   \n",
       "7527  남성  1992   무응답    있슴    876  280.000000      부산/경남/울산  29   \n",
       "7528  남성  1935    결혼    있슴    876  156.000000      부산/경남/울산  86   \n",
       "\n",
       "                       직업 연령대   점수     신용  \n",
       "0               경비원 및 검표원  노년  7.9  128.0  \n",
       "1               경비원 및 검표원  노년  7.1  111.0  \n",
       "2               경비원 및 검표원  노년  6.8  139.0  \n",
       "3               경비원 및 검표원  노년  8.5  126.0  \n",
       "4               경비원 및 검표원  노년  7.1  123.0  \n",
       "...                   ...  ..  ...    ...  \n",
       "7523      기타 식품가공관련 기계조작원  노년  7.1   60.0  \n",
       "7524      기타 식품가공관련 기계조작원  노년  6.6   66.0  \n",
       "7525  의회의원 고위공무원 및 공공단체임원  노년  6.1  110.0  \n",
       "7527    선박 갑판승무원 및 관련 종사원  청년  8.1   84.0  \n",
       "7528    선박 갑판승무원 및 관련 종사원  노년  7.6   93.0  \n",
       "\n",
       "[7518 rows x 12 columns]"
      ]
     },
     "execution_count": 147,
     "metadata": {},
     "output_type": "execute_result"
    }
   ],
   "source": [
    "welfare = welfare.loc[welfare['소득'] <= 1200]\n",
    "welfare"
   ]
  },
  {
   "cell_type": "code",
   "execution_count": 148,
   "id": "ddce24d7",
   "metadata": {},
   "outputs": [
    {
     "data": {
      "text/plain": [
       "7518"
      ]
     },
     "execution_count": 148,
     "metadata": {},
     "output_type": "execute_result"
    }
   ],
   "source": [
    "len(welfare)"
   ]
  },
  {
   "cell_type": "code",
   "execution_count": 149,
   "id": "2a221aae",
   "metadata": {},
   "outputs": [
    {
     "data": {
      "text/plain": [
       "Text(0.5, 0, '소득')"
      ]
     },
     "execution_count": 149,
     "metadata": {},
     "output_type": "execute_result"
    },
    {
     "data": {
      "image/png": "[encoded data removed]",
      "text/plain": [
       "<Figure size 1000x500 with 1 Axes>"
      ]
     },
     "metadata": {},
     "output_type": "display_data"
    }
   ],
   "source": [
    "welfare['소득'].plot(kind='hist', bins=50, color='LightCoral', figsize=(10,5))\n",
    "plt.title('소득 Histogram')\n",
    "plt.xlabel('소득')"
   ]
  },
  {
   "cell_type": "code",
   "execution_count": 150,
   "id": "0f878264",
   "metadata": {},
   "outputs": [
    {
     "name": "stdout",
     "output_type": "stream",
     "text": [
      "1150.0\n",
      "0.0\n"
     ]
    }
   ],
   "source": [
    "print(welfare['소득'].max())\n",
    "print(welfare['소득'].min())"
   ]
  },
  {
   "cell_type": "code",
   "execution_count": 151,
   "id": "0d47b55f",
   "metadata": {},
   "outputs": [
    {
     "data": {
      "text/plain": [
       "0     (-inf, 200.0]\n",
       "1    (200.0, 500.0]\n",
       "2     (-inf, 200.0]\n",
       "3     (-inf, 200.0]\n",
       "4     (-inf, 200.0]\n",
       "Name: 소득, dtype: category\n",
       "Categories (5, interval[float64, right]): [(-inf, 200.0] < (200.0, 500.0] < (500.0, 700.0] < (700.0, 1000.0] < (1000.0, inf]]"
      ]
     },
     "execution_count": 151,
     "metadata": {},
     "output_type": "execute_result"
    }
   ],
   "source": [
    "bins = [-np.inf, 200, 500, 700, 1000, np.inf]\n",
    "cuts = pd.cut(welfare['소득'], bins=bins)\n",
    "cuts.head()"
   ]
  },
  {
   "cell_type": "code",
   "execution_count": 152,
   "id": "e4cbd86e",
   "metadata": {},
   "outputs": [
    {
     "data": {
      "text/html": [
       "<div>\n",
       "<style scoped>\n",
       "    .dataframe tbody tr th:only-of-type {\n",
       "        vertical-align: middle;\n",
       "    }\n",
       "\n",
       "    .dataframe tbody tr th {\n",
       "        vertical-align: top;\n",
       "    }\n",
       "\n",
       "    .dataframe thead th {\n",
       "        text-align: right;\n",
       "    }\n",
       "</style>\n",
       "<table border=\"1\" class=\"dataframe\">\n",
       "  <thead>\n",
       "    <tr style=\"text-align: right;\">\n",
       "      <th></th>\n",
       "      <th>소득</th>\n",
       "    </tr>\n",
       "  </thead>\n",
       "  <tbody>\n",
       "    <tr>\n",
       "      <th>(200.0, 500.0]</th>\n",
       "      <td>4657</td>\n",
       "    </tr>\n",
       "    <tr>\n",
       "      <th>(-inf, 200.0]</th>\n",
       "      <td>2473</td>\n",
       "    </tr>\n",
       "    <tr>\n",
       "      <th>(500.0, 700.0]</th>\n",
       "      <td>280</td>\n",
       "    </tr>\n",
       "    <tr>\n",
       "      <th>(700.0, 1000.0]</th>\n",
       "      <td>98</td>\n",
       "    </tr>\n",
       "    <tr>\n",
       "      <th>(1000.0, inf]</th>\n",
       "      <td>10</td>\n",
       "    </tr>\n",
       "  </tbody>\n",
       "</table>\n",
       "</div>"
      ],
      "text/plain": [
       "                   소득\n",
       "(200.0, 500.0]   4657\n",
       "(-inf, 200.0]    2473\n",
       "(500.0, 700.0]    280\n",
       "(700.0, 1000.0]    98\n",
       "(1000.0, inf]      10"
      ]
     },
     "execution_count": 152,
     "metadata": {},
     "output_type": "execute_result"
    }
   ],
   "source": [
    "cuts.value_counts().to_frame()"
   ]
  },
  {
   "cell_type": "code",
   "execution_count": 153,
   "id": "83d5c947",
   "metadata": {},
   "outputs": [
    {
     "data": {
      "text/html": [
       "<div>\n",
       "<style scoped>\n",
       "    .dataframe tbody tr th:only-of-type {\n",
       "        vertical-align: middle;\n",
       "    }\n",
       "\n",
       "    .dataframe tbody tr th {\n",
       "        vertical-align: top;\n",
       "    }\n",
       "\n",
       "    .dataframe thead th {\n",
       "        text-align: right;\n",
       "    }\n",
       "</style>\n",
       "<table border=\"1\" class=\"dataframe\">\n",
       "  <thead>\n",
       "    <tr style=\"text-align: right;\">\n",
       "      <th></th>\n",
       "      <th></th>\n",
       "      <th>성별</th>\n",
       "    </tr>\n",
       "    <tr>\n",
       "      <th>소득</th>\n",
       "      <th>성별</th>\n",
       "      <th></th>\n",
       "    </tr>\n",
       "  </thead>\n",
       "  <tbody>\n",
       "    <tr>\n",
       "      <th rowspan=\"2\" valign=\"top\">(-inf, 200.0]</th>\n",
       "      <th>여성</th>\n",
       "      <td>68.62</td>\n",
       "    </tr>\n",
       "    <tr>\n",
       "      <th>남성</th>\n",
       "      <td>31.38</td>\n",
       "    </tr>\n",
       "    <tr>\n",
       "      <th rowspan=\"2\" valign=\"top\">(200.0, 500.0]</th>\n",
       "      <th>남성</th>\n",
       "      <td>62.47</td>\n",
       "    </tr>\n",
       "    <tr>\n",
       "      <th>여성</th>\n",
       "      <td>37.53</td>\n",
       "    </tr>\n",
       "    <tr>\n",
       "      <th rowspan=\"2\" valign=\"top\">(500.0, 700.0]</th>\n",
       "      <th>남성</th>\n",
       "      <td>83.57</td>\n",
       "    </tr>\n",
       "    <tr>\n",
       "      <th>여성</th>\n",
       "      <td>16.43</td>\n",
       "    </tr>\n",
       "    <tr>\n",
       "      <th rowspan=\"2\" valign=\"top\">(700.0, 1000.0]</th>\n",
       "      <th>남성</th>\n",
       "      <td>89.80</td>\n",
       "    </tr>\n",
       "    <tr>\n",
       "      <th>여성</th>\n",
       "      <td>10.20</td>\n",
       "    </tr>\n",
       "    <tr>\n",
       "      <th>(1000.0, inf]</th>\n",
       "      <th>남성</th>\n",
       "      <td>100.00</td>\n",
       "    </tr>\n",
       "  </tbody>\n",
       "</table>\n",
       "</div>"
      ],
      "text/plain": [
       "                        성별\n",
       "소득              성별        \n",
       "(-inf, 200.0]   여성   68.62\n",
       "                남성   31.38\n",
       "(200.0, 500.0]  남성   62.47\n",
       "                여성   37.53\n",
       "(500.0, 700.0]  남성   83.57\n",
       "                여성   16.43\n",
       "(700.0, 1000.0] 남성   89.80\n",
       "                여성   10.20\n",
       "(1000.0, inf]   남성  100.00"
      ]
     },
     "execution_count": 153,
     "metadata": {},
     "output_type": "execute_result"
    }
   ],
   "source": [
    "result = 100 * welfare.groupby(cuts)['성별'].value_counts(normalize=True).round(4)\n",
    "result.to_frame()"
   ]
  },
  {
   "cell_type": "code",
   "execution_count": 157,
   "id": "1b126657",
   "metadata": {},
   "outputs": [
    {
     "data": {
      "text/html": [
       "<div>\n",
       "<style scoped>\n",
       "    .dataframe tbody tr th:only-of-type {\n",
       "        vertical-align: middle;\n",
       "    }\n",
       "\n",
       "    .dataframe tbody tr th {\n",
       "        vertical-align: top;\n",
       "    }\n",
       "\n",
       "    .dataframe thead th {\n",
       "        text-align: right;\n",
       "    }\n",
       "</style>\n",
       "<table border=\"1\" class=\"dataframe\">\n",
       "  <thead>\n",
       "    <tr style=\"text-align: right;\">\n",
       "      <th></th>\n",
       "      <th>성별</th>\n",
       "      <th>지역구</th>\n",
       "      <th>나이</th>\n",
       "      <th>소득</th>\n",
       "      <th>범주형소득</th>\n",
       "    </tr>\n",
       "  </thead>\n",
       "  <tbody>\n",
       "    <tr>\n",
       "      <th>0</th>\n",
       "      <td>남성</td>\n",
       "      <td>서울</td>\n",
       "      <td>73</td>\n",
       "      <td>120.0</td>\n",
       "      <td>저소득</td>\n",
       "    </tr>\n",
       "    <tr>\n",
       "      <th>1</th>\n",
       "      <td>남성</td>\n",
       "      <td>서울</td>\n",
       "      <td>76</td>\n",
       "      <td>220.2</td>\n",
       "      <td>중저소득</td>\n",
       "    </tr>\n",
       "    <tr>\n",
       "      <th>2</th>\n",
       "      <td>남성</td>\n",
       "      <td>서울</td>\n",
       "      <td>75</td>\n",
       "      <td>139.0</td>\n",
       "      <td>저소득</td>\n",
       "    </tr>\n",
       "    <tr>\n",
       "      <th>3</th>\n",
       "      <td>남성</td>\n",
       "      <td>서울</td>\n",
       "      <td>68</td>\n",
       "      <td>150.0</td>\n",
       "      <td>저소득</td>\n",
       "    </tr>\n",
       "    <tr>\n",
       "      <th>4</th>\n",
       "      <td>남성</td>\n",
       "      <td>서울</td>\n",
       "      <td>61</td>\n",
       "      <td>166.0</td>\n",
       "      <td>저소득</td>\n",
       "    </tr>\n",
       "  </tbody>\n",
       "</table>\n",
       "</div>"
      ],
      "text/plain": [
       "   성별 지역구  나이     소득 범주형소득\n",
       "0  남성  서울  73  120.0   저소득\n",
       "1  남성  서울  76  220.2  중저소득\n",
       "2  남성  서울  75  139.0   저소득\n",
       "3  남성  서울  68  150.0   저소득\n",
       "4  남성  서울  61  166.0   저소득"
      ]
     },
     "execution_count": 157,
     "metadata": {},
     "output_type": "execute_result"
    }
   ],
   "source": [
    "labels = ['저소득','중저소득','중중소득','중고소득','고소득']\n",
    "cuts_label = pd.cut(welfare['소득'], bins=bins, labels=labels)\n",
    "\n",
    "strincome = '범주형소득'\n",
    "welfare[strincome] = cuts_label\n",
    "welfare[['성별', '지역구', '나이', '소득', strincome]].head()"
   ]
  },
  {
   "cell_type": "code",
   "execution_count": 158,
   "id": "120cfa12",
   "metadata": {},
   "outputs": [
    {
     "data": {
      "text/html": [
       "<div>\n",
       "<style scoped>\n",
       "    .dataframe tbody tr th:only-of-type {\n",
       "        vertical-align: middle;\n",
       "    }\n",
       "\n",
       "    .dataframe tbody tr th {\n",
       "        vertical-align: top;\n",
       "    }\n",
       "\n",
       "    .dataframe thead th {\n",
       "        text-align: right;\n",
       "    }\n",
       "</style>\n",
       "<table border=\"1\" class=\"dataframe\">\n",
       "  <thead>\n",
       "    <tr style=\"text-align: right;\">\n",
       "      <th></th>\n",
       "      <th>소득</th>\n",
       "    </tr>\n",
       "    <tr>\n",
       "      <th>지역구</th>\n",
       "      <th></th>\n",
       "    </tr>\n",
       "  </thead>\n",
       "  <tbody>\n",
       "    <tr>\n",
       "      <th>강원/충북</th>\n",
       "      <td>221.955189</td>\n",
       "    </tr>\n",
       "    <tr>\n",
       "      <th>광주/전남/전북/제주도</th>\n",
       "      <td>234.901742</td>\n",
       "    </tr>\n",
       "    <tr>\n",
       "      <th>대구/경북</th>\n",
       "      <td>227.682571</td>\n",
       "    </tr>\n",
       "    <tr>\n",
       "      <th>대전/충남</th>\n",
       "      <td>254.458744</td>\n",
       "    </tr>\n",
       "    <tr>\n",
       "      <th>부산/경남/울산</th>\n",
       "      <td>251.044213</td>\n",
       "    </tr>\n",
       "    <tr>\n",
       "      <th>서울</th>\n",
       "      <td>246.926482</td>\n",
       "    </tr>\n",
       "    <tr>\n",
       "      <th>수도권</th>\n",
       "      <td>237.071017</td>\n",
       "    </tr>\n",
       "  </tbody>\n",
       "</table>\n",
       "</div>"
      ],
      "text/plain": [
       "                      소득\n",
       "지역구                     \n",
       "강원/충북         221.955189\n",
       "광주/전남/전북/제주도  234.901742\n",
       "대구/경북         227.682571\n",
       "대전/충남         254.458744\n",
       "부산/경남/울산      251.044213\n",
       "서울            246.926482\n",
       "수도권           237.071017"
      ]
     },
     "execution_count": 158,
     "metadata": {},
     "output_type": "execute_result"
    }
   ],
   "source": [
    "chartdata = welfare.groupby('지역구')['소득'].mean()\n",
    "chartdata.to_frame()"
   ]
  },
  {
   "cell_type": "code",
   "execution_count": 159,
   "id": "a74a433a",
   "metadata": {},
   "outputs": [
    {
     "data": {
      "text/plain": [
       "Text(0.5, 0, '소득 평균')"
      ]
     },
     "execution_count": 159,
     "metadata": {},
     "output_type": "execute_result"
    },
    {
     "data": {
      "image/png": "[encoded data removed]",
      "text/plain": [
       "<Figure size 1000x500 with 1 Axes>"
      ]
     },
     "metadata": {},
     "output_type": "display_data"
    }
   ],
   "source": [
    "plt.style.use('ggplot')\n",
    "chartdata.plot(kind='barh', color='Coral', width=0.5, figsize=(10,5))\n",
    "plt.title('지역구별 소득의 평균')\n",
    "plt.ylabel('지역구')\n",
    "plt.xlabel('소득 평균')"
   ]
  },
  {
   "cell_type": "code",
   "execution_count": 161,
   "id": "0bfa4369",
   "metadata": {},
   "outputs": [
    {
     "data": {
      "text/html": [
       "<div>\n",
       "<style scoped>\n",
       "    .dataframe tbody tr th:only-of-type {\n",
       "        vertical-align: middle;\n",
       "    }\n",
       "\n",
       "    .dataframe tbody tr th {\n",
       "        vertical-align: top;\n",
       "    }\n",
       "\n",
       "    .dataframe thead th {\n",
       "        text-align: right;\n",
       "    }\n",
       "</style>\n",
       "<table border=\"1\" class=\"dataframe\">\n",
       "  <thead>\n",
       "    <tr style=\"text-align: right;\">\n",
       "      <th></th>\n",
       "      <th>성별</th>\n",
       "      <th>범주형소득</th>\n",
       "      <th>소득</th>\n",
       "    </tr>\n",
       "  </thead>\n",
       "  <tbody>\n",
       "    <tr>\n",
       "      <th>0</th>\n",
       "      <td>남성</td>\n",
       "      <td>저소득</td>\n",
       "      <td>132.813144</td>\n",
       "    </tr>\n",
       "    <tr>\n",
       "      <th>1</th>\n",
       "      <td>남성</td>\n",
       "      <td>중저소득</td>\n",
       "      <td>277.966875</td>\n",
       "    </tr>\n",
       "    <tr>\n",
       "      <th>2</th>\n",
       "      <td>남성</td>\n",
       "      <td>중중소득</td>\n",
       "      <td>586.030470</td>\n",
       "    </tr>\n",
       "    <tr>\n",
       "      <th>3</th>\n",
       "      <td>남성</td>\n",
       "      <td>중고소득</td>\n",
       "      <td>820.022273</td>\n",
       "    </tr>\n",
       "    <tr>\n",
       "      <th>4</th>\n",
       "      <td>남성</td>\n",
       "      <td>고소득</td>\n",
       "      <td>1074.030000</td>\n",
       "    </tr>\n",
       "    <tr>\n",
       "      <th>5</th>\n",
       "      <td>여성</td>\n",
       "      <td>저소득</td>\n",
       "      <td>114.459034</td>\n",
       "    </tr>\n",
       "    <tr>\n",
       "      <th>6</th>\n",
       "      <td>여성</td>\n",
       "      <td>중저소득</td>\n",
       "      <td>252.843971</td>\n",
       "    </tr>\n",
       "    <tr>\n",
       "      <th>7</th>\n",
       "      <td>여성</td>\n",
       "      <td>중중소득</td>\n",
       "      <td>563.363261</td>\n",
       "    </tr>\n",
       "    <tr>\n",
       "      <th>8</th>\n",
       "      <td>여성</td>\n",
       "      <td>중고소득</td>\n",
       "      <td>833.383000</td>\n",
       "    </tr>\n",
       "    <tr>\n",
       "      <th>9</th>\n",
       "      <td>여성</td>\n",
       "      <td>고소득</td>\n",
       "      <td>NaN</td>\n",
       "    </tr>\n",
       "  </tbody>\n",
       "</table>\n",
       "</div>"
      ],
      "text/plain": [
       "   성별 범주형소득           소득\n",
       "0  남성   저소득   132.813144\n",
       "1  남성  중저소득   277.966875\n",
       "2  남성  중중소득   586.030470\n",
       "3  남성  중고소득   820.022273\n",
       "4  남성   고소득  1074.030000\n",
       "5  여성   저소득   114.459034\n",
       "6  여성  중저소득   252.843971\n",
       "7  여성  중중소득   563.363261\n",
       "8  여성  중고소득   833.383000\n",
       "9  여성   고소득          NaN"
      ]
     },
     "execution_count": 161,
     "metadata": {},
     "output_type": "execute_result"
    }
   ],
   "source": [
    "chartdata = welfare.groupby(['성별','범주형소득'])['소득'].mean().to_frame()\n",
    "type(chartdata)\n",
    "chartdata=chartdata.reset_index()\n",
    "chartdata"
   ]
  },
  {
   "cell_type": "code",
   "execution_count": 162,
   "id": "6f641823",
   "metadata": {},
   "outputs": [
    {
     "data": {
      "text/html": [
       "<div>\n",
       "<style scoped>\n",
       "    .dataframe tbody tr th:only-of-type {\n",
       "        vertical-align: middle;\n",
       "    }\n",
       "\n",
       "    .dataframe tbody tr th {\n",
       "        vertical-align: top;\n",
       "    }\n",
       "\n",
       "    .dataframe thead th {\n",
       "        text-align: right;\n",
       "    }\n",
       "</style>\n",
       "<table border=\"1\" class=\"dataframe\">\n",
       "  <thead>\n",
       "    <tr style=\"text-align: right;\">\n",
       "      <th>범주형소득</th>\n",
       "      <th>저소득</th>\n",
       "      <th>중저소득</th>\n",
       "      <th>중중소득</th>\n",
       "      <th>중고소득</th>\n",
       "      <th>고소득</th>\n",
       "    </tr>\n",
       "    <tr>\n",
       "      <th>성별</th>\n",
       "      <th></th>\n",
       "      <th></th>\n",
       "      <th></th>\n",
       "      <th></th>\n",
       "      <th></th>\n",
       "    </tr>\n",
       "  </thead>\n",
       "  <tbody>\n",
       "    <tr>\n",
       "      <th>남성</th>\n",
       "      <td>132.813144</td>\n",
       "      <td>277.966875</td>\n",
       "      <td>586.030470</td>\n",
       "      <td>820.022273</td>\n",
       "      <td>1074.03</td>\n",
       "    </tr>\n",
       "    <tr>\n",
       "      <th>여성</th>\n",
       "      <td>114.459034</td>\n",
       "      <td>252.843971</td>\n",
       "      <td>563.363261</td>\n",
       "      <td>833.383000</td>\n",
       "      <td>NaN</td>\n",
       "    </tr>\n",
       "  </tbody>\n",
       "</table>\n",
       "</div>"
      ],
      "text/plain": [
       "범주형소득         저소득        중저소득        중중소득        중고소득      고소득\n",
       "성별                                                            \n",
       "남성     132.813144  277.966875  586.030470  820.022273  1074.03\n",
       "여성     114.459034  252.843971  563.363261  833.383000      NaN"
      ]
     },
     "execution_count": 162,
     "metadata": {},
     "output_type": "execute_result"
    }
   ],
   "source": [
    "chartdata = chartdata.pivot(index='성별', columns='범주형소득', values='소득')\n",
    "chartdata"
   ]
  },
  {
   "cell_type": "code",
   "execution_count": 163,
   "id": "e9dc966f",
   "metadata": {},
   "outputs": [
    {
     "data": {
      "text/plain": [
       "<matplotlib.legend.Legend at 0x1dda0240910>"
      ]
     },
     "execution_count": 163,
     "metadata": {},
     "output_type": "execute_result"
    },
    {
     "data": {
      "image/png": "[encoded data removed]",
      "text/plain": [
       "<Figure size 1500x800 with 1 Axes>"
      ]
     },
     "metadata": {},
     "output_type": "display_data"
    }
   ],
   "source": [
    "chartdata.plot(kind='barh', figsize=(15,8), width=0.7)\n",
    "\n",
    "plt.title('성별/범주형 소득별 평균', size=20)\n",
    "plt.ylabel('성별')\n",
    "plt.xlabel('소득평균')\n",
    "plt.legend(loc='best')"
   ]
  },
  {
   "cell_type": "code",
   "execution_count": 164,
   "id": "64e5d1ca",
   "metadata": {},
   "outputs": [
    {
     "data": {
      "text/html": [
       "<div>\n",
       "<style scoped>\n",
       "    .dataframe tbody tr th:only-of-type {\n",
       "        vertical-align: middle;\n",
       "    }\n",
       "\n",
       "    .dataframe tbody tr th {\n",
       "        vertical-align: top;\n",
       "    }\n",
       "\n",
       "    .dataframe thead th {\n",
       "        text-align: right;\n",
       "    }\n",
       "</style>\n",
       "<table border=\"1\" class=\"dataframe\">\n",
       "  <thead>\n",
       "    <tr style=\"text-align: right;\">\n",
       "      <th></th>\n",
       "      <th>사원명</th>\n",
       "      <th>출장지역</th>\n",
       "      <th>출장기간</th>\n",
       "      <th>부서</th>\n",
       "      <th>성별</th>\n",
       "      <th>교통비</th>\n",
       "      <th>식비</th>\n",
       "    </tr>\n",
       "  </thead>\n",
       "  <tbody>\n",
       "    <tr>\n",
       "      <th>0</th>\n",
       "      <td>윤장혁</td>\n",
       "      <td>서울</td>\n",
       "      <td>7</td>\n",
       "      <td>영업부</td>\n",
       "      <td>남자</td>\n",
       "      <td>4000</td>\n",
       "      <td>2000</td>\n",
       "    </tr>\n",
       "    <tr>\n",
       "      <th>1</th>\n",
       "      <td>서문덕</td>\n",
       "      <td>서울</td>\n",
       "      <td>6</td>\n",
       "      <td>영업부</td>\n",
       "      <td>남자</td>\n",
       "      <td>3000</td>\n",
       "      <td>3000</td>\n",
       "    </tr>\n",
       "    <tr>\n",
       "      <th>2</th>\n",
       "      <td>이성진</td>\n",
       "      <td>부산</td>\n",
       "      <td>5</td>\n",
       "      <td>영업부</td>\n",
       "      <td>남자</td>\n",
       "      <td>3000</td>\n",
       "      <td>3000</td>\n",
       "    </tr>\n",
       "    <tr>\n",
       "      <th>3</th>\n",
       "      <td>강찬혁</td>\n",
       "      <td>부산</td>\n",
       "      <td>3</td>\n",
       "      <td>영업부</td>\n",
       "      <td>남자</td>\n",
       "      <td>1000</td>\n",
       "      <td>2000</td>\n",
       "    </tr>\n",
       "    <tr>\n",
       "      <th>4</th>\n",
       "      <td>신유석</td>\n",
       "      <td>서울</td>\n",
       "      <td>5</td>\n",
       "      <td>전산부</td>\n",
       "      <td>여자</td>\n",
       "      <td>2000</td>\n",
       "      <td>2000</td>\n",
       "    </tr>\n",
       "    <tr>\n",
       "      <th>5</th>\n",
       "      <td>유지혜</td>\n",
       "      <td>서울</td>\n",
       "      <td>5</td>\n",
       "      <td>전산부</td>\n",
       "      <td>여자</td>\n",
       "      <td>4000</td>\n",
       "      <td>1000</td>\n",
       "    </tr>\n",
       "    <tr>\n",
       "      <th>6</th>\n",
       "      <td>이유리</td>\n",
       "      <td>부산</td>\n",
       "      <td>8</td>\n",
       "      <td>전산부</td>\n",
       "      <td>여자</td>\n",
       "      <td>4000</td>\n",
       "      <td>1000</td>\n",
       "    </tr>\n",
       "    <tr>\n",
       "      <th>7</th>\n",
       "      <td>선진희</td>\n",
       "      <td>부산</td>\n",
       "      <td>6</td>\n",
       "      <td>전산부</td>\n",
       "      <td>여자</td>\n",
       "      <td>1000</td>\n",
       "      <td>4000</td>\n",
       "    </tr>\n",
       "  </tbody>\n",
       "</table>\n",
       "</div>"
      ],
      "text/plain": [
       "   사원명 출장지역  출장기간   부서  성별   교통비    식비\n",
       "0  윤장혁   서울     7  영업부  남자  4000  2000\n",
       "1  서문덕   서울     6  영업부  남자  3000  3000\n",
       "2  이성진   부산     5  영업부  남자  3000  3000\n",
       "3  강찬혁   부산     3  영업부  남자  1000  2000\n",
       "4  신유석   서울     5  전산부  여자  2000  2000\n",
       "5  유지혜   서울     5  전산부  여자  4000  1000\n",
       "6  이유리   부산     8  전산부  여자  4000  1000\n",
       "7  선진희   부산     6  전산부  여자  1000  4000"
      ]
     },
     "execution_count": 164,
     "metadata": {},
     "output_type": "execute_result"
    }
   ],
   "source": [
    "payment = pd.read_csv('./../data/payment07.csv', encoding='cp949')\n",
    "payment"
   ]
  },
  {
   "cell_type": "code",
   "execution_count": 165,
   "id": "21baa969",
   "metadata": {},
   "outputs": [
    {
     "data": {
      "text/html": [
       "<div>\n",
       "<style scoped>\n",
       "    .dataframe tbody tr th:only-of-type {\n",
       "        vertical-align: middle;\n",
       "    }\n",
       "\n",
       "    .dataframe tbody tr th {\n",
       "        vertical-align: top;\n",
       "    }\n",
       "\n",
       "    .dataframe thead th {\n",
       "        text-align: right;\n",
       "    }\n",
       "</style>\n",
       "<table border=\"1\" class=\"dataframe\">\n",
       "  <thead>\n",
       "    <tr style=\"text-align: right;\">\n",
       "      <th></th>\n",
       "      <th>사원명</th>\n",
       "      <th>출장지역</th>\n",
       "      <th>출장기간</th>\n",
       "      <th>부서</th>\n",
       "      <th>성별</th>\n",
       "      <th>교통비</th>\n",
       "      <th>식비</th>\n",
       "      <th>rank</th>\n",
       "    </tr>\n",
       "  </thead>\n",
       "  <tbody>\n",
       "    <tr>\n",
       "      <th>0</th>\n",
       "      <td>윤장혁</td>\n",
       "      <td>서울</td>\n",
       "      <td>7</td>\n",
       "      <td>영업부</td>\n",
       "      <td>남자</td>\n",
       "      <td>4000</td>\n",
       "      <td>2000</td>\n",
       "      <td>1.0</td>\n",
       "    </tr>\n",
       "    <tr>\n",
       "      <th>1</th>\n",
       "      <td>서문덕</td>\n",
       "      <td>서울</td>\n",
       "      <td>6</td>\n",
       "      <td>영업부</td>\n",
       "      <td>남자</td>\n",
       "      <td>3000</td>\n",
       "      <td>3000</td>\n",
       "      <td>2.0</td>\n",
       "    </tr>\n",
       "    <tr>\n",
       "      <th>2</th>\n",
       "      <td>이성진</td>\n",
       "      <td>부산</td>\n",
       "      <td>5</td>\n",
       "      <td>영업부</td>\n",
       "      <td>남자</td>\n",
       "      <td>3000</td>\n",
       "      <td>3000</td>\n",
       "      <td>3.0</td>\n",
       "    </tr>\n",
       "    <tr>\n",
       "      <th>3</th>\n",
       "      <td>강찬혁</td>\n",
       "      <td>부산</td>\n",
       "      <td>3</td>\n",
       "      <td>영업부</td>\n",
       "      <td>남자</td>\n",
       "      <td>1000</td>\n",
       "      <td>2000</td>\n",
       "      <td>4.0</td>\n",
       "    </tr>\n",
       "    <tr>\n",
       "      <th>4</th>\n",
       "      <td>신유석</td>\n",
       "      <td>서울</td>\n",
       "      <td>5</td>\n",
       "      <td>전산부</td>\n",
       "      <td>여자</td>\n",
       "      <td>2000</td>\n",
       "      <td>2000</td>\n",
       "      <td>3.0</td>\n",
       "    </tr>\n",
       "    <tr>\n",
       "      <th>5</th>\n",
       "      <td>유지혜</td>\n",
       "      <td>서울</td>\n",
       "      <td>5</td>\n",
       "      <td>전산부</td>\n",
       "      <td>여자</td>\n",
       "      <td>4000</td>\n",
       "      <td>1000</td>\n",
       "      <td>1.0</td>\n",
       "    </tr>\n",
       "    <tr>\n",
       "      <th>6</th>\n",
       "      <td>이유리</td>\n",
       "      <td>부산</td>\n",
       "      <td>8</td>\n",
       "      <td>전산부</td>\n",
       "      <td>여자</td>\n",
       "      <td>4000</td>\n",
       "      <td>1000</td>\n",
       "      <td>2.0</td>\n",
       "    </tr>\n",
       "    <tr>\n",
       "      <th>7</th>\n",
       "      <td>선진희</td>\n",
       "      <td>부산</td>\n",
       "      <td>6</td>\n",
       "      <td>전산부</td>\n",
       "      <td>여자</td>\n",
       "      <td>1000</td>\n",
       "      <td>4000</td>\n",
       "      <td>4.0</td>\n",
       "    </tr>\n",
       "  </tbody>\n",
       "</table>\n",
       "</div>"
      ],
      "text/plain": [
       "   사원명 출장지역  출장기간   부서  성별   교통비    식비  rank\n",
       "0  윤장혁   서울     7  영업부  남자  4000  2000   1.0\n",
       "1  서문덕   서울     6  영업부  남자  3000  3000   2.0\n",
       "2  이성진   부산     5  영업부  남자  3000  3000   3.0\n",
       "3  강찬혁   부산     3  영업부  남자  1000  2000   4.0\n",
       "4  신유석   서울     5  전산부  여자  2000  2000   3.0\n",
       "5  유지혜   서울     5  전산부  여자  4000  1000   1.0\n",
       "6  이유리   부산     8  전산부  여자  4000  1000   2.0\n",
       "7  선진희   부산     6  전산부  여자  1000  4000   4.0"
      ]
     },
     "execution_count": 165,
     "metadata": {},
     "output_type": "execute_result"
    }
   ],
   "source": [
    "payment['rank']=payment.groupby('부서')['교통비'].rank(method='first', ascending=False)\n",
    "payment"
   ]
  },
  {
   "cell_type": "code",
   "execution_count": 166,
   "id": "f98538fd",
   "metadata": {},
   "outputs": [
    {
     "data": {
      "text/html": [
       "<div>\n",
       "<style scoped>\n",
       "    .dataframe tbody tr th:only-of-type {\n",
       "        vertical-align: middle;\n",
       "    }\n",
       "\n",
       "    .dataframe tbody tr th {\n",
       "        vertical-align: top;\n",
       "    }\n",
       "\n",
       "    .dataframe thead th {\n",
       "        text-align: right;\n",
       "    }\n",
       "</style>\n",
       "<table border=\"1\" class=\"dataframe\">\n",
       "  <thead>\n",
       "    <tr style=\"text-align: right;\">\n",
       "      <th></th>\n",
       "      <th>사원명</th>\n",
       "      <th>출장지역</th>\n",
       "      <th>출장기간</th>\n",
       "      <th>부서</th>\n",
       "      <th>성별</th>\n",
       "      <th>교통비</th>\n",
       "      <th>식비</th>\n",
       "      <th>rank</th>\n",
       "    </tr>\n",
       "  </thead>\n",
       "  <tbody>\n",
       "    <tr>\n",
       "      <th>0</th>\n",
       "      <td>윤장혁</td>\n",
       "      <td>서울</td>\n",
       "      <td>7</td>\n",
       "      <td>영업부</td>\n",
       "      <td>남자</td>\n",
       "      <td>4000</td>\n",
       "      <td>2000</td>\n",
       "      <td>1.0</td>\n",
       "    </tr>\n",
       "    <tr>\n",
       "      <th>5</th>\n",
       "      <td>유지혜</td>\n",
       "      <td>서울</td>\n",
       "      <td>5</td>\n",
       "      <td>전산부</td>\n",
       "      <td>여자</td>\n",
       "      <td>4000</td>\n",
       "      <td>1000</td>\n",
       "      <td>1.0</td>\n",
       "    </tr>\n",
       "  </tbody>\n",
       "</table>\n",
       "</div>"
      ],
      "text/plain": [
       "   사원명 출장지역  출장기간   부서  성별   교통비    식비  rank\n",
       "0  윤장혁   서울     7  영업부  남자  4000  2000   1.0\n",
       "5  유지혜   서울     5  전산부  여자  4000  1000   1.0"
      ]
     },
     "execution_count": 166,
     "metadata": {},
     "output_type": "execute_result"
    }
   ],
   "source": [
    "result = payment[payment['rank'] == 1.0]\n",
    "result"
   ]
  },
  {
   "cell_type": "code",
   "execution_count": 167,
   "id": "c1d7aaff",
   "metadata": {},
   "outputs": [
    {
     "data": {
      "text/html": [
       "<div>\n",
       "<style scoped>\n",
       "    .dataframe tbody tr th:only-of-type {\n",
       "        vertical-align: middle;\n",
       "    }\n",
       "\n",
       "    .dataframe tbody tr th {\n",
       "        vertical-align: top;\n",
       "    }\n",
       "\n",
       "    .dataframe thead th {\n",
       "        text-align: right;\n",
       "    }\n",
       "</style>\n",
       "<table border=\"1\" class=\"dataframe\">\n",
       "  <thead>\n",
       "    <tr style=\"text-align: right;\">\n",
       "      <th></th>\n",
       "      <th>사원명</th>\n",
       "      <th>출장지역</th>\n",
       "      <th>출장기간</th>\n",
       "      <th>부서</th>\n",
       "      <th>성별</th>\n",
       "      <th>교통비</th>\n",
       "      <th>식비</th>\n",
       "    </tr>\n",
       "  </thead>\n",
       "  <tbody>\n",
       "    <tr>\n",
       "      <th>0</th>\n",
       "      <td>윤장혁</td>\n",
       "      <td>서울</td>\n",
       "      <td>7</td>\n",
       "      <td>영업부</td>\n",
       "      <td>남자</td>\n",
       "      <td>4000</td>\n",
       "      <td>2000</td>\n",
       "    </tr>\n",
       "    <tr>\n",
       "      <th>5</th>\n",
       "      <td>유지혜</td>\n",
       "      <td>서울</td>\n",
       "      <td>5</td>\n",
       "      <td>전산부</td>\n",
       "      <td>여자</td>\n",
       "      <td>4000</td>\n",
       "      <td>1000</td>\n",
       "    </tr>\n",
       "  </tbody>\n",
       "</table>\n",
       "</div>"
      ],
      "text/plain": [
       "   사원명 출장지역  출장기간   부서  성별   교통비    식비\n",
       "0  윤장혁   서울     7  영업부  남자  4000  2000\n",
       "5  유지혜   서울     5  전산부  여자  4000  1000"
      ]
     },
     "execution_count": 167,
     "metadata": {},
     "output_type": "execute_result"
    }
   ],
   "source": [
    "result = result.drop(columns=['rank'])\n",
    "result"
   ]
  },
  {
   "cell_type": "code",
   "execution_count": null,
   "id": "e7b7a09c",
   "metadata": {},
   "outputs": [],
   "source": []
  },
  {
   "cell_type": "code",
   "execution_count": null,
   "id": "f40b5e96",
   "metadata": {},
   "outputs": [],
   "source": []
  },
  {
   "cell_type": "code",
   "execution_count": null,
   "id": "ab0c895d",
   "metadata": {},
   "outputs": [],
   "source": []
  },
  {
   "cell_type": "code",
   "execution_count": null,
   "id": "9e32ea5b",
   "metadata": {},
   "outputs": [],
   "source": []
  },
  {
   "cell_type": "code",
   "execution_count": null,
   "id": "bcaff2db",
   "metadata": {},
   "outputs": [],
   "source": []
  }
 ],
 "metadata": {
  "kernelspec": {
   "display_name": "Python 3 (ipykernel)",
   "language": "python",
   "name": "python3"
  },
  "language_info": {
   "codemirror_mode": {
    "name": "ipython",
    "version": 3
   },
   "file_extension": ".py",
   "mimetype": "text/x-python",
   "name": "python",
   "nbconvert_exporter": "python",
   "pygments_lexer": "ipython3",
   "version": "3.11.2"
  }
 },
 "nbformat": 4,
 "nbformat_minor": 5
}
